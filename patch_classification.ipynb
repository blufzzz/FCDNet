{
 "cells": [
  {
   "cell_type": "code",
   "execution_count": 3,
   "id": "2648fdab",
   "metadata": {},
   "outputs": [],
   "source": [
    "import glob\n",
    "import nibabel\n",
    "import pandas as pd\n",
    "import numpy as np\n",
    "import os\n",
    "\n",
    "from collections import defaultdict\n",
    "from matplotlib import pyplot as plt\n",
    "from tqdm import tqdm_notebook, tqdm\n",
    "from joblib import Parallel, delayed\n",
    "from IPython.core.debugger import set_trace\n",
    "\n",
    "import torch\n",
    "from torch import nn\n",
    "from torch import autograd\n",
    "import torch.nn.functional as F\n",
    "import torch.optim as optim\n",
    "from torch.utils.data import DataLoader, Dataset\n",
    "\n",
    "from utils import show_slices, check_patch, get_symmetric_value, pad_arrays, load, create_dicts\n",
    "\n",
    "from multiprocessing import cpu_count\n",
    "N_CPU = cpu_count()"
   ]
  },
  {
   "cell_type": "code",
   "execution_count": 4,
   "id": "73fa60bd",
   "metadata": {},
   "outputs": [],
   "source": [
    "labels_components = np.load('labels_info.npy', allow_pickle=True).item()\n",
    "single_component_keys = {k for k,v in labels_components.items() if len(v['cc3d'][0]) == 2}\n",
    "\n",
    "USE_GEOM_FEATURES = True\n",
    "GEOM_FEATURES = ['thickness', 'sulc', 'curv']\n",
    "\n",
    "root_label = '../fcd_data/normalized_label'\n",
    "root_data = '../fcd_data/normalized_data/'\n",
    "root_geom_features = '../fcd_data/preprocessed_data_anadezhda/'\n",
    "\n",
    "paths_dict = create_dicts(root_label,\n",
    "                         root_data,\n",
    "                         root_geom_features, \n",
    "                         single_component_keys,\n",
    "                         USE_GEOM_FEATURES, \n",
    "                         GEOM_FEATURES)"
   ]
  },
  {
   "cell_type": "code",
   "execution_count": 5,
   "id": "94ce621e",
   "metadata": {},
   "outputs": [],
   "source": [
    "metadata = np.load('metadata.npy',allow_pickle=True).item()"
   ]
  },
  {
   "cell_type": "code",
   "execution_count": 9,
   "id": "b4056aa1",
   "metadata": {},
   "outputs": [],
   "source": [
    "AUGMENTATION_STEPS = 2\n",
    "PATCH_SIZE=100\n",
    "pad=PATCH_SIZE//2"
   ]
  },
  {
   "cell_type": "code",
   "execution_count": 11,
   "id": "a16327fb",
   "metadata": {},
   "outputs": [
    {
     "name": "stderr",
     "output_type": "stream",
     "text": [
      "  0%|                                                                                                                                         | 0/69 [00:02<?, ?it/s]\n"
     ]
    }
   ],
   "source": [
    "for split_type, split_keys in metadata.items():\n",
    "    for k in tqdm(split_keys):\n",
    "        \n",
    "        path_dict = paths_dict[k]\n",
    "        brain_tensor, mask_tensor, label_tensor = load(path_dict) # float, bool, int\n",
    "     \n",
    "        X,Y,Z = mask_tensor.shape\n",
    "        X_mean = X//2\n",
    "        \n",
    "        # get rid of a mid-brain\n",
    "        thresh_mask = (np.arange(X) < (X_mean - pad)) | (np.arange(X) > (X_mean + pad))\n",
    "        thresh_mask = np.tile(thresh_mask, (Y,Z,1)).transpose(2,0,1)\n",
    "        mask_tensor = mask_tensor*(thresh_mask > 0)\n",
    "        \n",
    "        break\n",
    "    break\n",
    "#         ###########################\n",
    "#         # CREATE RELEVANT INDEXES #\n",
    "#         ###########################\n",
    "#         xyz_grid = np.stack(np.meshgrid(np.arange(X), np.arange(Y), np.arange(Z), indexing='ij'), -1)\n",
    "#         xyz_grid = xyz_grid[mask_tensor]\n",
    "\n",
    "#         indexes_selected = Parallel(n_jobs=-1)(delayed(check_patch)(x,y,z,\\\n",
    "#                                                                     mask_tensor,\\\n",
    "#                                                                     label_tensor,\\\n",
    "#                                                                     pad) \\\n",
    "#                                                                for x,y,z in xyz_grid)\n",
    "\n",
    "#         indexes_selected = list(filter(lambda x: x is not None, indexes_selected))\n",
    "#         df = pd.DataFrame(indexes_selected)\n",
    "#         df['is_train'] = split_type == 'train'\n",
    "#         df['label'] = k\n",
    "#         df.to_csv(f'../fcd_data/indexes_selected/{split_type}_{k}')"
   ]
  },
  {
   "cell_type": "code",
   "execution_count": 44,
   "id": "7fe91785",
   "metadata": {},
   "outputs": [
    {
     "data": {
      "text/plain": [
       "array([0., 1.])"
      ]
     },
     "execution_count": 44,
     "metadata": {},
     "output_type": "execute_result"
    }
   ],
   "source": [
    "np.unique(mask_tensor.astype(float))"
   ]
  },
  {
   "cell_type": "code",
   "execution_count": 57,
   "id": "86aa3ec5",
   "metadata": {},
   "outputs": [
    {
     "data": {
      "text/plain": [
       "torch.Size([1, 1, 241, 336, 283])"
      ]
     },
     "execution_count": 57,
     "metadata": {},
     "output_type": "execute_result"
    }
   ],
   "source": [
    "mask_tensor_torch.shape"
   ]
  },
  {
   "cell_type": "code",
   "execution_count": 63,
   "id": "660819f4",
   "metadata": {},
   "outputs": [
    {
     "ename": "KeyboardInterrupt",
     "evalue": "",
     "output_type": "error",
     "traceback": [
      "\u001b[0;31m---------------------------------------------------------------------------\u001b[0m",
      "\u001b[0;31mKeyboardInterrupt\u001b[0m                         Traceback (most recent call last)",
      "\u001b[0;32m/tmp/ipykernel_39349/2315486620.py\u001b[0m in \u001b[0;36m<module>\u001b[0;34m\u001b[0m\n\u001b[0;32m----> 1\u001b[0;31m \u001b[0mW\u001b[0m \u001b[0;34m=\u001b[0m \u001b[0mtorch\u001b[0m\u001b[0;34m.\u001b[0m\u001b[0mones\u001b[0m\u001b[0;34m(\u001b[0m\u001b[0;36m1\u001b[0m\u001b[0;34m,\u001b[0m\u001b[0;36m1\u001b[0m\u001b[0;34m,\u001b[0m\u001b[0mPATCH_SIZE\u001b[0m\u001b[0;34m,\u001b[0m\u001b[0mPATCH_SIZE\u001b[0m\u001b[0;34m,\u001b[0m\u001b[0mPATCH_SIZE\u001b[0m\u001b[0;34m,\u001b[0m \u001b[0mdtype\u001b[0m\u001b[0;34m=\u001b[0m\u001b[0mtorch\u001b[0m\u001b[0;34m.\u001b[0m\u001b[0mfloat\u001b[0m\u001b[0;34m)\u001b[0m\u001b[0;34m.\u001b[0m\u001b[0mto\u001b[0m\u001b[0;34m(\u001b[0m\u001b[0mDEVICE\u001b[0m\u001b[0;34m)\u001b[0m\u001b[0;34m\u001b[0m\u001b[0;34m\u001b[0m\u001b[0m\n\u001b[0m",
      "\u001b[0;31mKeyboardInterrupt\u001b[0m: "
     ]
    }
   ],
   "source": [
    "W = torch.ones(1,1,PATCH_SIZE,PATCH_SIZE,PATCH_SIZE, dtype=torch.float).to(DEVICE) "
   ]
  },
  {
   "cell_type": "code",
   "execution_count": 62,
   "id": "0b8ebd47",
   "metadata": {},
   "outputs": [
    {
     "data": {
      "text/plain": [
       "torch.Size([1, 1, 242, 337, 284])"
      ]
     },
     "execution_count": 62,
     "metadata": {},
     "output_type": "execute_result"
    }
   ],
   "source": [
    "p_perc = torch.conv3d(input=mask_tensor_torch, weight=W, padding=pad) \n",
    "p_perc.shape"
   ]
  },
  {
   "cell_type": "code",
   "execution_count": 53,
   "id": "6a748b32",
   "metadata": {},
   "outputs": [],
   "source": [
    "p_perc = p_perc.detach().cpu().numpy()\n",
    "l_sum = l_sum.detach().cpu().numpy()"
   ]
  },
  {
   "cell_type": "code",
   "execution_count": 55,
   "id": "0b40ea00",
   "metadata": {},
   "outputs": [
    {
     "data": {
      "text/plain": [
       "(1, 1, 192, 287, 234)"
      ]
     },
     "execution_count": 55,
     "metadata": {},
     "output_type": "execute_result"
    }
   ],
   "source": [
    "p_perc.shape"
   ]
  },
  {
   "cell_type": "code",
   "execution_count": 51,
   "id": "2279bece",
   "metadata": {},
   "outputs": [
    {
     "data": {
      "text/plain": [
       "tensor(7764., device='cuda:2')"
      ]
     },
     "execution_count": 51,
     "metadata": {},
     "output_type": "execute_result"
    }
   ],
   "source": [
    "l_sum.max()"
   ]
  },
  {
   "cell_type": "code",
   "execution_count": 50,
   "id": "df324cc4",
   "metadata": {},
   "outputs": [],
   "source": [
    "# model = torch.hub.load('facebookresearch/pytorchvideo', 'slow_r50', pretrained=True)"
   ]
  }
 ],
 "metadata": {
  "kernelspec": {
   "display_name": "Python 3 (ipykernel)",
   "language": "python",
   "name": "python3"
  },
  "language_info": {
   "codemirror_mode": {
    "name": "ipython",
    "version": 3
   },
   "file_extension": ".py",
   "mimetype": "text/x-python",
   "name": "python",
   "nbconvert_exporter": "python",
   "pygments_lexer": "ipython3",
   "version": "3.9.7"
  }
 },
 "nbformat": 4,
 "nbformat_minor": 5
}
