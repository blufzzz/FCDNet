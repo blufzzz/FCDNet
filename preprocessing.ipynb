{
 "cells": [
  {
   "cell_type": "code",
   "execution_count": null,
   "id": "26f0d7bf-50a7-454e-8e26-f11825383d5a",
   "metadata": {},
   "outputs": [],
   "source": [
    "%config Completer.use_jedi = False\n",
    "%load_ext autoreload\n",
    "\n",
    "from collections import defaultdict\n",
    "import re, time, os, shutil, json\n",
    "from easydict import EasyDict as edict\n",
    "import matplotlib.pyplot as plt\n",
    "import numpy as np\n",
    "import nibabel as nib\n",
    "from PIL import Image\n",
    "import tempfile\n",
    "from utils import get_label, to_numpy\n",
    "from dataset import assign_feature_maps\n",
    "import configdot\n",
    "import torch\n",
    "from monai.config import print_config\n",
    "from IPython.core.debugger import set_trace\n",
    "from tqdm import tqdm\n",
    "\n",
    "\n",
    "%autoreload 2"
   ]
  },
  {
   "cell_type": "code",
   "execution_count": null,
   "id": "7e915e36-48fd-4835-976a-50d599fc4e0b",
   "metadata": {},
   "outputs": [],
   "source": [
    "subjects_list = np.load('./metadata/metadata_fcd_nG.npy', allow_pickle=True).item()\n",
    "subjects_all = np.concatenate([subjects_list['train'], subjects_list['test']])\n",
    "features_all = ['image', \n",
    "                 't2', \n",
    "                 'flair', \n",
    "                 'blurring-t1', \n",
    "                 'blurring-t2', \n",
    "                 'blurring-Flair', \n",
    "                 'cr-t2', \n",
    "                 'cr-Flair', \n",
    "                 'thickness', \n",
    "                 'curv', \n",
    "                 'sulc', \n",
    "                 'variance', \n",
    "                 'entropy']"
   ]
  },
  {
   "cell_type": "markdown",
   "id": "462e9345-bba1-476d-b833-ac64cd8300e6",
   "metadata": {},
   "source": [
    "# Plot histograms for each feature across different subjects  "
   ]
  },
  {
   "cell_type": "code",
   "execution_count": null,
   "id": "636eba77-22ad-4cc8-9b33-e8592b1f2631",
   "metadata": {},
   "outputs": [],
   "source": [
    "minmax_all = {}\n",
    "mean_std_all = {}\n",
    "features_hist_all = {}\n",
    "\n",
    "for feature in tqdm(features_all):\n",
    "    \n",
    "    max_values = []\n",
    "    min_values = []\n",
    "    \n",
    "    # cumulative statistics\n",
    "    S = 0\n",
    "    S_square = 0\n",
    "    N = 0\n",
    "    # list of hists for each subj\n",
    "    features_hist_list = []\n",
    "    for sub in subjects_all:\n",
    "        # return whole path\n",
    "        fpath = assign_feature_maps(sub, feature)\n",
    "        mpath = assign_feature_maps(sub, 'mask')\n",
    "        fdata = nib.load(fpath).get_fdata()\n",
    "        fmask = nib.load(mpath).get_fdata()\n",
    "        mask = fmask > 0 # binary mask indicating brain vs background\n",
    "        \n",
    "        hist, bins = np.histogram(fdata[mask], bins=50)\n",
    "        \n",
    "        S += fdata[mask].sum()\n",
    "        S_square += np.power(fdata[mask], 2).sum()\n",
    "        N += fdata[mask].shape[0]\n",
    "        \n",
    "        min_values.append(fdata[mask].min())\n",
    "        max_values.append(fdata[mask].max())\n",
    "        \n",
    "        features_hist_list.append([hist, bins])\n",
    "        \n",
    "    mean = S/N\n",
    "    std = np.sqrt((S_square/N) - (mean**2))\n",
    "    mean_std_all[feature] = [mean, std]\n",
    "    features_hist_all[feature] = features_hist_list\n",
    "    minmax_all[feature] = [np.min(min_values), np.max(max_values)]     "
   ]
  },
  {
   "cell_type": "code",
   "execution_count": null,
   "id": "b486e852-98b9-4372-b30a-684d4b9eff55",
   "metadata": {},
   "outputs": [],
   "source": [
    "bins_all = defaultdict(list)\n",
    "quantiles_all = {}\n",
    "for feature in features_all:\n",
    "    \n",
    "    plt.figure()\n",
    "    \n",
    "    # min-max \n",
    "    plt.vlines(minmax_all[feature][0], 0, hist.max(), linestyle='--', alpha=0.5, color='black')\n",
    "    plt.vlines(minmax_all[feature][1], 0, hist.max(), linestyle='--', alpha=0.5, color='black')\n",
    "    \n",
    "    for k, (hist, bins) in enumerate(features_hist_all[feature]):\n",
    "        plt.plot(bins[1:], hist)\n",
    "        bins_all[feature].append(bins)\n",
    "    bins_all[feature] = np.concatenate(bins_all[feature])\n",
    "    \n",
    "    # quantiles\n",
    "    q_min = np.quantile(bins_all[feature], q=0.01)\n",
    "    q_max = np.quantile(bins_all[feature], q=0.99)\n",
    "    plt.vlines(q_min, 0, hist.max(), linestyle='--', alpha=0.8, color='red')\n",
    "    plt.vlines(q_max, 0, hist.max(), linestyle='--', alpha=0.8, color='red')\n",
    "    quantiles_all[feature] = [q_min, q_max]\n",
    "    \n",
    "    # plt.yscale('log')\n",
    "    plt.title(feature, fontsize=20)\n",
    "    plt.show()\n"
   ]
  },
  {
   "cell_type": "code",
   "execution_count": null,
   "id": "db47b36d-cf2d-4cfd-ab8d-3fdc93432508",
   "metadata": {},
   "outputs": [],
   "source": [
    "ab_all = {}\n",
    "\n",
    "for k,v in minmax_all.items():\n",
    "    a_min, a_max = v\n",
    "    a = a_min\n",
    "    b = a_max - a_min\n",
    "    ab_all[k] = [a, b]"
   ]
  },
  {
   "cell_type": "code",
   "execution_count": null,
   "id": "bd71465b-ddf1-43c2-983c-a3ba50bf3d25",
   "metadata": {},
   "outputs": [],
   "source": [
    "ab_all"
   ]
  },
  {
   "cell_type": "code",
   "execution_count": null,
   "id": "ce8b7caf-da26-4bc8-aae3-6fb04ed3e811",
   "metadata": {},
   "outputs": [],
   "source": [
    "mean_std_all"
   ]
  },
  {
   "cell_type": "code",
   "execution_count": null,
   "id": "0adffb87-47c2-471a-a6b3-d615d6b4698f",
   "metadata": {},
   "outputs": [],
   "source": [
    "np.save('metadata/minmax_scaling_metadata.npy', ab_all)\n",
    "np.save('metadata/meanstd_scaling_metadata.npy', mean_std_all)\n",
    "\n",
    "# quntiles_data_path = 'metadata/quantiles_metadata.npy'\n",
    "# np.save(quntiles_data_path, quantiles_all)"
   ]
  },
  {
   "cell_type": "code",
   "execution_count": null,
   "id": "edfb5ccc-3f6e-423a-be72-c88d19cc78a0",
   "metadata": {},
   "outputs": [],
   "source": [
    "ab_all_ = minmax_all.copy()\n",
    "mean_std_all_ = mean_std_all.copy()"
   ]
  },
  {
   "cell_type": "code",
   "execution_count": null,
   "id": "cbf6a9bf-4921-442c-8bc4-45dd7f3dcabf",
   "metadata": {},
   "outputs": [],
   "source": [
    "ab_all_['image'] = None\n",
    "ab_all_['flair'] = None\n",
    "ab_all_['t2'] = None\n",
    "\n",
    "mean_std_all_['image'] = None\n",
    "mean_std_all_['flair'] = None\n",
    "mean_std_all_['t2'] = None"
   ]
  },
  {
   "cell_type": "code",
   "execution_count": null,
   "id": "4969cfb3-becd-49a7-b1b5-887c388bbb4e",
   "metadata": {},
   "outputs": [],
   "source": [
    "np.save('metadata/minmax_scaling_metadata_no-t1-t2-flair.npy', ab_all_)"
   ]
  },
  {
   "cell_type": "code",
   "execution_count": null,
   "id": "9e4f89f6-6b9d-40a5-915e-5fefe510849b",
   "metadata": {},
   "outputs": [],
   "source": [
    "np.save('metadata/meanstd_scaling_metadata_no-t1-t2-flair.npy', mean_std_all_)"
   ]
  },
  {
   "cell_type": "markdown",
   "id": "8c7470a3-ebce-4d23-bb5a-ee18777da453",
   "metadata": {},
   "source": [
    "# Amend outliers"
   ]
  },
  {
   "cell_type": "code",
   "execution_count": null,
   "id": "212d1f77-6196-461e-b688-093db0643c16",
   "metadata": {},
   "outputs": [],
   "source": [
    "# feature = 'curv'\n",
    "# # list of hists for each subj\n",
    "# for sub in tqdm(subjects_all):\n",
    "#     # return whole path\n",
    "#     fpath = assign_feature_maps(sub, feature)\n",
    "#     fnib = nib.load(fpath)\n",
    "#     fdata = fnib.get_fdata()\n",
    "#     fdata_ = np.clip(fdata, a_min=q_min, a_max=q_max)\n",
    "    \n",
    "#     # fpath_tmp = os.path.join('./tmp', ''.join(fpath.split('/')[-2:]))\n",
    "    \n",
    "#     final_img = nib.Nifti1Image(fdata_, fnib.affine)\n",
    "#     nib.save(final_img, fpath)"
   ]
  },
  {
   "cell_type": "code",
   "execution_count": null,
   "id": "10d80c9c-863c-4f19-94e6-67641df2f143",
   "metadata": {},
   "outputs": [],
   "source": [
    "# sub_anom = 'n50'\n",
    "# fdata_anom = nib.load(assign_feature_maps(sub_anom, 'curv')).get_fdata()\n",
    "# fmask_anom = nib.load(assign_feature_maps(sub_anom, 'mask')).get_fdata()\n",
    "# hist, bins = np.histogram(fdata_anom[fmask_anom > 0], bins=50)"
   ]
  },
  {
   "cell_type": "code",
   "execution_count": null,
   "id": "5e59854b-9a95-445a-b16f-93d0920ca24e",
   "metadata": {},
   "outputs": [],
   "source": [
    "# fdata_anom_ = np.clip(fdata_anom, a_min=q_min, a_max=q_max)\n",
    "# hist_, bins_ = np.histogram(fdata_anom_[fmask_anom > 0], bins=50)\n",
    "# plt.plot(bins[1:], hist)\n",
    "# plt.plot(bins_[1:], hist_, color='red')\n",
    "# plt.yscale('log')\n",
    "# plt.show()"
   ]
  },
  {
   "cell_type": "code",
   "execution_count": null,
   "id": "8f84ffeb-96e9-4231-9d17-b01e5b09e2bd",
   "metadata": {},
   "outputs": [],
   "source": [
    "# total_pixnum = np.prod(fdata_anom.shape)\n",
    "# nonzero_pixnum = fdata_anom[np.abs(fdata_anom) > 1e-3].shape[0]\n",
    "# anom_pixnum = fdata_anom[fdata_anom > 1].shape[0]\n",
    "# anom_pixnum / nonzero_pixnum"
   ]
  },
  {
   "cell_type": "code",
   "execution_count": null,
   "id": "ce608349-ae61-4b0d-8d91-5c3a61b8f312",
   "metadata": {},
   "outputs": [],
   "source": [
    "t1 = torch.get_rng_state()\n",
    "torch.randn(3)\n",
    "t2 = torch.get_rng_state()\n",
    "torch.equal(t1,t2)"
   ]
  },
  {
   "cell_type": "code",
   "execution_count": null,
   "id": "174bd701-6b6f-43cc-a559-e2072e062d5a",
   "metadata": {},
   "outputs": [],
   "source": [
    "torch.manual_seed(42)\n",
    "torch.get_rng_state()[:100]"
   ]
  },
  {
   "cell_type": "code",
   "execution_count": null,
   "id": "0206ee63-056e-4cca-bd73-e2ede9b52259",
   "metadata": {},
   "outputs": [],
   "source": []
  }
 ],
 "metadata": {
  "kernelspec": {
   "display_name": "Python 3",
   "language": "python",
   "name": "python3"
  },
  "language_info": {
   "codemirror_mode": {
    "name": "ipython",
    "version": 3
   },
   "file_extension": ".py",
   "mimetype": "text/x-python",
   "name": "python",
   "nbconvert_exporter": "python",
   "pygments_lexer": "ipython3",
   "version": "3.8.12"
  }
 },
 "nbformat": 4,
 "nbformat_minor": 5
}
