{
 "cells": [
  {
   "cell_type": "code",
   "execution_count": 4,
   "id": "8f4907d1",
   "metadata": {},
   "outputs": [
    {
     "name": "stdout",
     "output_type": "stream",
     "text": [
      "The autoreload extension is already loaded. To reload it, use:\n",
      "  %reload_ext autoreload\n"
     ]
    }
   ],
   "source": [
    "%load_ext autoreload\n",
    "import glob\n",
    "import nibabel\n",
    "import pandas as pd\n",
    "import numpy as np\n",
    "import h5py\n",
    "from collections import defaultdict, Counter\n",
    "from matplotlib import pyplot as plt\n",
    "from tqdm import tqdm_notebook, tqdm\n",
    "from joblib import Parallel, delayed\n",
    "\n",
    "from IPython.core.debugger import set_trace\n",
    "\n",
    "import os\n",
    "import shutil\n",
    "import pickle\n",
    "\n",
    "import torch\n",
    "import torch.nn.functional as F\n",
    "\n",
    "from utils import create_dicts, normalize, load, video, video_comparison\n",
    "\n",
    "from multiprocessing import cpu_count\n",
    "N_CPU = cpu_count()\n",
    "\n",
    "from IPython.core.display import display, HTML\n",
    "from celluloid import Camera\n",
    "\n",
    "SEED = 42\n",
    "%autoreload 2"
   ]
  },
  {
   "cell_type": "markdown",
   "id": "fd93411b",
   "metadata": {},
   "source": [
    "# Affine transform"
   ]
  },
  {
   "cell_type": "code",
   "execution_count": 3,
   "id": "7fc08cf3",
   "metadata": {},
   "outputs": [],
   "source": [
    "affine_pth = '../fcd_data/radiologist/fmriprep/sub-43/anat/sub-43_acq-T1MprageSagP2Iso_from-T1w_to-MNI152NLin2009cAsym_mode-image_xfm.h5'"
   ]
  },
  {
   "cell_type": "code",
   "execution_count": 5,
   "id": "050c855f",
   "metadata": {},
   "outputs": [],
   "source": [
    "matrix = h5py.File(affine_pth, \"r\")"
   ]
  },
  {
   "cell_type": "code",
   "execution_count": 15,
   "id": "8b81a424",
   "metadata": {},
   "outputs": [],
   "source": [
    "matrix_tg = matrix['TransformGroup']"
   ]
  },
  {
   "cell_type": "code",
   "execution_count": 29,
   "id": "e89b84a6",
   "metadata": {},
   "outputs": [
    {
     "name": "stdout",
     "output_type": "stream",
     "text": [
      "----------------\n",
      "0 <HDF5 group \"/TransformGroup/0\" (1 members)> has:...\n",
      "TransformType <HDF5 dataset \"TransformType\": shape (1,), type \"|O\">\n",
      "----------------\n",
      "1 <HDF5 group \"/TransformGroup/1\" (3 members)> has:...\n",
      "TransformFixedParameters <HDF5 dataset \"TransformFixedParameters\": shape (3,), type \"<f8\">\n",
      "TransformParameters <HDF5 dataset \"TransformParameters\": shape (12,), type \"<f4\">\n",
      "TransformType <HDF5 dataset \"TransformType\": shape (1,), type \"|O\">\n",
      "----------------\n",
      "2 <HDF5 group \"/TransformGroup/2\" (3 members)> has:...\n",
      "TransformFixedParameters <HDF5 dataset \"TransformFixedParameters\": shape (18,), type \"<f8\">\n",
      "TransformParameters <HDF5 dataset \"TransformParameters\": shape (25590063,), type \"<f4\">\n",
      "TransformType <HDF5 dataset \"TransformType\": shape (1,), type \"|O\">\n"
     ]
    }
   ],
   "source": [
    "for k,v in matrix_tg.items():\n",
    "    print('----------------')\n",
    "    print(k,v, 'has:...')\n",
    "    \n",
    "    for k_,v_ in v.items():\n",
    "        print(k_,v_)\n",
    "        "
   ]
  },
  {
   "cell_type": "code",
   "execution_count": 6,
   "id": "28846ee0",
   "metadata": {},
   "outputs": [
    {
     "data": {
      "text/plain": [
       "<HDF5 file \"sub-43_acq-T1MprageSagP2Iso_from-T1w_to-MNI152NLin2009cAsym_mode-image_xfm.h5\" (mode r)>"
      ]
     },
     "execution_count": 6,
     "metadata": {},
     "output_type": "execute_result"
    }
   ],
   "source": [
    "matrix.create_dataset()"
   ]
  },
  {
   "cell_type": "code",
   "execution_count": 6,
   "id": "729b6435",
   "metadata": {},
   "outputs": [],
   "source": [
    "brain_path_orig = '/nfs/garfield/ibulygin/preprocessed_data_v2/fmriprep/sub-n8/anat/'\n",
    "brain_path_mn152 = '/nfs/garfield/ibulygin/preprocessed_data_v2/fmriprep/sub-n10/anat/sub-n10_acq-T1MprageSagP2IsoOrig_desc-preproc_T1w.nii.gz'\n",
    "\n",
    "brain_sample = nibabel.load(brain_path).get_fdata()"
   ]
  },
  {
   "cell_type": "code",
   "execution_count": null,
   "id": "d3d8b4eb",
   "metadata": {},
   "outputs": [],
   "source": [
    "ls -la "
   ]
  },
  {
   "cell_type": "code",
   "execution_count": 4,
   "id": "1a8def8b",
   "metadata": {},
   "outputs": [
    {
     "data": {
      "text/plain": [
       "(192, 352, 352)"
      ]
     },
     "execution_count": 4,
     "metadata": {},
     "output_type": "execute_result"
    }
   ],
   "source": [
    "brain_sample.shape"
   ]
  },
  {
   "cell_type": "markdown",
   "id": "2854fc77",
   "metadata": {},
   "source": [
    "# Loading data"
   ]
  },
  {
   "cell_type": "code",
   "execution_count": 2,
   "id": "b4d5d60d",
   "metadata": {},
   "outputs": [],
   "source": [
    "labels_components = np.load('label_info_v2.npy', allow_pickle=True).item()\n",
    "single_component_keys = {k for k,v in labels_components.items() if len(v['cc3d'][0]) != 2}\n",
    "\n",
    "labels_broken = {'43','n27','33','37', '9', 'n31',\n",
    "                 'n30', 'n10', 'n8', '47', '6',\n",
    "                 '25', '12'}.union(single_component_keys)"
   ]
  },
  {
   "cell_type": "code",
   "execution_count": 3,
   "id": "0697966a",
   "metadata": {},
   "outputs": [
    {
     "data": {
      "text/plain": [
       "17"
      ]
     },
     "execution_count": 3,
     "metadata": {},
     "output_type": "execute_result"
    }
   ],
   "source": [
    "len(labels_broken)"
   ]
  },
  {
   "cell_type": "code",
   "execution_count": 4,
   "id": "caac6795",
   "metadata": {},
   "outputs": [
    {
     "name": "stdout",
     "output_type": "stream",
     "text": [
      "No curv for 50\n",
      "No curv for 59\n",
      "No curv for 57\n",
      "No curv for 52\n",
      "No bT1 for 27\n",
      "No curv for 53\n",
      "No curv for 51\n",
      "No curv for 58\n",
      "No curv for n20\n",
      "No curv for n23\n",
      "No curv for n25\n",
      "No curv for G015\n"
     ]
    }
   ],
   "source": [
    "root = '/nfs/garfield/ibulygin/preprocessed_data_v2'\n",
    "root_label = os.path.join(root, 'label')\n",
    "\n",
    "\n",
    "feature_paths_templates = {\n",
    "      'label':os.path.join(root, 'label/{label}.nii'),\n",
    "      'mask':os.path.join(root, 'fmriprep/sub-{label}/anat/*MNI152NLin2009cAsym_desc-brain_mask.nii.gz'),\n",
    "      'curv':os.path.join(root, 'curv/norm-{label}.nii'),\n",
    "      'sulc':os.path.join(root, 'sulc/norm-{label}.nii'),\n",
    "      'thickness':os.path.join(root, 'thickness/norm-{label}.nii'),\n",
    "      'bT1':os.path.join(root, 'bluring-T1/sub-{label}_T1blurring-in-volume.nii.gz'),\n",
    "      'bT2':os.path.join(root, 'bluring-T2/sub-{label}_T2blurring-in-volume.nii.gz'),\n",
    "      'T1w':os.path.join(root, 'fmriprep/sub-{label}/anat/*MNI152NLin2009cAsym_desc-preproc_T1w.nii.gz'),\n",
    "      'T2':os.path.join(root, 'T2/{label}.nii'),\n",
    "      'CSF':os.path.join(root, 'fmriprep/sub-{label}/anat/*MNI152NLin2009cAsym_label-CSF_probseg.nii.gz'),\n",
    "      'GM':os.path.join(root, 'fmriprep/sub-{label}/anat/*MNI152NLin2009cAsym_label-GM_probseg.nii.gz'),\n",
    "      'WM':os.path.join(root, 'fmriprep/sub-{label}/anat/*MNI152NLin2009cAsym_label-WM_probseg.nii.gz'),\n",
    "        }\n",
    "\n",
    "paths_dict = create_dicts(root_label,\n",
    "                         feature_paths_templates, \n",
    "                         broken_labels=labels_broken)"
   ]
  },
  {
   "cell_type": "code",
   "execution_count": 45,
   "id": "36848199",
   "metadata": {},
   "outputs": [],
   "source": [
    "# ls /nfs/garfield/ibulygin/tensors_v2/ | wc -l"
   ]
  },
  {
   "cell_type": "code",
   "execution_count": 5,
   "id": "2e781698",
   "metadata": {},
   "outputs": [
    {
     "data": {
      "text/plain": [
       "63"
      ]
     },
     "execution_count": 5,
     "metadata": {},
     "output_type": "execute_result"
    }
   ],
   "source": [
    "len(paths_dict)"
   ]
  },
  {
   "cell_type": "code",
   "execution_count": 27,
   "id": "7315425e",
   "metadata": {},
   "outputs": [],
   "source": [
    "def make_tensor(root, name, pdict):\n",
    "    \n",
    "    data_dict = load(pdict)\n",
    "    \n",
    "    ################\n",
    "    # MAKE TENSORS #\n",
    "    ################\n",
    "    \n",
    "    mask = data_dict['mask'] > 0 # it should be bool!\n",
    "\n",
    "    label = data_dict['label'] * mask.astype(int)\n",
    "    label = np.array(label) > 0\n",
    "    \n",
    "    mask_tensor_torch = torch.tensor(mask, dtype=torch.float32)\n",
    "    label_tensor_torch = torch.tensor(label, dtype=torch.float32)\n",
    "    \n",
    "    torch_tensor = {'mask':mask_tensor_torch,\n",
    "                    'label':label_tensor_torch}\n",
    "    \n",
    "    for k,v in data_dict.items():\n",
    "        if not k in ['mask', 'label']:\n",
    "            data = normalize(v, mask)\n",
    "            data_torch = torch.tensor(data, dtype=torch.float32)\n",
    "            torch_tensor[k] = data_torch\n",
    "    \n",
    "    torch.save(torch_tensor, os.path.join(root, f'tensor_{name}'))\n",
    "#     return torch_tensor"
   ]
  },
  {
   "cell_type": "code",
   "execution_count": 28,
   "id": "c3e929c8",
   "metadata": {},
   "outputs": [],
   "source": [
    "# %%time\n",
    "# tensor = make_tensor('./', '44', paths_dict['44'])"
   ]
  },
  {
   "cell_type": "code",
   "execution_count": 29,
   "id": "7f6a2944",
   "metadata": {},
   "outputs": [],
   "source": [
    "# for k,v in tensor.items():\n",
    "#     print(k,v.shape, v.max(), v.min())"
   ]
  },
  {
   "cell_type": "code",
   "execution_count": 30,
   "id": "41b7063a",
   "metadata": {},
   "outputs": [],
   "source": [
    "# brain = tensor['T1w'].numpy()"
   ]
  },
  {
   "cell_type": "code",
   "execution_count": 31,
   "id": "298dd16d",
   "metadata": {},
   "outputs": [],
   "source": [
    "# plt.ioff()\n",
    "# camera = video_comparison([t.numpy() for t in tensor.values()],\n",
    "#                           n_slides=128)\n",
    "# animation = camera.animate() # animation ready\n",
    "# HTML(animation.to_html5_video()) # displaying the animation"
   ]
  },
  {
   "cell_type": "code",
   "execution_count": 32,
   "id": "a6e6c07a",
   "metadata": {},
   "outputs": [],
   "source": [
    "# plt.figure()\n",
    "# plt.imshow(brain[:,64,:])\n",
    "# plt.show()"
   ]
  },
  {
   "cell_type": "code",
   "execution_count": 33,
   "id": "a30e23af",
   "metadata": {},
   "outputs": [],
   "source": [
    "tensors_root = '/nfs/garfield/ibulygin/tensors_v2'"
   ]
  },
  {
   "cell_type": "code",
   "execution_count": 34,
   "id": "ef7c095b",
   "metadata": {},
   "outputs": [
    {
     "name": "stderr",
     "output_type": "stream",
     "text": [
      "100%|████████████████████████████████████████████████████████████████████████████████████████████████████████████████████████████████| 63/63 [10:07<00:00,  9.64s/it]\n"
     ]
    }
   ],
   "source": [
    "_ = Parallel(n_jobs=N_CPU//2)(delayed(make_tensor)(tensors_root, \n",
    "                                             k, v) \\\n",
    "                        for k,v in tqdm(paths_dict.items()))"
   ]
  },
  {
   "cell_type": "code",
   "execution_count": 46,
   "id": "875a3578",
   "metadata": {},
   "outputs": [],
   "source": [
    "tensor = torch.load(os.path.join(tensors_root, 'tensor_44'))"
   ]
  },
  {
   "cell_type": "code",
   "execution_count": 47,
   "id": "96afe3a5",
   "metadata": {},
   "outputs": [
    {
     "name": "stdout",
     "output_type": "stream",
     "text": [
      "mask tensor(1.) tensor(0.) torch.Size([241, 336, 283])\n",
      "label tensor(1.) tensor(0.) torch.Size([241, 336, 283])\n",
      "curv tensor(1.) tensor(0.) torch.Size([241, 336, 283])\n",
      "sulc tensor(1.) tensor(0.) torch.Size([241, 336, 283])\n",
      "thickness tensor(1.) tensor(0.) torch.Size([241, 336, 283])\n",
      "bT1 tensor(1.) tensor(0.) torch.Size([241, 336, 283])\n",
      "bT2 tensor(1.) tensor(0.) torch.Size([241, 336, 283])\n",
      "T1w tensor(1.) tensor(0.) torch.Size([241, 336, 283])\n",
      "T2 tensor(1.) tensor(0.) torch.Size([241, 336, 283])\n",
      "CSF tensor(1.) tensor(0.) torch.Size([241, 336, 283])\n",
      "GM tensor(1.) tensor(0.) torch.Size([241, 336, 283])\n",
      "WM tensor(1.) tensor(0.) torch.Size([241, 336, 283])\n"
     ]
    }
   ],
   "source": [
    "for k,v in tensor.items():\n",
    "    print(k, v.max(), v.min(), v.shape)"
   ]
  },
  {
   "cell_type": "markdown",
   "id": "135155f2",
   "metadata": {},
   "source": [
    "# Metadata"
   ]
  },
  {
   "cell_type": "code",
   "execution_count": 48,
   "id": "300416a9",
   "metadata": {},
   "outputs": [],
   "source": [
    "metadata_path = '/nfs/garfield/ibulygin/metadata_v2'\n",
    "train_keys, test_keys = train_test_split(list(paths_dict.keys()), test_size=0.1, random_state=SEED)\n",
    "metadata = {'train':train_keys,\n",
    "            'test':test_keys,\n",
    "            'seed':SEED}\n",
    "\n",
    "np.save(metadata_path, metadata)"
   ]
  },
  {
   "cell_type": "code",
   "execution_count": 49,
   "id": "1fa39e0e",
   "metadata": {},
   "outputs": [],
   "source": [
    "metadata = np.load(f'{metadata_path}.npy',allow_pickle=True).item()"
   ]
  },
  {
   "cell_type": "code",
   "execution_count": 50,
   "id": "c99b9761",
   "metadata": {},
   "outputs": [
    {
     "data": {
      "text/plain": [
       "56"
      ]
     },
     "execution_count": 50,
     "metadata": {},
     "output_type": "execute_result"
    }
   ],
   "source": [
    "len(metadata['train'])"
   ]
  },
  {
   "cell_type": "markdown",
   "id": "9ac2b7de",
   "metadata": {},
   "source": [
    "# Yarkin data (draft)"
   ]
  },
  {
   "cell_type": "code",
   "execution_count": 14,
   "id": "09daa907",
   "metadata": {},
   "outputs": [],
   "source": [
    "# root = '../fcd_data/yarkin_06dec2021'"
   ]
  },
  {
   "cell_type": "code",
   "execution_count": 16,
   "id": "d109ac9a",
   "metadata": {},
   "outputs": [
    {
     "name": "stdout",
     "output_type": "stream",
     "text": [
      "total 1175352\r\n",
      "drwxr-xr-x  2 ibulygin users      4096 дек  6 15:33 \u001b[0m\u001b[01;34m.\u001b[0m/\r\n",
      "drwxrwxrwx 92 ibulygin users      4096 дек  6 15:47 \u001b[34;42m..\u001b[0m/\r\n",
      "-rw-r--r--  1 ibulygin users 183330016 дек  6 15:33 c1sub-9_MNI152NLint2_struct-Flair.nii\r\n",
      "-rw-r--r--  1 ibulygin users  45613408 дек  6 15:33 c1sub-9_struct-Flair.nii\r\n",
      "-rw-r--r--  1 ibulygin users  45613408 дек  6 15:33 c2sub-9_struct-Flair.nii\r\n",
      "-rw-r--r--  1 ibulygin users  45613408 дек  6 15:33 c3sub-9_struct-Flair.nii\r\n",
      "-rw-r--r--  1 ibulygin users  91226464 дек  6 15:33 hrsub-9_brain-Flair_mask.nii\r\n",
      "-rw-r--r--  1 ibulygin users    256056 дек  6 15:33 hrsub-9_brain-Flair_mask.nii.gz\r\n",
      "-rw-r--r--  1 ibulygin users 182452576 дек  6 15:33 hrsub-9_brain-Flair.nii\r\n",
      "-rw-r--r--  1 ibulygin users  21892116 дек  6 15:33 hrsub-9_brain-Flair.nii.gz\r\n",
      "-rw-r--r--  1 ibulygin users 182452576 дек  6 15:33 msub-9_struct-Flair.nii\r\n",
      "-rw-r--r--  1 ibulygin users   2371932 дек  6 15:33 norm_and_wgsub-9_struct-Flair.nii\r\n",
      "-rw-r--r--  1 ibulygin users   2371932 дек  6 15:33 skullstriped-sub-9_struct-Flair.nii\r\n",
      "-rw-r--r--  1 ibulygin users 183330016 дек  6 15:33 sub-9_MNI152NLint2_brain-Flair.nii\r\n",
      "-rw-r--r--  1 ibulygin users 182452576 дек  6 15:33 sub-9_struct-Flair.nii\r\n",
      "-rw-r--r--  1 ibulygin users     43248 дек  6 15:33 sub-9_struct-Flair_seg_inv_sn.mat\r\n",
      "-rw-r--r--  1 ibulygin users     66096 дек  6 15:33 sub-9_struct-Flair_seg_sn.mat\r\n",
      "-rw-r--r--  1 ibulygin users   2371932 дек  6 15:33 thickness_sub-9_struct-Flair.nii\r\n",
      "-rw-r--r--  1 ibulygin users   2371932 дек  6 15:33 wc1_or_wc2sub-9_struct-Flair.nii\r\n",
      "-rw-r--r--  1 ibulygin users    593247 дек  6 15:33 wc1sub-9_struct-Flair.nii\r\n",
      "-rw-r--r--  1 ibulygin users    593247 дек  6 15:33 wc2sub-9_struct-Flair.nii\r\n",
      "-rw-r--r--  1 ibulygin users    593247 дек  6 15:33 wc3sub-9_struct-Flair.nii\r\n",
      "-rw-r--r--  1 ibulygin users   2371932 дек  6 15:33 wmsub-9_struct-Flair.nii\r\n",
      "-rw-r--r--  1 ibulygin users  25475692 дек  6 15:33 y_msub-9_struct-Flair.nii\r\n"
     ]
    }
   ],
   "source": [
    "# ls -la ../fcd_data/yarkin_06dec2021/sub-9/ # sub-17_MNI152NLint2_brain-Flair.nii"
   ]
  },
  {
   "cell_type": "markdown",
   "id": "4b9d634e",
   "metadata": {},
   "source": [
    "c1sub-9_MNI152NLint2_struct-Flair.nii - **asym**  \n",
    "c1sub-9_struct-Flair.nii - **SYM!**  \n",
    "c2sub-9_struct-Flair.nii - **SYM!**  \n",
    "c3sub-9_struct-Flair.nii - **SYM!**  \n",
    "hrsub-9_brain-Flair_mask.nii - **SYM!**  \n",
    "hrsub-9_brain-Flair_mask.nii.gz - **SYM!**  \n",
    "hrsub-9_brain-Flair.nii - **checK IT!! SYM!**  \n",
    "hrsub-9_brain-Flair.nii.gz - **SYM!**  \n",
    "msub-9_struct-Flair.nii - **SYM!, tissue**  \n",
    "norm_and_wgsub-9_struct-Flair.nii - **SYM, lowdim**  \n",
    "skullstriped-sub-9_struct-Flair.nii - **SYM, lowdim**  \n",
    "sub-9_MNI152NLint2_brain-Flair.nii - **BRAIN, 1X1, ASYM**    \n",
    "sub-9_struct-Flair.nii - **ASYM**  \n",
    "sub-9_struct-Flair_seg_inv_sn.mat  \n",
    "sub-9_struct-Flair_seg_sn.mat  \n",
    "wc1_or_wc2sub-9_struct-Flair.nii - **SYM lowdim**  \n",
    "wc1sub-9_struct-Flair.nii - **SYM lowdim**  \n",
    "wc2sub-9_struct-Flair.nii - **SYM lowdim**    \n",
    "wc3sub-9_struct-Flair.nii - **SYM lowdim**    \n",
    "wmsub-9_struct-Flair.nii - **SYM lowdim tissues**   "
   ]
  },
  {
   "cell_type": "markdown",
   "id": "29427173",
   "metadata": {},
   "source": []
  },
  {
   "cell_type": "code",
   "execution_count": 82,
   "id": "3a762cc6",
   "metadata": {},
   "outputs": [],
   "source": [
    "# brain = nibabel.load('../fcd_data/yarkin_06dec2021/sub-9/sub-9_MNI152NLint2_brain-Flair.nii').get_fdata()\n",
    "# brain = nibabel.load('../fcd_data/yarkin_06dec2021/sub-9/hrsub-9_brain-Flair.nii').get_fdata()"
   ]
  }
 ],
 "metadata": {
  "kernelspec": {
   "display_name": "Python 3 (ipykernel)",
   "language": "python",
   "name": "python3"
  },
  "language_info": {
   "codemirror_mode": {
    "name": "ipython",
    "version": 3
   },
   "file_extension": ".py",
   "mimetype": "text/x-python",
   "name": "python",
   "nbconvert_exporter": "python",
   "pygments_lexer": "ipython3",
   "version": "3.9.7"
  }
 },
 "nbformat": 4,
 "nbformat_minor": 5
}
