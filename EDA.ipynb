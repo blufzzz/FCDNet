{
 "cells": [
  {
   "cell_type": "code",
   "execution_count": 1,
   "id": "bcdfc36f",
   "metadata": {},
   "outputs": [
    {
     "data": {
      "text/html": [
       "<style>.container { width:100% !important}</style>"
      ],
      "text/plain": [
       "<IPython.core.display.HTML object>"
      ]
     },
     "metadata": {},
     "output_type": "display_data"
    }
   ],
   "source": [
    "import glob\n",
    "import nibabel\n",
    "import numpy as np\n",
    "import re\n",
    "import pandas as pd\n",
    "from collections import defaultdict\n",
    "from matplotlib import pyplot as plt\n",
    "from tqdm import tqdm\n",
    "from IPython.core.debugger import set_trace\n",
    "import os\n",
    "import cc3d\n",
    "import shutil\n",
    "from collections import defaultdict\n",
    "import pickle\n",
    "\n",
    "import torch\n",
    "from torch import nn\n",
    "from torch import autograd\n",
    "import torch.nn.functional as F\n",
    "import torch.optim as optim\n",
    "from torch.utils.data import DataLoader, Dataset\n",
    "\n",
    "from utils import show_slices, check_patch, get_symmetric_value\n",
    "\n",
    "from IPython.core.display import display, HTML\n",
    "display(HTML(\"<style>.container { width:100% !important}</style>\"))"
   ]
  },
  {
   "cell_type": "markdown",
   "id": "2543a91e",
   "metadata": {},
   "source": [
    "`fcd_data/normalized_segmentation` -   \n",
    "`fcd_data/normalized_data` -   \n",
    "`fcd_data/normalized_label` - \n",
    "`fcd_data/fmriprep` - from Ironman server, "
   ]
  },
  {
   "cell_type": "code",
   "execution_count": 2,
   "id": "2465f9a9",
   "metadata": {},
   "outputs": [],
   "source": [
    "paths_dict = defaultdict(dict)\n",
    "for p in os.listdir('../fcd_data/normalized_label'):\n",
    "    \n",
    "    label = p.split('.')[0]\n",
    "    \n",
    "    sub_root = f'../fcd_data/normalized_data/sub-{label}/anat/'\n",
    "    brain_path = glob.glob(os.path.join(sub_root, '*Asym_desc-preproc_T1w.nii.gz'))[0]\n",
    "    mask_path = glob.glob(os.path.join(sub_root, '*Asym_desc-brain_mask.nii.gz'))[0]\n",
    "    label_path = f'../fcd_data/normalized_label/{p}'\n",
    "    \n",
    "    paths_dict[label]['label'] = label_path\n",
    "    paths_dict[label]['brain'] = brain_path    \n",
    "    paths_dict[label]['mask'] = mask_path  \n",
    "    \n",
    "#     # features\n",
    "#     thickness_path = f'../fcd_data/preprocessed_data_anadezhda/thickness/norm-{label}.nii'\n",
    "#     sulc_path = f'../fcd_data/preprocessed_data_anadezhda/sulc/norm-{label}.nii'\n",
    "#     curv_path = f'../fcd_data/preprocessed_data_anadezhda/curv/norm-{label}.nii'\n",
    "    \n",
    "\n",
    "    \n",
    "#     paths_dict[label]['thickness'] = thickness_path\n",
    "#     paths_dict[label]['sulc'] = sulc_path    \n",
    "#     paths_dict[label]['curv'] = curv_path    "
   ]
  },
  {
   "cell_type": "code",
   "execution_count": 3,
   "id": "d83be9ac",
   "metadata": {
    "collapsed": true
   },
   "outputs": [
    {
     "name": "stderr",
     "output_type": "stream",
     "text": [
      "  0%|                                                                                                                                         | 0/92 [00:02<?, ?it/s]\n"
     ]
    },
    {
     "ename": "KeyboardInterrupt",
     "evalue": "",
     "output_type": "error",
     "traceback": [
      "\u001b[0;31m---------------------------------------------------------------------------\u001b[0m",
      "\u001b[0;31mKeyboardInterrupt\u001b[0m                         Traceback (most recent call last)",
      "\u001b[0;32m/tmp/ipykernel_30176/66907330.py\u001b[0m in \u001b[0;36m<module>\u001b[0;34m\u001b[0m\n\u001b[1;32m     31\u001b[0m     \u001b[0mX\u001b[0m\u001b[0;34m,\u001b[0m\u001b[0mY\u001b[0m\u001b[0;34m,\u001b[0m\u001b[0mZ\u001b[0m \u001b[0;34m=\u001b[0m \u001b[0mlabel_tensor\u001b[0m\u001b[0;34m.\u001b[0m\u001b[0mshape\u001b[0m\u001b[0;34m\u001b[0m\u001b[0;34m\u001b[0m\u001b[0m\n\u001b[1;32m     32\u001b[0m \u001b[0;34m\u001b[0m\u001b[0m\n\u001b[0;32m---> 33\u001b[0;31m     \u001b[0mxyz_grid\u001b[0m \u001b[0;34m=\u001b[0m \u001b[0mnp\u001b[0m\u001b[0;34m.\u001b[0m\u001b[0mstack\u001b[0m\u001b[0;34m(\u001b[0m\u001b[0mnp\u001b[0m\u001b[0;34m.\u001b[0m\u001b[0mmeshgrid\u001b[0m\u001b[0;34m(\u001b[0m\u001b[0mnp\u001b[0m\u001b[0;34m.\u001b[0m\u001b[0marange\u001b[0m\u001b[0;34m(\u001b[0m\u001b[0mX\u001b[0m\u001b[0;34m)\u001b[0m\u001b[0;34m,\u001b[0m \u001b[0mnp\u001b[0m\u001b[0;34m.\u001b[0m\u001b[0marange\u001b[0m\u001b[0;34m(\u001b[0m\u001b[0mY\u001b[0m\u001b[0;34m)\u001b[0m\u001b[0;34m,\u001b[0m \u001b[0mnp\u001b[0m\u001b[0;34m.\u001b[0m\u001b[0marange\u001b[0m\u001b[0;34m(\u001b[0m\u001b[0mZ\u001b[0m\u001b[0;34m)\u001b[0m\u001b[0;34m,\u001b[0m \u001b[0mindexing\u001b[0m\u001b[0;34m=\u001b[0m\u001b[0;34m'ij'\u001b[0m\u001b[0;34m)\u001b[0m\u001b[0;34m,\u001b[0m \u001b[0;34m-\u001b[0m\u001b[0;36m1\u001b[0m\u001b[0;34m)\u001b[0m\u001b[0;34m\u001b[0m\u001b[0;34m\u001b[0m\u001b[0m\n\u001b[0m\u001b[1;32m     34\u001b[0m     \u001b[0mxyz_grid\u001b[0m \u001b[0;34m=\u001b[0m \u001b[0mxyz_grid\u001b[0m\u001b[0;34m[\u001b[0m\u001b[0mmask\u001b[0m\u001b[0;34m]\u001b[0m\u001b[0;34m\u001b[0m\u001b[0;34m\u001b[0m\u001b[0m\n\u001b[1;32m     35\u001b[0m     \u001b[0mcenter\u001b[0m \u001b[0;34m=\u001b[0m \u001b[0mxyz_grid\u001b[0m\u001b[0;34m.\u001b[0m\u001b[0mmean\u001b[0m\u001b[0;34m(\u001b[0m\u001b[0;36m0\u001b[0m\u001b[0;34m)\u001b[0m\u001b[0;34m.\u001b[0m\u001b[0mastype\u001b[0m\u001b[0;34m(\u001b[0m\u001b[0mint\u001b[0m\u001b[0;34m)\u001b[0m\u001b[0;34m\u001b[0m\u001b[0;34m\u001b[0m\u001b[0m\n",
      "\u001b[0;32m<__array_function__ internals>\u001b[0m in \u001b[0;36mmeshgrid\u001b[0;34m(*args, **kwargs)\u001b[0m\n",
      "\u001b[0;32m/media/tom/ibulygin/miniconda3/envs/fcd/lib/python3.9/site-packages/numpy/lib/function_base.py\u001b[0m in \u001b[0;36mmeshgrid\u001b[0;34m(copy, sparse, indexing, *xi)\u001b[0m\n\u001b[1;32m   4371\u001b[0m \u001b[0;34m\u001b[0m\u001b[0m\n\u001b[1;32m   4372\u001b[0m     \u001b[0;32mif\u001b[0m \u001b[0mcopy\u001b[0m\u001b[0;34m:\u001b[0m\u001b[0;34m\u001b[0m\u001b[0;34m\u001b[0m\u001b[0m\n\u001b[0;32m-> 4373\u001b[0;31m         \u001b[0moutput\u001b[0m \u001b[0;34m=\u001b[0m \u001b[0;34m[\u001b[0m\u001b[0mx\u001b[0m\u001b[0;34m.\u001b[0m\u001b[0mcopy\u001b[0m\u001b[0;34m(\u001b[0m\u001b[0;34m)\u001b[0m \u001b[0;32mfor\u001b[0m \u001b[0mx\u001b[0m \u001b[0;32min\u001b[0m \u001b[0moutput\u001b[0m\u001b[0;34m]\u001b[0m\u001b[0;34m\u001b[0m\u001b[0;34m\u001b[0m\u001b[0m\n\u001b[0m\u001b[1;32m   4374\u001b[0m \u001b[0;34m\u001b[0m\u001b[0m\n\u001b[1;32m   4375\u001b[0m     \u001b[0;32mreturn\u001b[0m \u001b[0moutput\u001b[0m\u001b[0;34m\u001b[0m\u001b[0;34m\u001b[0m\u001b[0m\n",
      "\u001b[0;32m/media/tom/ibulygin/miniconda3/envs/fcd/lib/python3.9/site-packages/numpy/lib/function_base.py\u001b[0m in \u001b[0;36m<listcomp>\u001b[0;34m(.0)\u001b[0m\n\u001b[1;32m   4371\u001b[0m \u001b[0;34m\u001b[0m\u001b[0m\n\u001b[1;32m   4372\u001b[0m     \u001b[0;32mif\u001b[0m \u001b[0mcopy\u001b[0m\u001b[0;34m:\u001b[0m\u001b[0;34m\u001b[0m\u001b[0;34m\u001b[0m\u001b[0m\n\u001b[0;32m-> 4373\u001b[0;31m         \u001b[0moutput\u001b[0m \u001b[0;34m=\u001b[0m \u001b[0;34m[\u001b[0m\u001b[0mx\u001b[0m\u001b[0;34m.\u001b[0m\u001b[0mcopy\u001b[0m\u001b[0;34m(\u001b[0m\u001b[0;34m)\u001b[0m \u001b[0;32mfor\u001b[0m \u001b[0mx\u001b[0m \u001b[0;32min\u001b[0m \u001b[0moutput\u001b[0m\u001b[0;34m]\u001b[0m\u001b[0;34m\u001b[0m\u001b[0;34m\u001b[0m\u001b[0m\n\u001b[0m\u001b[1;32m   4374\u001b[0m \u001b[0;34m\u001b[0m\u001b[0m\n\u001b[1;32m   4375\u001b[0m     \u001b[0;32mreturn\u001b[0m \u001b[0moutput\u001b[0m\u001b[0;34m\u001b[0m\u001b[0;34m\u001b[0m\u001b[0m\n",
      "\u001b[0;31mKeyboardInterrupt\u001b[0m: "
     ]
    }
   ],
   "source": [
    "# label_tensors = []\n",
    "\n",
    "centers = {}\n",
    "cc3d_dict = {}\n",
    "d_s = {}\n",
    "\n",
    "label_info = defaultdict(dict)\n",
    "\n",
    "for label, pdict in tqdm(paths_dict.items()):\n",
    "    \n",
    "    mask_tensor = nibabel.load(pdict['mask']).get_fdata() > 0\n",
    "    mask_tensor = mask_tensor.astype(int)\n",
    "#     brain_tensor = nibabel.load(pdict['brain']).get_fdata()\n",
    "#     brain_tensor = brain_tensor*mask_tensor.astype(int)\n",
    "\n",
    "    label_tensor = nibabel.load(pdict['label']).get_fdata() * mask_tensor\n",
    "    label_tensor = np.array(label_tensor) > 0\n",
    "    \n",
    "    labels_out = cc3d.connected_components(label_tensor, connectivity=26)\n",
    "    u, c = np.unique(labels_out, return_counts=True)\n",
    "    \n",
    "    label_info[label]['cc3d'] = [u,c]\n",
    "    \n",
    "    \n",
    "    if len(u) > 2:\n",
    "        continue\n",
    "        \n",
    "    mask = labels_out == 1\n",
    "    \n",
    "    \n",
    "    X,Y,Z = label_tensor.shape\n",
    "    \n",
    "    xyz_grid = np.stack(np.meshgrid(np.arange(X), np.arange(Y), np.arange(Z), indexing='ij'), -1)\n",
    "    xyz_grid = xyz_grid[mask]\n",
    "    center = xyz_grid.mean(0).astype(int)\n",
    "    \n",
    "    dx = (np.sum(mask, axis=(1,2)) > 0).sum()\n",
    "    dy = (np.sum(mask, axis=(0,2)) > 0).sum()\n",
    "    dz = (np.sum(mask, axis=(0,1)) > 0).sum()\n",
    "    \n",
    "    label_info[label]['d_s'] = [dx,dy,dz]\n",
    "    \n",
    "    label_info[label]['center'] = center\n",
    "    \n",
    "    "
   ]
  },
  {
   "cell_type": "code",
   "execution_count": 23,
   "id": "e6f405b1",
   "metadata": {},
   "outputs": [
    {
     "data": {
      "text/plain": [
       "{'cc3d': [array([0, 1], dtype=uint16), array([22899197,    17011])],\n",
       " 'd_s': [35, 60, 35],\n",
       " 'center': array([163, 206,  70])}"
      ]
     },
     "execution_count": 23,
     "metadata": {},
     "output_type": "execute_result"
    }
   ],
   "source": [
    "label_info['1']"
   ]
  },
  {
   "cell_type": "code",
   "execution_count": 4,
   "id": "c731f91e",
   "metadata": {},
   "outputs": [],
   "source": [
    "# np.save('labels_info',label_info)"
   ]
  },
  {
   "cell_type": "code",
   "execution_count": 10,
   "id": "4d0d8ec0",
   "metadata": {},
   "outputs": [],
   "source": [
    "# prod_d = [np.prod(d) for d in d_s.values()]\n",
    "# max_d = [max(d) for d in d_s.values()]"
   ]
  },
  {
   "cell_type": "markdown",
   "id": "281b98d6",
   "metadata": {},
   "source": [
    " - Take a look at the FCD volume size distribution\n",
    " - Take all crops fully covering FCD\n",
    " - Classify from other crops, compare statistics and all"
   ]
  }
 ],
 "metadata": {
  "kernelspec": {
   "display_name": "Python 3 (ipykernel)",
   "language": "python",
   "name": "python3"
  },
  "language_info": {
   "codemirror_mode": {
    "name": "ipython",
    "version": 3
   },
   "file_extension": ".py",
   "mimetype": "text/x-python",
   "name": "python",
   "nbconvert_exporter": "python",
   "pygments_lexer": "ipython3",
   "version": "3.9.7"
  }
 },
 "nbformat": 4,
 "nbformat_minor": 5
}
