{
 "cells": [
  {
   "cell_type": "code",
   "execution_count": null,
   "id": "04e40eb5-4467-46f0-940f-1b89421cb17e",
   "metadata": {},
   "outputs": [],
   "source": [
    "import os\n",
    "import re\n",
    "import numpy as np\n",
    "import pandas as pd\n",
    "from tqdm import tqdm\n",
    "import matplotlib.pyplot as plt\n",
    "import seaborn as sns\n",
    "from collections import defaultdict\n",
    "from tensorboard.backend.event_processing import event_accumulator\n",
    "from IPython.display import clear_output"
   ]
  },
  {
   "cell_type": "code",
   "execution_count": null,
   "id": "2da3051e-e2c2-4117-8a6c-3d3f88d57123",
   "metadata": {},
   "outputs": [],
   "source": [
    "nice_expname = {'t1_all':'All',\n",
    "                't1_cr-flair':'CR+Flair', \n",
    "                't1_cr-t2':'CR+T2', \n",
    "                't1_blurring-flair':'b-Flair',\n",
    "                't1_blurring-t1':'b-T1',\n",
    "                't1_blurring-t2':'b-T2', \n",
    "                't1_entropy':'Entropy', \n",
    "                't1_variance':'Variance',\n",
    "                't1_curv':'Curv',\n",
    "                't1':'None', \n",
    "                't1_thickness':'Thickness', \n",
    "                't1_sulc':'Sulc'}\n",
    "\n",
    "nice_metricname = {'val_dice_score_epoch':'Dice',\n",
    "                   'val_coverage_epoch':'True Positive',\n",
    "                   'val_false_positive_epoch':'False Positive',\n",
    "                   'val_false_negative_epoch': 'False Negative'}"
   ]
  },
  {
   "cell_type": "code",
   "execution_count": null,
   "id": "24c851d7-5b08-40c7-a2fb-327060b26532",
   "metadata": {},
   "outputs": [],
   "source": [
    "experiments_root = '/workspace/RawData/FCDNet/logs/features_comparison/'"
   ]
  },
  {
   "cell_type": "code",
   "execution_count": null,
   "id": "fe58f709-a277-4d63-bb08-c42e68c6b33e",
   "metadata": {},
   "outputs": [],
   "source": [
    "experiments_dirs = []\n",
    "for exp_type in list(filter(lambda x: 't1' in x, os.listdir(experiments_root))):\n",
    "    experiments_dir = os.path.join(experiments_root, exp_type)\n",
    "    print(exp_type, len(os.listdir(experiments_dir)))\n",
    "    experiments_dirs.append(experiments_dir)"
   ]
  },
  {
   "cell_type": "code",
   "execution_count": null,
   "id": "f22fc22e-ed6e-4129-8f95-d598d3be1dfc",
   "metadata": {},
   "outputs": [],
   "source": [
    "# !pip install tensorboard"
   ]
  },
  {
   "cell_type": "code",
   "execution_count": null,
   "id": "4d56d735-478c-413d-83ce-f71b017b29b2",
   "metadata": {},
   "outputs": [],
   "source": [
    "experiments_metrics = defaultdict(dict)\n",
    "metrics_names = ['val_dice_score_epoch', 'val_coverage_epoch', 'val_false_positive_epoch', 'val_false_negative_epoch']\n",
    "n_metrics = len(metrics_names)\n",
    "\n",
    "# experiments_dir =  os.path.join(experiments_root, 't1_curv')\n",
    "for experiments_dir in tqdm(experiments_dirs):\n",
    "    \n",
    "    exp_type = experiments_dir.split('/')[-1]\n",
    "\n",
    "    for trial, experiment_name in tqdm(enumerate(os.listdir(experiments_dir))):\n",
    "        experiment_path = os.path.join(experiments_dir, experiment_name)\n",
    "        tb_path = os.path.join(experiment_path, 'tb')\n",
    "        event_name = os.listdir(tb_path)[0]\n",
    "        event_path = os.path.join(tb_path, event_name) # take an event file \n",
    "        ea = event_accumulator.EventAccumulator(event_path, \n",
    "                                                size_guidance={ \n",
    "                                                                event_accumulator.COMPRESSED_HISTOGRAMS: 0,\n",
    "                                                                event_accumulator.IMAGES: 0,\n",
    "                                                                event_accumulator.AUDIO: 0,\n",
    "                                                                event_accumulator.SCALARS: 10**3,\n",
    "                                                                event_accumulator.HISTOGRAMS: 0,\n",
    "                                                               }\n",
    "                                                )\n",
    "\n",
    "        ea.Reload()\n",
    "\n",
    "        metrics_dict = {}\n",
    "        for metric_name in metrics_names:\n",
    "            metrics_dict[metric_name] = np.array([event.value for event in ea.Scalars(metric_name)])\n",
    "\n",
    "        print(f'{len(metrics_dict[metric_name])} epochs in {experiment_name} has found')\n",
    "\n",
    "        experiments_metrics[exp_type][trial] = metrics_dict\n",
    "        \n",
    "clear_output()\n"
   ]
  },
  {
   "cell_type": "code",
   "execution_count": null,
   "id": "dcd29b2d-f681-448f-8313-015ab3232ba3",
   "metadata": {},
   "outputs": [],
   "source": [
    "learning_plots = False\n",
    "\n",
    "# statistics [mean, std] for each (exp_type, metric_name) pair\n",
    "stats_all = defaultdict(dict)\n",
    "\n",
    "# iterate over different experiments e.g. [t1, t1+curv ,t1+cr, ...]\n",
    "for exp_type, exp_trials in experiments_metrics.items():\n",
    "    \n",
    "    stat_points = defaultdict(list)\n",
    "    if learning_plots:\n",
    "        fig, axes = plt.subplots(nrows=1, ncols=n_metrics, figsize=(n_metrics*5,5), dpi=200)\n",
    "    # over different trials of the same experiment\n",
    "    for trial_num, trial_metrics in exp_trials.items():\n",
    "        if trial_num > 4:\n",
    "            break\n",
    "        # over metrics within single trial\n",
    "        for i, metric_name in enumerate(metrics_names):\n",
    "            stat_points[metric_name].append(trial_metrics[metric_name][-20:])\n",
    "            \n",
    "            if learning_plots:\n",
    "                axes[i].plot(trial_metrics[metric_name], label=trial)\n",
    "                axes[i].set_title(metric_name)\n",
    "    \n",
    "    if learning_plots:\n",
    "        fig.suptitle(exp_type, fontsize=20, color='blue')\n",
    "        plt.show()\n",
    "    \n",
    "    for metric_name, metric_stat_points in stat_points.items():\n",
    "        metric_stat_points_cat = np.concatenate(metric_stat_points)\n",
    "        stats_all[metric_name][exp_type] = metric_stat_points_cat\n"
   ]
  },
  {
   "cell_type": "code",
   "execution_count": null,
   "id": "a8564a97-40c2-41e2-a415-d06807b75981",
   "metadata": {},
   "outputs": [],
   "source": [
    "def fill_observation_dict(observation_dict, min_values=10):\n",
    "    '''\n",
    "    observation_dict - {'key_1', [...], ..., 'key_n', [...]}\n",
    "    '''\n",
    "    \n",
    "    observation_dict_ = {}\n",
    "    \n",
    "    min_len = min([len(v) for k,v in observation_dict.items()])\n",
    "    assert min_len >= min_values, f'Only {min_len} in some array!'\n",
    "    \n",
    "    for k,v in observation_dict.items():\n",
    "        observation_dict_[k] = v[:min_len]\n",
    "    \n",
    "    return observation_dict_"
   ]
  },
  {
   "cell_type": "code",
   "execution_count": null,
   "id": "9220d0d3-53b0-499a-8033-88f27e868391",
   "metadata": {},
   "outputs": [],
   "source": [
    "\n",
    "for metric_name in metrics_names[:1]:\n",
    "    \n",
    "    stats_metric_all = stats_all[metric_name]\n",
    "    # df for specific metric across different experiments\n",
    "    df_stats_metric = pd.DataFrame(fill_observation_dict(stats_metric_all), columns=stats_metric_all.keys())\n",
    "    df_stats_metric = df_stats_metric.reindex(df_stats_metric.max().sort_values().index, axis=1)\n",
    "\n",
    "    df_stats_metric = df_stats_metric.rename(columns=nice_expname)\n",
    "    \n",
    "    sns.axes_style(\"darkgrid\")\n",
    "    sns.set_context(\"notebook\", font_scale=2, rc={\"lines.linewidth\": 2.5, 'figure.figsize':(20,10)})\n",
    "    \n",
    "    sns.catplot(kind=\"box\", data=df_stats_metric)\n",
    "    \n",
    "    plt.title(nice_metricname[metric_name])\n",
    "    plt.xticks(rotation=45)\n",
    "    plt.show()"
   ]
  },
  {
   "cell_type": "code",
   "execution_count": null,
   "id": "81c3af22-2094-4fe2-b877-5eedbd4dc7fa",
   "metadata": {},
   "outputs": [],
   "source": [
    "df_stats_metric"
   ]
  },
  {
   "cell_type": "code",
   "execution_count": null,
   "id": "1ba52a6e-7910-4293-a67f-d164a1e918ad",
   "metadata": {},
   "outputs": [],
   "source": [
    "metrics_names"
   ]
  },
  {
   "cell_type": "code",
   "execution_count": null,
   "id": "bd98b64f-d818-4d39-aa92-f1467dd83ab1",
   "metadata": {},
   "outputs": [],
   "source": [
    "\n",
    "for metric_name in metrics_names:\n",
    "    \n",
    "    stats_metric_all = stats_all[metric_name]\n",
    "    # df for specific metric across different experiments\n",
    "    df_stats_metric = pd.DataFrame(fill_observation_dict(stats_metric_all), columns=stats_metric_all.keys())\n",
    "    df_stats_metric = df_stats_metric.reindex(df_stats_metric.max().sort_values().index, axis=1)\n",
    "\n",
    "    df_stats_metric = df_stats_metric.rename(columns=nice_expname)\n",
    "    \n",
    "    fig, ax = pyplot.subplots(figsize=()\n",
    "    \n",
    "    sns.axes_style(\"darkgrid\")\n",
    "    sns.set_context(\"notebook\", font_scale=2, rc={\"lines.linewidth\": 2.5, 'figure.figsize':(20,10)})\n",
    "    \n",
    "    sns.catplot(kind=\"box\", data=df_stats_metric)\n",
    "    \n",
    "    plt.title(nice_metricname[metric_name])\n",
    "    plt.xticks(rotation=45)\n",
    "    plt.show()"
   ]
  }
 ],
 "metadata": {
  "kernelspec": {
   "display_name": "Python 3",
   "language": "python",
   "name": "python3"
  },
  "language_info": {
   "codemirror_mode": {
    "name": "ipython",
    "version": 3
   },
   "file_extension": ".py",
   "mimetype": "text/x-python",
   "name": "python",
   "nbconvert_exporter": "python",
   "pygments_lexer": "ipython3",
   "version": "3.8.12"
  }
 },
 "nbformat": 4,
 "nbformat_minor": 5
}
