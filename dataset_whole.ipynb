{
 "cells": [
  {
   "cell_type": "code",
   "execution_count": 68,
   "id": "8f4907d1",
   "metadata": {},
   "outputs": [
    {
     "name": "stdout",
     "output_type": "stream",
     "text": [
      "The autoreload extension is already loaded. To reload it, use:\n",
      "  %reload_ext autoreload\n"
     ]
    },
    {
     "data": {
      "text/html": [
       "<style>.container { width:100% !important}</style>"
      ],
      "text/plain": [
       "<IPython.core.display.HTML object>"
      ]
     },
     "metadata": {},
     "output_type": "display_data"
    }
   ],
   "source": [
    "%load_ext autoreload\n",
    "import glob\n",
    "import nibabel\n",
    "import pandas as pd\n",
    "import numpy as np\n",
    "\n",
    "from collections import defaultdict, Counter\n",
    "from matplotlib import pyplot as plt\n",
    "from tqdm import tqdm_notebook, tqdm\n",
    "from joblib import Parallel, delayed\n",
    "\n",
    "from IPython.core.debugger import set_trace\n",
    "\n",
    "import os\n",
    "import shutil\n",
    "import argparse\n",
    "import time\n",
    "import json\n",
    "import pickle\n",
    "\n",
    "import torch\n",
    "from torch import nn\n",
    "from torch import autograd\n",
    "import torch.nn.functional as F\n",
    "import torch.optim as optim\n",
    "from torch.utils.data import DataLoader, Dataset\n",
    "\n",
    "from models.v2v import V2VModel\n",
    "\n",
    "import yaml\n",
    "from easydict import EasyDict as edict\n",
    "\n",
    "from utils import show_slices, check_patch, pad_arrays, create_dicts, normalized, load\n",
    "\n",
    "from multiprocessing import cpu_count\n",
    "N_CPU = cpu_count()\n",
    "\n",
    "from sklearn.cluster import KMeans\n",
    "from sklearn.metrics import silhouette_score\n",
    "from sklearn.model_selection import train_test_split\n",
    "\n",
    "import cc3d\n",
    "\n",
    "from IPython.core.display import display, HTML\n",
    "display(HTML(\"<style>.container { width:100% !important}</style>\"))\n",
    "\n",
    "from celluloid import Camera\n",
    "\n",
    "SEED = 42\n",
    "%autoreload 2"
   ]
  },
  {
   "cell_type": "code",
   "execution_count": 69,
   "id": "b4d5d60d",
   "metadata": {},
   "outputs": [],
   "source": [
    "labels_components = np.load('labels_info.npy', allow_pickle=True).item()\n",
    "single_component_keys = {k for k,v in labels_components.items() if len(v['cc3d'][0]) == 2}"
   ]
  },
  {
   "cell_type": "code",
   "execution_count": 70,
   "id": "9a7bf503",
   "metadata": {},
   "outputs": [
    {
     "data": {
      "text/plain": [
       "87"
      ]
     },
     "execution_count": 70,
     "metadata": {},
     "output_type": "execute_result"
    }
   ],
   "source": [
    "len(single_component_keys)"
   ]
  },
  {
   "cell_type": "code",
   "execution_count": 71,
   "id": "caac6795",
   "metadata": {},
   "outputs": [],
   "source": [
    "USE_GEOM_FEATURES = True\n",
    "GEOM_FEATURES = ['thickness', 'sulc', 'curv']\n",
    "\n",
    "root_label = '../fcd_data/normalized_label'\n",
    "root_data = '../fcd_data/normalized_data/'\n",
    "root_geom_features = '../fcd_data/preprocessed_data_anadezhda/'\n",
    "\n",
    "paths_dict = create_dicts(root_label,\n",
    "                         root_data,\n",
    "                         root_geom_features, \n",
    "                         single_component_keys,\n",
    "                         USE_GEOM_FEATURES, \n",
    "                         GEOM_FEATURES)"
   ]
  },
  {
   "cell_type": "code",
   "execution_count": 76,
   "id": "7bdbb8a3",
   "metadata": {},
   "outputs": [
    {
     "data": {
      "text/plain": [
       "77"
      ]
     },
     "execution_count": 76,
     "metadata": {},
     "output_type": "execute_result"
    }
   ],
   "source": [
    "len(paths_dict)"
   ]
  },
  {
   "cell_type": "code",
   "execution_count": 77,
   "id": "7315425e",
   "metadata": {},
   "outputs": [],
   "source": [
    "def make_tensor(root, label, pdict, USE_GEOM_FEATURES):\n",
    "    \n",
    "    brain_tensor, mask_tensor, label_tensor = load(pdict)\n",
    "    \n",
    "    ################\n",
    "    # MAKE TENSORS #\n",
    "    ################\n",
    "    \n",
    "    label_tensor_torch = torch.tensor(label_tensor, dtype=torch.float32)\n",
    "    mask_tensor_torch = torch.tensor(mask_tensor, dtype=torch.long)\n",
    "    brain_tensor_torch = torch.tensor(brain_tensor, dtype=torch.float32)\n",
    "    \n",
    "    mask = mask_tensor_torch.type(torch.bool)\n",
    "    brain_tensor_torch[mask] = normalized(brain_tensor_torch[mask])\n",
    "    brain_tensor_torch[~mask] = 0\n",
    "    \n",
    "    torch_tensor = {'brain':brain_tensor_torch, \n",
    "                      'mask':mask_tensor_torch,\n",
    "                      'label':label_tensor_torch}\n",
    "    \n",
    "    if USE_GEOM_FEATURES:\n",
    "        GEOM_FEATURES = list(set(pdict.keys()) - {'label', 'brain', 'mask'})\n",
    "        feature_tensors = [nibabel.load(pdict[f'{feature_name}']).get_fdata() \\\n",
    "                           for feature_name in GEOM_FEATURES]\n",
    "        \n",
    "        for i, feature_name in enumerate(GEOM_FEATURES):\n",
    "            feature_tensor = torch.tensor(feature_tensors[i], dtype=torch.float)\n",
    "            feature_tensor[mask] = normalized(feature_tensor[mask])\n",
    "            feature_tensor[~mask] = 0\n",
    "            \n",
    "            torch_tensor[feature_name] = feature_tensor\n",
    "        \n",
    "    torch.save(torch_tensor, os.path.join(root, f'tensor_{label}'))\n",
    "\n",
    "# _ = Parallel(n_jobs=-1)(delayed(make_tensor)('../fcd_data/normalized_tensors', k, v, USE_GEOM_FEATURES) for k,v in tqdm(paths_dict.items()))"
   ]
  },
  {
   "cell_type": "code",
   "execution_count": 80,
   "id": "875a3578",
   "metadata": {},
   "outputs": [],
   "source": [
    "tensor = torch.load('../fcd_data/normalized_tensors/tensor_1')"
   ]
  },
  {
   "cell_type": "code",
   "execution_count": 10,
   "id": "96afe3a5",
   "metadata": {},
   "outputs": [
    {
     "name": "stdout",
     "output_type": "stream",
     "text": [
      "brain tensor(1.) tensor(0.) torch.Size([241, 336, 283])\n",
      "mask tensor(1) tensor(0) torch.Size([241, 336, 283])\n",
      "label tensor(1.) tensor(0.) torch.Size([241, 336, 283])\n",
      "sulc tensor(1.) tensor(0.) torch.Size([241, 336, 283])\n",
      "thickness tensor(1.) tensor(0.) torch.Size([241, 336, 283])\n",
      "curv tensor(1.) tensor(0.) torch.Size([241, 336, 283])\n"
     ]
    }
   ],
   "source": [
    "for k,v in tensor.items():\n",
    "    print(k, v.max(), v.min(), v.shape)"
   ]
  },
  {
   "cell_type": "markdown",
   "id": "135155f2",
   "metadata": {},
   "source": [
    "# Metadata"
   ]
  },
  {
   "cell_type": "code",
   "execution_count": 21,
   "id": "300416a9",
   "metadata": {},
   "outputs": [],
   "source": [
    "metadata_root = './metadata'\n",
    "train_keys, test_keys = train_test_split(list(paths_dict.keys()), test_size=0.1, random_state=SEED)\n",
    "metadata = {'train':train_keys,\n",
    "            'test':test_keys,\n",
    "            'seed':SEED}\n",
    "\n",
    "np.save(metadata_root, metadata)"
   ]
  },
  {
   "cell_type": "code",
   "execution_count": 22,
   "id": "1fa39e0e",
   "metadata": {},
   "outputs": [],
   "source": [
    "metadata = np.load('metadata.npy',allow_pickle=True).item()"
   ]
  },
  {
   "cell_type": "markdown",
   "id": "9ac2b7de",
   "metadata": {},
   "source": [
    "# Yarkin data (draft)"
   ]
  },
  {
   "cell_type": "code",
   "execution_count": 14,
   "id": "09daa907",
   "metadata": {},
   "outputs": [],
   "source": [
    "# root = '../fcd_data/yarkin_06dec2021'"
   ]
  },
  {
   "cell_type": "code",
   "execution_count": 16,
   "id": "d109ac9a",
   "metadata": {},
   "outputs": [
    {
     "name": "stdout",
     "output_type": "stream",
     "text": [
      "total 1175352\r\n",
      "drwxr-xr-x  2 ibulygin users      4096 дек  6 15:33 \u001b[0m\u001b[01;34m.\u001b[0m/\r\n",
      "drwxrwxrwx 92 ibulygin users      4096 дек  6 15:47 \u001b[34;42m..\u001b[0m/\r\n",
      "-rw-r--r--  1 ibulygin users 183330016 дек  6 15:33 c1sub-9_MNI152NLint2_struct-Flair.nii\r\n",
      "-rw-r--r--  1 ibulygin users  45613408 дек  6 15:33 c1sub-9_struct-Flair.nii\r\n",
      "-rw-r--r--  1 ibulygin users  45613408 дек  6 15:33 c2sub-9_struct-Flair.nii\r\n",
      "-rw-r--r--  1 ibulygin users  45613408 дек  6 15:33 c3sub-9_struct-Flair.nii\r\n",
      "-rw-r--r--  1 ibulygin users  91226464 дек  6 15:33 hrsub-9_brain-Flair_mask.nii\r\n",
      "-rw-r--r--  1 ibulygin users    256056 дек  6 15:33 hrsub-9_brain-Flair_mask.nii.gz\r\n",
      "-rw-r--r--  1 ibulygin users 182452576 дек  6 15:33 hrsub-9_brain-Flair.nii\r\n",
      "-rw-r--r--  1 ibulygin users  21892116 дек  6 15:33 hrsub-9_brain-Flair.nii.gz\r\n",
      "-rw-r--r--  1 ibulygin users 182452576 дек  6 15:33 msub-9_struct-Flair.nii\r\n",
      "-rw-r--r--  1 ibulygin users   2371932 дек  6 15:33 norm_and_wgsub-9_struct-Flair.nii\r\n",
      "-rw-r--r--  1 ibulygin users   2371932 дек  6 15:33 skullstriped-sub-9_struct-Flair.nii\r\n",
      "-rw-r--r--  1 ibulygin users 183330016 дек  6 15:33 sub-9_MNI152NLint2_brain-Flair.nii\r\n",
      "-rw-r--r--  1 ibulygin users 182452576 дек  6 15:33 sub-9_struct-Flair.nii\r\n",
      "-rw-r--r--  1 ibulygin users     43248 дек  6 15:33 sub-9_struct-Flair_seg_inv_sn.mat\r\n",
      "-rw-r--r--  1 ibulygin users     66096 дек  6 15:33 sub-9_struct-Flair_seg_sn.mat\r\n",
      "-rw-r--r--  1 ibulygin users   2371932 дек  6 15:33 thickness_sub-9_struct-Flair.nii\r\n",
      "-rw-r--r--  1 ibulygin users   2371932 дек  6 15:33 wc1_or_wc2sub-9_struct-Flair.nii\r\n",
      "-rw-r--r--  1 ibulygin users    593247 дек  6 15:33 wc1sub-9_struct-Flair.nii\r\n",
      "-rw-r--r--  1 ibulygin users    593247 дек  6 15:33 wc2sub-9_struct-Flair.nii\r\n",
      "-rw-r--r--  1 ibulygin users    593247 дек  6 15:33 wc3sub-9_struct-Flair.nii\r\n",
      "-rw-r--r--  1 ibulygin users   2371932 дек  6 15:33 wmsub-9_struct-Flair.nii\r\n",
      "-rw-r--r--  1 ibulygin users  25475692 дек  6 15:33 y_msub-9_struct-Flair.nii\r\n"
     ]
    }
   ],
   "source": [
    "# ls -la ../fcd_data/yarkin_06dec2021/sub-9/ # sub-17_MNI152NLint2_brain-Flair.nii"
   ]
  },
  {
   "cell_type": "markdown",
   "id": "4b9d634e",
   "metadata": {},
   "source": [
    "c1sub-9_MNI152NLint2_struct-Flair.nii - **asym**  \n",
    "c1sub-9_struct-Flair.nii - **SYM!**  \n",
    "c2sub-9_struct-Flair.nii - **SYM!**  \n",
    "c3sub-9_struct-Flair.nii - **SYM!**  \n",
    "hrsub-9_brain-Flair_mask.nii - **SYM!**  \n",
    "hrsub-9_brain-Flair_mask.nii.gz - **SYM!**  \n",
    "hrsub-9_brain-Flair.nii - **checK IT!! SYM!**  \n",
    "hrsub-9_brain-Flair.nii.gz - **SYM!**  \n",
    "msub-9_struct-Flair.nii - **SYM!, tissue**  \n",
    "norm_and_wgsub-9_struct-Flair.nii - **SYM, lowdim**  \n",
    "skullstriped-sub-9_struct-Flair.nii - **SYM, lowdim**  \n",
    "sub-9_MNI152NLint2_brain-Flair.nii - **BRAIN, 1X1, ASYM**    \n",
    "sub-9_struct-Flair.nii - **ASYM**  \n",
    "sub-9_struct-Flair_seg_inv_sn.mat  \n",
    "sub-9_struct-Flair_seg_sn.mat  \n",
    "wc1_or_wc2sub-9_struct-Flair.nii - **SYM lowdim**  \n",
    "wc1sub-9_struct-Flair.nii - **SYM lowdim**  \n",
    "wc2sub-9_struct-Flair.nii - **SYM lowdim**    \n",
    "wc3sub-9_struct-Flair.nii - **SYM lowdim**    \n",
    "wmsub-9_struct-Flair.nii - **SYM lowdim tissues**   "
   ]
  },
  {
   "cell_type": "markdown",
   "id": "29427173",
   "metadata": {},
   "source": []
  },
  {
   "cell_type": "code",
   "execution_count": 82,
   "id": "3a762cc6",
   "metadata": {},
   "outputs": [],
   "source": [
    "# brain = nibabel.load('../fcd_data/yarkin_06dec2021/sub-9/sub-9_MNI152NLint2_brain-Flair.nii').get_fdata()\n",
    "# brain = nibabel.load('../fcd_data/yarkin_06dec2021/sub-9/hrsub-9_brain-Flair.nii').get_fdata()"
   ]
  }
 ],
 "metadata": {
  "kernelspec": {
   "display_name": "Python 3 (ipykernel)",
   "language": "python",
   "name": "python3"
  },
  "language_info": {
   "codemirror_mode": {
    "name": "ipython",
    "version": 3
   },
   "file_extension": ".py",
   "mimetype": "text/x-python",
   "name": "python",
   "nbconvert_exporter": "python",
   "pygments_lexer": "ipython3",
   "version": "3.9.7"
  }
 },
 "nbformat": 4,
 "nbformat_minor": 5
}
