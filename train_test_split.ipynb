{
 "cells": [
  {
   "cell_type": "code",
   "execution_count": null,
   "id": "c3dd1c17",
   "metadata": {},
   "outputs": [],
   "source": [
    "%load_ext autoreload\n",
    "import pandas as pd\n",
    "import numpy as np\n",
    "from sklearn.model_selection import train_test_split, KFold, StratifiedKFold\n",
    "import re\n",
    "%autoreload 2"
   ]
  },
  {
   "cell_type": "code",
   "execution_count": null,
   "id": "c45e802c-cd7b-4e9a-873f-4fdb83c6b142",
   "metadata": {},
   "outputs": [],
   "source": [
    "pd.set_option('display.max_rows', 100)\n",
    "SEED = 42\n",
    "USE_nG = True # creting data only from nG subset"
   ]
  },
  {
   "cell_type": "code",
   "execution_count": null,
   "id": "30be6143-9896-462c-90cc-a21e5f2b8124",
   "metadata": {},
   "outputs": [],
   "source": [
    "nG_subs = np.load('./metadata/metadata_fcd_nG.npy', allow_pickle=True).item()"
   ]
  },
  {
   "cell_type": "code",
   "execution_count": null,
   "id": "53b83e54-450c-4c19-87f8-a353f09caa23",
   "metadata": {},
   "outputs": [],
   "source": [
    "all_subs_idcs = np.concatenate((nG_subs['train'], nG_subs['test']))"
   ]
  },
  {
   "cell_type": "code",
   "execution_count": null,
   "id": "712dc11c-d9a0-4d12-900b-6ca94edfc3c3",
   "metadata": {},
   "outputs": [],
   "source": [
    "# https://docs.google.com/spreadsheets/d/1MDleLmQ0Nlcg62x95e3xnkc5_j_i4IK_KQEHccDosG8/edit?usp=sharing\n",
    "#https://docs.google.com/spreadsheets/d/1_TbYJj9JY-QTdFE5-KeVG1gusTMbRUE5/edit#gid=676408086\n",
    "# https://docs.google.com/spreadsheets/d/1PqzgvTJNxgObtIMg42Xvj232geOmuT4Q/edit?usp=sharing&ouid=111984848783696185973&rtpof=true&sd=true\n",
    "sheet_id = \"1PqzgvTJNxgObtIMg42Xvj232geOmuT4Q\"\n",
    "sheet_name = \"Alekseev\"\n",
    "url = f\"https://docs.google.com/spreadsheets/d/{sheet_id}/gviz/tq?tqx=out:csv&sheet={sheet_name}\""
   ]
  },
  {
   "cell_type": "code",
   "execution_count": null,
   "id": "7562730e-3938-4683-8b06-1ac62515384a",
   "metadata": {},
   "outputs": [],
   "source": [
    "folds_cv = np.load('./metadata/folds_cv_nG.npy', allow_pickle=True)\n",
    "#folds_cv_new = np.load('./metadata/stratified_vol_loc_cv_nG.npy', allow_pickle=True)"
   ]
  },
  {
   "cell_type": "code",
   "execution_count": null,
   "id": "b7ca09f9-e761-4f9c-92b8-3e9e4683fd66",
   "metadata": {},
   "outputs": [],
   "source": [
    "import nibabel\n",
    "import os\n",
    "import nilearn\n",
    "from nilearn import plotting\n",
    "from collections import defaultdict\n",
    "import matplotlib.pyplot as plt\n",
    "import seaborn as sns\n",
    "%matplotlib inline\n",
    "\n",
    "\n",
    "\n",
    "unit_vol_per_fold = {}\n",
    "all_units = defaultdict()\n",
    "for i,f in enumerate(folds_cv):\n",
    "    unit_f = 0\n",
    "    unit_f_l = []\n",
    "    val = f['val']\n",
    "    for sub_ind in val:\n",
    "        label_file = nibabel.load(os.path.join('/workspace/RawData/Features/preprocessed_data/label_bernaskoni', f'{sub_ind}.nii.gz'))\n",
    "        label_data = label_file.get_fdata()\n",
    "        sub_unit = np.count_nonzero(label_data)\n",
    "        # debugged n50, because it has label equal to 2\n",
    "        \"\"\"\n",
    "        if sub_ind == 'n50':\n",
    "            data_2 = np.where(label_data >= 0.5, 1, 0)\n",
    "            #label_data = np.concatenate((data_2, scaled_data))\n",
    "            file = nibabel.Nifti1Image(data_2, label_file.affine)\n",
    "            nibabel.save(file,os.path.join('/workspace/RawData/Features/preprocessed_data/label_bernaskoni', f'{sub_ind}_new.nii.gz'))\n",
    "            plt.hist(data_2.ravel(), label=sub_ind)\n",
    "        \"\"\"    \n",
    "        #print(unit)\n",
    "        #print(f'yes {sub_ind}' if label_data[label_data>1.0].any() else 'none')\n",
    "        unit_f += sub_unit\n",
    "        unit_f_l.append(sub_unit)\n",
    "        all_units[str(sub_ind)] = sub_unit\n",
    "        #plt.hist(label_data[label_data > 0].ravel(), label=sub_ind)\n",
    "        #plt.title(sub_ind)\n",
    "        #plt.show()\n",
    "        #nilearn.plotting.plot_anat(label_file, bg_img=None)\n",
    "    #plt.hist(unit_f_l, label=f'fold{i}', range=(0, 16000))\n",
    "    #sns.histplot(unit_f_l, kde=True, binrange=(0,16000))\n",
    "    #plt.show()\n",
    "    #unit_vol_per_fold[str(i)] = unit_f_l\n",
    "    \n",
    "    \n",
    "    unit_vol_per_fold[str(i)] = unit_f / len(val)"
   ]
  },
  {
   "cell_type": "markdown",
   "id": "78b9daa3-3dab-4777-8f28-6d8aa49d2036",
   "metadata": {},
   "source": [
    "{'0': 2993.7,\n",
    " '1': 4390.4,\n",
    " '2': 3807.1,\n",
    " '3': 2291.7,\n",
    " '4': 3865.8,\n",
    " '5': 3481.0,\n",
    " '6': 3760.4,\n",
    " '7': 4008.4,\n",
    " '8': 4566.5}"
   ]
  },
  {
   "cell_type": "code",
   "execution_count": null,
   "id": "ffbb135a-48bd-40d8-b67f-e0b6f1f2912d",
   "metadata": {},
   "outputs": [],
   "source": [
    "all_units.values()"
   ]
  },
  {
   "cell_type": "code",
   "execution_count": null,
   "id": "d26361b8-c3cc-4374-8198-b46fe70ff2e1",
   "metadata": {},
   "outputs": [],
   "source": [
    "np.quantile(list(all_units.values()), [0.05, 0.5, 0.95])"
   ]
  },
  {
   "cell_type": "code",
   "execution_count": null,
   "id": "655bd8c0-c50b-42f3-ab64-6a08965adb12",
   "metadata": {},
   "outputs": [],
   "source": [
    "f, (ax_box, ax_hist) = plt.subplots(2)\n",
    "\n",
    "sns.boxplot(list(all_units.values()), ax=ax_box)\n",
    "sns.histplot(list(all_units.values()), kde=True, binrange=(0,16000),bins=15, ax=ax_hist)\n",
    "#ax_box.set(xlabel='')\n",
    "plt.show()"
   ]
  },
  {
   "cell_type": "code",
   "execution_count": null,
   "id": "9796dfda-7d83-4a91-a81b-57c45fab5ef9",
   "metadata": {},
   "outputs": [],
   "source": [
    "df = pd.read_csv(url, \n",
    "                 header=0,\n",
    "                 index_col=None,\n",
    "                 usecols=['subject','label', 'front_pariet', 'occipit', 'tempor', 'isolated', 'blurring']\n",
    "                 )\n",
    "#df['country_age'] = df['country'].astype(str) + '_' + df['age_group'].astype(str)"
   ]
  },
  {
   "cell_type": "code",
   "execution_count": null,
   "id": "e5e69f8c-63d6-477f-9ce3-310e2446f669",
   "metadata": {},
   "outputs": [],
   "source": [
    "volume_frame = pd.DataFrame.from_dict(all_units.items())\n",
    "volume_frame.rename(columns={0:'subject',\n",
    "                             1:'volume'}, inplace = True)"
   ]
  },
  {
   "cell_type": "code",
   "execution_count": null,
   "id": "0356925c-1864-4403-bf50-001402ecc46f",
   "metadata": {},
   "outputs": [],
   "source": [
    "new = pd.merge(df, volume_frame, how='inner', on='subject')  # change to inner, to change "
   ]
  },
  {
   "cell_type": "code",
   "execution_count": null,
   "id": "7e0f4306-1939-4ee3-9091-fd157cb9961d",
   "metadata": {},
   "outputs": [],
   "source": [
    "pd.set_option('display.max_rows', None)"
   ]
  },
  {
   "cell_type": "code",
   "execution_count": null,
   "id": "ae21dca5-119f-4486-80df-3a144c3ca5e8",
   "metadata": {},
   "outputs": [],
   "source": [
    "new['volume_cat'] = ['small' if x < 1250 else 'mean' if 1250<=x<5200 else 'big' for x in new['volume']]"
   ]
  },
  {
   "cell_type": "code",
   "execution_count": null,
   "id": "3862c984-e265-4f41-9a5c-f91a8d9d3436",
   "metadata": {},
   "outputs": [],
   "source": [
    "new['volume_cat'].value_counts()"
   ]
  },
  {
   "cell_type": "code",
   "execution_count": null,
   "id": "65f68919-ccc2-4bfc-9f94-8bdab11acd4f",
   "metadata": {},
   "outputs": [],
   "source": [
    "new['stratify'] = new['label'].astype(str) + '_' + new['volume_cat'].astype(str)"
   ]
  },
  {
   "cell_type": "code",
   "execution_count": null,
   "id": "632ee55c-ebd2-425f-b620-32224c401f61",
   "metadata": {},
   "outputs": [],
   "source": [
    "num = 9\n",
    "folds = list(range(num))\n",
    "\n",
    "skf = StratifiedKFold(n_splits=num, random_state=SEED, shuffle=True)"
   ]
  },
  {
   "cell_type": "code",
   "execution_count": null,
   "id": "d52ebda7-6241-4005-a017-d1bbec997296",
   "metadata": {},
   "outputs": [],
   "source": [
    "train_val_ds_indcs = new['subject'].values\n",
    "train_val_split = skf.split(train_val_ds_indcs, new['stratify'])"
   ]
  },
  {
   "cell_type": "code",
   "execution_count": null,
   "id": "0eca79c8-bb77-421a-9263-babcf9ca679f",
   "metadata": {},
   "outputs": [],
   "source": [
    "folds = []\n",
    "for k, [train_index, test_index] in enumerate(train_val_split):\n",
    "    indcs = [train_index, test_index]\n",
    "    print(f'Train {train_val_ds_indcs[indcs[0]]}', '\\n', f'Validation {train_val_ds_indcs[indcs[1]]}')\n",
    "    print(len(train_val_ds_indcs[indcs[0]]),(len(train_val_ds_indcs[indcs[1]])))\n",
    "    metadata_cv_folds = {'train': train_val_ds_indcs[indcs[0]],\n",
    "                         'val': train_val_ds_indcs[indcs[1]]}\n",
    "    folds.append(metadata_cv_folds)\n",
    "#folds.append({'test': test_ds_indcs})\n",
    "np.save('metadata/stratified_vol_loc_cv_nG.npy', folds)"
   ]
  },
  {
   "cell_type": "markdown",
   "id": "86b43da8-6366-4a9d-bac3-8970022d2c8d",
   "metadata": {},
   "source": [
    "### Old table"
   ]
  },
  {
   "cell_type": "code",
   "execution_count": null,
   "id": "c7e0a5e7-3157-49ae-ada3-fddd0c6253b9",
   "metadata": {
    "tags": []
   },
   "outputs": [],
   "source": [
    "df = pd.read_csv(url, \n",
    "                 header=0,\n",
    "                 usecols=['patient', 'is_good', 'localization', 'comments'],\n",
    "                 index_col=None, dtype={'patient':str,\n",
    "                                        'is_good':str,\n",
    "                                        'localization':str,\n",
    "                                        'comments':str})\n",
    "\n",
    "if USE_nG:\n",
    "    df = df[df['patient'].apply(lambda x: x[0]=='n' or x[0]=='G')]\n",
    "df_good = df.query('is_good == \"1\"')"
   ]
  },
  {
   "cell_type": "code",
   "execution_count": null,
   "id": "dc10e54f-d543-402e-be70-5a927ef845ad",
   "metadata": {},
   "outputs": [],
   "source": [
    "df_good['localization'].value_counts()"
   ]
  },
  {
   "cell_type": "code",
   "execution_count": null,
   "id": "24c03923-e141-42f1-83bc-2fcb8046c9bd",
   "metadata": {},
   "outputs": [],
   "source": [
    "manual_mapping = {'right tempor occipit':'occipit',\n",
    "                  'left tempor occipit':'occipit',\n",
    "                  'left occipit tempor':'occipit',\n",
    "                  'left occipit':'occipit',\n",
    "                  'right occipit':'occipit',\n",
    "                  'left front tempor':'left tempor'\n",
    "                 }\n",
    "\n",
    "for k,v in manual_mapping.items():\n",
    "    mask = df_good['localization'] == k\n",
    "    df_good.loc[mask, 'localization'] = v"
   ]
  },
  {
   "cell_type": "code",
   "execution_count": null,
   "id": "a6f2dd42-fe89-42f3-b49c-fc1a0f118d7e",
   "metadata": {},
   "outputs": [],
   "source": [
    "df_good['localization'].value_counts()"
   ]
  },
  {
   "cell_type": "code",
   "execution_count": null,
   "id": "ae276a28-50cc-4a30-81d3-7fdbb075b72f",
   "metadata": {},
   "outputs": [],
   "source": [
    "df_train, df_test = train_test_split(df_good, \n",
    "                                     stratify=df_good['localization'],\n",
    "                                     random_state=SEED,\n",
    "                                     test_size=10)"
   ]
  },
  {
   "cell_type": "code",
   "execution_count": null,
   "id": "b06f0d60-a8c8-47de-8b0e-c6d703f0ce0b",
   "metadata": {},
   "outputs": [],
   "source": [
    "df_train.shape, df_test.shape"
   ]
  },
  {
   "cell_type": "code",
   "execution_count": null,
   "id": "e085797a-7b83-4148-923d-ee8cf96f7860",
   "metadata": {},
   "outputs": [],
   "source": [
    "metadata = {'train':df_train['patient'].values,\n",
    "            'test':df_test['patient'].values}\n",
    "np.save('metadata/metadata_fcd_nG.npy', metadata)"
   ]
  },
  {
   "cell_type": "markdown",
   "id": "a2ae6394-e771-44ac-a67d-028739c7cf24",
   "metadata": {},
   "source": [
    "### Add cross-validation metadata dataset"
   ]
  },
  {
   "cell_type": "code",
   "execution_count": null,
   "id": "5be01d86-08fa-4176-895f-f76471e67a0e",
   "metadata": {},
   "outputs": [],
   "source": [
    "num = 9\n",
    "folds = list(range(num))\n",
    "\n",
    "kf = KFold(n_splits=num, random_state=SEED, shuffle=True)"
   ]
  },
  {
   "cell_type": "code",
   "execution_count": null,
   "id": "6e9ced88-dc8b-4c4c-8e9b-73e441a38f8d",
   "metadata": {},
   "outputs": [],
   "source": [
    "train_val_ds_indcs = df_good['patient'].values[:90]\n",
    "# test_ds_indcs = df_good['patient'].values[80:]  # Till we are not setting any hyperparams "
   ]
  },
  {
   "cell_type": "code",
   "execution_count": null,
   "id": "41a5f4de-7943-42dc-86fe-cd48e6dac7f0",
   "metadata": {},
   "outputs": [],
   "source": [
    "train_val_split = kf.split(train_val_ds_indcs)"
   ]
  },
  {
   "cell_type": "code",
   "execution_count": null,
   "id": "27b02bc8-7415-410f-84ea-91015bbffcd5",
   "metadata": {
    "tags": []
   },
   "outputs": [],
   "source": [
    "folds = []\n",
    "for k, [train_index, test_index] in enumerate(train_val_split):\n",
    "    indcs = [train_index, test_index]\n",
    "    print(f'Train {train_val_ds_indcs[indcs[0]]}', '\\n', f'Validation {train_val_ds_indcs[indcs[1]]}')\n",
    "    print(len(train_val_ds_indcs[indcs[0]]),(len(train_val_ds_indcs[indcs[1]])))\n",
    "    metadata_cv_folds = {'train': train_val_ds_indcs[indcs[0]],\n",
    "                         'val': train_val_ds_indcs[indcs[1]]}\n",
    "    folds.append(metadata_cv_folds)\n",
    "#folds.append({'test': test_ds_indcs})\n",
    "np.save('metadata/folds_cv_nG.npy', folds)"
   ]
  },
  {
   "cell_type": "code",
   "execution_count": null,
   "id": "8aa6d7e2-36e7-4d71-a69a-cc4665739530",
   "metadata": {},
   "outputs": [],
   "source": [
    "len(folds)"
   ]
  },
  {
   "cell_type": "code",
   "execution_count": null,
   "id": "9a37670c-10b7-4cfe-93af-db961bdbe77a",
   "metadata": {},
   "outputs": [],
   "source": []
  }
 ],
 "metadata": {
  "kernelspec": {
   "display_name": "Python 3",
   "language": "python",
   "name": "python3"
  },
  "language_info": {
   "codemirror_mode": {
    "name": "ipython",
    "version": 3
   },
   "file_extension": ".py",
   "mimetype": "text/x-python",
   "name": "python",
   "nbconvert_exporter": "python",
   "pygments_lexer": "ipython3",
   "version": "3.8.12"
  }
 },
 "nbformat": 4,
 "nbformat_minor": 5
}
