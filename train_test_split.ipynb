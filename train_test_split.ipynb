{
 "cells": [
  {
   "cell_type": "code",
   "execution_count": null,
   "id": "c3dd1c17",
   "metadata": {},
   "outputs": [],
   "source": [
    "%load_ext autoreload\n",
    "import pandas as pd\n",
    "import numpy as np\n",
    "from sklearn.model_selection import train_test_split\n",
    "import re\n",
    "%autoreload 2"
   ]
  },
  {
   "cell_type": "code",
   "execution_count": null,
   "id": "c45e802c-cd7b-4e9a-873f-4fdb83c6b142",
   "metadata": {},
   "outputs": [],
   "source": [
    "pd.set_option('display.max_rows', 100)\n",
    "SEED = 42\n",
    "USE_nG = True # creting data only from nG subset"
   ]
  },
  {
   "cell_type": "code",
   "execution_count": null,
   "id": "712dc11c-d9a0-4d12-900b-6ca94edfc3c3",
   "metadata": {},
   "outputs": [],
   "source": [
    "# https://docs.google.com/spreadsheets/d/1MDleLmQ0Nlcg62x95e3xnkc5_j_i4IK_KQEHccDosG8/edit?usp=sharing\n",
    "sheet_id = \"1MDleLmQ0Nlcg62x95e3xnkc5_j_i4IK_KQEHccDosG8\"\n",
    "sheet_name = \"clean\"\n",
    "url = f\"https://docs.google.com/spreadsheets/d/{sheet_id}/gviz/tq?tqx=out:csv&sheet={sheet_name}\""
   ]
  },
  {
   "cell_type": "code",
   "execution_count": null,
   "id": "c7e0a5e7-3157-49ae-ada3-fddd0c6253b9",
   "metadata": {},
   "outputs": [],
   "source": [
    "df = pd.read_csv(url, \n",
    "                 header=0,\n",
    "                 usecols=['patient', 'is_good', 'localization', 'comments'],\n",
    "                 index_col=None, dtype={'patient':str,\n",
    "                                        'is_good':str,\n",
    "                                        'localization':str,\n",
    "                                        'comments':str})\n",
    "\n",
    "if USE_nG:\n",
    "    df = df[df['patient'].apply(lambda x: x[0]=='n' or x[0]=='G')]\n",
    "df_good = df.query('is_good == \"1\"')"
   ]
  },
  {
   "cell_type": "code",
   "execution_count": null,
   "id": "dc10e54f-d543-402e-be70-5a927ef845ad",
   "metadata": {},
   "outputs": [],
   "source": [
    "df_good['localization'].value_counts()"
   ]
  },
  {
   "cell_type": "code",
   "execution_count": null,
   "id": "24c03923-e141-42f1-83bc-2fcb8046c9bd",
   "metadata": {},
   "outputs": [],
   "source": [
    "manual_mapping = {'right tempor occipit':'occipit',\n",
    "                  'left tempor occipit':'occipit',\n",
    "                  'left occipit tempor':'occipit',\n",
    "                  'left occipit':'occipit',\n",
    "                  'right occipit':'occipit',\n",
    "                  'left front tempor':'left tempor'\n",
    "                 }\n",
    "\n",
    "for k,v in manual_mapping.items():\n",
    "    mask = df_good['localization'] == k\n",
    "    df_good.loc[mask, 'localization'] = v"
   ]
  },
  {
   "cell_type": "code",
   "execution_count": null,
   "id": "a6f2dd42-fe89-42f3-b49c-fc1a0f118d7e",
   "metadata": {},
   "outputs": [],
   "source": [
    "df_good['localization'].value_counts()"
   ]
  },
  {
   "cell_type": "code",
   "execution_count": null,
   "id": "ae276a28-50cc-4a30-81d3-7fdbb075b72f",
   "metadata": {},
   "outputs": [],
   "source": [
    "df_train, df_test = train_test_split(df_good, \n",
    "                                     stratify=df_good['localization'],\n",
    "                                     random_state=SEED,\n",
    "                                     test_size=10)"
   ]
  },
  {
   "cell_type": "code",
   "execution_count": null,
   "id": "b06f0d60-a8c8-47de-8b0e-c6d703f0ce0b",
   "metadata": {},
   "outputs": [],
   "source": [
    "df_train.shape, df_test.shape"
   ]
  },
  {
   "cell_type": "code",
   "execution_count": null,
   "id": "e085797a-7b83-4148-923d-ee8cf96f7860",
   "metadata": {},
   "outputs": [],
   "source": [
    "metadata = {'train':df_train['patient'].values,\n",
    "            'test':df_test['patient'].values}\n",
    "np.save('metadata/metadata_fcd_nG.npy', metadata)"
   ]
  },
  {
   "cell_type": "code",
   "execution_count": null,
   "id": "294b5eff-78ec-47e9-ba91-2b16089f1a52",
   "metadata": {},
   "outputs": [],
   "source": []
  }
 ],
 "metadata": {
  "kernelspec": {
   "display_name": "Python 3",
   "language": "python",
   "name": "python3"
  },
  "language_info": {
   "codemirror_mode": {
    "name": "ipython",
    "version": 3
   },
   "file_extension": ".py",
   "mimetype": "text/x-python",
   "name": "python",
   "nbconvert_exporter": "python",
   "pygments_lexer": "ipython3",
   "version": "3.8.12"
  }
 },
 "nbformat": 4,
 "nbformat_minor": 5
}
