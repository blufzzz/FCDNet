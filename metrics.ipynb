{
 "cells": [
  {
   "cell_type": "code",
   "execution_count": null,
   "id": "d4653b04-2edc-41a5-accc-70737b7bfaff",
   "metadata": {},
   "outputs": [],
   "source": [
    "%load_ext autoreload\n",
    "\n",
    "import re, time, os, shutil, json, math\n",
    "import numpy as np\n",
    "import configdot\n",
    "from tqdm import tqdm\n",
    "import monai\n",
    "from monai.data import DataLoader, Dataset, list_data_collate, decollate_batch\n",
    "import nibabel as nib\n",
    "import nilearn\n",
    "from nilearn import plotting\n",
    "from matplotlib.pyplot import figure\n",
    "import matplotlib.pyplot as plt\n",
    "plt.rcParams['font.size'] = 20\n",
    "\n",
    "from collections import defaultdict\n",
    "from IPython.core.debugger import set_trace\n",
    "import pandas as pd\n",
    "from nibabel.freesurfer.io import read_morph_data\n",
    "\n",
    "import torch\n",
    "import torch.nn.functional as F\n",
    "from torch.cuda.amp import autocast\n",
    "import torch.optim as optim\n",
    "from models.v2v import V2VModel\n",
    "\n",
    "from losses import *\n",
    "from dataset import setup_dataloaders, create_datafile, setup_datafiles, setup_transformations\n",
    "from utils import save, get_capacity, calc_gradient_norm, get_label, get_latest_weights\n",
    "\n",
    "\n",
    "from metrics import calculate_metrics\n",
    "\n",
    "import warnings\n",
    "warnings.filterwarnings(\"ignore\")\n",
    "%autoreload 2"
   ]
  },
  {
   "cell_type": "code",
   "execution_count": null,
   "id": "29e843e7-b6fb-4289-b5e2-a567fd289564",
   "metadata": {},
   "outputs": [],
   "source": [
    "sheet_id = \"1MDleLmQ0Nlcg62x95e3xnkc5_j_i4IK_KQEHccDosG8\"\n",
    "sheet_name = \"clean\"\n",
    "url = f\"https://docs.google.com/spreadsheets/d/{sheet_id}/gviz/tq?tqx=out:csv&sheet={sheet_name}\""
   ]
  },
  {
   "cell_type": "code",
   "execution_count": null,
   "id": "5da3f078-1d5c-4df7-9273-bbb48e47692d",
   "metadata": {},
   "outputs": [],
   "source": [
    "pd.set_option('display.max_rows', 100)\n",
    "SEED = 42\n",
    "USE_nG = True"
   ]
  },
  {
   "cell_type": "code",
   "execution_count": null,
   "id": "95e330d9-886c-4019-9bb0-0204902d9e31",
   "metadata": {
    "tags": []
   },
   "outputs": [],
   "source": [
    "df = 0\n",
    "subj_list = []\n",
    "df = pd.read_csv(url, \n",
    "                 header=0,\n",
    "                 usecols=['patient', 'is_good', 'localization', 'comments'],\n",
    "                 index_col=None, dtype={'patient':str,\n",
    "                                        'is_good':str,\n",
    "                                        'localization':str,\n",
    "                                        'comments':str})\n",
    "\n",
    "if USE_nG:\n",
    "    #df = df[df['patient'].apply(lambda x: x[0]!='n' or x[0]!='G')]\n",
    "    df = df[df['patient'].str.contains(r'^[^G|n].*')] # Use only data NOT contain nG\n",
    "    #df = df[df['patient'].str.contains(r'^[G|n].*')] # Use only contain nG\n",
    "df_good = df.query('is_good == \"1\"')"
   ]
  },
  {
   "cell_type": "code",
   "execution_count": null,
   "id": "92ebf055-d514-4a9c-a0e5-67968d89677c",
   "metadata": {
    "tags": []
   },
   "outputs": [],
   "source": [
    "subj_list = df_good['patient'].values.tolist()"
   ]
  },
  {
   "cell_type": "code",
   "execution_count": null,
   "id": "6876de5d-fd6d-45dd-b469-00fd74a80df8",
   "metadata": {
    "tags": []
   },
   "outputs": [],
   "source": [
    "subj_list"
   ]
  },
  {
   "cell_type": "code",
   "execution_count": null,
   "id": "94564d68-dd48-4351-9e05-257df386ae22",
   "metadata": {},
   "outputs": [],
   "source": [
    "meta_dataset = np.load('./metadata/metadata_fcd_nG.npy',allow_pickle=True).item()\n",
    "val_subj_indcs = meta_dataset.get('test')\n",
    "val_subj_indcs"
   ]
  },
  {
   "cell_type": "code",
   "execution_count": null,
   "id": "878a3c55-2144-47fa-9a27-0bf4b875ebba",
   "metadata": {},
   "outputs": [],
   "source": [
    "LOGDIR = '/workspace/RawData/FCDNet/logs/features_comparison/t1_all/'\n",
    "log_dir_iter = os.listdir(LOGDIR)\n",
    "log_dir_iter"
   ]
  },
  {
   "cell_type": "code",
   "execution_count": null,
   "id": "32626da6-10a8-4f9c-8224-a93959854927",
   "metadata": {
    "tags": []
   },
   "outputs": [],
   "source": [
    "import re\n",
    "LOGDIR2 = '/workspace/RawData/FCDNet/logs/features_comparison'\n",
    "\n",
    "iter_dir = ['t1',\n",
    " 't1_all',\n",
    " 't1_blurring-flair',\n",
    " 't1_blurring-t1',\n",
    " 't1_blurring-t2',\n",
    " 't1_cr-flair',\n",
    " 't1_cr-t2',\n",
    " 't1_curv',\n",
    " 't1_entropy',\n",
    " 't1_sulc',\n",
    " 't1_thickness',\n",
    " 't1_variance']\n",
    "\n",
    "for dire in iter_dir:\n",
    "    iter_l = os.path.join(LOGDIR2, dire)\n",
    "    exp_l = os.listdir(iter_l)\n",
    "    print('---------------------------------------')\n",
    "    print(f'Checking {dire}...')\n",
    "    print('---------------------------------------')\n",
    "    for exp in exp_l:\n",
    "        if 'v2v' in exp:\n",
    "            trual_num = exp.split('@')[0][-1]\n",
    "            # path of the \n",
    "            full_path_checkp = os.path.join(iter_l, exp, 'checkpoints')\n",
    "            checkpoints_names = os.listdir(full_path_checkp)\n",
    "            if os.path.exists(full_path_checkp) and len(checkpoints_names) > 0:\n",
    "                checkpoints_names = sorted(checkpoints_names, key=lambda x: int(re.findall('\\d+', x)[0]))\n",
    "                checkpoint = checkpoints_names[-1]\n",
    "                print(f'Chekpoint {checkpoint} found! for {dire} in trial: {trual_num}')\n",
    "            else:\n",
    "                print(f'No checkpoints for {dire} in trial {trual_num}!')"
   ]
  },
  {
   "cell_type": "code",
   "execution_count": null,
   "id": "871993cf-a326-4dbe-9901-c9a81d679217",
   "metadata": {},
   "outputs": [],
   "source": [
    "logname = log_dir_iter[3]\n",
    "logdir = os.path.join(LOGDIR, logname)"
   ]
  },
  {
   "cell_type": "code",
   "execution_count": null,
   "id": "1f0a1a3b-66d0-4595-8cfe-5c51dacf4f4e",
   "metadata": {
    "tags": []
   },
   "outputs": [],
   "source": [
    "config = configdot.parse_config(os.path.join(logdir,'config.ini'))\n",
    "assert config.opt.val_batch_size == 1\n",
    "DEVICE = 'cuda:1' # 'cuda:1' #'' # 'cpu'\n",
    "device = torch.device(DEVICE)\n",
    "\n",
    "#########\n",
    "# MODEL #\n",
    "#########\n",
    "assert config.model.name == \"v2v\"\n",
    "best_model = V2VModel(config).to(device)"
   ]
  },
  {
   "cell_type": "code",
   "execution_count": null,
   "id": "f80edbee-63d2-4d51-860a-8b260eaaf51a",
   "metadata": {
    "tags": []
   },
   "outputs": [],
   "source": [
    "model_dict = torch.load(get_latest_weights(logdir))\n",
    "best_model.load_state_dict(model_dict['model_state'])\n",
    "best_model.eval()"
   ]
  },
  {
   "cell_type": "code",
   "execution_count": null,
   "id": "4c7456c2-b3e8-4fd1-9f0e-d0d4e1aec68c",
   "metadata": {
    "tags": []
   },
   "outputs": [],
   "source": [
    "train_loader, val_loader = setup_dataloaders(config)"
   ]
  },
  {
   "cell_type": "markdown",
   "id": "2003bb51-aad9-436b-b614-77d76ab87aec",
   "metadata": {},
   "source": [
    "### Plot validation set predictions"
   ]
  },
  {
   "cell_type": "code",
   "execution_count": null,
   "id": "24389518-576d-4f82-bd82-6639b372dc8c",
   "metadata": {
    "tags": []
   },
   "outputs": [],
   "source": [
    "dataloader = val_loader\n",
    "\n",
    "brains = {}\n",
    "labels_gt = {}\n",
    "metric_dict = defaultdict(list)\n",
    "label_pred_arr = {}\n",
    "label_gt_arr = {}\n",
    "\n",
    "metric = []\n",
    "\n",
    "with torch.no_grad():\n",
    "\n",
    "    # bs = 1\n",
    "    # brain_tensor - [1,C,H,W,D]\n",
    "    # mask_tensor - [1,1,H,W,D]\n",
    "    # label_tensor - [1,1,H,W,D]\n",
    "    \n",
    "    #######################\n",
    "    # ITERATE OVER BRAINS #\n",
    "    #######################\n",
    "    iterator = enumerate(dataloader)\n",
    "   \n",
    "    \n",
    "    for iter_i, data_tensors in tqdm(iterator):\n",
    "        brain_tensor, label_tensor, mask_tensor = (\n",
    "                                                  data_tensors['image'].to(device),\n",
    "                                                  data_tensors['seg'].to(device),\n",
    "                                                  data_tensors['mask'].to(device)\n",
    "                                                  )\n",
    "\n",
    "        label = get_label(dataloader.dataset.data[iter_i]['seg'])\n",
    "        print(f'Label: {label}')\n",
    "        \n",
    "        # forward pass\n",
    "        label_tensor_forward = best_model(brain_tensor) # -> [1,1,ps,ps,ps]\n",
    "        label_tensor_predicted = label_tensor_forward.to(device)\n",
    "        label_tensor_predicted *= mask_tensor\n",
    "        brains[label] = brain_tensor[0,0].detach().cpu().numpy()\n",
    "        label_pred_arr[label] = label_tensor_predicted[0,0].detach().cpu().numpy()\n",
    "        label_gt_arr[label] = label_tensor[0,0].detach().cpu().numpy()\n",
    "        \n",
    "        Precision, Sensitivity, Specificity, Dice, intensity = calculate_metrics(label_pred_arr[label], label_gt_arr[label])\n",
    "        print(label,'\\n', f'Dice {Dice}\\n', f'Precicion {Precision}\\n', f'Sensitivity {Sensitivity}\\n', f'Specificity {Specificity}')\n",
    "        print(f'Threshold {intensity}')\n",
    "        \n",
    "        #plt.figure(\"image\", (30, 10))\n",
    "        fig = figure(figsize=(12, 5), dpi=100)\n",
    "        \n",
    "        # Plot with intensities thresholded by calculate_metrics function\n",
    "        masked_labels_pred = np.ma.masked_where(label_pred_arr[label] < intensity, label_pred_arr[label])\n",
    "        masked_labels_gt = np.ma.masked_where(label_gt_arr[label] < intensity, label_gt_arr[label])\n",
    "        \n",
    "        #brain_pred = plotting.plot_anat(nib.Nifti1Image(masked_labels_pred, np.eye(4)), bg_img=nib.Nifti1Image(brains[label], np.eye(4)), cut_coords=(4,4,4), cmap='rainbow', alpha=0.5, display_mode='mosaic')\n",
    "        brain_pred = plotting.plot_anat(nib.Nifti1Image(masked_labels_pred, np.eye(4)),\n",
    "                                                        bg_img=nib.Nifti1Image(brains[label], np.eye(4)),\n",
    "                                                        cmap='jet',\n",
    "                                                        alpha=0.8,\n",
    "                                                        figure=fig,\n",
    "                                                        draw_cross=False,\n",
    "                                                        title=f'Subject {label}',\n",
    "                                                        colorbar=True)\n",
    "        brain_pred.add_contours(nib.Nifti1Image(np.where(masked_labels_gt > 0.5,1,0), np.eye(4)), colors='b', levels=[1.0])\n",
    "        plt.show()"
   ]
  },
  {
   "cell_type": "markdown",
   "id": "c9ba8c0d-9d2f-49f2-90e8-a48a5384cc91",
   "metadata": {},
   "source": [
    "### Plot test set predictions"
   ]
  },
  {
   "cell_type": "code",
   "execution_count": null,
   "id": "1c4e93dc-75b0-48ce-956a-e90f5c71b85c",
   "metadata": {
    "tags": []
   },
   "outputs": [],
   "source": [
    "feat_params = config.dataset.features\n",
    "test_files = create_datafile(subj_list, feat_params, mask=True)"
   ]
  },
  {
   "cell_type": "code",
   "execution_count": null,
   "id": "349de16e-debd-4fe4-879e-17666aac3286",
   "metadata": {},
   "outputs": [],
   "source": [
    "_, val_trans =  setup_transformations(config)\n",
    "test_ds = monai.data.Dataset(data=test_files[0], transform=val_trans)\n",
    "test_loader = DataLoader(test_ds, \n",
    "                        batch_size=1, \n",
    "                        num_workers=0, \n",
    "                        collate_fn=list_data_collate,\n",
    "                        shuffle=False # important not to shuffle, to ensure label correspondence\n",
    "                        )\n",
    "check_data = monai.utils.misc.first(test_loader)\n",
    "check_data['seg'].shape, check_data['image'].shape"
   ]
  },
  {
   "cell_type": "code",
   "execution_count": null,
   "id": "5c655bd8-5d30-4f50-ad7d-2709704e69b8",
   "metadata": {},
   "outputs": [],
   "source": [
    "dataloader = test_loader\n",
    "\n",
    "brains = {}\n",
    "labels_gt = {}\n",
    "metric_dict = defaultdict(list)\n",
    "label_pred_arr = {}\n",
    "label_gt_arr = {}\n",
    "\n",
    "metric = []\n",
    "\n",
    "with torch.no_grad():\n",
    "\n",
    "    # bs = 1\n",
    "    # brain_tensor - [1,C,H,W,D]\n",
    "    # mask_tensor - [1,1,H,W,D]\n",
    "    # label_tensor - [1,1,H,W,D]\n",
    "    \n",
    "    #######################\n",
    "    # ITERATE OVER BRAINS #\n",
    "    #######################\n",
    "    iterator = enumerate(dataloader)\n",
    "   \n",
    "    \n",
    "    for iter_i, data_tensors in tqdm(iterator):\n",
    "        brain_tensor, label_tensor, mask_tensor = (\n",
    "                                                  data_tensors['image'].to(device),\n",
    "                                                  data_tensors['seg'].to(device),\n",
    "                                                  data_tensors['mask'].to(device)\n",
    "                                                  )\n",
    "\n",
    "        label = get_label(dataloader.dataset.data[iter_i]['seg'])\n",
    "        print(f'Label: {label}')\n",
    "        \n",
    "        # forward pass\n",
    "        label_tensor_forward = best_model(brain_tensor) # -> [1,1,ps,ps,ps]\n",
    "        label_tensor_predicted = label_tensor_forward.to(device)\n",
    "        label_tensor_predicted *= mask_tensor\n",
    "        brains[label] = brain_tensor[0,0].detach().cpu().numpy()\n",
    "        label_pred_arr[label] = label_tensor_predicted[0,0].detach().cpu().numpy()\n",
    "        label_gt_arr[label] = label_tensor[0,0].detach().cpu().numpy()\n",
    "        \n",
    "        Precision, Sensitivity, Specificity, Dice, intensity = calculate_metrics(label_pred_arr[label], label_gt_arr[label])\n",
    "        print(label, f'Dice {Dice}', f'Precicion {Precision}', f'Sensitivity {Sensitivity}', f'Specificity {Specificity}')\n",
    "        print(f'Threshold {intensity}')\n",
    "        \n",
    "        #plt.figure(\"image\", (30, 10))\n",
    "        fig = figure(figsize=(12, 5), dpi=100)\n",
    "        \n",
    "        # Plot with intensities thresholded by calculate_metrics function\n",
    "        masked_labels_pred = np.ma.masked_where(label_pred_arr[label] < intensity, label_pred_arr[label])\n",
    "        masked_labels_gt = np.ma.masked_where(label_gt_arr[label] < intensity, label_gt_arr[label])\n",
    "        \n",
    "        #brain_pred = plotting.plot_anat(nib.Nifti1Image(masked_labels_pred, np.eye(4)), bg_img=nib.Nifti1Image(brains[label], np.eye(4)), cut_coords=(4,4,4), cmap='rainbow', alpha=0.5, display_mode='mosaic')\n",
    "        brain_pred = plotting.plot_anat(nib.Nifti1Image(masked_labels_pred, np.eye(4)),\n",
    "                                                        bg_img=nib.Nifti1Image(brains[label], np.eye(4)),\n",
    "                                                        cmap='jet',\n",
    "                                                        alpha=0.8,\n",
    "                                                        figure=fig,\n",
    "                                                        draw_cross=False,\n",
    "                                                        title=f'Subject {label}',\n",
    "                                                        colorbar=True)\n",
    "        brain_pred.add_contours(nib.Nifti1Image(np.where(masked_labels_gt > 0.5,1,0), np.eye(4)), colors='b', levels=[1.0])\n",
    "        plt.show()"
   ]
  },
  {
   "cell_type": "code",
   "execution_count": null,
   "id": "24e1dcee-7a10-410f-9a68-ecc4f00eecae",
   "metadata": {},
   "outputs": [],
   "source": []
  }
 ],
 "metadata": {
  "kernelspec": {
   "display_name": "Python 3",
   "language": "python",
   "name": "python3"
  },
  "language_info": {
   "codemirror_mode": {
    "name": "ipython",
    "version": 3
   },
   "file_extension": ".py",
   "mimetype": "text/x-python",
   "name": "python",
   "nbconvert_exporter": "python",
   "pygments_lexer": "ipython3",
   "version": "3.8.12"
  }
 },
 "nbformat": 4,
 "nbformat_minor": 5
}
