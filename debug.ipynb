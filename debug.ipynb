{
 "cells": [
  {
   "cell_type": "code",
   "execution_count": 1,
   "id": "6c9c58c8-3a33-4783-8fd5-638e0df0a964",
   "metadata": {
    "collapsed": true,
    "jupyter": {
     "outputs_hidden": true
    },
    "tags": []
   },
   "outputs": [
    {
     "name": "stdout",
     "output_type": "stream",
     "text": [
      "Collecting easydict==1.9\n",
      "  Downloading easydict-1.9.tar.gz (6.4 kB)\n",
      "  Preparing metadata (setup.py) ... \u001b[?25ldone\n",
      "\u001b[?25hCollecting tensorboardX==2.5.1\n",
      "  Downloading tensorboardX-2.5.1-py2.py3-none-any.whl (125 kB)\n",
      "\u001b[2K     \u001b[90m━━━━━━━━━━━━━━━━━━━━━━━━━━━━━━━━━━━━━━━\u001b[0m \u001b[32m125.4/125.4 kB\u001b[0m \u001b[31m1.5 MB/s\u001b[0m eta \u001b[36m0:00:00\u001b[0ma \u001b[36m0:00:01\u001b[0m\n",
      "\u001b[?25hCollecting configdot\n",
      "  Downloading configdot-0.144-py3-none-any.whl (19 kB)\n",
      "Collecting celluloid==0.2.0\n",
      "  Downloading celluloid-0.2.0-py3-none-any.whl (5.4 kB)\n",
      "Collecting monai==0.9.0\n",
      "  Downloading monai-0.9.0-202206131636-py3-none-any.whl (939 kB)\n",
      "\u001b[2K     \u001b[90m━━━━━━━━━━━━━━━━━━━━━━━━━━━━━━━━━━━━━━━\u001b[0m \u001b[32m939.7/939.7 kB\u001b[0m \u001b[31m8.1 MB/s\u001b[0m eta \u001b[36m0:00:00\u001b[0ma \u001b[36m0:00:01\u001b[0m\n",
      "\u001b[?25hRequirement already satisfied: matplotlib in /root/miniconda3/lib/python3.8/site-packages (from -r ./requirements.txt (line 7)) (3.3.3)\n",
      "Requirement already satisfied: numpy in /root/miniconda3/lib/python3.8/site-packages (from tensorboardX==2.5.1->-r ./requirements.txt (line 2)) (1.19.0)\n",
      "Collecting protobuf<=3.20.1,>=3.8.0\n",
      "  Downloading protobuf-3.20.1-cp38-cp38-manylinux_2_5_x86_64.manylinux1_x86_64.whl (1.0 MB)\n",
      "\u001b[2K     \u001b[90m━━━━━━━━━━━━━━━━━━━━━━━━━━━━━━━━━━━━━━━━\u001b[0m \u001b[32m1.0/1.0 MB\u001b[0m \u001b[31m34.3 MB/s\u001b[0m eta \u001b[36m0:00:00\u001b[0m\n",
      "\u001b[?25hRequirement already satisfied: torch>=1.7 in /root/miniconda3/lib/python3.8/site-packages (from monai==0.9.0->-r ./requirements.txt (line 5)) (1.8.1)\n",
      "Requirement already satisfied: kiwisolver>=1.0.1 in /root/miniconda3/lib/python3.8/site-packages (from matplotlib->-r ./requirements.txt (line 7)) (1.4.3)\n",
      "Requirement already satisfied: pyparsing!=2.0.4,!=2.1.2,!=2.1.6,>=2.0.3 in /root/miniconda3/lib/python3.8/site-packages (from matplotlib->-r ./requirements.txt (line 7)) (3.0.9)\n",
      "Requirement already satisfied: pillow>=6.2.0 in /root/miniconda3/lib/python3.8/site-packages (from matplotlib->-r ./requirements.txt (line 7)) (9.2.0)\n",
      "Requirement already satisfied: cycler>=0.10 in /root/miniconda3/lib/python3.8/site-packages (from matplotlib->-r ./requirements.txt (line 7)) (0.11.0)\n",
      "Requirement already satisfied: python-dateutil>=2.1 in /root/miniconda3/lib/python3.8/site-packages (from matplotlib->-r ./requirements.txt (line 7)) (2.8.2)\n",
      "Requirement already satisfied: six>=1.5 in /root/miniconda3/lib/python3.8/site-packages (from python-dateutil>=2.1->matplotlib->-r ./requirements.txt (line 7)) (1.16.0)\n",
      "Requirement already satisfied: typing-extensions in /root/miniconda3/lib/python3.8/site-packages (from torch>=1.7->monai==0.9.0->-r ./requirements.txt (line 5)) (4.3.0)\n",
      "Building wheels for collected packages: easydict\n",
      "  Building wheel for easydict (setup.py) ... \u001b[?25ldone\n",
      "\u001b[?25h  Created wheel for easydict: filename=easydict-1.9-py3-none-any.whl size=6361 sha256=a5a9eeaaaafe2daa96f1c112d055896b3c2ede7a1131091740c9c886f715a96e\n",
      "  Stored in directory: /root/.cache/pip/wheels/d3/e0/e9/305e348717e399665119bd012510d51ff4f22d709ff60c3096\n",
      "Successfully built easydict\n",
      "Installing collected packages: easydict, configdot, protobuf, tensorboardX, monai, celluloid\n",
      "  Attempting uninstall: monai\n",
      "    Found existing installation: monai 0.8.1\n",
      "    Uninstalling monai-0.8.1:\n",
      "      Successfully uninstalled monai-0.8.1\n",
      "Successfully installed celluloid-0.2.0 configdot-0.144 easydict-1.9 monai-0.9.0 protobuf-3.20.1 tensorboardX-2.5.1\n",
      "\u001b[33mWARNING: Running pip as the 'root' user can result in broken permissions and conflicting behaviour with the system package manager. It is recommended to use a virtual environment instead: https://pip.pypa.io/warnings/venv\u001b[0m\u001b[33m\n",
      "\u001b[0m"
     ]
    }
   ],
   "source": [
    "!pip install -r ./requirements.txt"
   ]
  },
  {
   "cell_type": "code",
   "execution_count": 2,
   "id": "8bd6d1b8-7e81-428a-b562-c494c7ee3f8b",
   "metadata": {
    "collapsed": true,
    "jupyter": {
     "outputs_hidden": true
    },
    "tags": []
   },
   "outputs": [
    {
     "name": "stdout",
     "output_type": "stream",
     "text": [
      "Looking in indexes: https://pypi.org/simple, https://download.pytorch.org/whl/cu113\n",
      "Requirement already satisfied: torch in /root/miniconda3/lib/python3.8/site-packages (1.8.1)\n",
      "Collecting torchvision\n",
      "  Downloading https://download.pytorch.org/whl/cu113/torchvision-0.13.0%2Bcu113-cp38-cp38-linux_x86_64.whl (23.4 MB)\n",
      "\u001b[2K     \u001b[90m━━━━━━━━━━━━━━━━━━━━━━━━━━━━━━━━━━━━━━━━\u001b[0m \u001b[32m23.4/23.4 MB\u001b[0m \u001b[31m32.7 MB/s\u001b[0m eta \u001b[36m0:00:00\u001b[0m00:01\u001b[0m00:01\u001b[0m\n",
      "\u001b[?25hCollecting torchaudio\n",
      "  Downloading https://download.pytorch.org/whl/cu113/torchaudio-0.12.0%2Bcu113-cp38-cp38-linux_x86_64.whl (3.8 MB)\n",
      "\u001b[2K     \u001b[90m━━━━━━━━━━━━━━━━━━━━━━━━━━━━━━━━━━━━━━━━\u001b[0m \u001b[32m3.8/3.8 MB\u001b[0m \u001b[31m51.1 MB/s\u001b[0m eta \u001b[36m0:00:00\u001b[0m00:01\u001b[0m00:01\u001b[0m\n",
      "\u001b[?25hRequirement already satisfied: numpy in /root/miniconda3/lib/python3.8/site-packages (from torch) (1.19.0)\n",
      "Requirement already satisfied: typing-extensions in /root/miniconda3/lib/python3.8/site-packages (from torch) (4.3.0)\n",
      "Requirement already satisfied: pillow!=8.3.*,>=5.3.0 in /root/miniconda3/lib/python3.8/site-packages (from torchvision) (9.2.0)\n",
      "Requirement already satisfied: requests in /root/miniconda3/lib/python3.8/site-packages (from torchvision) (2.27.1)\n",
      "Collecting torch\n",
      "  Downloading https://download.pytorch.org/whl/cu113/torch-1.12.0%2Bcu113-cp38-cp38-linux_x86_64.whl (1837.6 MB)\n",
      "\u001b[2K     \u001b[90m━━━━━━━━━━━━━━━━━━━━━━━━━━━━━━━━━━━━━━━━\u001b[0m \u001b[32m1.8/1.8 GB\u001b[0m \u001b[31m1.4 MB/s\u001b[0m eta \u001b[36m0:00:00\u001b[0m:00:01\u001b[0mm0:01\u001b[0mm\n",
      "\u001b[?25hRequirement already satisfied: charset-normalizer~=2.0.0 in /root/miniconda3/lib/python3.8/site-packages (from requests->torchvision) (2.0.4)\n",
      "Requirement already satisfied: certifi>=2017.4.17 in /root/miniconda3/lib/python3.8/site-packages (from requests->torchvision) (2022.6.15)\n",
      "Requirement already satisfied: urllib3<1.27,>=1.21.1 in /root/miniconda3/lib/python3.8/site-packages (from requests->torchvision) (1.26.7)\n",
      "Requirement already satisfied: idna<4,>=2.5 in /root/miniconda3/lib/python3.8/site-packages (from requests->torchvision) (3.3)\n",
      "Installing collected packages: torch, torchvision, torchaudio\n",
      "  Attempting uninstall: torch\n",
      "    Found existing installation: torch 1.8.1\n",
      "    Uninstalling torch-1.8.1:\n",
      "      Successfully uninstalled torch-1.8.1\n",
      "Successfully installed torch-1.12.0+cu113 torchaudio-0.12.0+cu113 torchvision-0.13.0+cu113\n",
      "\u001b[33mWARNING: Running pip as the 'root' user can result in broken permissions and conflicting behaviour with the system package manager. It is recommended to use a virtual environment instead: https://pip.pypa.io/warnings/venv\u001b[0m\u001b[33m\n",
      "\u001b[0m"
     ]
    }
   ],
   "source": [
    "# For nebula torch installation for A100\n",
    "!pip3 install torch torchvision torchaudio --extra-index-url https://download.pytorch.org/whl/cu113"
   ]
  },
  {
   "cell_type": "code",
   "execution_count": 1,
   "id": "e89e83d1-3a73-483e-898e-2d3e66bf0762",
   "metadata": {},
   "outputs": [],
   "source": [
    "%load_ext autoreload\n",
    "import re, time, os, shutil, json\n",
    "from easydict import EasyDict as edict\n",
    "import matplotlib.pyplot as plt\n",
    "import numpy as np\n",
    "import nibabel as nib\n",
    "from PIL import Image\n",
    "from monai.data import list_data_collate\n",
    "import tempfile\n",
    "import monai\n",
    "from monai.data import DataLoader, Dataset \n",
    "from monai.transforms.intensity.array import ScaleIntensity\n",
    "from monai.transforms import (\n",
    "    LoadImage, EnsureChannelFirst, Spacing,\n",
    "    RandFlip, Resize, EnsureType,\n",
    "    LoadImaged, EnsureChannelFirstd,\n",
    "    Resized, EnsureTyped, Compose, ScaleIntensityd, \n",
    "    AddChanneld, MapTransform, AsChannelFirstd, EnsureType, \n",
    "    Activations, AsDiscrete, RandCropByPosNegLabeld, \n",
    "    RandRotate90d, LabelToMaskd, RandFlipd, RandRotated, Spacingd, RandAffined,\n",
    "    RandShiftIntensityd, Lambdad, MaskIntensityd\n",
    ")\n",
    "from utils import get_label\n",
    "\n",
    "from dataset import setup_dataloaders, setup_datafiles\n",
    "\n",
    "import configdot\n",
    "import torch\n",
    "from monai.config import print_config\n",
    "%autoreload 2"
   ]
  },
  {
   "cell_type": "code",
   "execution_count": 2,
   "id": "3520904f-b42f-422e-8a6e-243cca291ad2",
   "metadata": {},
   "outputs": [],
   "source": [
    "!mkdir -p ./MONAI_TMP"
   ]
  },
  {
   "cell_type": "code",
   "execution_count": 3,
   "id": "0a7eb035-ffe1-463f-abff-34241f6864b7",
   "metadata": {},
   "outputs": [
    {
     "name": "stdout",
     "output_type": "stream",
     "text": [
      "./MONAI_TMP\n"
     ]
    }
   ],
   "source": [
    "os.environ['MONAI_DATA_DIRECTORY'] = \"./MONAI_TMP\"\n",
    "directory = os.environ.get(\"MONAI_DATA_DIRECTORY\")\n",
    "root_dir = tempfile.mkdtemp() if directory is None else directory\n",
    "print(root_dir)"
   ]
  },
  {
   "cell_type": "markdown",
   "id": "539f31b5-16de-4438-a5fc-ff1ce27ee11a",
   "metadata": {},
   "source": [
    "# Create dataset"
   ]
  },
  {
   "cell_type": "code",
   "execution_count": 4,
   "id": "540078bf-f097-46f4-b4e5-826115eebb4e",
   "metadata": {},
   "outputs": [],
   "source": [
    "config = configdot.parse_config('configs/config.ini')"
   ]
  },
  {
   "cell_type": "code",
   "execution_count": 5,
   "id": "e13c53e4-59df-4b79-89c8-23166ec7c412",
   "metadata": {},
   "outputs": [
    {
     "name": "stdout",
     "output_type": "stream",
     "text": [
      "True\n",
      "Setting GPU#: 0\n",
      "Using GPU#: 0\n"
     ]
    }
   ],
   "source": [
    "print(torch.cuda.is_available())\n",
    "DEVICE = config.opt.device if hasattr(config.opt, \"device\") else 0\n",
    "#DEVICE=0\n",
    "device = torch.device(DEVICE)\n",
    "torch.cuda.set_device(DEVICE)\n",
    "\n",
    "print('Setting GPU#:', DEVICE)\n",
    "print('Using GPU#:', torch.cuda.current_device())"
   ]
  },
  {
   "cell_type": "markdown",
   "id": "b837f201-4a8d-41ea-a1fa-ba5bf584ab29",
   "metadata": {},
   "source": [
    "### Loading train-test split\n"
   ]
  },
  {
   "cell_type": "code",
   "execution_count": 6,
   "id": "f76bed8a-43d3-41ff-9d52-4d13bf47ada5",
   "metadata": {},
   "outputs": [],
   "source": [
    "import numpy as np\n",
    "subjects_list = np.load('./metadata/metadata_fcd_nG.npy', allow_pickle=True).item()"
   ]
  },
  {
   "cell_type": "code",
   "execution_count": 7,
   "id": "e7008e09-e390-4491-a322-88527ec9e263",
   "metadata": {},
   "outputs": [
    {
     "data": {
      "text/plain": [
       "{'train': array(['n80', 'n27', 'n53', 'n66', 'n71', 'n15', 'n46', 'n14', 'n30',\n",
       "        'n77', 'n87', 'n69', 'n67', 'n60', 'n65', 'n33', 'n61', 'G368',\n",
       "        'n84', 'n54', 'n64', 'n57', 'n45', 'G180', 'G324', 'n68', 'n81',\n",
       "        'n12', 'n48', 'n82', 'n76', 'n42', 'n55', 'n3', 'n5', 'G044',\n",
       "        'n44', 'n70', 'n47', 'G294', 'n20', 'G417', 'n78', 'n37', 'n8',\n",
       "        'n43', 'n74', 'n31', 'n13', 'G061', 'G081', 'n35', 'n73', 'n24',\n",
       "        'n36', 'n18', 'n59', 'n49', 'n39', 'n32', 'n88', 'n22', 'n17',\n",
       "        'n56', 'n62', 'n11', 'n26', 'n10', 'n28', 'n79', 'n40', 'n21',\n",
       "        'G133', 'n75', 'n25', 'n9', 'n38', 'n2', 'G507', 'n72'],\n",
       "       dtype=object),\n",
       " 'test': array(['n51', 'n29', 'n41', 'G256', 'n58', 'G258', 'n50', 'n23', 'n83',\n",
       "        'G414'], dtype=object)}"
      ]
     },
     "execution_count": 7,
     "metadata": {},
     "output_type": "execute_result"
    }
   ],
   "source": [
    "subjects_list"
   ]
  },
  {
   "cell_type": "code",
   "execution_count": 8,
   "id": "54c8fed0-0afd-4d7f-98d2-393c8e6e004a",
   "metadata": {},
   "outputs": [
    {
     "name": "stdout",
     "output_type": "stream",
     "text": [
      "80 10\n"
     ]
    }
   ],
   "source": [
    "train_list = subjects_list.get('train')\n",
    "val_list = subjects_list.get('test')\n",
    "\n",
    "feat_params = config.dataset.features\n",
    "\n",
    "print(len(train_list), len(val_list))"
   ]
  },
  {
   "cell_type": "code",
   "execution_count": 9,
   "id": "2b27563e-d6ec-4b31-a8d3-dda524db1cf0",
   "metadata": {},
   "outputs": [
    {
     "data": {
      "text/plain": [
       "['image', 'thickness']"
      ]
     },
     "execution_count": 9,
     "metadata": {},
     "output_type": "execute_result"
    }
   ],
   "source": [
    "feat_params"
   ]
  },
  {
   "cell_type": "code",
   "execution_count": 10,
   "id": "7c692f90-0580-40c9-881b-8f5e5b6672f6",
   "metadata": {},
   "outputs": [
    {
     "name": "stdout",
     "output_type": "stream",
     "text": [
      "Train set length: 80\n",
      "Test set length: 10\n",
      "Train set length: 80\n",
      "Test set length: 10\n"
     ]
    }
   ],
   "source": [
    "train_loader, val_loader = setup_dataloaders(config)\n",
    "train_files, val_files = setup_datafiles(subjects_list, config)"
   ]
  },
  {
   "cell_type": "markdown",
   "id": "c183016e-18fc-4104-87c7-a822c66241e3",
   "metadata": {},
   "source": [
    "### Transformation and Augmentation"
   ]
  },
  {
   "cell_type": "code",
   "execution_count": 12,
   "id": "cc144038-1fe9-4b55-8f10-2763c99c9c6e",
   "metadata": {},
   "outputs": [],
   "source": [
    "assert config.default.interpolate\n",
    "spatial_size_conf = tuple(config.default.interpolation_size)\n",
    "#masked = config.dataset.trim_background\n",
    "masked = True\n",
    "\n",
    "def masked_transform(data_dict):\n",
    "    data_dict[\"image\"] = data_dict[\"image\"] * data_dict[\"mask\"]\n",
    "    return data_dict\n",
    "\n",
    "if masked:\n",
    "    keys=[\"image\", \"seg\", \"mask\"]\n",
    "    sep_k=[\"seg\", \"mask\"]\n",
    "else:\n",
    "    keys=[\"image\", \"seg\"]\n",
    "    sep_k=[\"seg\"]\n",
    "\n",
    "if config.opt.augmentation:\n",
    "    rot_range = config.opt.rotation_range\n",
    "\n",
    "    train_transf = Compose(\n",
    "        [\n",
    "            LoadImaged(keys=keys),\n",
    "            EnsureChannelFirstd(keys=keys),\n",
    "            RandRotated(keys=keys, \n",
    "                        #range_x=rot_range, \n",
    "                        #range_y=0.4, \n",
    "                        range_z=0.8, \n",
    "                        prob=1),\n",
    "            RandFlipd(keys=keys, prob=0.5, spatial_axis=0),\n",
    "            Spacingd(keys=sep_k, pixdim=1.0),\n",
    "            Resized(keys=keys, spatial_size=spatial_size_conf),\n",
    "            ScaleIntensityd(keys=[\"image\"], minv=0.0, maxv=1.0, channel_wise=True),\n",
    "            masked_transform,\n",
    "            EnsureTyped(keys=keys, dtype=torch.float),\n",
    "        ]\n",
    "    )\n",
    "\n",
    "    val_transf = Compose(\n",
    "        [\n",
    "                LoadImaged(keys=keys),\n",
    "                EnsureChannelFirstd(keys=keys),\n",
    "                Spacingd(keys=sep_k, pixdim=1.0),\n",
    "                Resized(keys=keys, spatial_size=spatial_size_conf),\n",
    "                ScaleIntensityd(keys=[\"image\"], minv=0.0, maxv=1.0, channel_wise=True),\n",
    "                masked_transform,\n",
    "                EnsureTyped(keys=keys, dtype=torch.float),\n",
    "            ]\n",
    "    )\n",
    "    \n",
    "else:\n",
    "    raise NotImplementedError"
   ]
  },
  {
   "cell_type": "markdown",
   "id": "e38cb2c8-b652-4947-ab74-1e21a2b96fda",
   "metadata": {},
   "source": [
    "### Visualization"
   ]
  },
  {
   "cell_type": "code",
   "execution_count": 13,
   "id": "c266806b-b89f-42fb-895b-c598140f7051",
   "metadata": {},
   "outputs": [],
   "source": [
    "def get_label(path):\n",
    "    '''\n",
    "    Extracts label from path, e.g.:\n",
    "    '/workspace/RawData/Features/preprocessed_data/label_bernaskoni/n16.nii.gz' -> 'n16'\n",
    "    '''\n",
    "    return path.split('/')[-1].split('.')[0]"
   ]
  },
  {
   "cell_type": "code",
   "execution_count": 14,
   "id": "1ae2a423-3a8e-4f38-a71d-717f3a2e9c66",
   "metadata": {},
   "outputs": [],
   "source": [
    "check_batch_size = 2\n",
    "check_dataset = Dataset(data=train_files, transform=train_transf)\n",
    "check_loader = DataLoader(check_dataset, \n",
    "                          batch_size=check_batch_size, \n",
    "                          num_workers=0, \n",
    "                          collate_fn=list_data_collate, \n",
    "                          pin_memory=torch.cuda.is_available(),\n",
    "                          shuffle=False\n",
    "                          )\n",
    "\n",
    "#check_data = monai.utils.misc.first(check_loader)\n",
    "check_data = monai.utils.misc.first(train_loader)"
   ]
  },
  {
   "cell_type": "code",
   "execution_count": 15,
   "id": "117c9867-0c53-4340-ad5f-7ee157a9b918",
   "metadata": {},
   "outputs": [
    {
     "name": "stdout",
     "output_type": "stream",
     "text": [
      "torch.Size([2, 2, 128, 128, 128]) torch.Size([2, 1, 128, 128, 128]) torch.Size([2, 1, 128, 128, 128]) 2\n"
     ]
    }
   ],
   "source": [
    "print(check_data[\"image\"].shape, check_data[\"seg\"].shape, check_data[\"mask\"].shape, len(feat_params))"
   ]
  },
  {
   "cell_type": "code",
   "execution_count": 16,
   "id": "bf2388de-9d15-4f3c-9678-86288e1da8db",
   "metadata": {},
   "outputs": [
    {
     "data": {
      "text/plain": [
       "['image', 'thickness']"
      ]
     },
     "execution_count": 16,
     "metadata": {},
     "output_type": "execute_result"
    }
   ],
   "source": [
    "feat_params"
   ]
  },
  {
   "cell_type": "code",
   "execution_count": 23,
   "id": "8b750b09-057c-4c88-8208-4f3707f7b820",
   "metadata": {
    "tags": []
   },
   "outputs": [
    {
     "name": "stdout",
     "output_type": "stream",
     "text": [
      "image shape: torch.Size([2, 128, 128, 128])\n"
     ]
    },
    {
     "data": {
      "image/png": "[encoded data removed]",
      "text/plain": [
       "<Figure size 2000x1000 with 2 Axes>"
      ]
     },
     "metadata": {
      "needs_background": "light"
     },
     "output_type": "display_data"
    },
    {
     "name": "stdout",
     "output_type": "stream",
     "text": [
      "image shape: torch.Size([2, 128, 128, 128])\n"
     ]
    },
    {
     "data": {
      "image/png": "[encoded data removed]",
      "text/plain": [
       "<Figure size 2000x1000 with 2 Axes>"
      ]
     },
     "metadata": {
      "needs_background": "light"
     },
     "output_type": "display_data"
    }
   ],
   "source": [
    "for k in range(check_batch_size):\n",
    "    \n",
    "    image = check_data['image'][k]\n",
    "    seg = check_data['seg'][k]\n",
    "    mask = check_data['mask'][k]\n",
    "    label = get_label(check_dataset.data[k]['seg'])\n",
    "    \n",
    "    print(f\"image shape: {image.shape}\")\n",
    "    \n",
    "    num_of_channels = len(feat_params)\n",
    "    # choose z-coord where there is a label maximum over other axes\n",
    "    label_pos = (seg > 0).sum(dim=(0,1,2)).argmax().item()\n",
    "    \n",
    "    #mask = image[:1,...] <= 0 # `background mask\n",
    "    \n",
    "    torch.sum(mask * image, dim=(-1,-2,-3)).type(torch.int) > 1\n",
    "\n",
    "    fig = plt.figure(\"image\", (10, 5), dpi=200)\n",
    "    plt.subplot(1, 1, 1)\n",
    "    #plt.title(f\"{feat_params[i]}\")\n",
    "    plt.imshow(image[0,:,:,label_pos], cmap='gray')\n",
    "    #plt.imshow(mask[0,:,:,label_pos], alpha=0.3)\n",
    "    plt.imshow(seg[0,:,:,label_pos], alpha=0.1, cmap='Reds')\n",
    "    plt.colorbar()\n",
    "    plt.xticks([])\n",
    "    plt.yticks([])\n",
    "        \n",
    "    fig.suptitle(label, fontsize=20, color='blue')\n",
    "    # plt.tight_layout()\n",
    "    plt.show()\n",
    "    if k > 2:\n",
    "        break"
   ]
  },
  {
   "cell_type": "code",
   "execution_count": 91,
   "id": "6ec1746d-1ed6-4b48-9f2e-576ac864bdf0",
   "metadata": {},
   "outputs": [
    {
     "data": {
      "text/plain": [
       "array(['image', 't2', 'flair', 'blurring-t1', 'blurring-t1',\n",
       "       'blurring-t2', 'blurring-Flair', 'cr-t2', 'cr-Flair', 'thickness',\n",
       "       'curv', 'sulc', 'variance', 'entropy'], dtype='<U14')"
      ]
     },
     "execution_count": 91,
     "metadata": {},
     "output_type": "execute_result"
    }
   ],
   "source": [
    "np.array(feat_params)[torch.sum(mask * image, dim=(-1,-2,-3)).type(torch.int) > 1]"
   ]
  },
  {
   "cell_type": "code",
   "execution_count": 92,
   "id": "36d8239c-7417-4934-9a46-721bc0c8f951",
   "metadata": {},
   "outputs": [
    {
     "data": {
      "text/plain": [
       "['image',\n",
       " 't2',\n",
       " 'flair',\n",
       " 'blurring-t1',\n",
       " 'blurring-t1',\n",
       " 'blurring-t2',\n",
       " 'blurring-Flair',\n",
       " 'cr-t2',\n",
       " 'cr-Flair',\n",
       " 'thickness',\n",
       " 'curv',\n",
       " 'sulc',\n",
       " 'variance',\n",
       " 'entropy']"
      ]
     },
     "execution_count": 92,
     "metadata": {},
     "output_type": "execute_result"
    }
   ],
   "source": [
    "feat_params"
   ]
  },
  {
   "cell_type": "code",
   "execution_count": null,
   "id": "c42c7e9d-4947-4363-9047-1f2ce9604882",
   "metadata": {},
   "outputs": [],
   "source": [
    "image[-2,:,:,label_pos]"
   ]
  },
  {
   "cell_type": "code",
   "execution_count": null,
   "id": "f70d342e-1ade-4b74-bb16-0107a37abbcc",
   "metadata": {
    "tags": []
   },
   "outputs": [],
   "source": [
    "for k in range(check_batch_size):\n",
    "    \n",
    "    image = check_data['image'][k]\n",
    "    seg = check_data['seg'][k]\n",
    "    label = get_label(check_dataset.data[k]['seg'])\n",
    "    \n",
    "    print(f\"image shape: {image.shape}\")\n",
    "    \n",
    "    num_of_channels = len(feat_params)\n",
    "    # choose z-coord where there is a label maximum over other axes\n",
    "    label_pos = (seg > 0).sum(dim=(0,1,2)).argmax().item()\n",
    "    \n",
    "    mask = image[:1,...] <= 0 # `background mask\n",
    "    torch.sum(mask * image, dim=(-1,-2,-3)).type(torch.int) > 1\n",
    "\n",
    "    fig = plt.figure(\"image\", (5, 5), dpi=200)\n",
    "    \n",
    "    plt.subplot(1, 1, 1)\n",
    "    image_bin = image[-2,:,:,label_pos] > 0\n",
    "    plt.imshow(image_bin, cmap='gray')\n",
    "    plt.colorbar()\n",
    "    #plt.title(f\"{feat_params[i]}, {image_bin.sum()}\")\n",
    "    # plt.imshow(seg[0,:,:,label_pos], interpolation='none', cmap='Reds', alpha=0.3)\n",
    "    # plt.imshow(seg[0,:,:,label_pos], interpolation='none', cmap='Reds', alpha=0.3)\n",
    "    plt.xticks([])\n",
    "    plt.yticks([])\n",
    "        \n",
    "    fig.suptitle(label, fontsize=20, color='blue')\n",
    "    # plt.tight_layout()\n",
    "    plt.show()"
   ]
  },
  {
   "cell_type": "code",
   "execution_count": null,
   "id": "a6702ed1-f77a-4fa3-b17b-b9df6ed3c449",
   "metadata": {
    "tags": []
   },
   "outputs": [],
   "source": [
    "# figures_per_row = 6 # for visualization\n",
    "# for k in range(check_batch_size):\n",
    "    \n",
    "#     image = check_data['image'][k]\n",
    "#     seg = check_data['seg'][k]\n",
    "#     label = get_label(check_dataset.data[k]['seg'])\n",
    "    \n",
    "#     print(f\"image shape: {image.shape}\")\n",
    "    \n",
    "#     num_of_channels = len(feat_params)\n",
    "#     # choose z-coord where there is a label maximum over other axes\n",
    "#     label_pos = (seg > 0).sum(dim=(0,1,2)).argmax().item()\n",
    "    \n",
    "#     mask = image[:1,...] <= 0 # `background mask\n",
    "#     torch.sum(mask * image, dim=(-1,-2,-3)).type(torch.int) > 1\n",
    "\n",
    "#     fig = plt.figure(\"image\", (len(feat_params), 5), dpi=200)\n",
    "#     for i in range(num_of_channels):\n",
    "#         nrows = int(np.ceil(num_of_channels/figures_per_row))\n",
    "#         cols = num_of_channels%figures_per_row\n",
    "#         plt.subplot(nrows, figures_per_row, i+1)\n",
    "#         plt.title(f\"{feat_params[i]}\")\n",
    "#         plt.imshow(image[i,:,:,label_pos] > 0, cmap=\"gray\")\n",
    "#         # plt.imshow(seg[0,:,:,label_pos], interpolation='none', cmap='Reds', alpha=0.3)\n",
    "#         # plt.imshow(seg[0,:,:,label_pos], interpolation='none', cmap='Reds', alpha=0.3)\n",
    "#         plt.xticks([])\n",
    "#         plt.yticks([])\n",
    "        \n",
    "#     fig.suptitle(label, fontsize=20, color='blue')\n",
    "#     # plt.tight_layout()\n",
    "#     plt.show()"
   ]
  },
  {
   "cell_type": "markdown",
   "id": "27540a85-2e83-46c2-9e55-430ceebde584",
   "metadata": {},
   "source": [
    "# Setup dataloaders"
   ]
  },
  {
   "cell_type": "code",
   "execution_count": null,
   "id": "ef6e33c9-6ebf-4bfe-8ea7-8e9dc0c05f24",
   "metadata": {},
   "outputs": [],
   "source": [
    "# training dataset\n",
    "train_ds = monai.data.Dataset(data=train_files, transform=train_transf)\n",
    "train_loader = DataLoader(\n",
    "    train_ds,\n",
    "    batch_size=config.opt.train_batch_size,\n",
    "    shuffle=True,\n",
    "    num_workers=0,\n",
    "    collate_fn=list_data_collate,\n",
    "    pin_memory=torch.cuda.is_available(),\n",
    ")\n",
    "\n",
    "# validation dataset\n",
    "val_ds = monai.data.Dataset(data=val_files, transform=val_transf)\n",
    "val_loader = DataLoader(val_ds, \n",
    "                        batch_size=config.opt.val_batch_size, \n",
    "                        num_workers=0, \n",
    "                        collate_fn=list_data_collate,\n",
    "                        shuffle=False # important not to shuffle, to ensure label correspondence\n",
    "                        )"
   ]
  },
  {
   "cell_type": "markdown",
   "id": "75c72616-6e3d-4826-acc2-f18366c30015",
   "metadata": {},
   "source": [
    "### Before augmentation"
   ]
  },
  {
   "cell_type": "code",
   "execution_count": null,
   "id": "e6696015-1f36-4891-ae24-f21ed945ba1b",
   "metadata": {},
   "outputs": [],
   "source": [
    "# from nilearn.plotting import plot_img\n",
    "# ind = 0\n",
    "# plot_img = plot_img(train_files[ind]['seg'],\n",
    "#          bg_img=train_files[ind]['image'][0],\n",
    "#          threshold=0.1, alpha=0.5, display_mode='z')\n",
    "# plot_img\n",
    "# print(plot_img.cut_coords) # get coordinate of z where lesion center mass"
   ]
  },
  {
   "cell_type": "markdown",
   "id": "5d160840-ff55-4835-b80b-b66c30afa611",
   "metadata": {},
   "source": [
    "### After augmentation"
   ]
  },
  {
   "cell_type": "code",
   "execution_count": null,
   "id": "a5333f2d-43ef-486a-9363-afd26b476513",
   "metadata": {},
   "outputs": [],
   "source": [
    "ind=0\n",
    "plt.figure(figsize=(30,30))\n",
    "for i in range(7):\n",
    "    plt.subplot(1, 10, i+1)\n",
    "    item = check_loader.dataset[ind]\n",
    "    image, seg, mask = (item[\"image\"], item[\"seg\"], item[\"mask\"])\n",
    "    label_pos = (seg > 0).sum(dim=(0,1,2)).argmax().item()\n",
    "    plt.imshow(np.rot90(image[0,:, :, label_pos]), cmap='gray')\n",
    "    plt.imshow(np.rot90(seg[0,:, :, label_pos]), cmap=\"Reds\", alpha=0.4)\n",
    "    plt.imshow(np.rot90(mask[0,:, :, label_pos]), cmap=\"Greens\", alpha=0.6)\n",
    "    plt.title(\"seg overlay\")\n",
    "plt.show()"
   ]
  },
  {
   "cell_type": "code",
   "execution_count": null,
   "id": "5077a7de-5680-44b2-9690-004266df9ca4",
   "metadata": {},
   "outputs": [],
   "source": []
  }
 ],
 "metadata": {
  "kernelspec": {
   "display_name": "Python 3",
   "language": "python",
   "name": "python3"
  },
  "language_info": {
   "codemirror_mode": {
    "name": "ipython",
    "version": 3
   },
   "file_extension": ".py",
   "mimetype": "text/x-python",
   "name": "python",
   "nbconvert_exporter": "python",
   "pygments_lexer": "ipython3",
   "version": "3.8.12"
  }
 },
 "nbformat": 4,
 "nbformat_minor": 5
}
