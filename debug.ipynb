{
 "cells": [
  {
   "cell_type": "code",
   "execution_count": 2,
   "id": "6c9c58c8-3a33-4783-8fd5-638e0df0a964",
   "metadata": {
    "tags": []
   },
   "outputs": [
    {
     "name": "stdout",
     "output_type": "stream",
     "text": [
      "Requirement already satisfied: easydict==1.9 in /root/miniconda3/lib/python3.8/site-packages (from -r ./requirements.txt (line 1)) (1.9)\n",
      "Requirement already satisfied: tensorboardX==2.5.1 in /root/miniconda3/lib/python3.8/site-packages (from -r ./requirements.txt (line 2)) (2.5.1)\n",
      "Collecting configdot\n",
      "  Downloading configdot-0.144-py3-none-any.whl (19 kB)\n",
      "Requirement already satisfied: celluloid==0.2.0 in /root/miniconda3/lib/python3.8/site-packages (from -r ./requirements.txt (line 4)) (0.2.0)\n",
      "Collecting monai==0.9.0\n",
      "  Downloading monai-0.9.0-202206131636-py3-none-any.whl (939 kB)\n",
      "\u001b[2K     \u001b[90m━━━━━━━━━━━━━━━━━━━━━━━━━━━━━━━━━━━━━━━\u001b[0m \u001b[32m939.7/939.7 kB\u001b[0m \u001b[31m5.4 MB/s\u001b[0m eta \u001b[36m0:00:00\u001b[0ma \u001b[36m0:00:01\u001b[0m\n",
      "\u001b[?25hRequirement already satisfied: torch==1.8.1 in /root/miniconda3/lib/python3.8/site-packages (from -r ./requirements.txt (line 6)) (1.8.1)\n",
      "Requirement already satisfied: matplotlib in /root/miniconda3/lib/python3.8/site-packages (from -r ./requirements.txt (line 7)) (3.3.3)\n",
      "Requirement already satisfied: protobuf<=3.20.1,>=3.8.0 in /root/miniconda3/lib/python3.8/site-packages (from tensorboardX==2.5.1->-r ./requirements.txt (line 2)) (3.20.1)\n",
      "Requirement already satisfied: numpy in /root/miniconda3/lib/python3.8/site-packages (from tensorboardX==2.5.1->-r ./requirements.txt (line 2)) (1.19.0)\n",
      "Requirement already satisfied: typing-extensions in /root/miniconda3/lib/python3.8/site-packages (from torch==1.8.1->-r ./requirements.txt (line 6)) (4.2.0)\n",
      "Requirement already satisfied: cycler>=0.10 in /root/miniconda3/lib/python3.8/site-packages (from matplotlib->-r ./requirements.txt (line 7)) (0.11.0)\n",
      "Requirement already satisfied: pyparsing!=2.0.4,!=2.1.2,!=2.1.6,>=2.0.3 in /root/miniconda3/lib/python3.8/site-packages (from matplotlib->-r ./requirements.txt (line 7)) (3.0.9)\n",
      "Requirement already satisfied: python-dateutil>=2.1 in /root/miniconda3/lib/python3.8/site-packages (from matplotlib->-r ./requirements.txt (line 7)) (2.8.2)\n",
      "Requirement already satisfied: kiwisolver>=1.0.1 in /root/miniconda3/lib/python3.8/site-packages (from matplotlib->-r ./requirements.txt (line 7)) (1.4.3)\n",
      "Requirement already satisfied: pillow>=6.2.0 in /root/miniconda3/lib/python3.8/site-packages (from matplotlib->-r ./requirements.txt (line 7)) (9.1.1)\n",
      "Requirement already satisfied: six>=1.5 in /root/miniconda3/lib/python3.8/site-packages (from python-dateutil>=2.1->matplotlib->-r ./requirements.txt (line 7)) (1.16.0)\n",
      "Installing collected packages: configdot, monai\n",
      "Successfully installed configdot-0.144 monai-0.9.0\n",
      "\u001b[33mWARNING: Running pip as the 'root' user can result in broken permissions and conflicting behaviour with the system package manager. It is recommended to use a virtual environment instead: https://pip.pypa.io/warnings/venv\u001b[0m\u001b[33m\n",
      "\u001b[0m\n",
      "\u001b[1m[\u001b[0m\u001b[34;49mnotice\u001b[0m\u001b[1;39;49m]\u001b[0m\u001b[39;49m A new release of pip available: \u001b[0m\u001b[31;49m22.1.2\u001b[0m\u001b[39;49m -> \u001b[0m\u001b[32;49m22.2.2\u001b[0m\n",
      "\u001b[1m[\u001b[0m\u001b[34;49mnotice\u001b[0m\u001b[1;39;49m]\u001b[0m\u001b[39;49m To update, run: \u001b[0m\u001b[32;49mpip install --upgrade pip\u001b[0m\n"
     ]
    }
   ],
   "source": [
    "!pip install -r ./requirements.txt"
   ]
  },
  {
   "cell_type": "code",
   "execution_count": 3,
   "id": "8bd6d1b8-7e81-428a-b562-c494c7ee3f8b",
   "metadata": {},
   "outputs": [
    {
     "name": "stdout",
     "output_type": "stream",
     "text": [
      "Looking in indexes: https://pypi.org/simple, https://download.pytorch.org/whl/cu113\n",
      "Requirement already satisfied: torch in /root/miniconda3/lib/python3.8/site-packages (1.8.1)\n",
      "Requirement already satisfied: torchvision in /root/miniconda3/lib/python3.8/site-packages (0.9.1)\n",
      "Requirement already satisfied: numpy in /root/miniconda3/lib/python3.8/site-packages (from torch) (1.19.0)\n",
      "Requirement already satisfied: typing-extensions in /root/miniconda3/lib/python3.8/site-packages (from torch) (4.2.0)\n",
      "Requirement already satisfied: pillow>=4.1.1 in /root/miniconda3/lib/python3.8/site-packages (from torchvision) (9.1.1)\n",
      "\u001b[33mWARNING: Running pip as the 'root' user can result in broken permissions and conflicting behaviour with the system package manager. It is recommended to use a virtual environment instead: https://pip.pypa.io/warnings/venv\u001b[0m\u001b[33m\n",
      "\u001b[0m\n",
      "\u001b[1m[\u001b[0m\u001b[34;49mnotice\u001b[0m\u001b[1;39;49m]\u001b[0m\u001b[39;49m A new release of pip available: \u001b[0m\u001b[31;49m22.1.2\u001b[0m\u001b[39;49m -> \u001b[0m\u001b[32;49m22.2.2\u001b[0m\n",
      "\u001b[1m[\u001b[0m\u001b[34;49mnotice\u001b[0m\u001b[1;39;49m]\u001b[0m\u001b[39;49m To update, run: \u001b[0m\u001b[32;49mpip install --upgrade pip\u001b[0m\n"
     ]
    }
   ],
   "source": [
    "# For nebula torch installation for A100\n",
    "!pip3 install torch torchvision --extra-index-url https://download.pytorch.org/whl/cu113"
   ]
  },
  {
   "cell_type": "code",
   "execution_count": 4,
   "id": "e89e83d1-3a73-483e-898e-2d3e66bf0762",
   "metadata": {},
   "outputs": [
    {
     "name": "stdout",
     "output_type": "stream",
     "text": [
      "The autoreload extension is already loaded. To reload it, use:\n",
      "  %reload_ext autoreload\n"
     ]
    }
   ],
   "source": [
    "%load_ext autoreload\n",
    "import re, time, os, shutil, json\n",
    "from easydict import EasyDict as edict\n",
    "import matplotlib.pyplot as plt\n",
    "import numpy as np\n",
    "import nibabel as nib\n",
    "from PIL import Image\n",
    "from monai.data import list_data_collate\n",
    "import tempfile\n",
    "import monai\n",
    "from monai.data import DataLoader, Dataset \n",
    "from monai.transforms.intensity.array import ScaleIntensity\n",
    "from monai.transforms import (\n",
    "    LoadImage, EnsureChannelFirst, Spacing,\n",
    "    RandFlip, Resize, EnsureType,\n",
    "    LoadImaged, EnsureChannelFirstd,\n",
    "    Resized, EnsureTyped, Compose, ScaleIntensityd, \n",
    "    AddChanneld, MapTransform, AsChannelFirstd, EnsureType, \n",
    "    Activations, AsDiscrete, RandCropByPosNegLabeld, \n",
    "    RandRotate90d, LabelToMaskd, RandFlipd, RandRotated, Spacingd, RandAffined,\n",
    "    RandShiftIntensityd, Lambdad, MaskIntensityd\n",
    ")\n",
    "from utils import get_label\n",
    "\n",
    "from dataset import setup_dataloaders, setup_datafiles\n",
    "\n",
    "import configdot\n",
    "import torch\n",
    "from monai.config import print_config\n",
    "from IPython.core.debugger import set_trace\n",
    "\n",
    "%autoreload 2"
   ]
  },
  {
   "cell_type": "code",
   "execution_count": 5,
   "id": "3520904f-b42f-422e-8a6e-243cca291ad2",
   "metadata": {},
   "outputs": [],
   "source": [
    "!mkdir -p ./MONAI_TMP"
   ]
  },
  {
   "cell_type": "code",
   "execution_count": 6,
   "id": "0a7eb035-ffe1-463f-abff-34241f6864b7",
   "metadata": {},
   "outputs": [
    {
     "name": "stdout",
     "output_type": "stream",
     "text": [
      "./MONAI_TMP\n"
     ]
    }
   ],
   "source": [
    "os.environ['MONAI_DATA_DIRECTORY'] = \"./MONAI_TMP\"\n",
    "directory = os.environ.get(\"MONAI_DATA_DIRECTORY\")\n",
    "root_dir = tempfile.mkdtemp() if directory is None else directory\n",
    "print(root_dir)"
   ]
  },
  {
   "cell_type": "code",
   "execution_count": 14,
   "id": "2f0f6354-fd1d-4aa9-bc2c-dfe9aeca50c3",
   "metadata": {},
   "outputs": [
    {
     "data": {
      "text/plain": [
       "['v2v-IN_autocast_DICE_lr-1e-3_nG-bs2-AUG-MASK-to-all-imgch-t1-all_scaler-trial1@26.07.2022-20',\n",
       " 'v2v-IN_autocast_DICE_lr-1e-3_nG-bs2-AUG-MASK-to-all-imgch-t1-all_scaler-trial3@26.07.2022-20',\n",
       " 'v2v-IN_autocast_DICE_lr-1e-3_nG-bs2-AUG-MASK-to-all-imgch-t1-all_scaler-trial2@26.07.2022-20',\n",
       " 'v2v-IN_autocast_DICE_lr-1e-3_nG-bs2-AUG-MASK-to-all-imgch-t1-all_scaler-trial5@26.07.2022-20',\n",
       " 'v2v-IN_autocast_DICE_lr-1e-3_nG-bs2-AUG-MASK-to-all-imgch-t1-all_scaler-trial4@29.07.2022-11']"
      ]
     },
     "execution_count": 14,
     "metadata": {},
     "output_type": "execute_result"
    }
   ],
   "source": [
    "logdir = '/workspace/RawData/FCDNet/logs/features_comparison/t1_all'\n",
    "\n",
    "os.listdir(logdir)"
   ]
  },
  {
   "cell_type": "code",
   "execution_count": 15,
   "id": "912fe178-ce75-47e1-bdfc-cc389aac3a0f",
   "metadata": {},
   "outputs": [
    {
     "ename": "FileNotFoundError",
     "evalue": "[Errno 2] No such file or directory: '/workspace/RawData/FCDNet/logs/features_comparison/t1_all/v2v-IN_autocast_DICE_lr-1e-3_nG-bs2-AUG-MASK-to-all-imgch-t1-all_scaler-trial1@26.07.2022-20/configs/config.ini'",
     "output_type": "error",
     "traceback": [
      "\u001b[0;31m---------------------------------------------------------------------------\u001b[0m",
      "\u001b[0;31mFileNotFoundError\u001b[0m                         Traceback (most recent call last)",
      "\u001b[0;32m<ipython-input-15-470a13126f2b>\u001b[0m in \u001b[0;36m<module>\u001b[0;34m\u001b[0m\n\u001b[1;32m      2\u001b[0m \u001b[0;32mfor\u001b[0m \u001b[0mlogpath\u001b[0m \u001b[0;32min\u001b[0m \u001b[0mos\u001b[0m\u001b[0;34m.\u001b[0m\u001b[0mlistdir\u001b[0m\u001b[0;34m(\u001b[0m\u001b[0mlogdir\u001b[0m\u001b[0;34m)\u001b[0m\u001b[0;34m:\u001b[0m\u001b[0;34m\u001b[0m\u001b[0;34m\u001b[0m\u001b[0m\n\u001b[1;32m      3\u001b[0m     \u001b[0mconfpath\u001b[0m \u001b[0;34m=\u001b[0m \u001b[0mos\u001b[0m\u001b[0;34m.\u001b[0m\u001b[0mpath\u001b[0m\u001b[0;34m.\u001b[0m\u001b[0mjoin\u001b[0m\u001b[0;34m(\u001b[0m\u001b[0mlogdir\u001b[0m\u001b[0;34m,\u001b[0m \u001b[0mlogpath\u001b[0m\u001b[0;34m,\u001b[0m \u001b[0;34m'configs/config.ini'\u001b[0m\u001b[0;34m)\u001b[0m\u001b[0;34m\u001b[0m\u001b[0;34m\u001b[0m\u001b[0m\n\u001b[0;32m----> 4\u001b[0;31m     \u001b[0mconfig\u001b[0m \u001b[0;34m=\u001b[0m \u001b[0mconfigdot\u001b[0m\u001b[0;34m.\u001b[0m\u001b[0mparse_config\u001b[0m\u001b[0;34m(\u001b[0m\u001b[0mconfpath\u001b[0m\u001b[0;34m)\u001b[0m\u001b[0;34m\u001b[0m\u001b[0;34m\u001b[0m\u001b[0m\n\u001b[0m\u001b[1;32m      5\u001b[0m     \u001b[0;32mbreak\u001b[0m\u001b[0;34m\u001b[0m\u001b[0;34m\u001b[0m\u001b[0m\n",
      "\u001b[0;32m~/miniconda3/lib/python3.8/site-packages/configdot/utils.py\u001b[0m in \u001b[0;36mparse_config\u001b[0;34m(fname, encoding)\u001b[0m\n\u001b[1;32m    100\u001b[0m             \u001b[0;34m\"if your config file is encoded with UTF-8.\"\u001b[0m\u001b[0;34m\u001b[0m\u001b[0;34m\u001b[0m\u001b[0m\n\u001b[1;32m    101\u001b[0m         )\n\u001b[0;32m--> 102\u001b[0;31m     \u001b[0;32mwith\u001b[0m \u001b[0mopen\u001b[0m\u001b[0;34m(\u001b[0m\u001b[0mfname\u001b[0m\u001b[0;34m,\u001b[0m \u001b[0;34m'r'\u001b[0m\u001b[0;34m,\u001b[0m \u001b[0mencoding\u001b[0m\u001b[0;34m=\u001b[0m\u001b[0mencoding\u001b[0m\u001b[0;34m)\u001b[0m \u001b[0;32mas\u001b[0m \u001b[0mf\u001b[0m\u001b[0;34m:\u001b[0m\u001b[0;34m\u001b[0m\u001b[0;34m\u001b[0m\u001b[0m\n\u001b[0m\u001b[1;32m    103\u001b[0m         \u001b[0mlines\u001b[0m \u001b[0;34m=\u001b[0m \u001b[0mf\u001b[0m\u001b[0;34m.\u001b[0m\u001b[0mread\u001b[0m\u001b[0;34m(\u001b[0m\u001b[0;34m)\u001b[0m\u001b[0;34m.\u001b[0m\u001b[0msplitlines\u001b[0m\u001b[0;34m(\u001b[0m\u001b[0;34m)\u001b[0m\u001b[0;34m\u001b[0m\u001b[0;34m\u001b[0m\u001b[0m\n\u001b[1;32m    104\u001b[0m     \u001b[0;32mreturn\u001b[0m \u001b[0m_parse_config_lines\u001b[0m\u001b[0;34m(\u001b[0m\u001b[0mlines\u001b[0m\u001b[0;34m)\u001b[0m\u001b[0;34m\u001b[0m\u001b[0;34m\u001b[0m\u001b[0m\n",
      "\u001b[0;31mFileNotFoundError\u001b[0m: [Errno 2] No such file or directory: '/workspace/RawData/FCDNet/logs/features_comparison/t1_all/v2v-IN_autocast_DICE_lr-1e-3_nG-bs2-AUG-MASK-to-all-imgch-t1-all_scaler-trial1@26.07.2022-20/configs/config.ini'"
     ]
    }
   ],
   "source": [
    "logdir = '/workspace/RawData/FCDNet/logs/features_comparison/t1_all'\n",
    "for logpath in os.listdir(logdir):\n",
    "    confpath = os.path.join(logdir, logpath, 'configs/config.ini')\n",
    "    config = configdot.parse_config(confpath)\n",
    "    break"
   ]
  },
  {
   "cell_type": "code",
   "execution_count": 9,
   "id": "12851ea2-5271-4ec7-9d7f-b54f314f788c",
   "metadata": {},
   "outputs": [
    {
     "ename": "NameError",
     "evalue": "name 'logpath' is not defined",
     "output_type": "error",
     "traceback": [
      "\u001b[0;31m---------------------------------------------------------------------------\u001b[0m",
      "\u001b[0;31mNameError\u001b[0m                                 Traceback (most recent call last)",
      "\u001b[0;32m<ipython-input-9-54b186a54aeb>\u001b[0m in \u001b[0;36m<module>\u001b[0;34m\u001b[0m\n\u001b[0;32m----> 1\u001b[0;31m \u001b[0mlogpath\u001b[0m\u001b[0;34m\u001b[0m\u001b[0;34m\u001b[0m\u001b[0m\n\u001b[0m",
      "\u001b[0;31mNameError\u001b[0m: name 'logpath' is not defined"
     ]
    }
   ],
   "source": [
    "logpath"
   ]
  },
  {
   "cell_type": "code",
   "execution_count": null,
   "id": "2a25e18e-36be-40dc-bbf4-9f7fe099b3ae",
   "metadata": {},
   "outputs": [],
   "source": [
    "config"
   ]
  },
  {
   "cell_type": "markdown",
   "id": "c2cb6a21-82f3-4648-8eac-9a3d94e539d3",
   "metadata": {},
   "source": [
    "# Create dataset"
   ]
  },
  {
   "cell_type": "code",
   "execution_count": 39,
   "id": "540078bf-f097-46f4-b4e5-826115eebb4e",
   "metadata": {},
   "outputs": [],
   "source": [
    "config = configdot.parse_config('configs/config.ini')"
   ]
  },
  {
   "cell_type": "code",
   "execution_count": 40,
   "id": "e13c53e4-59df-4b79-89c8-23166ec7c412",
   "metadata": {},
   "outputs": [
    {
     "name": "stdout",
     "output_type": "stream",
     "text": [
      "True\n",
      "Setting GPU#: 3\n",
      "Using GPU#: 3\n"
     ]
    }
   ],
   "source": [
    "print(torch.cuda.is_available())\n",
    "DEVICE = config.opt.device if hasattr(config.opt, \"device\") else 0\n",
    "#DEVICE=0\n",
    "device = torch.device(DEVICE)\n",
    "torch.cuda.set_device(DEVICE)\n",
    "\n",
    "print('Setting GPU#:', DEVICE)\n",
    "print('Using GPU#:', torch.cuda.current_device())"
   ]
  },
  {
   "cell_type": "markdown",
   "id": "b837f201-4a8d-41ea-a1fa-ba5bf584ab29",
   "metadata": {},
   "source": [
    "### Loading train-test split\n"
   ]
  },
  {
   "cell_type": "code",
   "execution_count": 41,
   "id": "f76bed8a-43d3-41ff-9d52-4d13bf47ada5",
   "metadata": {},
   "outputs": [],
   "source": [
    "import numpy as np\n",
    "subjects_list = np.load('./metadata/metadata_fcd_nG.npy', allow_pickle=True).item()"
   ]
  },
  {
   "cell_type": "code",
   "execution_count": 42,
   "id": "e7008e09-e390-4491-a322-88527ec9e263",
   "metadata": {},
   "outputs": [
    {
     "data": {
      "text/plain": [
       "{'train': array(['n80', 'n27', 'n53', 'n66', 'n71', 'n15', 'n46', 'n14', 'n30',\n",
       "        'n77', 'n87', 'n69', 'n67', 'n60', 'n65', 'n33', 'n61', 'G368',\n",
       "        'n84', 'n54', 'n64', 'n57', 'n45', 'G180', 'G324', 'n68', 'n81',\n",
       "        'n12', 'n48', 'n82', 'n76', 'n42', 'n55', 'n3', 'n5', 'G044',\n",
       "        'n44', 'n70', 'n47', 'G294', 'n20', 'G417', 'n78', 'n37', 'n8',\n",
       "        'n43', 'n74', 'n31', 'n13', 'G061', 'G081', 'n35', 'n73', 'n24',\n",
       "        'n36', 'n18', 'n59', 'n49', 'n39', 'n32', 'n88', 'n22', 'n17',\n",
       "        'n56', 'n62', 'n11', 'n26', 'n10', 'n28', 'n79', 'n40', 'n21',\n",
       "        'G133', 'n75', 'n25', 'n9', 'n38', 'n2', 'G507', 'n72'],\n",
       "       dtype=object),\n",
       " 'test': array(['n51', 'n29', 'n41', 'G256', 'n58', 'G258', 'n50', 'n23', 'n83',\n",
       "        'G414'], dtype=object)}"
      ]
     },
     "execution_count": 42,
     "metadata": {},
     "output_type": "execute_result"
    }
   ],
   "source": [
    "subjects_list"
   ]
  },
  {
   "cell_type": "code",
   "execution_count": 43,
   "id": "54c8fed0-0afd-4d7f-98d2-393c8e6e004a",
   "metadata": {},
   "outputs": [
    {
     "name": "stdout",
     "output_type": "stream",
     "text": [
      "80 10\n"
     ]
    }
   ],
   "source": [
    "train_list = subjects_list.get('train')\n",
    "val_list = subjects_list.get('test')\n",
    "\n",
    "feat_params = config.dataset.features\n",
    "\n",
    "print(len(train_list), len(val_list))"
   ]
  },
  {
   "cell_type": "code",
   "execution_count": 44,
   "id": "2b27563e-d6ec-4b31-a8d3-dda524db1cf0",
   "metadata": {},
   "outputs": [
    {
     "data": {
      "text/plain": [
       "['image', 'thickness']"
      ]
     },
     "execution_count": 44,
     "metadata": {},
     "output_type": "execute_result"
    }
   ],
   "source": [
    "feat_params"
   ]
  },
  {
   "cell_type": "code",
   "execution_count": 45,
   "id": "7c692f90-0580-40c9-881b-8f5e5b6672f6",
   "metadata": {},
   "outputs": [
    {
     "name": "stdout",
     "output_type": "stream",
     "text": [
      "Train set length: 80\n",
      "Test set length: 10\n"
     ]
    }
   ],
   "source": [
    "# train_loader, val_loader = setup_dataloaders(config)\n",
    "train_files, val_files = setup_datafiles(subjects_list, config)"
   ]
  },
  {
   "cell_type": "markdown",
   "id": "c183016e-18fc-4104-87c7-a822c66241e3",
   "metadata": {},
   "source": [
    "### Transformation and Augmentation"
   ]
  },
  {
   "cell_type": "code",
   "execution_count": 97,
   "id": "cc144038-1fe9-4b55-8f10-2763c99c9c6e",
   "metadata": {},
   "outputs": [],
   "source": [
    "assert config.default.interpolate\n",
    "spatial_size_conf = tuple(config.default.interpolation_size)\n",
    "#masked = config.dataset.trim_background\n",
    "masked = True\n",
    "\n",
    "def masked_transform(data_dict):\n",
    "    # set_trace()\n",
    "    data_dict[\"image\"] = data_dict[\"image\"] * data_dict[\"mask\"]\n",
    "    return data_dict\n",
    "\n",
    "if masked:\n",
    "    keys=[\"image\", \"seg\", \"mask\"]\n",
    "    sep_k=[\"seg\", \"mask\"]\n",
    "else:\n",
    "    keys=[\"image\", \"seg\"]\n",
    "    sep_k=[\"seg\"]\n",
    "\n",
    "if config.opt.augmentation:\n",
    "    rot_range = 0.5 #config.opt.rotation_range\n",
    "\n",
    "    train_transf = Compose(\n",
    "        [\n",
    "            LoadImaged(keys=keys),\n",
    "            EnsureChannelFirstd(keys=keys),\n",
    "            RandRotated(keys=keys, \n",
    "                        range_x=rot_range, \n",
    "                        # range_y=rot_range, \n",
    "                        # range_z=rot_range, \n",
    "                        prob=1),\n",
    "            RandFlipd(keys=keys, prob=0.5, spatial_axis=0),\n",
    "            Spacingd(keys=sep_k, pixdim=1.0),\n",
    "            Resized(keys=keys, spatial_size=spatial_size_conf),\n",
    "            ScaleIntensityd(keys=[\"image\"], minv=0.0, maxv=1.0, channel_wise=True),\n",
    "            # masked_transform,\n",
    "            EnsureTyped(keys=keys, dtype=torch.float)\n",
    "        ]\n",
    "    )\n",
    "\n",
    "    val_transf = Compose(\n",
    "        [\n",
    "                LoadImaged(keys=keys),\n",
    "                EnsureChannelFirstd(keys=keys),\n",
    "                Spacingd(keys=sep_k, pixdim=1.0),\n",
    "                Resized(keys=keys, spatial_size=spatial_size_conf),\n",
    "                ScaleIntensityd(keys=[\"image\"], minv=0.0, maxv=1.0, channel_wise=True),\n",
    "                # masked_transform,\n",
    "                EnsureTyped(keys=keys, dtype=torch.float),\n",
    "            ]\n",
    "    )\n",
    "    \n",
    "else:\n",
    "    raise NotImplementedError"
   ]
  },
  {
   "cell_type": "code",
   "execution_count": 98,
   "id": "1a6e2af7-39d7-4658-9bc8-603fd5c2a979",
   "metadata": {},
   "outputs": [
    {
     "data": {
      "text/plain": [
       "True"
      ]
     },
     "execution_count": 98,
     "metadata": {},
     "output_type": "execute_result"
    }
   ],
   "source": [
    "config.opt.augmentation"
   ]
  },
  {
   "cell_type": "markdown",
   "id": "e38cb2c8-b652-4947-ab74-1e21a2b96fda",
   "metadata": {},
   "source": [
    "### Visualization"
   ]
  },
  {
   "cell_type": "code",
   "execution_count": 99,
   "id": "c266806b-b89f-42fb-895b-c598140f7051",
   "metadata": {},
   "outputs": [],
   "source": [
    "def get_label(path):\n",
    "    '''\n",
    "    Extracts label from path, e.g.:\n",
    "    '/workspace/RawData/Features/preprocessed_data/label_bernaskoni/n16.nii.gz' -> 'n16'\n",
    "    '''\n",
    "    return path.split('/')[-1].split('.')[0]"
   ]
  },
  {
   "cell_type": "code",
   "execution_count": 100,
   "id": "1ae2a423-3a8e-4f38-a71d-717f3a2e9c66",
   "metadata": {},
   "outputs": [],
   "source": [
    "check_batch_size = 2\n",
    "check_dataset = Dataset(data=train_files, transform=train_transf)\n",
    "check_loader = DataLoader(check_dataset, \n",
    "                          batch_size=check_batch_size, \n",
    "                          num_workers=0, \n",
    "                          collate_fn=list_data_collate, \n",
    "                          pin_memory=torch.cuda.is_available(),\n",
    "                          shuffle=True\n",
    "                          )\n",
    "\n",
    "check_data = monai.utils.misc.first(check_loader)\n",
    "# check_data = monai.utils.misc.first(train_loader)"
   ]
  },
  {
   "cell_type": "code",
   "execution_count": 101,
   "id": "7d48d17e-941e-4682-bf4c-f527af86b22d",
   "metadata": {},
   "outputs": [],
   "source": [
    "# for check_data_sample in check_dataset:\n",
    "#     break"
   ]
  },
  {
   "cell_type": "code",
   "execution_count": 102,
   "id": "c8887db5-c3ab-4a3b-bfca-e91f34ebf527",
   "metadata": {},
   "outputs": [],
   "source": [
    "# check_data['image'][:,1,...]"
   ]
  },
  {
   "cell_type": "code",
   "execution_count": 103,
   "id": "117c9867-0c53-4340-ad5f-7ee157a9b918",
   "metadata": {},
   "outputs": [
    {
     "name": "stdout",
     "output_type": "stream",
     "text": [
      "torch.Size([2, 2, 128, 128, 128]) torch.Size([2, 1, 128, 128, 128]) torch.Size([2, 1, 128, 128, 128]) 2\n"
     ]
    }
   ],
   "source": [
    "print(check_data[\"image\"].shape, check_data[\"seg\"].shape, check_data[\"mask\"].shape, len(feat_params))"
   ]
  },
  {
   "cell_type": "code",
   "execution_count": 104,
   "id": "bf2388de-9d15-4f3c-9678-86288e1da8db",
   "metadata": {},
   "outputs": [
    {
     "data": {
      "text/plain": [
       "['image', 'thickness']"
      ]
     },
     "execution_count": 104,
     "metadata": {},
     "output_type": "execute_result"
    }
   ],
   "source": [
    "feat_params"
   ]
  },
  {
   "cell_type": "code",
   "execution_count": 105,
   "id": "3613270a-f4f9-4eb9-8512-5f0024342337",
   "metadata": {},
   "outputs": [],
   "source": [
    "# check_data['image'][:,1,...]"
   ]
  },
  {
   "cell_type": "code",
   "execution_count": 106,
   "id": "8b750b09-057c-4c88-8208-4f3707f7b820",
   "metadata": {
    "tags": []
   },
   "outputs": [
    {
     "name": "stdout",
     "output_type": "stream",
     "text": [
      "image shape: torch.Size([2, 128, 128, 128])\n"
     ]
    },
    {
     "data": {
      "image/png": "[encoded data removed]",
      "text/plain": [
       "<Figure size 2000x1000 with 2 Axes>"
      ]
     },
     "metadata": {
      "needs_background": "light"
     },
     "output_type": "display_data"
    },
    {
     "name": "stdout",
     "output_type": "stream",
     "text": [
      "image shape: torch.Size([2, 128, 128, 128])\n"
     ]
    },
    {
     "data": {
      "image/png": "[encoded data removed]",
      "text/plain": [
       "<Figure size 2000x1000 with 2 Axes>"
      ]
     },
     "metadata": {
      "needs_background": "light"
     },
     "output_type": "display_data"
    }
   ],
   "source": [
    "for k in range(check_batch_size):\n",
    "    \n",
    "    image = check_data['image'][k]\n",
    "    seg = check_data['seg'][k]\n",
    "    mask = check_data['mask'][k]\n",
    "    label = get_label(check_dataset.data[k]['seg'])\n",
    "    \n",
    "    print(f\"image shape: {image.shape}\")\n",
    "    \n",
    "    num_of_channels = len(feat_params)\n",
    "    # choose z-coord where there is a label maximum over other axes\n",
    "    label_pos = (seg > 0).sum(dim=(0,1,2)).argmax().item()\n",
    "    \n",
    "    #mask = image[:1,...] <= 0 # `background mask\n",
    "    \n",
    "    torch.sum(mask * image, dim=(-1,-2,-3)).type(torch.int) > 1\n",
    "\n",
    "    fig = plt.figure(\"image\", (10, 5), dpi=200)\n",
    "    ax1 = plt.subplot(1, 2, 1)\n",
    "    #plt.title(f\"{feat_params[i]}\")\n",
    "    ax1.imshow(image[1,:,:,label_pos], cmap='gray')\n",
    "    ax2 = plt.subplot(1, 2, 2)\n",
    "    ax2.imshow(mask[0,:,:,label_pos], alpha=0.5)\n",
    "    \n",
    "    # plt.colorbar()\n",
    "    plt.xticks([])\n",
    "    plt.yticks([])\n",
    "        \n",
    "    fig.suptitle(label, fontsize=20, color='blue')\n",
    "    # plt.tight_layout()\n",
    "    plt.show()\n",
    "    if k > 2:\n",
    "        break"
   ]
  },
  {
   "cell_type": "code",
   "execution_count": 107,
   "id": "6ec1746d-1ed6-4b48-9f2e-576ac864bdf0",
   "metadata": {},
   "outputs": [],
   "source": [
    "# np.array(feat_params)[torch.sum(mask * image, dim=(-1,-2,-3)).type(torch.int) > 1]"
   ]
  },
  {
   "cell_type": "code",
   "execution_count": 108,
   "id": "36d8239c-7417-4934-9a46-721bc0c8f951",
   "metadata": {},
   "outputs": [
    {
     "data": {
      "text/plain": [
       "['image', 'thickness']"
      ]
     },
     "execution_count": 108,
     "metadata": {},
     "output_type": "execute_result"
    }
   ],
   "source": [
    "feat_params"
   ]
  },
  {
   "cell_type": "code",
   "execution_count": 109,
   "id": "c42c7e9d-4947-4363-9047-1f2ce9604882",
   "metadata": {},
   "outputs": [
    {
     "data": {
      "text/plain": [
       "tensor([[[0., 0., 0.,  ..., 0., 0., 0.],\n",
       "         [0., 0., 0.,  ..., 0., 0., 0.],\n",
       "         [0., 0., 0.,  ..., 0., 0., 0.],\n",
       "         ...,\n",
       "         [0., 0., 0.,  ..., 0., 0., 0.],\n",
       "         [0., 0., 0.,  ..., 0., 0., 0.],\n",
       "         [0., 0., 0.,  ..., 0., 0., 0.]],\n",
       "\n",
       "        [[0., 0., 0.,  ..., 0., 0., 0.],\n",
       "         [0., 0., 0.,  ..., 0., 0., 0.],\n",
       "         [0., 0., 0.,  ..., 0., 0., 0.],\n",
       "         ...,\n",
       "         [0., 0., 0.,  ..., 0., 0., 0.],\n",
       "         [0., 0., 0.,  ..., 0., 0., 0.],\n",
       "         [0., 0., 0.,  ..., 0., 0., 0.]],\n",
       "\n",
       "        [[0., 0., 0.,  ..., 0., 0., 0.],\n",
       "         [0., 0., 0.,  ..., 0., 0., 0.],\n",
       "         [0., 0., 0.,  ..., 0., 0., 0.],\n",
       "         ...,\n",
       "         [0., 0., 0.,  ..., 0., 0., 0.],\n",
       "         [0., 0., 0.,  ..., 0., 0., 0.],\n",
       "         [0., 0., 0.,  ..., 0., 0., 0.]],\n",
       "\n",
       "        ...,\n",
       "\n",
       "        [[0., 0., 0.,  ..., 0., 0., 0.],\n",
       "         [0., 0., 0.,  ..., 0., 0., 0.],\n",
       "         [0., 0., 0.,  ..., 0., 0., 0.],\n",
       "         ...,\n",
       "         [0., 0., 0.,  ..., 0., 0., 0.],\n",
       "         [0., 0., 0.,  ..., 0., 0., 0.],\n",
       "         [0., 0., 0.,  ..., 0., 0., 0.]],\n",
       "\n",
       "        [[0., 0., 0.,  ..., 0., 0., 0.],\n",
       "         [0., 0., 0.,  ..., 0., 0., 0.],\n",
       "         [0., 0., 0.,  ..., 0., 0., 0.],\n",
       "         ...,\n",
       "         [0., 0., 0.,  ..., 0., 0., 0.],\n",
       "         [0., 0., 0.,  ..., 0., 0., 0.],\n",
       "         [0., 0., 0.,  ..., 0., 0., 0.]],\n",
       "\n",
       "        [[0., 0., 0.,  ..., 0., 0., 0.],\n",
       "         [0., 0., 0.,  ..., 0., 0., 0.],\n",
       "         [0., 0., 0.,  ..., 0., 0., 0.],\n",
       "         ...,\n",
       "         [0., 0., 0.,  ..., 0., 0., 0.],\n",
       "         [0., 0., 0.,  ..., 0., 0., 0.],\n",
       "         [0., 0., 0.,  ..., 0., 0., 0.]]])"
      ]
     },
     "execution_count": 109,
     "metadata": {},
     "output_type": "execute_result"
    }
   ],
   "source": [
    "image[1,:,:,]"
   ]
  },
  {
   "cell_type": "code",
   "execution_count": 110,
   "id": "f70d342e-1ade-4b74-bb16-0107a37abbcc",
   "metadata": {
    "tags": []
   },
   "outputs": [
    {
     "name": "stdout",
     "output_type": "stream",
     "text": [
      "image shape: torch.Size([2, 128, 128, 128])\n"
     ]
    },
    {
     "data": {
      "image/png": "[encoded data removed]",
      "text/plain": [
       "<Figure size 1000x1000 with 2 Axes>"
      ]
     },
     "metadata": {
      "needs_background": "light"
     },
     "output_type": "display_data"
    },
    {
     "name": "stdout",
     "output_type": "stream",
     "text": [
      "image shape: torch.Size([2, 128, 128, 128])\n"
     ]
    },
    {
     "data": {
      "image/png": "[encoded data removed]",
      "text/plain": [
       "<Figure size 1000x1000 with 2 Axes>"
      ]
     },
     "metadata": {
      "needs_background": "light"
     },
     "output_type": "display_data"
    }
   ],
   "source": [
    "for k in range(check_batch_size):\n",
    "    \n",
    "    image = check_data['image'][k]\n",
    "    seg = check_data['seg'][k]\n",
    "    label = get_label(check_dataset.data[k]['seg'])\n",
    "    \n",
    "    print(f\"image shape: {image.shape}\")\n",
    "    \n",
    "    num_of_channels = len(feat_params)\n",
    "    # choose z-coord where there is a label maximum over other axes\n",
    "    label_pos = (seg > 0).sum(dim=(0,1,2)).argmax().item()\n",
    "    \n",
    "    mask = image[:1,...] <= 0 # `background mask\n",
    "    torch.sum(mask * image, dim=(-1,-2,-3)).type(torch.int) > 1\n",
    "\n",
    "    fig = plt.figure(\"image\", (5, 5), dpi=200)\n",
    "    \n",
    "    plt.subplot(1, 1, 1)\n",
    "    image_bin = image[-2,:,:,label_pos] > 0\n",
    "    plt.imshow(image_bin, cmap='gray')\n",
    "    plt.colorbar()\n",
    "    #plt.title(f\"{feat_params[i]}, {image_bin.sum()}\")\n",
    "    # plt.imshow(seg[0,:,:,label_pos], interpolation='none', cmap='Reds', alpha=0.3)\n",
    "    # plt.imshow(seg[0,:,:,label_pos], interpolation='none', cmap='Reds', alpha=0.3)\n",
    "    plt.xticks([])\n",
    "    plt.yticks([])\n",
    "        \n",
    "    fig.suptitle(label, fontsize=20, color='blue')\n",
    "    # plt.tight_layout()\n",
    "    plt.show()"
   ]
  },
  {
   "cell_type": "code",
   "execution_count": null,
   "id": "a6702ed1-f77a-4fa3-b17b-b9df6ed3c449",
   "metadata": {
    "tags": []
   },
   "outputs": [],
   "source": [
    "# figures_per_row = 6 # for visualization\n",
    "# for k in range(check_batch_size):\n",
    "    \n",
    "#     image = check_data['image'][k]\n",
    "#     seg = check_data['seg'][k]\n",
    "#     label = get_label(check_dataset.data[k]['seg'])\n",
    "    \n",
    "#     print(f\"image shape: {image.shape}\")\n",
    "    \n",
    "#     num_of_channels = len(feat_params)\n",
    "#     # choose z-coord where there is a label maximum over other axes\n",
    "#     label_pos = (seg > 0).sum(dim=(0,1,2)).argmax().item()\n",
    "    \n",
    "#     mask = image[:1,...] <= 0 # `background mask\n",
    "#     torch.sum(mask * image, dim=(-1,-2,-3)).type(torch.int) > 1\n",
    "\n",
    "#     fig = plt.figure(\"image\", (len(feat_params), 5), dpi=200)\n",
    "#     for i in range(num_of_channels):\n",
    "#         nrows = int(np.ceil(num_of_channels/figures_per_row))\n",
    "#         cols = num_of_channels%figures_per_row\n",
    "#         plt.subplot(nrows, figures_per_row, i+1)\n",
    "#         plt.title(f\"{feat_params[i]}\")\n",
    "#         plt.imshow(image[i,:,:,label_pos] > 0, cmap=\"gray\")\n",
    "#         # plt.imshow(seg[0,:,:,label_pos], interpolation='none', cmap='Reds', alpha=0.3)\n",
    "#         # plt.imshow(seg[0,:,:,label_pos], interpolation='none', cmap='Reds', alpha=0.3)\n",
    "#         plt.xticks([])\n",
    "#         plt.yticks([])\n",
    "        \n",
    "#     fig.suptitle(label, fontsize=20, color='blue')\n",
    "#     # plt.tight_layout()\n",
    "#     plt.show()"
   ]
  },
  {
   "cell_type": "markdown",
   "id": "27540a85-2e83-46c2-9e55-430ceebde584",
   "metadata": {},
   "source": [
    "# Setup dataloaders"
   ]
  },
  {
   "cell_type": "code",
   "execution_count": 23,
   "id": "ef6e33c9-6ebf-4bfe-8ea7-8e9dc0c05f24",
   "metadata": {},
   "outputs": [],
   "source": [
    "# training dataset\n",
    "train_ds = monai.data.Dataset(data=train_files, transform=train_transf)\n",
    "train_loader = DataLoader(\n",
    "    train_ds,\n",
    "    batch_size=config.opt.train_batch_size,\n",
    "    shuffle=True,\n",
    "    num_workers=0,\n",
    "    collate_fn=list_data_collate,\n",
    "    pin_memory=torch.cuda.is_available(),\n",
    ")\n",
    "\n",
    "# validation dataset\n",
    "val_ds = monai.data.Dataset(data=val_files, transform=val_transf)\n",
    "val_loader = DataLoader(val_ds, \n",
    "                        batch_size=config.opt.val_batch_size, \n",
    "                        num_workers=0, \n",
    "                        collate_fn=list_data_collate,\n",
    "                        shuffle=False # important not to shuffle, to ensure label correspondence\n",
    "                        )"
   ]
  },
  {
   "cell_type": "markdown",
   "id": "75c72616-6e3d-4826-acc2-f18366c30015",
   "metadata": {},
   "source": [
    "### Before augmentation"
   ]
  },
  {
   "cell_type": "code",
   "execution_count": null,
   "id": "e6696015-1f36-4891-ae24-f21ed945ba1b",
   "metadata": {},
   "outputs": [],
   "source": [
    "# from nilearn.plotting import plot_img\n",
    "# ind = 0\n",
    "# plot_img = plot_img(train_files[ind]['seg'],\n",
    "#          bg_img=train_files[ind]['image'][0],\n",
    "#          threshold=0.1, alpha=0.5, display_mode='z')\n",
    "# plot_img\n",
    "# print(plot_img.cut_coords) # get coordinate of z where lesion center mass"
   ]
  },
  {
   "cell_type": "markdown",
   "id": "5d160840-ff55-4835-b80b-b66c30afa611",
   "metadata": {},
   "source": [
    "### After augmentation"
   ]
  },
  {
   "cell_type": "code",
   "execution_count": null,
   "id": "a5333f2d-43ef-486a-9363-afd26b476513",
   "metadata": {},
   "outputs": [],
   "source": [
    "ind=0\n",
    "plt.figure(figsize=(30,30))\n",
    "for i in range(7):\n",
    "    plt.subplot(1, 10, i+1)\n",
    "    item = check_loader.dataset[ind]\n",
    "    image, seg, mask = (item[\"image\"], item[\"seg\"], item[\"mask\"])\n",
    "    label_pos = (seg > 0).sum(dim=(0,1,2)).argmax().item()\n",
    "    plt.imshow(np.rot90(image[0,:, :, label_pos]), cmap='gray')\n",
    "    plt.imshow(np.rot90(seg[0,:, :, label_pos]), cmap=\"Reds\", alpha=0.4)\n",
    "    plt.imshow(np.rot90(mask[0,:, :, label_pos]), cmap=\"Greens\", alpha=0.6)\n",
    "    plt.title(\"seg overlay\")\n",
    "plt.show()"
   ]
  },
  {
   "cell_type": "code",
   "execution_count": null,
   "id": "5077a7de-5680-44b2-9690-004266df9ca4",
   "metadata": {},
   "outputs": [],
   "source": []
  }
 ],
 "metadata": {
  "kernelspec": {
   "display_name": "Python 3",
   "language": "python",
   "name": "python3"
  },
  "language_info": {
   "codemirror_mode": {
    "name": "ipython",
    "version": 3
   },
   "file_extension": ".py",
   "mimetype": "text/x-python",
   "name": "python",
   "nbconvert_exporter": "python",
   "pygments_lexer": "ipython3",
   "version": "3.8.12"
  }
 },
 "nbformat": 4,
 "nbformat_minor": 5
}
