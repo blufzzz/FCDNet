{
 "cells": [
  {
   "cell_type": "code",
   "execution_count": null,
   "id": "218f3caa",
   "metadata": {},
   "outputs": [],
   "source": [
    "%config Completer.use_jedi = False\n",
    "%load_ext autoreload\n",
    "\n",
    "import re, time, os, shutil, json, math\n",
    "import numpy as np\n",
    "import configdot\n",
    "from tqdm import tqdm\n",
    "import monai\n",
    "from monai.data import DataLoader, Dataset, list_data_collate, decollate_batch\n",
    "\n",
    "from collections import defaultdict\n",
    "from IPython.core.debugger import set_trace\n",
    "\n",
    "import torch\n",
    "import torch.nn.functional as F\n",
    "from torch.cuda.amp import autocast\n",
    "import torch.optim as optim\n",
    "from models.v2v import V2VModel\n",
    "\n",
    "from losses import *\n",
    "from dataset import setup_dataloaders, create_datafile, setup_datafiles, setup_transformations\n",
    "from utils import save, get_capacity, calc_gradient_norm, get_label, get_latest_weights\n",
    "import matplotlib.pyplot as plt\n",
    "plt.rcParams['font.size'] = 20\n",
    "\n",
    "%autoreload 2"
   ]
  },
  {
   "cell_type": "markdown",
   "id": "a6bd1868-0435-4952-bb88-a54d5d56af53",
   "metadata": {},
   "source": [
    "# Checkpoints available"
   ]
  },
  {
   "cell_type": "code",
   "execution_count": null,
   "id": "9c4fcb87-661f-44f3-9afd-a53de8fdd987",
   "metadata": {},
   "outputs": [],
   "source": [
    "# LOGDIRS_ALL = '/workspace/RawData/FCDNet/logs/features_comparison'\n",
    "\n",
    "# iter_dir = ['t1',\n",
    "#  't1_all',\n",
    "#  't1_blurring-flair',\n",
    "#  't1_blurring-t1',\n",
    "#  't1_blurring-t2',\n",
    "#  't1_cr-flair',\n",
    "#  't1_cr-t2',\n",
    "#  't1_curv',\n",
    "#  't1_entropy',\n",
    "#  't1_sulc',\n",
    "#  't1_thickness',\n",
    "#  't1_variance']\n",
    "\n",
    "# for dire in iter_dir:\n",
    "#     iter_l = os.path.join(LOGDIRS_ALL, dire)\n",
    "#     exp_l = os.listdir(iter_l)\n",
    "#     print('---------------------------------------')\n",
    "#     print(f'Checking {dire}...')\n",
    "#     print('---------------------------------------')\n",
    "#     for exp in exp_l:\n",
    "#         if 'v2v' in exp:\n",
    "#             trual_num = exp.split('@')[0][-1]\n",
    "#             # path of the \n",
    "#             full_path_checkp = os.path.join(iter_l, exp, 'checkpoints')\n",
    "#             checkpoints_names = os.listdir(full_path_checkp)\n",
    "#             if os.path.exists(full_path_checkp) and len(checkpoints_names) > 0:\n",
    "#                 checkpoints_names = sorted(checkpoints_names, key=lambda x: int(re.findall('\\d+', x)[0]))\n",
    "#                 checkpoint = checkpoints_names[-1]\n",
    "#                 print(f'Chekpoint {checkpoint} found! for {dire} in trial: {trual_num}')\n",
    "#             else:\n",
    "#                 print(f'No checkpoints for {dire} in trial {trual_num}!')"
   ]
  },
  {
   "cell_type": "code",
   "execution_count": null,
   "id": "c01f0d40-19b0-483a-81b4-15d551ed1ef8",
   "metadata": {},
   "outputs": [],
   "source": [
    "# choose specific logdir to visualize\n",
    "LOGDIR = '/workspace/RawData/FCDNet/logs/features_comparison/t1_all/'"
   ]
  },
  {
   "cell_type": "code",
   "execution_count": null,
   "id": "cc9acb98-cb0f-4838-ae8a-108567147ff4",
   "metadata": {},
   "outputs": [],
   "source": [
    "# for logname in os.listdir(LOGDIR):\n",
    "#     logdir = os.path.join(LOGDIR, logname)\n",
    "#     config = configdot.parse_config(os.path.join(logdir,'config.ini'))    \n",
    "#     print(config.dataset.features)\n",
    "#     print('----------------------')"
   ]
  },
  {
   "cell_type": "code",
   "execution_count": null,
   "id": "b8d0e782",
   "metadata": {},
   "outputs": [],
   "source": [
    "# set to False to recalculate predictions from scratch, using checkpoint weights\n",
    "val_preds_path_found = False\n",
    "\n",
    "# try to find best val preds\n",
    "if val_preds_path_found:\n",
    "    # finding if there are valid `val_preds_path`\n",
    "    val_preds_path_list = []\n",
    "    for logname in os.listdir(LOGDIR):\n",
    "        logdir = os.path.join(LOGDIR, logname)\n",
    "        val_preds_path = os.path.join(logdir, 'best_val_preds')\n",
    "        if os.path.exists(val_preds_path):\n",
    "            val_preds_path_list.append(val_preds_path)\n",
    "    val_preds_path_found = len(val_preds_path_list) > 0\n",
    "    print(val_preds_path_list)\n",
    "    \n",
    "    # if yes - load the `best_val_preds`\n",
    "    if val_preds_path_found:\n",
    "        val_preds_path = val_preds_path_list[0]\n",
    "        best_val_preds = {}\n",
    "        for label in os.listdir(val_preds_path):\n",
    "            val_preds_label_path = os.path.join(val_preds_path, label)\n",
    "            best_val_preds[label] = torch.load(val_preds_label_path)[0,0]"
   ]
  },
  {
   "cell_type": "markdown",
   "id": "5b7004e5",
   "metadata": {},
   "source": [
    "### Load model, setup dataloaders"
   ]
  },
  {
   "cell_type": "code",
   "execution_count": null,
   "id": "bbda1e09",
   "metadata": {},
   "outputs": [],
   "source": [
    "# choose specific logdir to visualize\n",
    "logdir = '/workspace/RawData/FCDNet/logs/features_comparison/stash/t1_all/v2v-IN_autocast_DICE_lr-1e-3_nG-bs2-AUG-MASK-to-all-imgch-t1-all_scaler-trial2@26.07.2022-20/'\n",
    "config = configdot.parse_config(os.path.join(logdir,'config.ini'))"
   ]
  },
  {
   "cell_type": "code",
   "execution_count": null,
   "id": "97798893-f975-4f50-9531-516f415f7369",
   "metadata": {},
   "outputs": [],
   "source": [
    "config.dataset.features"
   ]
  },
  {
   "cell_type": "code",
   "execution_count": null,
   "id": "e3897445",
   "metadata": {},
   "outputs": [],
   "source": [
    "# essential for the proper samplers functioning\n",
    "assert config.opt.val_batch_size == 1\n",
    "DEVICE = 'cpu' # 'cuda:1'\n",
    "device = torch.device(DEVICE)\n",
    "\n",
    "#########\n",
    "# MODEL #\n",
    "#########\n",
    "assert config.model.name == \"v2v\"\n",
    "model = V2VModel(config).to(device)\n",
    "model.load_state_dict(torch.load(get_latest_weights(logdir), map_location=device)['model_state'])\n",
    "\n",
    "###################\n",
    "# CREATE DATASETS #\n",
    "###################\n",
    "train_loader, val_loader = setup_dataloaders(config)\n",
    "\n",
    "print('val dataloder len: ', len(val_loader), 'train dataloder len: ', len(train_loader))"
   ]
  },
  {
   "cell_type": "code",
   "execution_count": null,
   "id": "35a991f7-75aa-40e6-97c1-e4b70a7fa271",
   "metadata": {},
   "outputs": [],
   "source": [
    "# 174 - valid brains number, with segmentation masks with moderate size\n",
    "# without patologies (brain lesions)\n",
    "# norm MNI"
   ]
  },
  {
   "cell_type": "code",
   "execution_count": null,
   "id": "a297c70a-91b6-49ce-874f-63e32bc4ba10",
   "metadata": {},
   "outputs": [],
   "source": []
  },
  {
   "cell_type": "code",
   "execution_count": null,
   "id": "51906735-8c17-4a00-bb9a-86bf2e939ad6",
   "metadata": {},
   "outputs": [],
   "source": [
    "list(np.load('metadata/metadata_fcd_nG.npy', allow_pickle=True).item()['test']) + \\\n",
    "list(np.load('metadata/metadata_fcd_nG.npy', allow_pickle=True).item()['train'])"
   ]
  },
  {
   "cell_type": "code",
   "execution_count": null,
   "id": "3607962e-fba7-4b62-a073-428a90629c11",
   "metadata": {},
   "outputs": [],
   "source": [
    "np.load('metadata/metadata_fcd_nG.npy', allow_pickle=True).item()['test'][3]"
   ]
  },
  {
   "cell_type": "markdown",
   "id": "daab3232",
   "metadata": {},
   "source": [
    "# Forward pass"
   ]
  },
  {
   "cell_type": "code",
   "execution_count": null,
   "id": "2673a6fb",
   "metadata": {},
   "outputs": [],
   "source": [
    "PREDICT_LABELS = True\n",
    "\n",
    "if PREDICT_LABELS:\n",
    "    predictions_path = os.path.join(logdir, 'predictions')\n",
    "    if not os.path.exists(predictions_path):\n",
    "        os.makedirs(predictions_path)\n",
    "        \n",
    "    model_dict = torch.load(get_latest_weights(logdir))\n",
    "    model.load_state_dict(model_dict['model_state'])\n",
    "    model.eval()"
   ]
  },
  {
   "cell_type": "code",
   "execution_count": null,
   "id": "fa5414ac-e8ca-467f-bf30-ca5f0c5fc488",
   "metadata": {},
   "outputs": [],
   "source": [
    "# test_data_indcs = ['6', '7', '40', '45', '75', '84', '14', '42', '68NS', '71NS']\n",
    "# feat_params = config.dataset.features\n",
    "# test_files = create_datafile(test_data_indcs, feat_params, mask=True)\n",
    "\n",
    "# _, val_trans =  setup_transformations(config)\n",
    "# test_ds = monai.data.Dataset(data=test_files[0], transform=val_trans)\n",
    "# test_loader = DataLoader(test_ds, \n",
    "#                         batch_size=1, \n",
    "#                         num_workers=0, \n",
    "#                         collate_fn=list_data_collate,\n",
    "#                         shuffle=False # important not to shuffle, to ensure label correspondence\n",
    "#                         )"
   ]
  },
  {
   "cell_type": "code",
   "execution_count": null,
   "id": "f0a8f8e3-da09-4f98-953b-f12375c0fc40",
   "metadata": {},
   "outputs": [],
   "source": [
    "# check_data = monai.utils.misc.first(test_loader)\n",
    "# check_data['seg'].shape, check_data['image'].shape"
   ]
  },
  {
   "cell_type": "code",
   "execution_count": null,
   "id": "78131a70",
   "metadata": {
    "tags": []
   },
   "outputs": [],
   "source": [
    "dataloader = val_loader\n",
    "\n",
    "brains = {}\n",
    "labels_gt = {}\n",
    "metric_dict = defaultdict(list)\n",
    "labels_pred = {}\n",
    "labels_ref = {}\n",
    "\n",
    "with torch.no_grad():\n",
    "\n",
    "    # bs = 1\n",
    "    # brain_tensor - [1,C,H,W,D]\n",
    "    # mask_tensor - [1,1,H,W,D]\n",
    "    # label_tensor - [1,1,H,W,D]\n",
    "    \n",
    "    #######################\n",
    "    # ITERATE OVER BRAINS #\n",
    "    #######################\n",
    "    iterator = enumerate(dataloader)\n",
    "   \n",
    "    \n",
    "    for iter_i, data_tensors in tqdm(iterator):\n",
    "        brain_tensor, label_tensor = data_tensors['image'], data_tensors['seg']\n",
    "\n",
    "        brain_tensor = brain_tensor.to(device)\n",
    "        label_tensor = label_tensor.to(device)\n",
    "\n",
    "        label = get_label(dataloader.dataset.data[iter_i]['seg'])\n",
    "        if PREDICT_LABELS:\n",
    "            label_tensor_predicted = model(brain_tensor)\n",
    "        else:\n",
    "            label_tensor_predicted = torch.tensor(best_val_preds[label][None,None,...]).to(device)\n",
    "        print(f'Label: {label}')\n",
    "\n",
    "        cov = coverage(label_tensor_predicted, label_tensor).item()\n",
    "        fp = false_positive(label_tensor_predicted, label_tensor).item()\n",
    "        fn = false_negative(label_tensor_predicted, label_tensor).item()\n",
    "        dice = dice_score(label_tensor_predicted.detach() > 1e-4, label_tensor.detach()).item()\n",
    "\n",
    "        metric_dict['coverage'].append(cov) # a.k.a recall\n",
    "        metric_dict['false_positive'].append(fp)\n",
    "        metric_dict['false_negative'].append(fn)\n",
    "        metric_dict['dice_score'].append(dice)\n",
    "        \n",
    "        print(label, dice)\n",
    "        plt.figure(\"image\", (30, 10))\n",
    "        brains[label] = brain_tensor[0,0].detach().cpu().numpy()\n",
    "        labels_gt[label] = label_tensor[0,0].detach().cpu().numpy()\n",
    "        label_tensor_predicted = label_tensor_predicted[0,0].detach().cpu()\n",
    "        labels_pred[label] = label_tensor_predicted.numpy()\n",
    "        labels_pred[label] = labels_pred[label]\n",
    "        \n",
    "        masked_labels_pred = np.ma.masked_where(labels_pred[label] < 1e-4, labels_pred[label])\n",
    "        masked_labels_gt = np.ma.masked_where(labels_gt[label] < 1e-4, labels_gt[label])\n",
    "        \n",
    "        for i in range(12):\n",
    "            plt.subplot(1, 12, i+1)\n",
    "            ind = math.floor(127 * (i / 12))\n",
    "            plt.imshow(brains[label][:,:,ind], cmap='gray')\n",
    "            plt.imshow(masked_labels_gt[:,:,ind], cmap='Reds')\n",
    "            plt.imshow(masked_labels_pred[:,:,ind], cmap='Greens', alpha=0.5)\n",
    "        \n",
    "        if PREDICT_LABELS:\n",
    "            torch.save(label_tensor_predicted, os.path.join(predictions_path, f'{label}'))\n",
    "        plt.show()"
   ]
  },
  {
   "cell_type": "code",
   "execution_count": null,
   "id": "d9e15c82",
   "metadata": {},
   "outputs": [],
   "source": [
    "# plt.ion()\n",
    "# plt.figure(figsize=(10,5),dpi=200)\n",
    "# plt.bar(metric_dict['dice_score'].keys(), metric_dict['dice_score'].values(), alpha=0.5, label='V2V')\n",
    "# exp_name = logdir.split('/')[1]\n",
    "# plt.title(f'Val')\n",
    "# plt.ylabel('Dice score')\n",
    "# plt.xticks(rotation=45)\n",
    "# plt.legend()\n",
    "# plt.show()"
   ]
  },
  {
   "cell_type": "code",
   "execution_count": null,
   "id": "11a2c531",
   "metadata": {},
   "outputs": [],
   "source": [
    "# plt.ion()\n",
    "# plt.figure(figsize=(10,5),dpi=200)\n",
    "# plt.bar(metric_dict['coverage'].keys(), metric_dict['coverage'].values(), alpha=0.5, label='V2V')\n",
    "# exp_name = logdir.split('/')[1]\n",
    "# plt.title(f'Val')\n",
    "# plt.ylabel('Recall')\n",
    "# plt.xticks(rotation=45)\n",
    "# plt.legend()\n",
    "# plt.show()"
   ]
  },
  {
   "cell_type": "code",
   "execution_count": null,
   "id": "d7837ccb",
   "metadata": {},
   "outputs": [],
   "source": [
    "# dices = np.array(list(metric_dict['dice_score'].values()))\n",
    "# labels = np.array(list(metric_dict['dice_score'].keys()))"
   ]
  },
  {
   "cell_type": "code",
   "execution_count": null,
   "id": "6daf89b3",
   "metadata": {},
   "outputs": [],
   "source": [
    "# image_path = os.path.join(logdir, 'images_val')\n",
    "# if not os.path.exists(image_path):\n",
    "#     os.makedirs(image_path)"
   ]
  },
  {
   "cell_type": "code",
   "execution_count": null,
   "id": "b4c775ad",
   "metadata": {},
   "outputs": [],
   "source": [
    "for label in brains.keys():\n",
    "\n",
    "    brain = brains[label]\n",
    "    label_gt = labels_gt[label]\n",
    "    label_pred = labels_pred[label]\n",
    "\n",
    "    fig, ax = plt.subplots(1,2, sharex=True, sharey=True, dpi=300)\n",
    "    X_max, Y_max, Z_max = brain.shape\n",
    "\n",
    "    y_slice_pos = label_gt.sum(axis=(0,-1)).argmax()\n",
    "\n",
    "    brain_slice = brain[:,y_slice_pos,:]\n",
    "    label_gt_slice = label_gt[:,y_slice_pos,:]\n",
    "    ax[0].imshow(brain_slice, cmap='gray')\n",
    "    ax[0].imshow(label_gt_slice, cmap='jet', alpha=0.5, interpolation='none')\n",
    "    ax[0].set_title('Ground-truth')\n",
    "\n",
    "    label_pred_slice = label_pred[:,y_slice_pos,:].astype(float)\n",
    "    ax[1].imshow(brain_slice, cmap='gray')\n",
    "    ax[1].imshow(label_pred_slice, cmap='jet', alpha=0.5, interpolation='none')\n",
    "    ax[1].set_title('Predicted')\n",
    "    \n",
    "    # fig.suptitle(f'Label: {label}', y=.85)\n",
    "\n",
    "    plt.show()\n",
    "    "
   ]
  },
  {
   "cell_type": "code",
   "execution_count": null,
   "id": "9957d94b-c25f-490d-a481-6eb0c99eb3f2",
   "metadata": {},
   "outputs": [],
   "source": []
  }
 ],
 "metadata": {
  "kernelspec": {
   "display_name": "Python 3",
   "language": "python",
   "name": "python3"
  },
  "language_info": {
   "codemirror_mode": {
    "name": "ipython",
    "version": 3
   },
   "file_extension": ".py",
   "mimetype": "text/x-python",
   "name": "python",
   "nbconvert_exporter": "python",
   "pygments_lexer": "ipython3",
   "version": "3.8.12"
  }
 },
 "nbformat": 4,
 "nbformat_minor": 5
}
