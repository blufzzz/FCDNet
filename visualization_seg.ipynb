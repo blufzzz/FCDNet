{
 "cells": [
  {
   "cell_type": "code",
   "execution_count": null,
   "id": "218f3caa",
   "metadata": {},
   "outputs": [],
   "source": [
    "%load_ext autoreload\n",
    "\n",
    "import re, time, os, shutil, json, math\n",
    "import numpy as np\n",
    "import configdot\n",
    "from tqdm import tqdm\n",
    "import monai\n",
    "from monai.data import DataLoader, Dataset, list_data_collate, decollate_batch\n",
    "\n",
    "from collections import defaultdict\n",
    "from IPython.core.debugger import set_trace\n",
    "\n",
    "import torch\n",
    "import torch.nn.functional as F\n",
    "from torch.cuda.amp import autocast\n",
    "import torch.optim as optim\n",
    "from models.v2v import V2VModel\n",
    "\n",
    "from losses import *\n",
    "from dataset import setup_dataloaders, create_datafile, setup_datafiles, setup_transformations\n",
    "from utils import save, get_capacity, calc_gradient_norm, get_label, get_latest_weights\n",
    "import matplotlib.pyplot as plt\n",
    "plt.rcParams['font.size'] = 20\n",
    "\n",
    "%autoreload 2"
   ]
  },
  {
   "cell_type": "code",
   "execution_count": null,
   "id": "c01f0d40-19b0-483a-81b4-15d551ed1ef8",
   "metadata": {},
   "outputs": [],
   "source": [
    "LOGDIR = '/workspace/RawData/FCDNet/logs/features_comparison/t1_all/'\n",
    "log_dir_iter = os.listdir(LOGDIR)\n",
    "log_dir_iter"
   ]
  },
  {
   "cell_type": "code",
   "execution_count": null,
   "id": "b8d0e782",
   "metadata": {},
   "outputs": [],
   "source": [
    "logname = log_dir_iter[]\n",
    "logdir = os.path.join(LOGDIR, logname)"
   ]
  },
  {
   "cell_type": "code",
   "execution_count": null,
   "id": "99c1f656",
   "metadata": {},
   "outputs": [],
   "source": [
    "# val_preds_path = os.path.join(logdir, 'best_val_preds')\n",
    "# best_val_preds = {}\n",
    "# for label in os.listdir(val_preds_path):\n",
    "#     val_preds_label_path = os.path.join(val_preds_path, label)\n",
    "#     best_val_preds[label] = torch.load(val_preds_label_path)[0,0]"
   ]
  },
  {
   "cell_type": "markdown",
   "id": "5b7004e5",
   "metadata": {},
   "source": [
    "### Load model, setup dataloaders"
   ]
  },
  {
   "cell_type": "code",
   "execution_count": null,
   "id": "bbda1e09",
   "metadata": {},
   "outputs": [],
   "source": [
    "config = configdot.parse_config(os.path.join(logdir,'config.ini'))"
   ]
  },
  {
   "cell_type": "code",
   "execution_count": null,
   "id": "04df9321-3939-4c7b-b2c9-f557ced1a6af",
   "metadata": {},
   "outputs": [],
   "source": [
    "config.dataset.features"
   ]
  },
  {
   "cell_type": "code",
   "execution_count": null,
   "id": "e3897445",
   "metadata": {},
   "outputs": [],
   "source": [
    "# essential for the proper samplers functioning\n",
    "assert config.opt.val_batch_size == 1\n",
    "DEVICE = 'cpu' # 'cuda:1' #'' # 'cpu'\n",
    "device = torch.device(DEVICE)\n",
    "\n",
    "#########\n",
    "# MODEL #\n",
    "#########\n",
    "assert config.model.name == \"v2v\"\n",
    "model = V2VModel(config).to(device)\n",
    "\n",
    "###################\n",
    "# CREATE DATASETS #\n",
    "###################\n",
    "train_loader, val_loader = setup_dataloaders(config)\n",
    "\n",
    "print('val dataloder len: ', len(val_loader), 'train dataloder len: ', len(train_loader))"
   ]
  },
  {
   "cell_type": "markdown",
   "id": "daab3232",
   "metadata": {},
   "source": [
    "# Forward pass"
   ]
  },
  {
   "cell_type": "code",
   "execution_count": null,
   "id": "2673a6fb",
   "metadata": {},
   "outputs": [],
   "source": [
    "SAVE_PREDS = False\n",
    "\n",
    "if SAVE_PREDS:\n",
    "    predictions_path = os.path.join(logdir, 'predictions')\n",
    "    if not os.path.exists(predictions_path):\n",
    "        os.makedirs(predictions_path)"
   ]
  },
  {
   "cell_type": "code",
   "execution_count": null,
   "id": "e35b6c66-4ce4-4601-9b8d-3d3b16c3f8e1",
   "metadata": {},
   "outputs": [],
   "source": [
    "best_val_preds['n23'].shape"
   ]
  },
  {
   "cell_type": "code",
   "execution_count": null,
   "id": "78131a70",
   "metadata": {
    "tags": []
   },
   "outputs": [],
   "source": [
    "dataloader = val_loader\n",
    "\n",
    "brains = {}\n",
    "labels_gt = {}\n",
    "metric_dict = defaultdict(list)\n",
    "labels_pred = {}\n",
    "labels_ref = {}\n",
    "\n",
    "with torch.no_grad():\n",
    "\n",
    "    # bs = 1\n",
    "    # brain_tensor - [1,C,H,W,D]\n",
    "    # mask_tensor - [1,1,H,W,D]\n",
    "    # label_tensor - [1,1,H,W,D]\n",
    "    \n",
    "    #######################\n",
    "    # ITERATE OVER BRAINS #\n",
    "    #######################\n",
    "    iterator = enumerate(dataloader)\n",
    "   \n",
    "    \n",
    "    for iter_i, data_tensors in tqdm(iterator):\n",
    "        brain_tensor, label_tensor = data_tensors['image'], data_tensors['seg']\n",
    "\n",
    "        brain_tensor = brain_tensor.to(device)\n",
    "        label_tensor = label_tensor.to(device)\n",
    "\n",
    "        label = get_label(dataloader.dataset.data[iter_i]['seg'])\n",
    "        label_tensor_predicted = torch.tensor(best_val_preds[label][None,None,...]).to(device)\n",
    "        print(f'Label: {label}')\n",
    "\n",
    "        cov = coverage(label_tensor_predicted, label_tensor).item()\n",
    "        fp = false_positive(label_tensor_predicted, label_tensor).item()\n",
    "        fn = false_negative(label_tensor_predicted, label_tensor).item()\n",
    "        dice = dice_score(label_tensor_predicted.detach() > 1e-4, label_tensor.detach()).item()\n",
    "\n",
    "        metric_dict['coverage'].append(cov) # a.k.a recall\n",
    "        metric_dict['false_positive'].append(fp)\n",
    "        metric_dict['false_negative'].append(fn)\n",
    "        metric_dict['dice_score'].append(dice)\n",
    "        \n",
    "        print(label, dice)\n",
    "        plt.figure(\"image\", (30, 10))\n",
    "        brains[label] = brain_tensor[0,0].detach().cpu().numpy()\n",
    "        labels_gt[label] = label_tensor[0,0].detach().cpu().numpy()\n",
    "        label_tensor_predicted = label_tensor_predicted[0,0].detach().cpu()\n",
    "        labels_pred[label] = label_tensor_predicted.numpy()\n",
    "        labels_pred[label] = labels_pred[label]\n",
    "        \n",
    "        masked_labels_pred = np.ma.masked_where(labels_pred[label] < 1e-4, labels_pred[label])\n",
    "        masked_labels_gt = np.ma.masked_where(labels_gt[label] < 1e-4, labels_gt[label])\n",
    "        \n",
    "        for i in range(12):\n",
    "            plt.subplot(1, 12, i+1)\n",
    "            ind = math.floor(127 * (i / 12))\n",
    "            plt.imshow(brains[label][:,:,ind], cmap='gray')\n",
    "            plt.imshow(masked_labels_gt[:,:,ind], cmap='Reds')\n",
    "            plt.imshow(masked_labels_pred[:,:,ind], cmap='Greens', alpha=0.5)\n",
    "        \n",
    "        if SAVE_PREDS:\n",
    "            torch.save(label_tensor_predicted, os.path.join(predictions_path, f'{label}'))\n",
    "        plt.show()"
   ]
  },
  {
   "cell_type": "code",
   "execution_count": null,
   "id": "ceb3ef02-5f5c-49d9-a499-8bc0244b04e2",
   "metadata": {},
   "outputs": [],
   "source": [
    "get_latest_weights(logdir)"
   ]
  },
  {
   "cell_type": "code",
   "execution_count": null,
   "id": "f7f53906-8078-4df2-9889-b6b5ea9916b6",
   "metadata": {},
   "outputs": [],
   "source": [
    "best_model = V2VModel(config)"
   ]
  },
  {
   "cell_type": "code",
   "execution_count": null,
   "id": "e9d6c1ce-2474-41af-b56d-acb8047afd4d",
   "metadata": {
    "tags": []
   },
   "outputs": [],
   "source": [
    "model_dict = torch.load(get_latest_weights(logdir))\n",
    "best_model.load_state_dict(model_dict['model_state'])\n",
    "best_model.eval()"
   ]
  },
  {
   "cell_type": "code",
   "execution_count": null,
   "id": "daf05257-74d2-4a36-9516-8a8a86b0adde",
   "metadata": {},
   "outputs": [],
   "source": [
    "test_data_indcs = ['6', '7', '40', '45', '75', '84', '14', '42', '68NS', '71NS']\n",
    "feat_params = config.dataset.features\n",
    "test_files = create_datafile(test_data_indcs, feat_params, mask=True)"
   ]
  },
  {
   "cell_type": "code",
   "execution_count": null,
   "id": "2283f1c6-ba25-4e6f-b0cc-f8bc7a2d9494",
   "metadata": {},
   "outputs": [],
   "source": [
    "_, val_trans =  setup_transformations(config)\n",
    "test_ds = monai.data.Dataset(data=test_files[0], transform=val_trans)\n",
    "test_loader = DataLoader(test_ds, \n",
    "                        batch_size=1, \n",
    "                        num_workers=0, \n",
    "                        collate_fn=list_data_collate,\n",
    "                        shuffle=False # important not to shuffle, to ensure label correspondence\n",
    "                        )"
   ]
  },
  {
   "cell_type": "code",
   "execution_count": null,
   "id": "5510f49c-3eb5-4bcb-8606-abc6d5fffffc",
   "metadata": {},
   "outputs": [],
   "source": [
    "check_data = monai.utils.misc.first(test_loader)"
   ]
  },
  {
   "cell_type": "code",
   "execution_count": null,
   "id": "6f4c4a44-a576-4741-a6ee-68c95f6e8c08",
   "metadata": {},
   "outputs": [],
   "source": [
    "check_data['seg'].shape, check_data['image'].shape"
   ]
  },
  {
   "cell_type": "code",
   "execution_count": null,
   "id": "188f1146-45c1-4e74-ba4a-bc3fdc99ef34",
   "metadata": {},
   "outputs": [],
   "source": [
    "dataloader = test_loader\n",
    "\n",
    "brains = {}\n",
    "labels_gt = {}\n",
    "metric_dict = defaultdict(list)\n",
    "labels_pred = {}\n",
    "labels_ref = {}\n",
    "\n",
    "with torch.no_grad():\n",
    "\n",
    "    # bs = 1\n",
    "    # brain_tensor - [1,C,H,W,D]\n",
    "    # mask_tensor - [1,1,H,W,D]\n",
    "    # label_tensor - [1,1,H,W,D]\n",
    "    \n",
    "    #######################\n",
    "    # ITERATE OVER BRAINS #\n",
    "    #######################\n",
    "    iterator = enumerate(dataloader)\n",
    "   \n",
    "    \n",
    "    for iter_i, data_tensors in tqdm(iterator):\n",
    "        brain_tensor, label_tensor = data_tensors['image'], data_tensors['seg']\n",
    "\n",
    "        brain_tensor = brain_tensor.to(device)\n",
    "        label_tensor = label_tensor.to(device)\n",
    "\n",
    "        label = get_label(dataloader.dataset.data[iter_i]['seg'])\n",
    "        print(f'Label: {label}')\n",
    "        \n",
    "        # forward pass\n",
    "        label_tensor_forward = best_model(brain_tensor) # -> [1,1,ps,ps,ps]\n",
    "        label_tensor_predicted = label_tensor_forward.to(device)\n",
    "        \n",
    "        print(label_tensor_forward.shape)\n",
    "        cov = coverage(label_tensor_predicted, label_tensor).item()\n",
    "        fp = false_positive(label_tensor_predicted, label_tensor).item()\n",
    "        fn = false_negative(label_tensor_predicted, label_tensor).item()\n",
    "        dice = dice_score(label_tensor_predicted.detach() > 1e-4, label_tensor.detach()).item()\n",
    "\n",
    "        metric_dict['coverage'].append(cov) # a.k.a recall\n",
    "        metric_dict['false_positive'].append(fp)\n",
    "        metric_dict['false_negative'].append(fn)\n",
    "        metric_dict['dice_score'].append(dice)\n",
    "        \n",
    "        print(label, dice)\n",
    "        plt.figure(\"image\", (30, 10))\n",
    "        brains[label] = brain_tensor[0,0].detach().cpu().numpy()\n",
    "        labels_gt[label] = label_tensor[0,0].detach().cpu().numpy()\n",
    "        label_tensor_predicted = label_tensor_predicted[0,0].detach().cpu()\n",
    "        labels_pred[label] = label_tensor_predicted.numpy()\n",
    "        labels_pred[label] = labels_pred[label]\n",
    "        \n",
    "        masked_labels_pred = np.ma.masked_where(labels_pred[label] < 1e-4, labels_pred[label])\n",
    "        masked_labels_gt = np.ma.masked_where(labels_gt[label] < 1e-4, labels_gt[label])\n",
    "        \n",
    "        #masked_labels_pred = labels_pred[label]\n",
    "        #masked_labels_gt = labels_gt[label]\n",
    "        \n",
    "        for i in range(12):\n",
    "            plt.subplot(1, 12, i+1)\n",
    "            ind = math.floor(127 * (i / 12))\n",
    "            plt.imshow(brains[label][:,:,ind], cmap='gray')\n",
    "            plt.imshow(masked_labels_gt[:,:,ind], cmap='Reds')\n",
    "            plt.imshow(masked_labels_pred[:,:,ind], cmap='Greens', alpha=0.8)\n",
    "        \n",
    "        if SAVE_PREDS:\n",
    "            torch.save(label_tensor_predicted, os.path.join(predictions_path, f'{label}'))\n",
    "        plt.show()"
   ]
  },
  {
   "cell_type": "code",
   "execution_count": null,
   "id": "d9e15c82",
   "metadata": {},
   "outputs": [],
   "source": [
    "# plt.ion()\n",
    "# plt.figure(figsize=(10,5),dpi=200)\n",
    "# plt.bar(metric_dict['dice_score'].keys(), metric_dict['dice_score'].values(), alpha=0.5, label='V2V')\n",
    "# exp_name = logdir.split('/')[1]\n",
    "# plt.title(f'Val')\n",
    "# plt.ylabel('Dice score')\n",
    "# plt.xticks(rotation=45)\n",
    "# plt.legend()\n",
    "# plt.show()"
   ]
  },
  {
   "cell_type": "code",
   "execution_count": null,
   "id": "11a2c531",
   "metadata": {},
   "outputs": [],
   "source": [
    "# plt.ion()\n",
    "# plt.figure(figsize=(10,5),dpi=200)\n",
    "# plt.bar(metric_dict['coverage'].keys(), metric_dict['coverage'].values(), alpha=0.5, label='V2V')\n",
    "# exp_name = logdir.split('/')[1]\n",
    "# plt.title(f'Val')\n",
    "# plt.ylabel('Recall')\n",
    "# plt.xticks(rotation=45)\n",
    "# plt.legend()\n",
    "# plt.show()"
   ]
  },
  {
   "cell_type": "code",
   "execution_count": null,
   "id": "d7837ccb",
   "metadata": {},
   "outputs": [],
   "source": [
    "# dices = np.array(list(metric_dict['dice_score'].values()))\n",
    "# labels = np.array(list(metric_dict['dice_score'].keys()))"
   ]
  },
  {
   "cell_type": "code",
   "execution_count": null,
   "id": "6daf89b3",
   "metadata": {},
   "outputs": [],
   "source": [
    "image_path = os.path.join(logdir, 'images_val')\n",
    "if not os.path.exists(image_path):\n",
    "    os.makedirs(image_path)"
   ]
  },
  {
   "cell_type": "code",
   "execution_count": null,
   "id": "b4c775ad",
   "metadata": {},
   "outputs": [],
   "source": [
    "for label in brains.keys():\n",
    "\n",
    "    brain = brains[label][0]\n",
    "    label_gt = labels_gt[label]\n",
    "    label_pred = labels_pred[label]\n",
    "\n",
    "    fig, ax = plt.subplots(1,2, sharex=True, sharey=True, dpi=300)\n",
    "    X_max, Y_max, Z_max = brain.shape\n",
    "\n",
    "    y_slice_pos = label_gt.sum(axis=(0,-1)).argmax()\n",
    "\n",
    "    brain_slice = brain[:,y_slice_pos,:]\n",
    "    label_gt_slice = label_gt[:,y_slice_pos,:]\n",
    "    ax[0].imshow(brain_slice, cmap='gray')\n",
    "    ax[0].imshow(label_gt_slice, cmap='Reds', alpha=0.5)\n",
    "    ax[0].set_title('GT')\n",
    "\n",
    "    label_pred_slice = label_pred[:,y_slice_pos,:].astype(float)\n",
    "    ax[1].imshow(brain_slice, cmap='gray')\n",
    "    ax[1].imshow(label_pred_slice, cmap='Reds', alpha=0.5)\n",
    "    ax[1].set_title('V2V')\n",
    "    \n",
    "    fig.suptitle(f'Label: {label}', y=.85)\n",
    "\n",
    "    plt.show()\n",
    "    "
   ]
  },
  {
   "cell_type": "code",
   "execution_count": null,
   "id": "023568fb-9d88-4e7a-a5eb-047d39a4c084",
   "metadata": {},
   "outputs": [],
   "source": [
    "from batch_metrics import our_metric"
   ]
  }
 ],
 "metadata": {
  "kernelspec": {
   "display_name": "Python 3",
   "language": "python",
   "name": "python3"
  },
  "language_info": {
   "codemirror_mode": {
    "name": "ipython",
    "version": 3
   },
   "file_extension": ".py",
   "mimetype": "text/x-python",
   "name": "python",
   "nbconvert_exporter": "python",
   "pygments_lexer": "ipython3",
   "version": "3.8.12"
  }
 },
 "nbformat": 4,
 "nbformat_minor": 5
}
