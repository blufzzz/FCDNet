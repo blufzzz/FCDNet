{
 "cells": [
  {
   "cell_type": "code",
   "execution_count": 4,
   "id": "330dc874",
   "metadata": {},
   "outputs": [
    {
     "name": "stdout",
     "output_type": "stream",
     "text": [
      "The autoreload extension is already loaded. To reload it, use:\n",
      "  %reload_ext autoreload\n"
     ]
    },
    {
     "data": {
      "text/html": [
       "<style>.container { width:100% !important}</style>"
      ],
      "text/plain": [
       "<IPython.core.display.HTML object>"
      ]
     },
     "metadata": {},
     "output_type": "display_data"
    }
   ],
   "source": [
    "%load_ext autoreload \n",
    "import glob\n",
    "import nibabel\n",
    "import numpy as np\n",
    "import cc3d\n",
    "\n",
    "import re\n",
    "import pandas as pd\n",
    "from collections import defaultdict\n",
    "from matplotlib import pyplot as plt\n",
    "from tqdm import tqdm\n",
    "from IPython.core.debugger import set_trace\n",
    "import os\n",
    "import shutil\n",
    "from collections import defaultdict\n",
    "import pickle\n",
    "\n",
    "import torch\n",
    "from torch import nn\n",
    "from torch import autograd\n",
    "import torch.nn.functional as F\n",
    "import torch.optim as optim\n",
    "from torch.utils.data import DataLoader, Dataset\n",
    "\n",
    "from utils import check_patch, load, create_dicts, trim, video_comparison\n",
    "\n",
    "from celluloid import Camera\n",
    "from IPython.core.display import display, HTML\n",
    "display(HTML(\"<style>.container { width:100% !important}</style>\"))\n",
    "%autoreload 2"
   ]
  },
  {
   "cell_type": "code",
   "execution_count": 5,
   "id": "40155517",
   "metadata": {},
   "outputs": [],
   "source": [
    "def patch_bbox_size(label_tensor):\n",
    "    \n",
    "    '''\n",
    "    label_tensor - np.ndarray, with size: [H,W,D], and values in {0,1}\n",
    "    '''\n",
    "    \n",
    "    labels_out = cc3d.connected_components(label_tensor, connectivity=26)\n",
    "    u, c = np.unique(labels_out, return_counts=True)\n",
    "    \n",
    "    label_info[label]['cc3d'] = [u,c]\n",
    "        \n",
    "    mask = labels_out == 1\n",
    "    \n",
    "    X,Y,Z = label_tensor.shape\n",
    "    \n",
    "    xyz_grid = np.stack(np.meshgrid(np.arange(X), np.arange(Y), np.arange(Z), indexing='ij'), -1)\n",
    "    xyz_grid = xyz_grid[mask]\n",
    "    \n",
    "    # fcd center\n",
    "    center = xyz_grid.mean(0).astype(int)\n",
    "    \n",
    "    # fcd bbox sizes\n",
    "    dx = (np.sum(mask, axis=(1,2)) > 0).sum()\n",
    "    dy = (np.sum(mask, axis=(0,2)) > 0).sum()\n",
    "    dz = (np.sum(mask, axis=(0,1)) > 0).sum()\n",
    "    \n",
    "    return center, dx,dy,dz"
   ]
  },
  {
   "cell_type": "code",
   "execution_count": 7,
   "id": "50c838d1",
   "metadata": {},
   "outputs": [],
   "source": [
    "USE_GEOM_FEATURES = False\n",
    "\n",
    "root_label = '../fcd_data/normalized_label'\n",
    "root_data = '../fcd_data/normalized_data/'\n",
    "root_geom_features = '../fcd_data/preprocessed_data_anadezhda/'\n",
    "\n",
    "paths_dict = create_dicts(root_label,\n",
    "                         root_data)"
   ]
  },
  {
   "cell_type": "code",
   "execution_count": 10,
   "id": "43ce1294",
   "metadata": {},
   "outputs": [],
   "source": [
    "label_info = defaultdict(dict)\n",
    "\n",
    "for label, pdict in tqdm(paths_dict.items()):\n",
    "    \n",
    "    mask_tensor = nibabel.load(pdict['mask']).get_fdata() > 0\n",
    "    mask_tensor = mask_tensor.astype(int)\n",
    "\n",
    "    label_tensor = nibabel.load(pdict['label']).get_fdata() * mask_tensor\n",
    "    label_tensor = np.array(label_tensor) > 0\n",
    "    \n",
    "    center,dx,dy,dz = patch_bbox_size(label_tensor)\n",
    "    \n",
    "    label_info[label]['d_s'] = [dx,dy,dz]\n",
    "    label_info[label]['center'] = center\n"
   ]
  },
  {
   "cell_type": "code",
   "execution_count": null,
   "id": "595c585a",
   "metadata": {},
   "outputs": [],
   "source": []
  }
 ],
 "metadata": {
  "kernelspec": {
   "display_name": "Python 3 (ipykernel)",
   "language": "python",
   "name": "python3"
  },
  "language_info": {
   "codemirror_mode": {
    "name": "ipython",
    "version": 3
   },
   "file_extension": ".py",
   "mimetype": "text/x-python",
   "name": "python",
   "nbconvert_exporter": "python",
   "pygments_lexer": "ipython3",
   "version": "3.9.7"
  }
 },
 "nbformat": 4,
 "nbformat_minor": 5
}
