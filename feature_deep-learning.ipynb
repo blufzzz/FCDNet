{
 "cells": [
  {
   "cell_type": "code",
   "execution_count": null,
   "id": "6c9c58c8-3a33-4783-8fd5-638e0df0a964",
   "metadata": {},
   "outputs": [],
   "source": [
    "!pip install -r ./requirements.txt"
   ]
  },
  {
   "cell_type": "code",
   "execution_count": 1,
   "id": "3e62a974-ef88-47ab-ab48-85e463436d7b",
   "metadata": {},
   "outputs": [
    {
     "name": "stdout",
     "output_type": "stream",
     "text": [
      "\u001b[33mWARNING: Running pip as the 'root' user can result in broken permissions and conflicting behaviour with the system package manager. It is recommended to use a virtual environment instead: https://pip.pypa.io/warnings/venv\u001b[0m\u001b[33m\n",
      "\u001b[0m\u001b[33mWARNING: You are using pip version 22.0.4; however, version 22.1.2 is available.\n",
      "You should consider upgrading via the '/root/miniconda3/bin/python -m pip install --upgrade pip' command.\u001b[0m\u001b[33m\n",
      "\u001b[0m"
     ]
    }
   ],
   "source": [
    "!python3 -c \"import monai\" || pip install -q \"monai-weekly[nibabel, tqdm]\"\n",
    "!pip install -q \"monai-weekly[nibabel, tqdm, einops]\"\n",
    "!python3 -c \"import matplotlib\" || pip install -q matplotlib\n",
    "%matplotlib inline"
   ]
  },
  {
   "cell_type": "code",
   "execution_count": 2,
   "id": "e89e83d1-3a73-483e-898e-2d3e66bf0762",
   "metadata": {},
   "outputs": [
    {
     "name": "stdout",
     "output_type": "stream",
     "text": [
      "MONAI version: 0.9.0\n",
      "Numpy version: 1.19.0\n",
      "Pytorch version: 1.8.1+cu102\n",
      "MONAI flags: HAS_EXT = False, USE_COMPILED = False\n",
      "MONAI rev id: af0e0e9f757558d144b655c63afcea3a4e0a06f5\n",
      "MONAI __file__: /root/miniconda3/lib/python3.8/site-packages/monai/__init__.py\n",
      "\n",
      "Optional dependencies:\n",
      "Pytorch Ignite version: NOT INSTALLED or UNKNOWN VERSION.\n",
      "Nibabel version: 3.2.0\n",
      "scikit-image version: NOT INSTALLED or UNKNOWN VERSION.\n",
      "Pillow version: 9.1.0\n",
      "Tensorboard version: 2.9.1\n",
      "gdown version: NOT INSTALLED or UNKNOWN VERSION.\n",
      "TorchVision version: NOT INSTALLED or UNKNOWN VERSION.\n",
      "tqdm version: 4.64.0\n",
      "lmdb version: NOT INSTALLED or UNKNOWN VERSION.\n",
      "psutil version: 5.9.0\n",
      "pandas version: 1.4.2\n",
      "einops version: 0.4.1\n",
      "transformers version: NOT INSTALLED or UNKNOWN VERSION.\n",
      "mlflow version: NOT INSTALLED or UNKNOWN VERSION.\n",
      "pynrrd version: NOT INSTALLED or UNKNOWN VERSION.\n",
      "\n",
      "For details about installing the optional dependencies, please visit:\n",
      "    https://docs.monai.io/en/latest/installation.html#installing-the-recommended-dependencies\n",
      "\n"
     ]
    }
   ],
   "source": [
    "import re, time, os, shutil, json\n",
    "from easydict import EasyDict as edict\n",
    "import matplotlib.pyplot as plt\n",
    "import SimpleITK as sitk  # noqa: N813\n",
    "import numpy as np\n",
    "import nibabel as nib\n",
    "from PIL import Image\n",
    "from monai.data import create_test_image_3d, list_data_collate, decollate_batch, pad_list_data_collate\n",
    "import tempfile\n",
    "import monai\n",
    "from monai.inferers import sliding_window_inference\n",
    "from monai.data import ITKReader, PILReader, ImageDataset, DataLoader, Dataset, PersistentDataset, CacheDataset, ArrayDataset\n",
    "from monai.networks.layers import Norm\n",
    "from monai.transforms import (\n",
    "    LoadImage, EnsureChannelFirst, Spacing,\n",
    "    RandFlip, Resize, EnsureType,\n",
    "    LoadImaged, EnsureChannelFirstd,\n",
    "    Resized, EnsureTyped, Compose, ScaleIntensityd, AddChanneld, MapTransform, AsChannelFirstd, EnsureType, Activations, AsDiscrete,\n",
    "    RandCropByPosNegLabeld, RandRotate90d, LabelToMaskd, RandFlipd, RandRotated, Spacingd, RandAffined\n",
    ")\n",
    "#from monai.networks.nets import UNETR\n",
    "#from torch.utils.tensorboard import SummaryWriter\n",
    "from monai.transforms.intensity.array import ScaleIntensity\n",
    "from monai.metrics import DiceMetric\n",
    "import configdot\n",
    "import torch\n",
    "from monai.config import print_config\n",
    "#from monai.engines import create_multigpu_supervised_trainer\n",
    "\n",
    "print_config()"
   ]
  },
  {
   "cell_type": "code",
   "execution_count": 3,
   "id": "3520904f-b42f-422e-8a6e-243cca291ad2",
   "metadata": {},
   "outputs": [],
   "source": [
    "!mkdir -p ./MONAI_TMP"
   ]
  },
  {
   "cell_type": "code",
   "execution_count": 4,
   "id": "540078bf-f097-46f4-b4e5-826115eebb4e",
   "metadata": {},
   "outputs": [],
   "source": [
    "config = configdot.parse_config('configs/config.ini')"
   ]
  },
  {
   "cell_type": "code",
   "execution_count": 5,
   "id": "69d4e7b4-ec4a-4bba-8100-bf178cffd71f",
   "metadata": {},
   "outputs": [
    {
     "name": "stdout",
     "output_type": "stream",
     "text": [
      "./MONAI_TMP\n"
     ]
    }
   ],
   "source": [
    "os.environ['MONAI_DATA_DIRECTORY'] = \"./MONAI_TMP\"\n",
    "directory = os.environ.get(\"MONAI_DATA_DIRECTORY\")\n",
    "root_dir = tempfile.mkdtemp() if directory is None else directory\n",
    "print(root_dir)"
   ]
  },
  {
   "cell_type": "code",
   "execution_count": 6,
   "id": "33ec310a-e595-4c13-8da4-18b96c0a59ad",
   "metadata": {},
   "outputs": [],
   "source": [
    "BASE_DIR = '/workspace/RawData/Features'\n",
    "OUTPUT_DIR = '/workspace/RawData/Features/BIDS'\n",
    "TMP_DIR = '/workspace/Features/tmp'"
   ]
  },
  {
   "cell_type": "code",
   "execution_count": 7,
   "id": "d8fdcf1e-9692-4134-8ff0-802b0d76c2c7",
   "metadata": {},
   "outputs": [
    {
     "name": "stdout",
     "output_type": "stream",
     "text": [
      "    206     206    1613\n"
     ]
    }
   ],
   "source": [
    "!ls /workspace/RawData/Features/prep_wf | wc"
   ]
  },
  {
   "cell_type": "code",
   "execution_count": 8,
   "id": "922444c2-a26a-45a0-a0a1-3e61d4c5f1c9",
   "metadata": {},
   "outputs": [],
   "source": [
    "def assign_feature_maps(sub, feature):\n",
    "    global BASE_DIR\n",
    "    global OUTPUT_DIR\n",
    "    global TMP_DIR\n",
    "    if feature == 'image':\n",
    "        feature_map = os.path.join(BASE_DIR, f'prep_wf', f'sub-{sub}', f'sub-{sub}_t1_brain-final.nii.gz')\n",
    "    elif feature == 't2':\n",
    "        feature_map = os.path.join(BASE_DIR, f'prep_wf', f'sub-{sub}', f'sub-{sub}_t2_brain-final.nii.gz')\n",
    "    elif feature == 'flair':\n",
    "        feature_map = os.path.join(BASE_DIR, f'prep_wf', f'sub-{sub}', f'sub-{sub}_fl_brain-final.nii.gz')\n",
    "    elif feature == 'blurring-t1':\n",
    "        feature_map = os.path.join(BASE_DIR, f'prep_wf', f'sub-{sub}', f'Blurring_T1.nii.gz')\n",
    "    elif feature == 'blurring-Flair':\n",
    "        feature_map = os.path.join(BASE_DIR, f'prep_wf', f'sub-{sub}', f'Blurring_Flair.nii.gz')\n",
    "    elif feature == 'cr-t2':\n",
    "        feature_map = os.path.join(BASE_DIR, f'prep_wf', f'sub-{sub}', f'CR_T2.nii')\n",
    "    elif feature == 'cr-Flair':\n",
    "        feature_map = os.path.join(BASE_DIR, f'prep_wf', f'sub-{sub}', f'CR_Flair.nii')\n",
    "    elif feature == 'thickness':\n",
    "        feature_map = os.path.join(BASE_DIR, f'prep_wf', f'sub-{sub}', f'thickness_mni.nii')\n",
    "    elif feature == 'curv':\n",
    "        feature_map = os.path.join(BASE_DIR, f'prep_wf', f'sub-{sub}', f'curv_mni.nii')\n",
    "    elif feature == 'sulc':\n",
    "        feature_map = os.path.join(BASE_DIR, f'prep_wf', f'sub-{sub}', f'sulc_mni.nii')\n",
    "    elif feature == 'variance':\n",
    "        feature_map = os.path.join(BASE_DIR, f'preprocessed_data', 'var', f'sub-{sub}_var.nii.gz')\n",
    "    elif feature == 'mask':\n",
    "        feature_map = os.path.join(BASE_DIR, f'prep_wf', f'sub-{sub}', f'sub-{sub}_t1_brain-final_mask.nii.gz')\n",
    "    return feature_map"
   ]
  },
  {
   "cell_type": "markdown",
   "id": "066049c8-93ab-4499-87dc-079594da3b4d",
   "metadata": {},
   "source": [
    "### images_list also Checks that features and labels available and returns number of available subjects"
   ]
  },
  {
   "cell_type": "code",
   "execution_count": 9,
   "id": "603dab81-6b1d-4cf0-bc54-77a596a32d11",
   "metadata": {},
   "outputs": [
    {
     "name": "stdout",
     "output_type": "stream",
     "text": [
      "No feature thickness for sub 97\n",
      "No feature image for sub 12\n",
      "No feature flair for sub 12\n",
      "No feature thickness for sub 12\n",
      "No feature blurring-t1 for sub 12\n",
      "Train set length: 53\n",
      "Test set length: 13\n"
     ]
    }
   ],
   "source": [
    "from sklearn.model_selection import train_test_split\n",
    "\n",
    "images_list = []\n",
    "subject_list = []\n",
    "# Choose subjects indexes to include\n",
    "matches = config.dataset.subj_ind_to_exclude\n",
    "feat_params = config.dataset.features\n",
    "# {'image': ['/workspace/Features/preprocessed_data/new_pipeline/sub-8/sub-8_acq-T1Mprage_space-MNI152NLint2_seq-T1w_brain.nii.gz',\n",
    "#   '/workspace/Features/preprocessed_data/thickness/norm-8.nii.gz',\n",
    "#   '/workspace/Features/preprocessed_data/curv/norm-8.nii.gz',\n",
    "#           ]\n",
    "# }\n",
    "\n",
    "for i in os.listdir(OUTPUT_DIR):\n",
    "    sub_ind = re.findall('-(.[a-zA-Z0-9]*|[0-9])', str(i))\n",
    "    if sub_ind and not any(x in sub_ind[0] for x in matches): # subjects with 'n', 'G', 'NS', 'C' won't be included\n",
    "        subject_list.append(sub_ind[0])\n",
    "        \n",
    "random_seed = 666    \n",
    "train_list, val_list = train_test_split(subject_list, shuffle=False, train_size=0.80, random_state=random_seed)\n",
    "\n",
    "train_subs_indcs = []\n",
    "train_files = []\n",
    "\n",
    "for sub in train_list:\n",
    "    images_per_sub = dict()\n",
    "    images_per_sub['image'] = []\n",
    "    for feat in feat_params:\n",
    "        map_path = assign_feature_maps(sub, feat)\n",
    "        if os.path.isfile(map_path):\n",
    "            images_per_sub['image'].append(map_path)\n",
    "        else:\n",
    "            continue\n",
    "    if len(images_per_sub['image']) == len(feat_params):\n",
    "        seg_path = os.path.join(BASE_DIR, 'preprocessed_data/label_bernaskoni', f'{sub}.nii.gz')\n",
    "        if os.path.isfile(seg_path):\n",
    "            images_per_sub['seg'] = seg_path\n",
    "        else:\n",
    "            continue\n",
    "        train_subs_indcs.append(sub)\n",
    "        train_files.append(images_per_sub)\n",
    "\n",
    "val_subs_indcs = []\n",
    "val_files = []\n",
    "\n",
    "for sub in val_list:\n",
    "    images_per_sub = dict()\n",
    "    images_per_sub['image'] = []\n",
    "    for feat in feat_params:\n",
    "        map_path = assign_feature_maps(sub, feat)\n",
    "        if os.path.isfile(map_path):\n",
    "            images_per_sub['image'].append(map_path)\n",
    "        else:\n",
    "            print(f'No feature {feat} for sub {sub}')\n",
    "            continue\n",
    "    if len(images_per_sub['image']) == len(feat_params):\n",
    "        seg_path = os.path.join(BASE_DIR, 'preprocessed_data/label_bernaskoni', f'{sub}.nii.gz')\n",
    "        if os.path.isfile(seg_path):\n",
    "            images_per_sub['seg'] = seg_path\n",
    "        else:\n",
    "            print(f'No {seg_path} for sub {sub}')\n",
    "            continue\n",
    "        val_subs_indcs.append(sub)\n",
    "        val_files.append(images_per_sub)\n",
    "\n",
    "print(f\"Train set length: {len(train_files)}\\nTest set length: {len(val_files)}\")"
   ]
  },
  {
   "cell_type": "code",
   "execution_count": 11,
   "id": "1c3ae68c-c890-44bf-8dea-f1376d439ba8",
   "metadata": {},
   "outputs": [
    {
     "name": "stdout",
     "output_type": "stream",
     "text": [
      "Train set length: 147\n",
      "Test set length: 37\n"
     ]
    }
   ],
   "source": [
    "images_list = []\n",
    "#feat_params = ['image', 't2', 'thickness', 'blurring-t1']\n",
    "feat_params = config.dataset.features\n",
    "#feat_params = ['t1_raw']\n",
    "subject_list = []\n",
    "# {'image': ['/workspace/Features/preprocessed_data/new_pipeline/sub-8/sub-8_acq-T1Mprage_space-MNI152NLint2_seq-T1w_brain.nii.gz',\n",
    "#   '/workspace/Features/preprocessed_data/thickness/norm-8.nii.gz',\n",
    "#   '/workspace/Features/preprocessed_data/curv/norm-8.nii.gz',\n",
    "for i in os.listdir(OUTPUT_DIR):\n",
    "    sub_ind = re.findall('-(.[a-zA-Z0-9]*|[0-9])', str(i))\n",
    "    if sub_ind:\n",
    "        subject_list.append(sub_ind[0])\n",
    "\n",
    "for sub in subject_list:\n",
    "    images_per_sub = dict()\n",
    "    images_per_sub['image'] = []\n",
    "    for feat in feat_params:\n",
    "        map_path = assign_feature_maps(sub, feat)\n",
    "        if os.path.isfile(map_path):\n",
    "            images_per_sub['image'].append(map_path)\n",
    "        else:\n",
    "            continue\n",
    "    if len(images_per_sub['image']) == len(feat_params):\n",
    "        #print(f'For subject {sub} all feature files are set')\n",
    "        seg_path = os.path.join(BASE_DIR, 'preprocessed_data/label_bernaskoni', f'{sub}.nii.gz')\n",
    "        if os.path.isfile(seg_path):\n",
    "            images_per_sub['seg'] = seg_path\n",
    "        else:\n",
    "            continue\n",
    "        images_list.append(images_per_sub)\n",
    "        \n",
    "from sklearn.model_selection import train_test_split\n",
    "random_seed = 666\n",
    "train_files, val_files = train_test_split(images_list, shuffle=False, train_size=0.80, random_state=random_seed)\n",
    "print(f\"Train set length: {len(train_files)}\\nTest set length: {len(val_files)}\")"
   ]
  },
  {
   "cell_type": "code",
   "execution_count": 11,
   "id": "aa6e737e-3845-4712-91f3-314305308ce9",
   "metadata": {},
   "outputs": [
    {
     "data": {
      "text/plain": [
       "\"\\nimages_list = []\\nsubject_list = ['1', '3', '4', '6', '8']\\n\\n# {'image': '/workspace/Features/preprocessed_data/new_pipeline/sub-8/sub-8_acq-T1Mprage_space-MNI152NLint2_seq-T1w_brain.nii.gz',\\n#  'thickness': '/workspace/Features/preprocessed_data/thickness/norm-8.nii.gz',\\n#  'curv': '/workspace/Features/preprocessed_data/curv/norm-8.nii.gz',\\n#  'sulc': '/workspace/Features/preprocessed_data/sulc/norm-8.nii.gz',\\n\\nfor sub in subject_list:\\n    image_per_sub = dict()\\n    image_per_sub['image'] = {}\\n    for feat in feat_params:\\n        map_path = assign_feature_maps(sub, feat)\\n        if os.path.isfile(map_path):\\n            image_per_sub[feat] = map_path\\n    image_per_sub['seg'] = os.path.join(BASE_DIR, 'label', f'{sub}.nii.gz')\\n    if os.path.isfile(map_path):\\n        images_list.append(image_per_sub)\\n\""
      ]
     },
     "execution_count": 11,
     "metadata": {},
     "output_type": "execute_result"
    }
   ],
   "source": [
    "\"\"\"\n",
    "images_list = []\n",
    "subject_list = ['1', '3', '4', '6', '8']\n",
    "\n",
    "# {'image': '/workspace/Features/preprocessed_data/new_pipeline/sub-8/sub-8_acq-T1Mprage_space-MNI152NLint2_seq-T1w_brain.nii.gz',\n",
    "#  'thickness': '/workspace/Features/preprocessed_data/thickness/norm-8.nii.gz',\n",
    "#  'curv': '/workspace/Features/preprocessed_data/curv/norm-8.nii.gz',\n",
    "#  'sulc': '/workspace/Features/preprocessed_data/sulc/norm-8.nii.gz',\n",
    "\n",
    "for sub in subject_list:\n",
    "    image_per_sub = dict()\n",
    "    image_per_sub['image'] = {}\n",
    "    for feat in feat_params:\n",
    "        map_path = assign_feature_maps(sub, feat)\n",
    "        if os.path.isfile(map_path):\n",
    "            image_per_sub[feat] = map_path\n",
    "    image_per_sub['seg'] = os.path.join(BASE_DIR, 'label', f'{sub}.nii.gz')\n",
    "    if os.path.isfile(map_path):\n",
    "        images_list.append(image_per_sub)\n",
    "\"\"\""
   ]
  },
  {
   "cell_type": "code",
   "execution_count": 10,
   "id": "3122cbcf-248d-4a23-912f-6eb3fe9abe79",
   "metadata": {
    "collapsed": true,
    "jupyter": {
     "outputs_hidden": true
    },
    "tags": []
   },
   "outputs": [
    {
     "data": {
      "text/plain": [
       "\"\\nsubject_list = []\\nimages_list = []\\n\\nfor i in os.listdir(BASE_DIR + '/fmriprep'):\\n    if os.path.isdir(os.path.join(BASE_DIR + '/fmriprep', i)):\\n        sub_ind = re.findall('^sub-(?!C)(.[a-zA-Z0-9]*|[0-9])', str(i))\\n        if sub_ind:  \\n            subject_list.append(sub_ind[0])\\n            t1_per_sub = dict()\\n            for k in os.listdir(BASE_DIR + '/fmriprep' + f'/sub-{sub_ind[0]}/anat/'):\\n                t1_file = re.findall(f'^sub-{sub_ind[0]}_acq.*MNI152NLin2009cAsym_desc-preproc_T1w\\\\.nii\\\\.gz', str(k))\\n                bm_file = re.findall(f'^sub-{sub_ind[0]}_acq.*MNI152NLin2009cAsym_desc-brain_mask\\\\.nii\\\\.gz', str(k))\\n                for x in t1_file:\\n                    t1_per_sub['image'] = os.path.join(BASE_DIR + '/fmriprep' + f'/sub-{sub_ind[0]}/anat/', x)\\n                for y in bm_file:\\n                    t1_per_sub['seg'] = os.path.join(BASE_DIR + '/fmriprep' + f'/sub-{sub_ind[0]}/anat/', y)\\n            images_list.append(t1_per_sub)\\nimages_list = [i for i in images_list if i]\\n\""
      ]
     },
     "execution_count": 10,
     "metadata": {},
     "output_type": "execute_result"
    }
   ],
   "source": [
    "#### JUST IMAGE AND BRAIN MASK\n",
    "\n",
    "\"\"\"\n",
    "subject_list = []\n",
    "images_list = []\n",
    "\n",
    "for i in os.listdir(BASE_DIR + '/fmriprep'):\n",
    "    if os.path.isdir(os.path.join(BASE_DIR + '/fmriprep', i)):\n",
    "        sub_ind = re.findall('^sub-(?!C)(.[a-zA-Z0-9]*|[0-9])', str(i))\n",
    "        if sub_ind:  \n",
    "            subject_list.append(sub_ind[0])\n",
    "            t1_per_sub = dict()\n",
    "            for k in os.listdir(BASE_DIR + '/fmriprep' + f'/sub-{sub_ind[0]}/anat/'):\n",
    "                t1_file = re.findall(f'^sub-{sub_ind[0]}_acq.*MNI152NLin2009cAsym_desc-preproc_T1w\\.nii\\.gz', str(k))\n",
    "                bm_file = re.findall(f'^sub-{sub_ind[0]}_acq.*MNI152NLin2009cAsym_desc-brain_mask\\.nii\\.gz', str(k))\n",
    "                for x in t1_file:\n",
    "                    t1_per_sub['image'] = os.path.join(BASE_DIR + '/fmriprep' + f'/sub-{sub_ind[0]}/anat/', x)\n",
    "                for y in bm_file:\n",
    "                    t1_per_sub['seg'] = os.path.join(BASE_DIR + '/fmriprep' + f'/sub-{sub_ind[0]}/anat/', y)\n",
    "            images_list.append(t1_per_sub)\n",
    "images_list = [i for i in images_list if i]\n",
    "\"\"\""
   ]
  },
  {
   "cell_type": "code",
   "execution_count": 12,
   "id": "2639b9cf-daf0-4896-b8ef-013235e85052",
   "metadata": {
    "collapsed": true,
    "jupyter": {
     "outputs_hidden": true
    },
    "tags": []
   },
   "outputs": [
    {
     "data": {
      "text/plain": [
       "\"\\nimport nibabel as nib\\nlabels_loc_dir = os.listdir('/workspace/RawData/Features/preprocessed_data/label_bernaskoni')\\nfor lab in labels_loc_dir:\\n    try:\\n        img = nib.load(f'/workspace/RawData/Features/preprocessed_data/label_bernaskoni/{lab}')\\n        array = img.get_fdata().astype(np.float32)\\n        array_new = array.copy()\\n        array_new[array > 0.0] = 1.0 \\n        img_tosave= nib.Nifti1Image(array_new.astype(np.float32), img.affine, img.header)\\n        nib.save(img_tosave, f'/workspace/RawData/Features/preprocessed_data/label_binarized/{lab}')\\n    except:\\n        continue\\n\""
      ]
     },
     "execution_count": 12,
     "metadata": {},
     "output_type": "execute_result"
    }
   ],
   "source": [
    "### Binarize labels\n",
    "\"\"\"\n",
    "import nibabel as nib\n",
    "labels_loc_dir = os.listdir('/workspace/RawData/Features/preprocessed_data/label_bernaskoni')\n",
    "for lab in labels_loc_dir:\n",
    "    try:\n",
    "        img = nib.load(f'/workspace/RawData/Features/preprocessed_data/label_bernaskoni/{lab}')\n",
    "        array = img.get_fdata().astype(np.float32)\n",
    "        array_new = array.copy()\n",
    "        array_new[array > 0.0] = 1.0 \n",
    "        img_tosave= nib.Nifti1Image(array_new.astype(np.float32), img.affine, img.header)\n",
    "        nib.save(img_tosave, f'/workspace/RawData/Features/preprocessed_data/label_binarized/{lab}')\n",
    "    except:\n",
    "        continue\n",
    "\"\"\""
   ]
  },
  {
   "cell_type": "markdown",
   "id": "c183016e-18fc-4104-87c7-a822c66241e3",
   "metadata": {},
   "source": [
    "## Transformation and Augmentation"
   ]
  },
  {
   "cell_type": "code",
   "execution_count": 10,
   "id": "cc144038-1fe9-4b55-8f10-2763c99c9c6e",
   "metadata": {},
   "outputs": [],
   "source": [
    "spatial_size_conf = tuple(config.default.interpolation_size)\n",
    "\n",
    "train_transf = Compose(\n",
    "    [\n",
    "        LoadImaged(keys=[\"image\", \"seg\"]),\n",
    "        EnsureChannelFirstd(keys=[\"image\", \"seg\"]),\n",
    "        RandRotated(keys=[\"image\", \"seg\"], range_x=0.15, range_y=0.15, range_z=0.45, prob=0.9),\n",
    "        RandFlipd(keys=[\"image\", \"seg\"], prob=0.5, spatial_axis=0),\n",
    "        Resized(keys=[\"image\", \"seg\"], spatial_size=spatial_size_conf, mode=('area', 'nearest')),\n",
    "        Spacingd(keys=['seg'], pixdim=1.0),\n",
    "        ScaleIntensityd(keys=[\"image\"], minv=0.0, maxv=1.0, channel_wise=True),\n",
    "        #RandFlipd(keys=[\"image\", \"seg\"], prob=0.5, spatial_axis=1),\n",
    "        #RandFlipd(keys=[\"image\", \"seg\"], prob=0.5, spatial_axis=2),\n",
    "        #RandSpatialCropd(keys=[\"image\", \"label\"], roi_size=[224, 224, 144], random_size=False),\n",
    "        #RandRotated(keys=[\"image\", \"seg\"], range_x=0.0, range_y=0.0, range_z=0.75, prob=1),\n",
    "        EnsureTyped(keys=[\"image\", \"seg\"], dtype=torch.float),\n",
    "    ]\n",
    ")\n",
    "val_transf = Compose(\n",
    "    [\n",
    "        LoadImaged(keys=[\"image\", \"seg\"]),\n",
    "        EnsureChannelFirstd(keys=[\"image\", \"seg\"]),\n",
    "        Resized(keys=[\"image\", \"seg\"], spatial_size=spatial_size_conf, mode=('area', 'nearest')),\n",
    "        Spacingd(keys=['seg'], pixdim=1.0),\n",
    "        ScaleIntensityd(keys=[\"image\"], minv=0.0, maxv=1.0, channel_wise=True),\n",
    "        EnsureTyped(keys=[\"image\", \"seg\"], dtype=torch.float),\n",
    "    ]\n",
    ")"
   ]
  },
  {
   "cell_type": "code",
   "execution_count": 11,
   "id": "2675d8fc-0595-4059-973a-e1894add1055",
   "metadata": {},
   "outputs": [],
   "source": [
    "check_dataset = Dataset(data=train_files, transform=train_transf)"
   ]
  },
  {
   "cell_type": "code",
   "execution_count": 12,
   "id": "786a4232-0b9e-4cb2-9c0f-9c5674b056d9",
   "metadata": {},
   "outputs": [
    {
     "data": {
      "text/plain": [
       "torch.Size([1, 128, 128, 128])"
      ]
     },
     "execution_count": 12,
     "metadata": {},
     "output_type": "execute_result"
    }
   ],
   "source": [
    "check_dataset[0]['seg'].shape"
   ]
  },
  {
   "cell_type": "code",
   "execution_count": 13,
   "id": "555c688d-30be-4700-8656-98c180a9a481",
   "metadata": {},
   "outputs": [
    {
     "data": {
      "text/plain": [
       "torch.Size([4, 128, 128, 128])"
      ]
     },
     "execution_count": 13,
     "metadata": {},
     "output_type": "execute_result"
    }
   ],
   "source": [
    "check_dataset[0]['image'].shape"
   ]
  },
  {
   "cell_type": "code",
   "execution_count": 14,
   "id": "c060bc08-5333-45e5-8c71-18658bf304a6",
   "metadata": {},
   "outputs": [
    {
     "name": "stdout",
     "output_type": "stream",
     "text": [
      "True\n",
      "2\n"
     ]
    }
   ],
   "source": [
    "print(torch.cuda.is_available())\n",
    "torch.cuda.set_device(2)\n",
    "print(torch.cuda.current_device())"
   ]
  },
  {
   "cell_type": "code",
   "execution_count": 15,
   "id": "1ae2a423-3a8e-4f38-a71d-717f3a2e9c66",
   "metadata": {},
   "outputs": [],
   "source": [
    "#check_loader = DataLoader(check_dataset, batch_size=10, num_workers=0, collate_fn=list_data_collate, pin_memory=torch.cuda.is_available())\n",
    "check_loader = DataLoader(check_dataset, batch_size=4, num_workers=0, collate_fn=list_data_collate, pin_memory=torch.cuda.is_available())"
   ]
  },
  {
   "cell_type": "code",
   "execution_count": 16,
   "id": "c2f8d98d-e35d-4709-807a-b12b6011775c",
   "metadata": {},
   "outputs": [],
   "source": [
    "check_data = monai.utils.misc.first(check_loader)"
   ]
  },
  {
   "cell_type": "markdown",
   "id": "b17d7710-9830-4f62-ada5-c5e156bbe677",
   "metadata": {},
   "source": [
    "### Check batch size in check_loader and number of "
   ]
  },
  {
   "cell_type": "code",
   "execution_count": 17,
   "id": "117c9867-0c53-4340-ad5f-7ee157a9b918",
   "metadata": {},
   "outputs": [
    {
     "name": "stdout",
     "output_type": "stream",
     "text": [
      "torch.Size([4, 4, 128, 128, 128]) torch.Size([4, 1, 128, 128, 128])\n"
     ]
    }
   ],
   "source": [
    "print(check_data[\"image\"].shape, check_data[\"seg\"].shape)"
   ]
  },
  {
   "cell_type": "code",
   "execution_count": 18,
   "id": "3202d4e1-43c2-4473-abc8-d06dd0459fe1",
   "metadata": {},
   "outputs": [],
   "source": [
    "train_data_example = check_dataset[9]"
   ]
  },
  {
   "cell_type": "code",
   "execution_count": 19,
   "id": "a6702ed1-f77a-4fa3-b17b-b9df6ed3c449",
   "metadata": {},
   "outputs": [
    {
     "name": "stdout",
     "output_type": "stream",
     "text": [
      "image shape: torch.Size([4, 128, 128, 128])\n"
     ]
    },
    {
     "data": {
      "image/png": "[encoded data removed]",
      "text/plain": [
       "<Figure size 1728x432 with 4 Axes>"
      ]
     },
     "metadata": {
      "needs_background": "light"
     },
     "output_type": "display_data"
    },
    {
     "name": "stdout",
     "output_type": "stream",
     "text": [
      "segmentaion shape: torch.Size([1, 128, 128, 128])\n"
     ]
    },
    {
     "data": {
      "image/png": "[encoded data removed]",
      "text/plain": [
       "<Figure size 288x432 with 1 Axes>"
      ]
     },
     "metadata": {
      "needs_background": "light"
     },
     "output_type": "display_data"
    }
   ],
   "source": [
    "print(f\"image shape: {train_data_example['image'].shape}\")\n",
    "num_of_channels = len(feat_params)\n",
    "label_ind = round(np.where(train_data_example[\"seg\"]>0)[3].shape[0] / 2)\n",
    "label_pos = np.where(train_data_example[\"seg\"]>0)[3][label_ind]\n",
    "plt.figure(\"image\", (24, 6))\n",
    "for i in range(num_of_channels):\n",
    "    plt.subplot(1, num_of_channels, i + 1)\n",
    "    plt.title(f\"image channel {feat_params[i]}\")\n",
    "    plt.imshow(train_data_example['image'][i, :, :, label_pos], cmap=\"gray\")\n",
    "    plt.imshow(train_data_example[\"seg\"][0,:, :, label_pos],interpolation='none', cmap='Reds', alpha=0.6)\n",
    "    #plt.colorbar()\n",
    "plt.show()\n",
    "# also visualize the 3 channels label corresponding to this image\n",
    "print(f\"segmentaion shape: {train_data_example['seg'].shape}\")\n",
    "plt.figure(\"seg\", (4, 6))\n",
    "plt.imshow(train_data_example[\"seg\"][0,:, :, label_pos], cmap=\"gray\")\n",
    "#plt.colorbar()\n",
    "plt.show()"
   ]
  },
  {
   "cell_type": "code",
   "execution_count": 20,
   "id": "ef6e33c9-6ebf-4bfe-8ea7-8e9dc0c05f24",
   "metadata": {},
   "outputs": [],
   "source": [
    "train_ds = monai.data.Dataset(data=train_files, transform=train_transf)\n",
    "train_loader = DataLoader(\n",
    "    train_ds,\n",
    "    batch_size=2,\n",
    "    shuffle=False,\n",
    "    num_workers=0,\n",
    "    collate_fn=list_data_collate,\n",
    "    pin_memory=torch.cuda.is_available(),\n",
    ")\n",
    "\n",
    "val_ds = monai.data.Dataset(data=val_files, transform=val_transf)\n",
    "val_loader = DataLoader(val_ds, batch_size=2, num_workers=0, collate_fn=list_data_collate)"
   ]
  },
  {
   "cell_type": "code",
   "execution_count": 21,
   "id": "a107360e-58b8-4bbd-932b-4cdf30456466",
   "metadata": {},
   "outputs": [
    {
     "data": {
      "text/plain": [
       "{'image': ['/workspace/RawData/Features/prep_wf/sub-56/sub-56_t1_brain-final.nii.gz',\n",
       "  '/workspace/RawData/Features/prep_wf/sub-56/sub-56_fl_brain-final.nii.gz',\n",
       "  '/workspace/RawData/Features/prep_wf/sub-56/thickness_mni.nii',\n",
       "  '/workspace/RawData/Features/prep_wf/sub-56/Blurring_T1.nii.gz'],\n",
       " 'seg': '/workspace/RawData/Features/preprocessed_data/label_bernaskoni/56.nii.gz'}"
      ]
     },
     "execution_count": 21,
     "metadata": {},
     "output_type": "execute_result"
    }
   ],
   "source": [
    "ind = 20\n",
    "train_files[ind]"
   ]
  },
  {
   "cell_type": "markdown",
   "id": "6e03f6f8-d159-47b1-9cae-27721346e250",
   "metadata": {},
   "source": [
    "## Transform random rotate augmentation example"
   ]
  },
  {
   "cell_type": "markdown",
   "id": "75c72616-6e3d-4826-acc2-f18366c30015",
   "metadata": {},
   "source": [
    "### Before augmentation"
   ]
  },
  {
   "cell_type": "code",
   "execution_count": 22,
   "id": "e17c7142-5cb4-4fdd-83ba-13cbc796819e",
   "metadata": {},
   "outputs": [
    {
     "name": "stderr",
     "output_type": "stream",
     "text": [
      "/root/miniconda3/lib/python3.8/site-packages/nilearn/datasets/__init__.py:93: FutureWarning: Fetchers from the nilearn.datasets module will be updated in version 0.9 to return python strings instead of bytes and Pandas dataframes instead of Numpy arrays.\n",
      "  warn(\"Fetchers from the nilearn.datasets module will be \"\n"
     ]
    },
    {
     "name": "stdout",
     "output_type": "stream",
     "text": [
      "[34. 35. 36. 37. 38. 39. 40.]\n"
     ]
    },
    {
     "data": {
      "image/png": "[encoded data removed]",
      "text/plain": [
       "<Figure size 1108.8x165.6 with 8 Axes>"
      ]
     },
     "metadata": {},
     "output_type": "display_data"
    }
   ],
   "source": [
    "from nilearn.plotting import plot_img\n",
    "plot_img = plot_img(train_files[ind]['seg'],\n",
    "         bg_img=train_files[ind]['image'][0],\n",
    "         threshold=0.1, alpha=0.5, display_mode='z')\n",
    "plot_img\n",
    "print(plot_img.cut_coords) # get coordinate of z where lesion center mass"
   ]
  },
  {
   "cell_type": "markdown",
   "id": "5d160840-ff55-4835-b80b-b66c30afa611",
   "metadata": {},
   "source": [
    "### Augmentation"
   ]
  },
  {
   "cell_type": "code",
   "execution_count": 23,
   "id": "a5333f2d-43ef-486a-9363-afd26b476513",
   "metadata": {},
   "outputs": [
    {
     "data": {
      "image/png": "[encoded data removed]",
      "text/plain": [
       "<Figure size 2160x2160 with 7 Axes>"
      ]
     },
     "metadata": {
      "needs_background": "light"
     },
     "output_type": "display_data"
    }
   ],
   "source": [
    "plt.figure(figsize=(30,30))\n",
    "for i in range(7):\n",
    "    plt.subplot(1, 10, i+1)\n",
    "    item = train_loader.dataset[ind]\n",
    "    image, segme = item[\"image\"], item[\"seg\"]\n",
    "    lab_loc = round(np.where(segme>0)[3].shape[0] / 2)\n",
    "    lab_pos = np.where(segme>0)[3][lab_loc]\n",
    "    plt.imshow(np.rot90(image[0,:, :, lab_pos]), cmap='gray')\n",
    "    plt.imshow(np.rot90(segme[0,:, :, lab_pos]), cmap=\"Reds\", alpha=0.4)\n",
    "    plt.title(\"seg overlay\")\n",
    "plt.show()"
   ]
  },
  {
   "cell_type": "code",
   "execution_count": 24,
   "id": "2ba8bd97-5d49-4ba3-893c-277c6f82205b",
   "metadata": {},
   "outputs": [
    {
     "data": {
      "text/plain": [
       "'76'"
      ]
     },
     "execution_count": 24,
     "metadata": {},
     "output_type": "execute_result"
    }
   ],
   "source": [
    "a = train_loader.dataset.data[0]['seg'].split('/')[6].split('.')[0]\n",
    "a"
   ]
  },
  {
   "cell_type": "code",
   "execution_count": 25,
   "id": "8a879e56-c227-41d6-a7e8-aa8d8a0b4abc",
   "metadata": {},
   "outputs": [
    {
     "data": {
      "text/plain": [
       "'/workspace/RawData/Features/prep_wf/sub-76/thickness_mni.nii'"
      ]
     },
     "execution_count": 25,
     "metadata": {},
     "output_type": "execute_result"
    }
   ],
   "source": [
    "train_loader.dataset.data[0]['image'][2]"
   ]
  },
  {
   "cell_type": "code",
   "execution_count": 26,
   "id": "2ea4b60a-7078-4384-b47d-ef1afeab8088",
   "metadata": {
    "tags": []
   },
   "outputs": [],
   "source": [
    "def one_epoch(model, \n",
    "                criterion, \n",
    "                opt, \n",
    "                config, \n",
    "                dataloader, \n",
    "                device, \n",
    "                writer, \n",
    "                epoch, \n",
    "                metric_dict_epoch, \n",
    "                n_iters_total=0,\n",
    "                augmentation=None, \n",
    "                is_train=True):\n",
    "\n",
    "\n",
    "    # use amp to accelerate training\n",
    "    if config.opt.use_scaler:\n",
    "        scaler = torch.cuda.amp.GradScaler()\n",
    "\n",
    "    phase_name = 'train' if is_train else 'val'\n",
    "    loss_name = config.opt.criterion\n",
    "    metric_dict = defaultdict(list)\n",
    "    target_metric_name = config.model.target_metric_name \n",
    "\n",
    "    if not is_train:\n",
    "        model.eval()\n",
    "    else:\n",
    "        model.train()\n",
    "\n",
    "    # used to turn on/off gradients\n",
    "    grad_context = torch.autograd.enable_grad if is_train else torch.no_grad\n",
    "    with grad_context():\n",
    "        iterator = enumerate(dataloader)\n",
    "        val_predictions = {}\n",
    "        for iter_i, data_tensors in iterator:\n",
    "            \n",
    "            brain_tensor, label_tensor = data_tensors['image'], data_tensors['seg']\n",
    "            #mask_tensor = brain_tensor\n",
    "            t1 = time.time()\n",
    "\n",
    "\n",
    "            brain_tensor = brain_tensor.to(device)\n",
    "            label_tensor = label_tensor.to(device)\n",
    "            #mask_tensor = mask_tensor.to(device)\n",
    "\n",
    "            # forward pass\n",
    "            with autocast(enabled=config.opt.use_scaler):\n",
    "                label_tensor_predicted = model(brain_tensor) # -> [bs,1,ps,ps,ps]\n",
    "\n",
    "                loss = criterion(label_tensor_predicted, label_tensor) \n",
    "\n",
    "\n",
    "            if is_train:\n",
    "                opt.zero_grad()\n",
    "\n",
    "                if config.opt.use_scaler:\n",
    "                    scaler.scale(loss).backward()\n",
    "                else:\n",
    "                    loss.backward()\n",
    "                \n",
    "                if hasattr(config.opt, \"grad_clip\"):\n",
    "                    if config.opt.use_scaler:\n",
    "                        scaler.unscale_(opt)\n",
    "                        torch.nn.utils.clip_grad_norm_(model.parameters(),\n",
    "                                                           config.opt.grad_clip)\n",
    "\n",
    "                metric_dict['grad_norm'].append(calc_gradient_norm(filter(lambda x: x[1].requires_grad, \n",
    "                                                model.named_parameters())))\n",
    "\n",
    "                if config.opt.use_scaler:\n",
    "                    scaler.step(opt)\n",
    "                    scaler.update()\n",
    "                else:\n",
    "                    opt.step()\n",
    "\n",
    "\n",
    "            t2 = time.time()    \n",
    "            dt = t2-t1 # inference time\n",
    "            \n",
    "            metric_dict[f'batch_time'].append(dt)\n",
    "            metric_dict[f'{loss_name}'].append(loss.item())\n",
    "            #label_tensor_predicted = label_tensor_predicted*mask_tensor\n",
    "            dice_score = DiceScoreBinary(label_tensor_predicted, label_tensor)\n",
    "            coverage = (label_tensor_predicted*label_tensor).sum() / label_tensor.sum()\n",
    "            \n",
    "            if not is_train:\n",
    "#                #label = dataloader.dataset.labels[iter_i]\n",
    "                 #label = dataloader.dataset[iter_i]['seg']\n",
    "                label = dataloader.dataset.data[iter_i]['seg'].split('/')[6].split('.')[0]\n",
    "                val_predictions[label] = label_tensor_predicted.detach().cpu().numpy()\n",
    "            \n",
    "            metric_dict['coverage'].append(coverage.item())\n",
    "            metric_dict['dice_score'].append(dice_score.item())\n",
    "            \n",
    "            #########\n",
    "            # PRINT #\n",
    "            #########\n",
    "            message = f'For {phase_name}, iter: {iter_i},'\n",
    "            for title, value in metric_dict.items():\n",
    "                if title == 'grad_norm':\n",
    "                    v = np.round(value[-1],6)\n",
    "                else:\n",
    "                    v = np.round(value[-1],3)\n",
    "                message+=f' {title}:{v}'\n",
    "            print(message)\n",
    "\n",
    "            # print(f'Epoch: {epoch}, Iter: {iter_i}, \\n \\\n",
    "            # Loss_{loss_name}: {loss.item()}, Dice-score: {dice_score.item()}, \\n \\\n",
    "            # time: {np.round(dt,2)}-s')\n",
    "\n",
    "            if is_train and writer is not None:\n",
    "                for title, value in metric_dict.items():\n",
    "                    writer.add_scalar(f\"{phase_name}_{title}\", value[-1], n_iters_total)\n",
    "\n",
    "            n_iters_total += 1\n",
    "\n",
    "    target_metric = 0\n",
    "    for title, value in metric_dict.items():\n",
    "        m = np.mean(value)\n",
    "        metric_dict_epoch[phase_name + '_' + title].append(m)\n",
    "        if title == target_metric_name:\n",
    "            target_metric = m\n",
    "        if writer is not None:\n",
    "            writer.add_scalar(f\"{phase_name}_{title}_epoch\", m, epoch)\n",
    "            \n",
    "    #####################\n",
    "    # SAVING BEST PREDS #\n",
    "    #####################\n",
    "    target_metrics_epoch = metric_dict_epoch[f'val_{target_metric_name}']\n",
    "    if not is_train:\n",
    "        if config.dataset.save_best_val_predictions:\n",
    "            # use greedy-saving: save only if the target metric is improved\n",
    "            if len(target_metrics_epoch) == 1 or target_metrics_epoch[-1] >= target_metrics_epoch[-2]:\n",
    "                for label, pred in val_predictions.items():\n",
    "                        #torch.save(pred, os.path.join(config.dataset.val_preds_path, f'{label}'))\n",
    "                        torch.save(pred, os.path.join(config.dataset.val_preds_path, f'{label}'))\n",
    "\n",
    "\n",
    "    return n_iters_total, target_metric"
   ]
  },
  {
   "cell_type": "code",
   "execution_count": 28,
   "id": "7ebe55b6-3e89-4f9c-9bcb-8623bb829d27",
   "metadata": {},
   "outputs": [],
   "source": [
    "# Plot Image with one epoch iterator\n",
    "\n",
    "def one_epoch(model, \n",
    "                criterion, \n",
    "                opt, \n",
    "                config, \n",
    "                dataloader, \n",
    "                device, \n",
    "                writer, \n",
    "                epoch, \n",
    "                metric_dict_epoch, \n",
    "                n_iters_total=0,\n",
    "                augmentation=None, \n",
    "                is_train=True):\n",
    "\n",
    "    plt.figure(figsize=(30,30))\n",
    "    # use amp to accelerate training\n",
    "    if config.opt.use_scaler:\n",
    "        scaler = torch.cuda.amp.GradScaler()\n",
    "\n",
    "    phase_name = 'train' if is_train else 'val'\n",
    "    loss_name = config.opt.criterion\n",
    "    metric_dict = defaultdict(list)\n",
    "    target_metric_name = config.model.target_metric_name \n",
    "\n",
    "    if not is_train:\n",
    "        model.eval()\n",
    "    else:\n",
    "        model.train()\n",
    "\n",
    "    # used to turn on/off gradients\n",
    "    grad_context = torch.autograd.enable_grad if is_train else torch.no_grad\n",
    "    with grad_context():\n",
    "        iterator = enumerate(dataloader)\n",
    "        val_predictions = {}\n",
    "        for iter_i, data_tensors in iterator:\n",
    "            image, segme = data_tensors['image'], data_tensors['seg']\n",
    "            \n",
    "            plt.subplot(1, 11, iter_i+1)\n",
    "            lab_loc = round(np.where(segme>0)[4].shape[0] / 2)\n",
    "            lab_pos = np.where(segme>0)[4][lab_loc]\n",
    "            plt.imshow(image[0, 0,:, :, lab_pos], cmap='gray')\n",
    "            plt.imshow(segme[0, 0,:, :, lab_pos], cmap=\"Reds\", alpha=0.4)\n",
    "            plt.imshow(image[0, 2,:, :, lab_pos], cmap=\"Greens\", alpha=0.2)\n",
    "            #torch.Size([2, 3, 128, 128, 128]) torch.Size([2, 1, 128, 128, 128])\n",
    "            if iter_i > 10:\n",
    "                break\n"
   ]
  },
  {
   "cell_type": "code",
   "execution_count": 27,
   "id": "106e0e9b-1701-45f3-be29-f326b6a9a1df",
   "metadata": {},
   "outputs": [
    {
     "name": "stdout",
     "output_type": "stream",
     "text": [
      "Dice\n"
     ]
    }
   ],
   "source": [
    "print(config.opt.criterion)"
   ]
  },
  {
   "cell_type": "code",
   "execution_count": 28,
   "id": "c2e5c21c-12ff-4f65-b241-fb75901d474c",
   "metadata": {},
   "outputs": [
    {
     "name": "stdout",
     "output_type": "stream",
     "text": [
      "cuda:2\n",
      "Experiment name: v2v-AUG_YARKIN_onesite-subs_autocast_DICE-loss_lr-1e-3_t1+flair+thick+blurt1@22.06.2022-19\n",
      "Model created! Capacity: 11.73\n"
     ]
    }
   ],
   "source": [
    "from datetime import datetime\n",
    "from tensorboardX import SummaryWriter\n",
    "from losses import DiceScoreBinary,\\\n",
    "                   DiceLossBinary,\\\n",
    "                   symmetric_focal_loss,\\\n",
    "                sym_unified_focal_loss,\\\n",
    "                symmetric_focal_tversky_loss,\\\n",
    "                DiceSFL,\\\n",
    "                tversky_loss\n",
    "import torch.optim as optim\n",
    "from models.v2v import V2VModel\n",
    "from utils import save, parse_args, get_capacity, calc_gradient_norm\n",
    "from collections import defaultdict\n",
    "from IPython.core.debugger import set_trace\n",
    "import traceback\n",
    "import torch.nn.functional as F\n",
    "from torch.cuda.amp import autocast\n",
    "\n",
    "\n",
    "\n",
    "##########\n",
    "# LOGDIR #\n",
    "##########\n",
    "MAKE_LOGS = config.default.make_logs\n",
    "SAVE_MODEL = config.opt.save_model if hasattr(config.opt, \"save_model\") else True\n",
    "DEVICE = config.opt.device if hasattr(config.opt, \"device\") else 1\n",
    "device = torch.device(DEVICE)\n",
    "print(device)\n",
    "\n",
    "\n",
    "experiment_name = '{}@{}'.format(config.default.experiment_comment, datetime.now().strftime(\"%d.%m.%Y-%H\"))\n",
    "print(\"Experiment name: {}\".format(experiment_name))\n",
    "\n",
    "writer = None\n",
    "if MAKE_LOGS:\n",
    "    experiment_dir = os.path.join(config.default.log_dir, experiment_name)\n",
    "    if os.path.isdir(experiment_dir):\n",
    "        shutil.rmtree(experiment_dir)\n",
    "    os.makedirs(experiment_dir)\n",
    "    shutil.copy('configs/config.ini', os.path.join(experiment_dir, \"config.ini\"))\n",
    "    \n",
    "    # write .json dataset log\n",
    "    ds_split_log = {\"train\": train_subs_indcs,\n",
    "                    \"val\": val_subs_indcs}\n",
    "\n",
    "    with open(os.path.join(config.default.log_dir, experiment_name, 'train_test_split.json'), 'w') as f:\n",
    "        trvasp = json.dumps(ds_split_log)\n",
    "        f.write(trvasp)\n",
    "        f.close()\n",
    "\n",
    "    if config.dataset.save_best_val_predictions:\n",
    "        val_preds_path = os.path.join(experiment_dir, 'best_val_preds')\n",
    "        config.dataset.val_preds_path = val_preds_path\n",
    "        os.makedirs(val_preds_path)\n",
    "    writer = SummaryWriter(os.path.join(experiment_dir, \"tb\"))\n",
    "    \n",
    "#########\n",
    "# MODEL #\n",
    "#########\n",
    "if config.model.name == \"v2v\":\n",
    "    model = V2VModel(config).to(device)\n",
    "elif config.model.name == \"unet3d\":\n",
    "    model = UnetModel(config).to(device)\n",
    "capacity = get_capacity(model)\n",
    "\n",
    "print(f'Model created! Capacity: {capacity}')\n",
    "\n",
    "if hasattr(config.model, 'weights'):\n",
    "    model_dict = torch.load(os.path.join(config.model.weights, 'checkpoints/weights.pth'))\n",
    "    print(f'LOADING from {config.model.weights} \\n epoch:', model_dict['epoch'])\n",
    "    model.load_state_dict(model_dict['model_state'])\n",
    "\n",
    "\n",
    "################\n",
    "# CREATE OPTIM #\n",
    "################\n",
    "criterion = {\n",
    "    \"BCE\":torch.nn.BCELoss, # [probabilities, target]\n",
    "    \"Dice\":DiceLossBinary,\n",
    "    \"DiceBCE\":None,\n",
    "    \"DiceSFL\": DiceSFL(delta=config.opt.delta, gamma=config.opt.gamma),\n",
    "    \"TL\": tversky_loss(delta=config.opt.delta),\n",
    "    \"FTL\": symmetric_focal_tversky_loss(delta=config.opt.delta, gamma=config.opt.gamma),\n",
    "    \"SFL\": symmetric_focal_loss(delta=config.opt.delta, gamma=config.opt.gamma),\n",
    "    \"USFL\":sym_unified_focal_loss(weight=config.opt.weight, # 0.5\n",
    "                                     delta=config.opt.delta,  # 0.6\n",
    "                                     gamma=config.opt.gamma) # 0.5\n",
    "}[config.opt.criterion]\n",
    "opt = optim.Adam(model.parameters(), lr=config.opt.lr)\n",
    "\n",
    "#####################\n",
    "# ASSIGN DATALOADER #\n",
    "#####################\n",
    "train_dataloader = train_loader\n",
    "val_dataloader = val_loader\n",
    "\n",
    "#item = train_loader.dataset[ind]\n",
    "#image, segme = item[\"image\"], item[\"seg\"]"
   ]
  },
  {
   "cell_type": "code",
   "execution_count": 133,
   "id": "501ef997-4a16-4d2c-826a-71b6d02d91b9",
   "metadata": {
    "collapsed": true,
    "jupyter": {
     "outputs_hidden": true
    },
    "tags": []
   },
   "outputs": [
    {
     "data": {
      "text/plain": [
       "V2VModel(\n",
       "  (front_layers): Sequential(\n",
       "    (0): Basic3DBlock(\n",
       "      (block): Sequential(\n",
       "        (0): Conv3d(3, 16, kernel_size=(7, 7, 7), stride=(1, 1, 1), padding=(3, 3, 3))\n",
       "        (1): InstanceNorm3d(16, eps=1e-05, momentum=0.1, affine=True, track_running_stats=False)\n",
       "        (2): LeakyReLU(negative_slope=0.01)\n",
       "      )\n",
       "    )\n",
       "    (1): Res3DBlock(\n",
       "      (res_branch): Sequential(\n",
       "        (0): Conv3d(16, 32, kernel_size=(3, 3, 3), stride=(1, 1, 1), padding=(1, 1, 1))\n",
       "        (1): InstanceNorm3d(32, eps=1e-05, momentum=0.1, affine=True, track_running_stats=False)\n",
       "        (2): LeakyReLU(negative_slope=0.01)\n",
       "        (3): Conv3d(32, 32, kernel_size=(3, 3, 3), stride=(1, 1, 1), padding=(1, 1, 1))\n",
       "        (4): InstanceNorm3d(32, eps=1e-05, momentum=0.1, affine=True, track_running_stats=False)\n",
       "      )\n",
       "      (skip_con): Sequential(\n",
       "        (0): Conv3d(16, 32, kernel_size=(1, 1, 1), stride=(1, 1, 1))\n",
       "        (1): InstanceNorm3d(32, eps=1e-05, momentum=0.1, affine=True, track_running_stats=False)\n",
       "      )\n",
       "    )\n",
       "    (2): Res3DBlock(\n",
       "      (res_branch): Sequential(\n",
       "        (0): Conv3d(32, 32, kernel_size=(3, 3, 3), stride=(1, 1, 1), padding=(1, 1, 1))\n",
       "        (1): InstanceNorm3d(32, eps=1e-05, momentum=0.1, affine=True, track_running_stats=False)\n",
       "        (2): LeakyReLU(negative_slope=0.01)\n",
       "        (3): Conv3d(32, 32, kernel_size=(3, 3, 3), stride=(1, 1, 1), padding=(1, 1, 1))\n",
       "        (4): InstanceNorm3d(32, eps=1e-05, momentum=0.1, affine=True, track_running_stats=False)\n",
       "      )\n",
       "      (skip_con): Sequential()\n",
       "    )\n",
       "  )\n",
       "  (encoder_decoder): EncoderDecorder(\n",
       "    (encoder_pool1): Pool3DBlock()\n",
       "    (encoder_res1): Res3DBlock(\n",
       "      (res_branch): Sequential(\n",
       "        (0): Conv3d(32, 64, kernel_size=(3, 3, 3), stride=(1, 1, 1), padding=(1, 1, 1))\n",
       "        (1): InstanceNorm3d(64, eps=1e-05, momentum=0.1, affine=True, track_running_stats=False)\n",
       "        (2): LeakyReLU(negative_slope=0.01)\n",
       "        (3): Conv3d(64, 64, kernel_size=(3, 3, 3), stride=(1, 1, 1), padding=(1, 1, 1))\n",
       "        (4): InstanceNorm3d(64, eps=1e-05, momentum=0.1, affine=True, track_running_stats=False)\n",
       "      )\n",
       "      (skip_con): Sequential(\n",
       "        (0): Conv3d(32, 64, kernel_size=(1, 1, 1), stride=(1, 1, 1))\n",
       "        (1): InstanceNorm3d(64, eps=1e-05, momentum=0.1, affine=True, track_running_stats=False)\n",
       "      )\n",
       "    )\n",
       "    (encoder_pool2): Pool3DBlock()\n",
       "    (encoder_res2): Res3DBlock(\n",
       "      (res_branch): Sequential(\n",
       "        (0): Conv3d(64, 128, kernel_size=(3, 3, 3), stride=(1, 1, 1), padding=(1, 1, 1))\n",
       "        (1): InstanceNorm3d(128, eps=1e-05, momentum=0.1, affine=True, track_running_stats=False)\n",
       "        (2): LeakyReLU(negative_slope=0.01)\n",
       "        (3): Conv3d(128, 128, kernel_size=(3, 3, 3), stride=(1, 1, 1), padding=(1, 1, 1))\n",
       "        (4): InstanceNorm3d(128, eps=1e-05, momentum=0.1, affine=True, track_running_stats=False)\n",
       "      )\n",
       "      (skip_con): Sequential(\n",
       "        (0): Conv3d(64, 128, kernel_size=(1, 1, 1), stride=(1, 1, 1))\n",
       "        (1): InstanceNorm3d(128, eps=1e-05, momentum=0.1, affine=True, track_running_stats=False)\n",
       "      )\n",
       "    )\n",
       "    (encoder_pool3): Pool3DBlock()\n",
       "    (encoder_res3): Res3DBlock(\n",
       "      (res_branch): Sequential(\n",
       "        (0): Conv3d(128, 128, kernel_size=(3, 3, 3), stride=(1, 1, 1), padding=(1, 1, 1))\n",
       "        (1): InstanceNorm3d(128, eps=1e-05, momentum=0.1, affine=True, track_running_stats=False)\n",
       "        (2): LeakyReLU(negative_slope=0.01)\n",
       "        (3): Conv3d(128, 128, kernel_size=(3, 3, 3), stride=(1, 1, 1), padding=(1, 1, 1))\n",
       "        (4): InstanceNorm3d(128, eps=1e-05, momentum=0.1, affine=True, track_running_stats=False)\n",
       "      )\n",
       "      (skip_con): Sequential()\n",
       "    )\n",
       "    (encoder_pool4): Pool3DBlock()\n",
       "    (encoder_res4): Res3DBlock(\n",
       "      (res_branch): Sequential(\n",
       "        (0): Conv3d(128, 128, kernel_size=(3, 3, 3), stride=(1, 1, 1), padding=(1, 1, 1))\n",
       "        (1): InstanceNorm3d(128, eps=1e-05, momentum=0.1, affine=True, track_running_stats=False)\n",
       "        (2): LeakyReLU(negative_slope=0.01)\n",
       "        (3): Conv3d(128, 128, kernel_size=(3, 3, 3), stride=(1, 1, 1), padding=(1, 1, 1))\n",
       "        (4): InstanceNorm3d(128, eps=1e-05, momentum=0.1, affine=True, track_running_stats=False)\n",
       "      )\n",
       "      (skip_con): Sequential()\n",
       "    )\n",
       "    (encoder_pool5): Pool3DBlock()\n",
       "    (encoder_res5): Res3DBlock(\n",
       "      (res_branch): Sequential(\n",
       "        (0): Conv3d(128, 128, kernel_size=(3, 3, 3), stride=(1, 1, 1), padding=(1, 1, 1))\n",
       "        (1): InstanceNorm3d(128, eps=1e-05, momentum=0.1, affine=True, track_running_stats=False)\n",
       "        (2): LeakyReLU(negative_slope=0.01)\n",
       "        (3): Conv3d(128, 128, kernel_size=(3, 3, 3), stride=(1, 1, 1), padding=(1, 1, 1))\n",
       "        (4): InstanceNorm3d(128, eps=1e-05, momentum=0.1, affine=True, track_running_stats=False)\n",
       "      )\n",
       "      (skip_con): Sequential()\n",
       "    )\n",
       "    (mid_res): Res3DBlock(\n",
       "      (res_branch): Sequential(\n",
       "        (0): Conv3d(128, 128, kernel_size=(3, 3, 3), stride=(1, 1, 1), padding=(1, 1, 1))\n",
       "        (1): InstanceNorm3d(128, eps=1e-05, momentum=0.1, affine=True, track_running_stats=False)\n",
       "        (2): LeakyReLU(negative_slope=0.01)\n",
       "        (3): Conv3d(128, 128, kernel_size=(3, 3, 3), stride=(1, 1, 1), padding=(1, 1, 1))\n",
       "        (4): InstanceNorm3d(128, eps=1e-05, momentum=0.1, affine=True, track_running_stats=False)\n",
       "      )\n",
       "      (skip_con): Sequential()\n",
       "    )\n",
       "    (decoder_res5): Res3DBlock(\n",
       "      (res_branch): Sequential(\n",
       "        (0): Conv3d(128, 128, kernel_size=(3, 3, 3), stride=(1, 1, 1), padding=(1, 1, 1))\n",
       "        (1): InstanceNorm3d(128, eps=1e-05, momentum=0.1, affine=True, track_running_stats=False)\n",
       "        (2): LeakyReLU(negative_slope=0.01)\n",
       "        (3): Conv3d(128, 128, kernel_size=(3, 3, 3), stride=(1, 1, 1), padding=(1, 1, 1))\n",
       "        (4): InstanceNorm3d(128, eps=1e-05, momentum=0.1, affine=True, track_running_stats=False)\n",
       "      )\n",
       "      (skip_con): Sequential()\n",
       "    )\n",
       "    (decoder_upsample5): Upsample3DBlock(\n",
       "      (block): Sequential(\n",
       "        (0): ConvTranspose3d(128, 128, kernel_size=(2, 2, 2), stride=(2, 2, 2))\n",
       "        (1): InstanceNorm3d(128, eps=1e-05, momentum=0.1, affine=True, track_running_stats=False)\n",
       "        (2): LeakyReLU(negative_slope=0.01)\n",
       "      )\n",
       "    )\n",
       "    (decoder_res4): Res3DBlock(\n",
       "      (res_branch): Sequential(\n",
       "        (0): Conv3d(128, 128, kernel_size=(3, 3, 3), stride=(1, 1, 1), padding=(1, 1, 1))\n",
       "        (1): InstanceNorm3d(128, eps=1e-05, momentum=0.1, affine=True, track_running_stats=False)\n",
       "        (2): LeakyReLU(negative_slope=0.01)\n",
       "        (3): Conv3d(128, 128, kernel_size=(3, 3, 3), stride=(1, 1, 1), padding=(1, 1, 1))\n",
       "        (4): InstanceNorm3d(128, eps=1e-05, momentum=0.1, affine=True, track_running_stats=False)\n",
       "      )\n",
       "      (skip_con): Sequential()\n",
       "    )\n",
       "    (decoder_upsample4): Upsample3DBlock(\n",
       "      (block): Sequential(\n",
       "        (0): ConvTranspose3d(128, 128, kernel_size=(2, 2, 2), stride=(2, 2, 2))\n",
       "        (1): InstanceNorm3d(128, eps=1e-05, momentum=0.1, affine=True, track_running_stats=False)\n",
       "        (2): LeakyReLU(negative_slope=0.01)\n",
       "      )\n",
       "    )\n",
       "    (decoder_res3): Res3DBlock(\n",
       "      (res_branch): Sequential(\n",
       "        (0): Conv3d(128, 128, kernel_size=(3, 3, 3), stride=(1, 1, 1), padding=(1, 1, 1))\n",
       "        (1): InstanceNorm3d(128, eps=1e-05, momentum=0.1, affine=True, track_running_stats=False)\n",
       "        (2): LeakyReLU(negative_slope=0.01)\n",
       "        (3): Conv3d(128, 128, kernel_size=(3, 3, 3), stride=(1, 1, 1), padding=(1, 1, 1))\n",
       "        (4): InstanceNorm3d(128, eps=1e-05, momentum=0.1, affine=True, track_running_stats=False)\n",
       "      )\n",
       "      (skip_con): Sequential()\n",
       "    )\n",
       "    (decoder_upsample3): Upsample3DBlock(\n",
       "      (block): Sequential(\n",
       "        (0): ConvTranspose3d(128, 128, kernel_size=(2, 2, 2), stride=(2, 2, 2))\n",
       "        (1): InstanceNorm3d(128, eps=1e-05, momentum=0.1, affine=True, track_running_stats=False)\n",
       "        (2): LeakyReLU(negative_slope=0.01)\n",
       "      )\n",
       "    )\n",
       "    (decoder_res2): Res3DBlock(\n",
       "      (res_branch): Sequential(\n",
       "        (0): Conv3d(128, 128, kernel_size=(3, 3, 3), stride=(1, 1, 1), padding=(1, 1, 1))\n",
       "        (1): InstanceNorm3d(128, eps=1e-05, momentum=0.1, affine=True, track_running_stats=False)\n",
       "        (2): LeakyReLU(negative_slope=0.01)\n",
       "        (3): Conv3d(128, 128, kernel_size=(3, 3, 3), stride=(1, 1, 1), padding=(1, 1, 1))\n",
       "        (4): InstanceNorm3d(128, eps=1e-05, momentum=0.1, affine=True, track_running_stats=False)\n",
       "      )\n",
       "      (skip_con): Sequential()\n",
       "    )\n",
       "    (decoder_upsample2): Upsample3DBlock(\n",
       "      (block): Sequential(\n",
       "        (0): ConvTranspose3d(128, 64, kernel_size=(2, 2, 2), stride=(2, 2, 2))\n",
       "        (1): InstanceNorm3d(64, eps=1e-05, momentum=0.1, affine=True, track_running_stats=False)\n",
       "        (2): LeakyReLU(negative_slope=0.01)\n",
       "      )\n",
       "    )\n",
       "    (decoder_res1): Res3DBlock(\n",
       "      (res_branch): Sequential(\n",
       "        (0): Conv3d(64, 64, kernel_size=(3, 3, 3), stride=(1, 1, 1), padding=(1, 1, 1))\n",
       "        (1): InstanceNorm3d(64, eps=1e-05, momentum=0.1, affine=True, track_running_stats=False)\n",
       "        (2): LeakyReLU(negative_slope=0.01)\n",
       "        (3): Conv3d(64, 64, kernel_size=(3, 3, 3), stride=(1, 1, 1), padding=(1, 1, 1))\n",
       "        (4): InstanceNorm3d(64, eps=1e-05, momentum=0.1, affine=True, track_running_stats=False)\n",
       "      )\n",
       "      (skip_con): Sequential()\n",
       "    )\n",
       "    (decoder_upsample1): Upsample3DBlock(\n",
       "      (block): Sequential(\n",
       "        (0): ConvTranspose3d(64, 32, kernel_size=(2, 2, 2), stride=(2, 2, 2))\n",
       "        (1): InstanceNorm3d(32, eps=1e-05, momentum=0.1, affine=True, track_running_stats=False)\n",
       "        (2): LeakyReLU(negative_slope=0.01)\n",
       "      )\n",
       "    )\n",
       "    (skip_res1): Res3DBlock(\n",
       "      (res_branch): Sequential(\n",
       "        (0): Conv3d(32, 32, kernel_size=(3, 3, 3), stride=(1, 1, 1), padding=(1, 1, 1))\n",
       "        (1): InstanceNorm3d(32, eps=1e-05, momentum=0.1, affine=True, track_running_stats=False)\n",
       "        (2): LeakyReLU(negative_slope=0.01)\n",
       "        (3): Conv3d(32, 32, kernel_size=(3, 3, 3), stride=(1, 1, 1), padding=(1, 1, 1))\n",
       "        (4): InstanceNorm3d(32, eps=1e-05, momentum=0.1, affine=True, track_running_stats=False)\n",
       "      )\n",
       "      (skip_con): Sequential()\n",
       "    )\n",
       "    (skip_res2): Res3DBlock(\n",
       "      (res_branch): Sequential(\n",
       "        (0): Conv3d(64, 64, kernel_size=(3, 3, 3), stride=(1, 1, 1), padding=(1, 1, 1))\n",
       "        (1): InstanceNorm3d(64, eps=1e-05, momentum=0.1, affine=True, track_running_stats=False)\n",
       "        (2): LeakyReLU(negative_slope=0.01)\n",
       "        (3): Conv3d(64, 64, kernel_size=(3, 3, 3), stride=(1, 1, 1), padding=(1, 1, 1))\n",
       "        (4): InstanceNorm3d(64, eps=1e-05, momentum=0.1, affine=True, track_running_stats=False)\n",
       "      )\n",
       "      (skip_con): Sequential()\n",
       "    )\n",
       "    (skip_res3): Res3DBlock(\n",
       "      (res_branch): Sequential(\n",
       "        (0): Conv3d(128, 128, kernel_size=(3, 3, 3), stride=(1, 1, 1), padding=(1, 1, 1))\n",
       "        (1): InstanceNorm3d(128, eps=1e-05, momentum=0.1, affine=True, track_running_stats=False)\n",
       "        (2): LeakyReLU(negative_slope=0.01)\n",
       "        (3): Conv3d(128, 128, kernel_size=(3, 3, 3), stride=(1, 1, 1), padding=(1, 1, 1))\n",
       "        (4): InstanceNorm3d(128, eps=1e-05, momentum=0.1, affine=True, track_running_stats=False)\n",
       "      )\n",
       "      (skip_con): Sequential()\n",
       "    )\n",
       "    (skip_res4): Res3DBlock(\n",
       "      (res_branch): Sequential(\n",
       "        (0): Conv3d(128, 128, kernel_size=(3, 3, 3), stride=(1, 1, 1), padding=(1, 1, 1))\n",
       "        (1): InstanceNorm3d(128, eps=1e-05, momentum=0.1, affine=True, track_running_stats=False)\n",
       "        (2): LeakyReLU(negative_slope=0.01)\n",
       "        (3): Conv3d(128, 128, kernel_size=(3, 3, 3), stride=(1, 1, 1), padding=(1, 1, 1))\n",
       "        (4): InstanceNorm3d(128, eps=1e-05, momentum=0.1, affine=True, track_running_stats=False)\n",
       "      )\n",
       "      (skip_con): Sequential()\n",
       "    )\n",
       "    (skip_res5): Res3DBlock(\n",
       "      (res_branch): Sequential(\n",
       "        (0): Conv3d(128, 128, kernel_size=(3, 3, 3), stride=(1, 1, 1), padding=(1, 1, 1))\n",
       "        (1): InstanceNorm3d(128, eps=1e-05, momentum=0.1, affine=True, track_running_stats=False)\n",
       "        (2): LeakyReLU(negative_slope=0.01)\n",
       "        (3): Conv3d(128, 128, kernel_size=(3, 3, 3), stride=(1, 1, 1), padding=(1, 1, 1))\n",
       "        (4): InstanceNorm3d(128, eps=1e-05, momentum=0.1, affine=True, track_running_stats=False)\n",
       "      )\n",
       "      (skip_con): Sequential()\n",
       "    )\n",
       "  )\n",
       "  (back_layers): Sequential(\n",
       "    (0): Res3DBlock(\n",
       "      (res_branch): Sequential(\n",
       "        (0): Conv3d(32, 32, kernel_size=(3, 3, 3), stride=(1, 1, 1), padding=(1, 1, 1))\n",
       "        (1): InstanceNorm3d(32, eps=1e-05, momentum=0.1, affine=True, track_running_stats=False)\n",
       "        (2): LeakyReLU(negative_slope=0.01)\n",
       "        (3): Conv3d(32, 32, kernel_size=(3, 3, 3), stride=(1, 1, 1), padding=(1, 1, 1))\n",
       "        (4): InstanceNorm3d(32, eps=1e-05, momentum=0.1, affine=True, track_running_stats=False)\n",
       "      )\n",
       "      (skip_con): Sequential()\n",
       "    )\n",
       "    (1): Basic3DBlock(\n",
       "      (block): Sequential(\n",
       "        (0): Conv3d(32, 32, kernel_size=(1, 1, 1), stride=(1, 1, 1))\n",
       "        (1): InstanceNorm3d(32, eps=1e-05, momentum=0.1, affine=True, track_running_stats=False)\n",
       "        (2): LeakyReLU(negative_slope=0.01)\n",
       "      )\n",
       "    )\n",
       "  )\n",
       "  (output_layer): Conv3d(32, 1, kernel_size=(1, 1, 1), stride=(1, 1, 1))\n",
       ")"
      ]
     },
     "execution_count": 133,
     "metadata": {},
     "output_type": "execute_result"
    }
   ],
   "source": [
    "model"
   ]
  },
  {
   "cell_type": "code",
   "execution_count": null,
   "id": "a5f54e32-5bd8-4484-9e94-b88f17152a08",
   "metadata": {
    "tags": []
   },
   "outputs": [
    {
     "name": "stdout",
     "output_type": "stream",
     "text": [
      "Start training!\n",
      "TRAIN EPOCH: 0 ... \n",
      "For train, iter: 0, grad_norm:4125.592311 batch_time:3.072 Dice:0.999 coverage:0.169 dice_score:0.001\n",
      "For train, iter: 12, grad_norm:2244.503859 batch_time:2.999 Dice:0.992 coverage:0.73 dice_score:0.008\n",
      "For train, iter: 13, grad_norm:1091.755573 batch_time:3.002 Dice:0.995 coverage:0.445 dice_score:0.005\n",
      "For train, iter: 14, grad_norm:7862.322366 batch_time:2.998 Dice:0.983 coverage:0.69 dice_score:0.017\n",
      "For train, iter: 15, grad_norm:529.125124 batch_time:3.009 Dice:0.997 coverage:0.887 dice_score:0.003\n",
      "For train, iter: 16, grad_norm:1358.783927 batch_time:3.048 Dice:0.993 coverage:0.635 dice_score:0.007\n",
      "For train, iter: 17, grad_norm:1393.479571 batch_time:2.997 Dice:0.993 coverage:0.796 dice_score:0.007\n",
      "For train, iter: 18, grad_norm:873.708559 batch_time:2.994 Dice:0.994 coverage:0.704 dice_score:0.006\n",
      "For train, iter: 19, grad_norm:606.299534 batch_time:2.992 Dice:0.999 coverage:0.295 dice_score:0.001\n",
      "For train, iter: 20, grad_norm:2370.744533 batch_time:3.048 Dice:0.988 coverage:0.926 dice_score:0.012\n",
      "For train, iter: 21, grad_norm:1213.596118 batch_time:2.998 Dice:0.994 coverage:0.848 dice_score:0.006\n",
      "For train, iter: 22, grad_norm:1615.822141 batch_time:3.011 Dice:0.996 coverage:0.487 dice_score:0.004\n",
      "For train, iter: 23, grad_norm:952.541125 batch_time:3.015 Dice:0.996 coverage:0.728 dice_score:0.004\n",
      "For train, iter: 24, grad_norm:2660.329009 batch_time:3.012 Dice:0.987 coverage:0.784 dice_score:0.013\n",
      "For train, iter: 25, grad_norm:8919.102839 batch_time:3.044 Dice:0.946 coverage:0.794 dice_score:0.054\n",
      "For train, iter: 26, grad_norm:690.91045 batch_time:2.133 Dice:0.998 coverage:0.233 dice_score:0.002\n",
      "VAL EPOCH: 0 ... \n",
      "For val, iter: 0, batch_time:0.026 Dice:0.971 coverage:0.953 dice_score:0.029\n",
      "For val, iter: 1, batch_time:0.025 Dice:0.984 coverage:0.952 dice_score:0.016\n",
      "For val, iter: 2, batch_time:0.025 Dice:0.984 coverage:0.793 dice_score:0.016\n",
      "For val, iter: 3, batch_time:0.025 Dice:0.996 coverage:0.25 dice_score:0.004\n",
      "For val, iter: 4, batch_time:0.025 Dice:0.97 coverage:0.56 dice_score:0.03\n",
      "For val, iter: 5, batch_time:0.028 Dice:0.988 coverage:0.633 dice_score:0.012\n",
      "For val, iter: 6, batch_time:0.02 Dice:0.983 coverage:0.415 dice_score:0.017\n",
      "TRAIN EPOCH: 1 ... \n",
      "For train, iter: 0, grad_norm:5314.398405 batch_time:3.054 Dice:0.98 coverage:0.799 dice_score:0.02\n",
      "For train, iter: 1, grad_norm:5059.366608 batch_time:3.023 Dice:0.986 coverage:0.641 dice_score:0.014\n",
      "For train, iter: 2, grad_norm:4909.812914 batch_time:3.009 Dice:0.994 coverage:0.717 dice_score:0.006\n",
      "For train, iter: 3, grad_norm:3167.21848 batch_time:3.01 Dice:0.995 coverage:0.766 dice_score:0.005\n",
      "For train, iter: 4, grad_norm:11471.904048 batch_time:3.021 Dice:0.968 coverage:0.906 dice_score:0.032\n",
      "For train, iter: 5, grad_norm:10781.383169 batch_time:3.06 Dice:0.99 coverage:0.34 dice_score:0.01\n",
      "For train, iter: 6, grad_norm:3978.600185 batch_time:3.029 Dice:0.994 coverage:0.283 dice_score:0.006\n",
      "For train, iter: 7, grad_norm:31437.198209 batch_time:3.027 Dice:0.937 coverage:0.833 dice_score:0.063\n",
      "For train, iter: 8, grad_norm:2003.452796 batch_time:3.005 Dice:0.995 coverage:0.673 dice_score:0.005\n",
      "For train, iter: 9, grad_norm:3677.239909 batch_time:3.008 Dice:0.984 coverage:0.514 dice_score:0.016\n",
      "For train, iter: 10, grad_norm:540.944607 batch_time:3.045 Dice:0.999 coverage:0.15 dice_score:0.001\n",
      "For train, iter: 11, grad_norm:10036.174231 batch_time:3.019 Dice:0.948 coverage:0.854 dice_score:0.052\n",
      "For train, iter: 12, grad_norm:11463.10447 batch_time:3.025 Dice:0.988 coverage:0.424 dice_score:0.012\n",
      "For train, iter: 13, grad_norm:2645.258027 batch_time:3.023 Dice:0.991 coverage:0.283 dice_score:0.009\n",
      "For train, iter: 14, grad_norm:16352.08891 batch_time:3.02 Dice:0.965 coverage:0.582 dice_score:0.035\n",
      "For train, iter: 15, grad_norm:2118.897446 batch_time:3.04 Dice:0.995 coverage:0.74 dice_score:0.005\n",
      "For train, iter: 16, grad_norm:5630.601101 batch_time:3.019 Dice:0.993 coverage:0.354 dice_score:0.007\n",
      "For train, iter: 17, grad_norm:2999.989408 batch_time:3.029 Dice:0.99 coverage:0.726 dice_score:0.01\n",
      "For train, iter: 18, grad_norm:1065.824772 batch_time:3.019 Dice:0.992 coverage:0.676 dice_score:0.008\n",
      "For train, iter: 19, grad_norm:317.474848 batch_time:3.007 Dice:0.999 coverage:0.296 dice_score:0.001\n",
      "For train, iter: 20, grad_norm:3309.022873 batch_time:3.058 Dice:0.986 coverage:0.851 dice_score:0.014\n",
      "For train, iter: 21, grad_norm:973.02102 batch_time:3.006 Dice:0.994 coverage:0.829 dice_score:0.006\n",
      "For train, iter: 22, grad_norm:663.803629 batch_time:3.015 Dice:0.995 coverage:0.585 dice_score:0.005\n",
      "For train, iter: 23, grad_norm:881.264331 batch_time:3.021 Dice:0.997 coverage:0.573 dice_score:0.003\n",
      "For train, iter: 24, grad_norm:2790.09736 batch_time:3.017 Dice:0.986 coverage:0.816 dice_score:0.014\n",
      "For train, iter: 25, grad_norm:10798.68736 batch_time:3.05 Dice:0.936 coverage:0.878 dice_score:0.064\n",
      "For train, iter: 26, grad_norm:1064.078144 batch_time:2.136 Dice:0.998 coverage:0.173 dice_score:0.002\n",
      "VAL EPOCH: 1 ... \n",
      "For val, iter: 0, batch_time:0.025 Dice:0.955 coverage:0.919 dice_score:0.045\n",
      "For val, iter: 1, batch_time:0.029 Dice:0.976 coverage:0.933 dice_score:0.024\n",
      "For val, iter: 2, batch_time:0.034 Dice:0.976 coverage:0.767 dice_score:0.024\n",
      "For val, iter: 3, batch_time:0.048 Dice:0.995 coverage:0.214 dice_score:0.005\n",
      "For val, iter: 4, batch_time:0.029 Dice:0.961 coverage:0.478 dice_score:0.039\n",
      "For val, iter: 5, batch_time:0.026 Dice:0.983 coverage:0.565 dice_score:0.017\n",
      "For val, iter: 6, batch_time:0.035 Dice:0.985 coverage:0.231 dice_score:0.015\n",
      "TRAIN EPOCH: 2 ... \n",
      "For train, iter: 0, grad_norm:6514.863004 batch_time:3.019 Dice:0.972 coverage:0.713 dice_score:0.028\n",
      "For train, iter: 1, grad_norm:3569.174042 batch_time:3.064 Dice:0.983 coverage:0.475 dice_score:0.017\n",
      "For train, iter: 2, grad_norm:4017.986137 batch_time:3.019 Dice:0.992 coverage:0.568 dice_score:0.008\n",
      "For train, iter: 3, grad_norm:4723.166099 batch_time:3.009 Dice:0.994 coverage:0.532 dice_score:0.006\n",
      "For train, iter: 4, grad_norm:13048.902045 batch_time:3.022 Dice:0.949 coverage:0.776 dice_score:0.051\n",
      "For train, iter: 5, grad_norm:4683.481968 batch_time:3.022 Dice:0.989 coverage:0.233 dice_score:0.011\n",
      "For train, iter: 6, grad_norm:2934.029413 batch_time:3.057 Dice:0.992 coverage:0.232 dice_score:0.008\n",
      "For train, iter: 7, grad_norm:19035.110326 batch_time:3.03 Dice:0.899 coverage:0.891 dice_score:0.101\n",
      "For train, iter: 8, grad_norm:2385.556503 batch_time:3.019 Dice:0.995 coverage:0.492 dice_score:0.005\n",
      "For train, iter: 9, grad_norm:4690.931231 batch_time:3.017 Dice:0.969 coverage:0.578 dice_score:0.031\n",
      "For train, iter: 10, grad_norm:2100.077191 batch_time:3.014 Dice:0.998 coverage:0.163 dice_score:0.002\n",
      "For train, iter: 11, grad_norm:18614.971999 batch_time:3.049 Dice:0.91 coverage:0.768 dice_score:0.09\n",
      "For train, iter: 12, grad_norm:14293.245042 batch_time:3.016 Dice:0.971 coverage:0.497 dice_score:0.029\n",
      "For train, iter: 13, grad_norm:3427.370615 batch_time:3.016 Dice:0.987 coverage:0.204 dice_score:0.013\n",
      "For train, iter: 14, grad_norm:25905.891197 batch_time:3.021 Dice:0.965 coverage:0.291 dice_score:0.035\n",
      "For train, iter: 15, grad_norm:2886.963293 batch_time:3.022 Dice:0.99 coverage:0.824 dice_score:0.01\n",
      "For train, iter: 16, grad_norm:3930.418536 batch_time:3.047 Dice:0.988 coverage:0.328 dice_score:0.012\n",
      "For train, iter: 17, grad_norm:5104.291273 batch_time:3.014 Dice:0.987 coverage:0.564 dice_score:0.013\n",
      "For train, iter: 18, grad_norm:2920.535898 batch_time:3.017 Dice:0.988 coverage:0.63 dice_score:0.012\n",
      "For train, iter: 19, grad_norm:1000.055173 batch_time:3.017 Dice:0.999 coverage:0.211 dice_score:0.001\n",
      "For train, iter: 20, grad_norm:5555.538441 batch_time:3.031 Dice:0.977 coverage:0.823 dice_score:0.023\n",
      "For train, iter: 21, grad_norm:2515.484927 batch_time:3.026 Dice:0.989 coverage:0.818 dice_score:0.011\n",
      "For train, iter: 22, grad_norm:1446.683606 batch_time:3.03 Dice:0.993 coverage:0.421 dice_score:0.007\n",
      "For train, iter: 23, grad_norm:1860.443272 batch_time:3.017 Dice:0.993 coverage:0.689 dice_score:0.007\n",
      "For train, iter: 24, grad_norm:7894.555437 batch_time:3.019 Dice:0.971 coverage:0.729 dice_score:0.029\n",
      "For train, iter: 25, grad_norm:28650.245157 batch_time:3.033 Dice:0.899 coverage:0.672 dice_score:0.101\n",
      "For train, iter: 26, grad_norm:925.90848 batch_time:2.135 Dice:0.998 coverage:0.094 dice_score:0.002\n",
      "VAL EPOCH: 2 ... \n",
      "For val, iter: 0, batch_time:0.029 Dice:0.925 coverage:0.904 dice_score:0.075\n",
      "For val, iter: 1, batch_time:0.028 Dice:0.958 coverage:0.914 dice_score:0.042\n",
      "For val, iter: 2, batch_time:0.028 Dice:0.965 coverage:0.665 dice_score:0.035\n",
      "For val, iter: 3, batch_time:0.025 Dice:0.995 coverage:0.113 dice_score:0.005\n",
      "For val, iter: 4, batch_time:0.025 Dice:0.943 coverage:0.396 dice_score:0.057\n",
      "For val, iter: 5, batch_time:0.025 Dice:0.975 coverage:0.495 dice_score:0.025\n",
      "For val, iter: 6, batch_time:0.02 Dice:0.986 coverage:0.126 dice_score:0.014\n",
      "TRAIN EPOCH: 3 ... \n",
      "For train, iter: 0, grad_norm:7242.571953 batch_time:3.071 Dice:0.958 coverage:0.617 dice_score:0.042\n",
      "For train, iter: 1, grad_norm:4053.025285 batch_time:3.016 Dice:0.973 coverage:0.453 dice_score:0.027\n",
      "For train, iter: 2, grad_norm:3585.008034 batch_time:3.023 Dice:0.986 coverage:0.547 dice_score:0.014\n",
      "For train, iter: 3, grad_norm:3359.49443 batch_time:3.014 Dice:0.988 coverage:0.565 dice_score:0.012\n",
      "For train, iter: 4, grad_norm:18084.788846 batch_time:3.021 Dice:0.917 coverage:0.656 dice_score:0.083\n",
      "For train, iter: 5, grad_norm:5972.057621 batch_time:3.056 Dice:0.985 coverage:0.161 dice_score:0.015\n",
      "For train, iter: 6, grad_norm:5035.733147 batch_time:3.03 Dice:0.99 coverage:0.167 dice_score:0.01\n",
      "For train, iter: 7, grad_norm:35972.864726 batch_time:3.025 Dice:0.856 coverage:0.816 dice_score:0.144\n",
      "For train, iter: 8, grad_norm:3476.7805 batch_time:3.018 Dice:0.988 coverage:0.633 dice_score:0.012\n",
      "For train, iter: 9, grad_norm:7638.889396 batch_time:3.03 Dice:0.959 coverage:0.452 dice_score:0.041\n",
      "For train, iter: 10, grad_norm:960.260752 batch_time:3.063 Dice:0.998 coverage:0.071 dice_score:0.002\n",
      "For train, iter: 11, grad_norm:23059.622733 batch_time:3.03 Dice:0.83 coverage:0.726 dice_score:0.17\n",
      "For train, iter: 12, grad_norm:53318.567087 batch_time:3.038 Dice:0.964 coverage:0.287 dice_score:0.036\n",
      "For train, iter: 13, grad_norm:3676.127312 batch_time:3.017 Dice:0.986 coverage:0.132 dice_score:0.014\n",
      "For train, iter: 14, grad_norm:14660.474726 batch_time:3.013 Dice:0.927 coverage:0.437 dice_score:0.073\n",
      "For train, iter: 15, grad_norm:3164.992442 batch_time:3.069 Dice:0.984 coverage:0.858 dice_score:0.016\n",
      "For train, iter: 16, grad_norm:3869.844486 batch_time:3.018 Dice:0.986 coverage:0.224 dice_score:0.014\n",
      "For train, iter: 17, grad_norm:3704.099869 batch_time:3.023 Dice:0.984 coverage:0.378 dice_score:0.016\n",
      "For train, iter: 18, grad_norm:6402.645006 batch_time:3.018 Dice:0.981 coverage:0.533 dice_score:0.019\n",
      "For train, iter: 19, grad_norm:251.159352 batch_time:3.005 Dice:0.999 coverage:0.062 dice_score:0.001\n",
      "For train, iter: 20, grad_norm:12292.947611 batch_time:3.083 Dice:0.957 coverage:0.67 dice_score:0.043\n",
      "For train, iter: 21, grad_norm:5626.524389 batch_time:3.031 Dice:0.978 coverage:0.684 dice_score:0.022\n",
      "For train, iter: 22, grad_norm:1540.733879 batch_time:3.014 Dice:0.99 coverage:0.23 dice_score:0.01\n",
      "For train, iter: 23, grad_norm:2146.863556 batch_time:3.026 Dice:0.991 coverage:0.306 dice_score:0.009\n",
      "For train, iter: 24, grad_norm:23175.892788 batch_time:3.034 Dice:0.93 coverage:0.577 dice_score:0.07\n",
      "For train, iter: 25, grad_norm:69343.707914 batch_time:3.058 Dice:0.864 coverage:0.347 dice_score:0.136\n",
      "For train, iter: 26, grad_norm:2522.864679 batch_time:2.141 Dice:0.996 coverage:0.077 dice_score:0.004\n",
      "VAL EPOCH: 3 ... \n",
      "For val, iter: 0, batch_time:0.025 Dice:0.863 coverage:0.811 dice_score:0.137\n",
      "For val, iter: 1, batch_time:0.025 Dice:0.909 coverage:0.854 dice_score:0.091\n",
      "For val, iter: 2, batch_time:0.026 Dice:0.928 coverage:0.598 dice_score:0.072\n",
      "For val, iter: 3, batch_time:0.03 Dice:0.995 coverage:0.053 dice_score:0.005\n",
      "For val, iter: 4, batch_time:0.026 Dice:0.918 coverage:0.251 dice_score:0.082\n",
      "For val, iter: 5, batch_time:0.028 Dice:0.951 coverage:0.436 dice_score:0.049\n",
      "For val, iter: 6, batch_time:0.025 Dice:0.986 coverage:0.057 dice_score:0.014\n",
      "TRAIN EPOCH: 4 ... \n",
      "For train, iter: 0, grad_norm:17539.676408 batch_time:3.026 Dice:0.925 coverage:0.508 dice_score:0.075\n",
      "For train, iter: 1, grad_norm:11616.25319 batch_time:3.072 Dice:0.966 coverage:0.253 dice_score:0.034\n",
      "For train, iter: 2, grad_norm:5474.773288 batch_time:3.016 Dice:0.979 coverage:0.457 dice_score:0.021\n",
      "For train, iter: 3, grad_norm:6849.52499 batch_time:3.027 Dice:0.974 coverage:0.719 dice_score:0.026\n",
      "For train, iter: 4, grad_norm:24880.439142 batch_time:3.036 Dice:0.853 coverage:0.763 dice_score:0.147\n",
      "For train, iter: 5, grad_norm:8232.353437 batch_time:3.025 Dice:0.981 coverage:0.101 dice_score:0.019\n",
      "For train, iter: 6, grad_norm:5932.024671 batch_time:3.064 Dice:0.984 coverage:0.093 dice_score:0.016\n",
      "For train, iter: 7, grad_norm:64465.723265 batch_time:3.031 Dice:0.797 coverage:0.404 dice_score:0.203\n",
      "For train, iter: 8, grad_norm:7368.868742 batch_time:3.021 Dice:0.985 coverage:0.393 dice_score:0.015\n",
      "For train, iter: 9, grad_norm:17608.843999 batch_time:3.03 Dice:0.943 coverage:0.442 dice_score:0.057\n",
      "For train, iter: 10, grad_norm:946.187763 batch_time:3.012 Dice:0.998 coverage:0.071 dice_score:0.002\n",
      "For train, iter: 11, grad_norm:48911.85216 batch_time:3.017 Dice:0.838 coverage:0.777 dice_score:0.162\n",
      "For train, iter: 12, grad_norm:11519.992769 batch_time:3.046 Dice:0.937 coverage:0.577 dice_score:0.063\n",
      "For train, iter: 13, grad_norm:6265.508406 batch_time:3.025 Dice:0.977 coverage:0.148 dice_score:0.023\n",
      "For train, iter: 14, grad_norm:29355.384137 batch_time:3.022 Dice:0.948 coverage:0.169 dice_score:0.052\n",
      "For train, iter: 15, grad_norm:5881.93865 batch_time:3.029 Dice:0.98 coverage:0.484 dice_score:0.02\n",
      "For train, iter: 16, grad_norm:7183.461576 batch_time:3.023 Dice:0.989 coverage:0.081 dice_score:0.011\n",
      "For train, iter: 17, grad_norm:18480.932069 batch_time:3.068 Dice:0.967 coverage:0.298 dice_score:0.033\n",
      "For train, iter: 18, grad_norm:20131.986181 batch_time:3.028 Dice:0.944 coverage:0.438 dice_score:0.056\n",
      "For train, iter: 19, grad_norm:1485.640158 batch_time:3.008 Dice:0.998 coverage:0.053 dice_score:0.002\n",
      "For train, iter: 20, grad_norm:25107.925378 batch_time:3.02 Dice:0.882 coverage:0.522 dice_score:0.118\n",
      "For train, iter: 21, grad_norm:17930.620567 batch_time:3.027 Dice:0.96 coverage:0.314 dice_score:0.04\n",
      "For train, iter: 22, grad_norm:5289.09423 batch_time:3.049 Dice:0.98 coverage:0.145 dice_score:0.02\n",
      "For train, iter: 23, grad_norm:13733.250022 batch_time:3.024 Dice:0.967 coverage:0.408 dice_score:0.033\n",
      "For train, iter: 24, grad_norm:37141.424566 batch_time:3.031 Dice:0.908 coverage:0.327 dice_score:0.092\n",
      "For train, iter: 25, grad_norm:84790.282862 batch_time:3.03 Dice:0.853 coverage:0.288 dice_score:0.147\n",
      "For train, iter: 26, grad_norm:1973.032377 batch_time:2.143 Dice:0.997 coverage:0.044 dice_score:0.003\n",
      "VAL EPOCH: 4 ... \n",
      "For val, iter: 0, batch_time:0.028 Dice:0.821 coverage:0.762 dice_score:0.179\n",
      "For val, iter: 1, batch_time:0.028 Dice:0.868 coverage:0.872 dice_score:0.132\n",
      "For val, iter: 2, batch_time:0.028 Dice:0.895 coverage:0.669 dice_score:0.105\n",
      "For val, iter: 3, batch_time:0.038 Dice:0.995 coverage:0.039 dice_score:0.005\n",
      "For val, iter: 4, batch_time:0.029 Dice:0.87 coverage:0.313 dice_score:0.13\n",
      "For val, iter: 5, batch_time:0.025 Dice:0.936 coverage:0.409 dice_score:0.064\n",
      "For val, iter: 6, batch_time:0.02 Dice:0.985 coverage:0.047 dice_score:0.015\n",
      "TRAIN EPOCH: 5 ... \n",
      "For train, iter: 0, grad_norm:28708.436606 batch_time:3.019 Dice:0.879 coverage:0.585 dice_score:0.121\n",
      "For train, iter: 1, grad_norm:10491.472967 batch_time:3.029 Dice:0.943 coverage:0.354 dice_score:0.057\n",
      "For train, iter: 2, grad_norm:7241.058432 batch_time:3.02 Dice:0.973 coverage:0.391 dice_score:0.027\n",
      "For train, iter: 3, grad_norm:6390.693496 batch_time:3.023 Dice:0.977 coverage:0.406 dice_score:0.023\n",
      "For train, iter: 4, grad_norm:35935.613811 batch_time:3.037 Dice:0.799 coverage:0.645 dice_score:0.201\n",
      "For train, iter: 5, grad_norm:11389.681175 batch_time:3.026 Dice:0.978 coverage:0.067 dice_score:0.022\n",
      "For train, iter: 6, grad_norm:10838.409909 batch_time:3.021 Dice:0.981 coverage:0.06 dice_score:0.019\n",
      "For train, iter: 7, grad_norm:119639.503683 batch_time:3.04 Dice:0.765 coverage:0.293 dice_score:0.235\n",
      "For train, iter: 8, grad_norm:8520.936335 batch_time:3.025 Dice:0.97 coverage:0.315 dice_score:0.03\n",
      "For train, iter: 9, grad_norm:10136.242308 batch_time:3.021 Dice:0.914 coverage:0.329 dice_score:0.086\n",
      "For train, iter: 10, grad_norm:1309.946467 batch_time:3.037 Dice:0.997 coverage:0.037 dice_score:0.003\n",
      "For train, iter: 11, grad_norm:38268.13468 batch_time:3.02 Dice:0.711 coverage:0.72 dice_score:0.289\n",
      "For train, iter: 12, grad_norm:24543.851979 batch_time:3.021 Dice:0.882 coverage:0.574 dice_score:0.118\n",
      "For train, iter: 13, grad_norm:5699.958979 batch_time:3.015 Dice:0.978 coverage:0.079 dice_score:0.022\n",
      "For train, iter: 14, grad_norm:38018.149216 batch_time:3.026 Dice:0.928 coverage:0.171 dice_score:0.072\n",
      "For train, iter: 15, grad_norm:12325.412697 batch_time:3.046 Dice:0.959 coverage:0.462 dice_score:0.041\n",
      "For train, iter: 16, grad_norm:14540.282846 batch_time:3.011 Dice:0.958 coverage:0.22 dice_score:0.042\n",
      "For train, iter: 17, grad_norm:10775.089633 batch_time:3.025 Dice:0.968 coverage:0.291 dice_score:0.032\n",
      "For train, iter: 18, grad_norm:31464.073058 batch_time:3.036 Dice:0.944 coverage:0.524 dice_score:0.056\n",
      "For train, iter: 19, grad_norm:822.262338 batch_time:3.016 Dice:0.998 coverage:0.056 dice_score:0.002\n",
      "For train, iter: 20, grad_norm:19964.89514 batch_time:3.032 Dice:0.889 coverage:0.451 dice_score:0.111\n",
      "For train, iter: 21, grad_norm:22392.936967 batch_time:3.072 Dice:0.94 coverage:0.426 dice_score:0.06\n",
      "For train, iter: 22, grad_norm:6631.296469 batch_time:3.03 Dice:0.988 coverage:0.056 dice_score:0.012\n",
      "For train, iter: 23, grad_norm:13146.152673 batch_time:3.014 Dice:0.985 coverage:0.096 dice_score:0.015\n",
      "For train, iter: 24, grad_norm:47985.20314 batch_time:3.02 Dice:0.807 coverage:0.438 dice_score:0.193\n",
      "For train, iter: 25, grad_norm:96374.817204 batch_time:3.031 Dice:0.764 coverage:0.451 dice_score:0.236\n",
      "For train, iter: 26, grad_norm:2444.216777 batch_time:2.174 Dice:0.996 coverage:0.036 dice_score:0.004\n",
      "VAL EPOCH: 5 ... \n",
      "For val, iter: 0, batch_time:0.026 Dice:0.786 coverage:0.672 dice_score:0.214\n",
      "For val, iter: 1, batch_time:0.028 Dice:0.822 coverage:0.909 dice_score:0.178\n",
      "For val, iter: 2, batch_time:0.028 Dice:0.855 coverage:0.768 dice_score:0.145\n",
      "For val, iter: 3, batch_time:0.025 Dice:0.994 coverage:0.036 dice_score:0.006\n",
      "For val, iter: 4, batch_time:0.025 Dice:0.817 coverage:0.33 dice_score:0.183\n",
      "For val, iter: 5, batch_time:0.025 Dice:0.924 coverage:0.416 dice_score:0.076\n",
      "For val, iter: 6, batch_time:0.031 Dice:0.981 coverage:0.043 dice_score:0.019\n",
      "TRAIN EPOCH: 6 ... \n",
      "For train, iter: 0, grad_norm:45492.562011 batch_time:3.019 Dice:0.835 coverage:0.625 dice_score:0.165\n",
      "For train, iter: 1, grad_norm:34868.019739 batch_time:3.034 Dice:0.93 coverage:0.316 dice_score:0.07\n",
      "For train, iter: 2, grad_norm:12394.859999 batch_time:3.041 Dice:0.975 coverage:0.332 dice_score:0.025\n",
      "For train, iter: 3, grad_norm:5979.913819 batch_time:3.022 Dice:0.984 coverage:0.309 dice_score:0.016\n",
      "For train, iter: 4, grad_norm:46858.574854 batch_time:3.022 Dice:0.834 coverage:0.689 dice_score:0.166\n",
      "For train, iter: 5, grad_norm:20656.607395 batch_time:3.025 Dice:0.938 coverage:0.262 dice_score:0.062\n",
      "For train, iter: 6, grad_norm:5161.327247 batch_time:3.021 Dice:0.99 coverage:0.047 dice_score:0.01\n",
      "For train, iter: 7, grad_norm:32643.455408 batch_time:3.076 Dice:0.692 coverage:0.449 dice_score:0.308\n",
      "For train, iter: 8, grad_norm:9755.531708 batch_time:3.016 Dice:0.961 coverage:0.317 dice_score:0.039\n",
      "For train, iter: 9, grad_norm:17337.869837 batch_time:3.022 Dice:0.897 coverage:0.273 dice_score:0.103\n",
      "For train, iter: 10, grad_norm:3743.126284 batch_time:3.025 Dice:0.993 coverage:0.03 dice_score:0.007\n",
      "For train, iter: 11, grad_norm:134178.317769 batch_time:3.033 Dice:0.736 coverage:0.304 dice_score:0.264\n",
      "For train, iter: 12, grad_norm:39976.901275 batch_time:3.053 Dice:0.802 coverage:0.454 dice_score:0.198\n",
      "For train, iter: 13, grad_norm:7657.505702 batch_time:3.027 Dice:0.981 coverage:0.05 dice_score:0.019\n",
      "For train, iter: 14, grad_norm:23191.119522 batch_time:3.023 Dice:0.902 coverage:0.226 dice_score:0.098\n",
      "For train, iter: 15, grad_norm:22083.663764 batch_time:3.019 Dice:0.946 coverage:0.66 dice_score:0.054\n",
      "For train, iter: 16, grad_norm:7942.499303 batch_time:3.024 Dice:0.956 coverage:0.2 dice_score:0.044\n",
      "For train, iter: 17, grad_norm:16762.457986 batch_time:3.064 Dice:0.967 coverage:0.149 dice_score:0.033\n",
      "For train, iter: 18, grad_norm:69360.275962 batch_time:3.021 Dice:0.877 coverage:0.467 dice_score:0.123\n",
      "For train, iter: 19, grad_norm:2359.943237 batch_time:3.018 Dice:0.998 coverage:0.028 dice_score:0.002\n",
      "For train, iter: 20, grad_norm:21281.161536 batch_time:3.014 Dice:0.865 coverage:0.252 dice_score:0.135\n",
      "For train, iter: 21, grad_norm:25012.748284 batch_time:3.02 Dice:0.891 coverage:0.289 dice_score:0.109\n",
      "For train, iter: 22, grad_norm:10507.446081 batch_time:3.07 Dice:0.962 coverage:0.1 dice_score:0.038\n",
      "For train, iter: 23, grad_norm:9905.32982 batch_time:3.015 Dice:0.981 coverage:0.072 dice_score:0.019\n",
      "For train, iter: 24, grad_norm:57435.468209 batch_time:3.028 Dice:0.824 coverage:0.25 dice_score:0.176\n",
      "For train, iter: 25, grad_norm:140714.405592 batch_time:3.021 Dice:0.771 coverage:0.229 dice_score:0.229\n",
      "For train, iter: 26, grad_norm:3971.329866 batch_time:2.137 Dice:0.996 coverage:0.021 dice_score:0.004\n",
      "VAL EPOCH: 6 ... \n",
      "For val, iter: 0, batch_time:0.025 Dice:0.733 coverage:0.6 dice_score:0.267\n",
      "For val, iter: 1, batch_time:0.031 Dice:0.746 coverage:0.822 dice_score:0.254\n",
      "For val, iter: 2, batch_time:0.026 Dice:0.809 coverage:0.625 dice_score:0.191\n",
      "For val, iter: 3, batch_time:0.026 Dice:0.994 coverage:0.022 dice_score:0.006\n",
      "For val, iter: 4, batch_time:0.026 Dice:0.818 coverage:0.267 dice_score:0.182\n",
      "For val, iter: 5, batch_time:0.028 Dice:0.883 coverage:0.369 dice_score:0.117\n",
      "For val, iter: 6, batch_time:0.02 Dice:0.985 coverage:0.024 dice_score:0.015\n",
      "TRAIN EPOCH: 7 ... \n",
      "For train, iter: 0, grad_norm:79334.757306 batch_time:3.034 Dice:0.785 coverage:0.539 dice_score:0.215\n",
      "For train, iter: 1, grad_norm:16501.30483 batch_time:3.022 Dice:0.902 coverage:0.314 dice_score:0.098\n",
      "For train, iter: 2, grad_norm:17764.396836 batch_time:3.02 Dice:0.956 coverage:0.371 dice_score:0.044\n",
      "For train, iter: 3, grad_norm:4985.11647 batch_time:3.042 Dice:0.979 coverage:0.301 dice_score:0.021\n",
      "For train, iter: 4, grad_norm:101318.063003 batch_time:3.022 Dice:0.706 coverage:0.636 dice_score:0.294\n",
      "For train, iter: 5, grad_norm:11368.696892 batch_time:3.017 Dice:0.946 coverage:0.139 dice_score:0.054\n",
      "For train, iter: 6, grad_norm:7715.792342 batch_time:3.021 Dice:0.986 coverage:0.037 dice_score:0.014\n",
      "For train, iter: 7, grad_norm:30034.931461 batch_time:3.019 Dice:0.649 coverage:0.323 dice_score:0.351\n",
      "For train, iter: 8, grad_norm:30457.680769 batch_time:3.048 Dice:0.937 coverage:0.277 dice_score:0.063\n",
      "For train, iter: 9, grad_norm:21670.42894 batch_time:3.018 Dice:0.876 coverage:0.22 dice_score:0.124\n",
      "For train, iter: 10, grad_norm:7470.221089 batch_time:3.028 Dice:0.992 coverage:0.019 dice_score:0.008\n"
     ]
    },
    {
     "name": "stderr",
     "output_type": "stream",
     "text": [
      "NaN or Inf found in input tensor.\n"
     ]
    },
    {
     "name": "stdout",
     "output_type": "stream",
     "text": [
      "For train, iter: 11, grad_norm:inf batch_time:3.007 Dice:0.659 coverage:0.299 dice_score:0.341\n",
      "For train, iter: 12, grad_norm:95149.492239 batch_time:3.018 Dice:0.79 coverage:0.223 dice_score:0.21\n",
      "For train, iter: 13, grad_norm:5463.514379 batch_time:3.052 Dice:0.965 coverage:0.037 dice_score:0.035\n",
      "For train, iter: 14, grad_norm:20931.83504 batch_time:3.021 Dice:0.897 coverage:0.188 dice_score:0.103\n",
      "For train, iter: 15, grad_norm:21991.489636 batch_time:3.014 Dice:0.912 coverage:0.602 dice_score:0.088\n",
      "For train, iter: 16, grad_norm:16695.579588 batch_time:3.008 Dice:0.91 coverage:0.26 dice_score:0.09\n",
      "For train, iter: 17, grad_norm:7381.711566 batch_time:3.028 Dice:0.972 coverage:0.078 dice_score:0.028\n",
      "For train, iter: 18, grad_norm:41158.253293 batch_time:3.052 Dice:0.802 coverage:0.456 dice_score:0.198\n",
      "For train, iter: 19, grad_norm:2228.349354 batch_time:3.019 Dice:0.989 coverage:0.033 dice_score:0.011\n",
      "For train, iter: 20, grad_norm:9478.972664 batch_time:3.03 Dice:0.947 coverage:0.041 dice_score:0.053\n",
      "For train, iter: 21, grad_norm:11949.890224 batch_time:3.02 Dice:0.954 coverage:0.059 dice_score:0.046\n",
      "For train, iter: 22, grad_norm:3500.254454 batch_time:3.017 Dice:0.962 coverage:0.043 dice_score:0.038\n",
      "For train, iter: 23, grad_norm:2817.367405 batch_time:3.054 Dice:0.976 coverage:0.036 dice_score:0.024\n",
      "For train, iter: 24, grad_norm:44736.131168 batch_time:3.022 Dice:0.886 coverage:0.092 dice_score:0.114\n",
      "For train, iter: 25, grad_norm:44020.887299 batch_time:3.025 Dice:0.908 coverage:0.112 dice_score:0.092\n"
     ]
    },
    {
     "name": "stderr",
     "output_type": "stream",
     "text": [
      "NaN or Inf found in input tensor.\n"
     ]
    },
    {
     "name": "stdout",
     "output_type": "stream",
     "text": [
      "For train, iter: 26, grad_norm:2402.604942 batch_time:2.139 Dice:0.995 coverage:0.015 dice_score:0.005\n",
      "VAL EPOCH: 7 ... \n",
      "For val, iter: 0, batch_time:0.025 Dice:0.866 coverage:0.277 dice_score:0.134\n",
      "For val, iter: 1, batch_time:0.03 Dice:0.857 coverage:0.451 dice_score:0.143\n",
      "For val, iter: 2, batch_time:0.029 Dice:0.871 coverage:0.386 dice_score:0.129\n",
      "For val, iter: 3, batch_time:0.028 Dice:0.975 coverage:0.093 dice_score:0.025\n",
      "For val, iter: 4, batch_time:0.025 Dice:0.855 coverage:0.183 dice_score:0.145\n",
      "For val, iter: 5, batch_time:0.025 Dice:0.919 coverage:0.245 dice_score:0.081\n",
      "For val, iter: 6, batch_time:0.02 Dice:0.94 coverage:0.091 dice_score:0.06\n",
      "TRAIN EPOCH: 8 ... \n",
      "For train, iter: 0, grad_norm:63947.219403 batch_time:3.053 Dice:0.88 coverage:0.268 dice_score:0.12\n",
      "For train, iter: 1, grad_norm:41398.133462 batch_time:3.034 Dice:0.909 coverage:0.295 dice_score:0.091\n",
      "For train, iter: 2, grad_norm:11691.571081 batch_time:3.018 Dice:0.979 coverage:0.143 dice_score:0.021\n",
      "For train, iter: 3, grad_norm:7727.471217 batch_time:3.024 Dice:0.983 coverage:0.182 dice_score:0.017\n",
      "For train, iter: 4, grad_norm:102158.11767 batch_time:3.019 Dice:0.741 coverage:0.434 dice_score:0.259\n",
      "For train, iter: 5, grad_norm:26810.988312 batch_time:3.055 Dice:0.9 coverage:0.178 dice_score:0.1\n",
      "For train, iter: 6, grad_norm:20843.334972 batch_time:3.026 Dice:0.954 coverage:0.084 dice_score:0.046\n",
      "For train, iter: 7, grad_norm:54992.410159 batch_time:3.024 Dice:0.705 coverage:0.286 dice_score:0.295\n",
      "For train, iter: 8, grad_norm:36323.671274 batch_time:3.015 Dice:0.938 coverage:0.22 dice_score:0.062\n",
      "For train, iter: 9, grad_norm:20420.878946 batch_time:3.022 Dice:0.864 coverage:0.305 dice_score:0.136\n",
      "For train, iter: 10, grad_norm:2999.996154 batch_time:3.066 Dice:0.996 coverage:0.013 dice_score:0.004\n",
      "For train, iter: 11, grad_norm:24690.222115 batch_time:3.02 Dice:0.582 coverage:0.502 dice_score:0.418\n",
      "For train, iter: 12, grad_norm:34666.18018 batch_time:3.025 Dice:0.769 coverage:0.411 dice_score:0.231\n",
      "For train, iter: 13, grad_norm:12712.054228 batch_time:3.027 Dice:0.972 coverage:0.035 dice_score:0.028\n",
      "For train, iter: 14, grad_norm:50793.413227 batch_time:3.024 Dice:0.862 coverage:0.199 dice_score:0.138\n",
      "For train, iter: 15, grad_norm:91247.622713 batch_time:3.06 Dice:0.836 coverage:0.661 dice_score:0.164\n",
      "For train, iter: 16, grad_norm:37251.508693 batch_time:3.029 Dice:0.84 coverage:0.215 dice_score:0.16\n",
      "For train, iter: 17, grad_norm:33351.905669 batch_time:3.032 Dice:0.968 coverage:0.029 dice_score:0.032\n",
      "For train, iter: 18, grad_norm:204370.418235 batch_time:3.017 Dice:0.853 coverage:0.107 dice_score:0.147\n",
      "For train, iter: 19, grad_norm:5717.434837 batch_time:3.019 Dice:0.993 coverage:0.021 dice_score:0.007\n",
      "For train, iter: 20, grad_norm:28589.398167 batch_time:3.051 Dice:0.936 coverage:0.099 dice_score:0.064\n",
      "For train, iter: 21, grad_norm:59937.861249 batch_time:3.024 Dice:0.875 coverage:0.433 dice_score:0.125\n",
      "For train, iter: 22, grad_norm:20562.326506 batch_time:3.026 Dice:0.932 coverage:0.256 dice_score:0.068\n",
      "For train, iter: 23, grad_norm:2482.544596 batch_time:3.02 Dice:0.995 coverage:0.029 dice_score:0.005\n",
      "For train, iter: 24, grad_norm:113369.919165 batch_time:3.025 Dice:0.604 coverage:0.775 dice_score:0.396\n",
      "For train, iter: 25, grad_norm:50565.74783 batch_time:3.077 Dice:0.714 coverage:0.377 dice_score:0.286\n",
      "For train, iter: 26, grad_norm:5071.772553 batch_time:2.142 Dice:0.993 coverage:0.016 dice_score:0.007\n",
      "VAL EPOCH: 8 ... \n",
      "For val, iter: 0, batch_time:0.026 Dice:0.682 coverage:0.313 dice_score:0.318\n",
      "For val, iter: 1, batch_time:0.026 Dice:0.484 coverage:0.639 dice_score:0.516\n",
      "For val, iter: 2, batch_time:0.029 Dice:0.552 coverage:0.522 dice_score:0.448\n",
      "For val, iter: 3, batch_time:0.029 Dice:0.983 coverage:0.021 dice_score:0.017\n",
      "For val, iter: 4, batch_time:0.026 Dice:0.811 coverage:0.116 dice_score:0.189\n",
      "For val, iter: 5, batch_time:0.025 Dice:0.82 coverage:0.237 dice_score:0.18\n",
      "For val, iter: 6, batch_time:0.024 Dice:0.967 coverage:0.022 dice_score:0.033\n",
      "TRAIN EPOCH: 9 ... \n",
      "For train, iter: 0, grad_norm:78844.065418 batch_time:3.031 Dice:0.698 coverage:0.347 dice_score:0.302\n",
      "For train, iter: 1, grad_norm:152068.392364 batch_time:3.078 Dice:0.679 coverage:0.275 dice_score:0.321\n",
      "For train, iter: 2, grad_norm:16059.749198 batch_time:3.019 Dice:0.948 coverage:0.215 dice_score:0.052\n",
      "For train, iter: 3, grad_norm:14831.860745 batch_time:3.016 Dice:0.99 coverage:0.059 dice_score:0.01\n",
      "For train, iter: 4, grad_norm:107793.227026 batch_time:3.03 Dice:0.615 coverage:0.537 dice_score:0.385\n",
      "For train, iter: 5, grad_norm:45648.989542 batch_time:3.018 Dice:0.825 coverage:0.259 dice_score:0.175\n",
      "For train, iter: 6, grad_norm:31641.993668 batch_time:3.078 Dice:0.897 coverage:0.152 dice_score:0.103\n",
      "For train, iter: 7, grad_norm:73214.095467 batch_time:3.021 Dice:0.708 coverage:0.224 dice_score:0.292\n",
      "For train, iter: 8, grad_norm:57254.831952 batch_time:3.016 Dice:0.881 coverage:0.267 dice_score:0.119\n",
      "For train, iter: 9, grad_norm:15707.283704 batch_time:3.012 Dice:0.848 coverage:0.219 dice_score:0.152\n",
      "For train, iter: 10, grad_norm:6722.085583 batch_time:3.015 Dice:0.993 coverage:0.01 dice_score:0.007\n"
     ]
    },
    {
     "name": "stderr",
     "output_type": "stream",
     "text": [
      "NaN or Inf found in input tensor.\n"
     ]
    },
    {
     "name": "stdout",
     "output_type": "stream",
     "text": [
      "For train, iter: 11, grad_norm:inf batch_time:3.03 Dice:0.667 coverage:0.207 dice_score:0.333\n",
      "For train, iter: 12, grad_norm:46200.093185 batch_time:3.014 Dice:0.873 coverage:0.119 dice_score:0.127\n",
      "For train, iter: 13, grad_norm:7394.859173 batch_time:3.018 Dice:0.972 coverage:0.019 dice_score:0.028\n",
      "For train, iter: 14, grad_norm:21179.072333 batch_time:3.026 Dice:0.879 coverage:0.086 dice_score:0.121\n",
      "For train, iter: 15, grad_norm:19796.134289 batch_time:3.026 Dice:0.816 coverage:0.309 dice_score:0.184\n",
      "For train, iter: 16, grad_norm:11939.399289 batch_time:3.022 Dice:0.872 coverage:0.162 dice_score:0.128\n",
      "For train, iter: 17, grad_norm:20238.173363 batch_time:3.059 Dice:0.94 coverage:0.072 dice_score:0.06\n",
      "For train, iter: 18, grad_norm:34668.433004 batch_time:3.019 Dice:0.771 coverage:0.355 dice_score:0.229\n",
      "For train, iter: 19, grad_norm:1998.545904 batch_time:3.013 Dice:0.996 coverage:0.015 dice_score:0.004\n",
      "For train, iter: 20, grad_norm:13303.686375 batch_time:3.017 Dice:0.857 coverage:0.19 dice_score:0.143\n",
      "For train, iter: 21, grad_norm:17572.449865 batch_time:3.024 Dice:0.897 coverage:0.196 dice_score:0.103\n",
      "For train, iter: 22, grad_norm:7493.078184 batch_time:3.048 Dice:0.927 coverage:0.165 dice_score:0.073\n",
      "For train, iter: 23, grad_norm:3779.759812 batch_time:3.013 Dice:0.99 coverage:0.031 dice_score:0.01\n",
      "For train, iter: 24, grad_norm:45815.752018 batch_time:3.014 Dice:0.631 coverage:0.519 dice_score:0.369\n",
      "For train, iter: 25, grad_norm:38495.723813 batch_time:3.016 Dice:0.717 coverage:0.261 dice_score:0.283\n"
     ]
    },
    {
     "name": "stderr",
     "output_type": "stream",
     "text": [
      "NaN or Inf found in input tensor.\n"
     ]
    },
    {
     "name": "stdout",
     "output_type": "stream",
     "text": [
      "For train, iter: 26, grad_norm:3132.704323 batch_time:2.133 Dice:0.995 coverage:0.01 dice_score:0.005\n",
      "VAL EPOCH: 9 ... \n",
      "For val, iter: 0, batch_time:0.025 Dice:0.596 coverage:0.332 dice_score:0.404\n",
      "For val, iter: 1, batch_time:0.025 Dice:0.446 coverage:0.678 dice_score:0.554\n",
      "For val, iter: 2, batch_time:0.028 Dice:0.45 coverage:0.618 dice_score:0.55\n",
      "For val, iter: 3, batch_time:0.028 Dice:0.989 coverage:0.012 dice_score:0.011\n",
      "For val, iter: 4, batch_time:0.025 Dice:0.762 coverage:0.161 dice_score:0.238\n",
      "For val, iter: 5, batch_time:0.029 Dice:0.774 coverage:0.216 dice_score:0.226\n",
      "For val, iter: 6, batch_time:0.025 Dice:0.979 coverage:0.014 dice_score:0.021\n",
      "TRAIN EPOCH: 10 ... \n",
      "For train, iter: 0, grad_norm:32102.281802 batch_time:3.053 Dice:0.701 coverage:0.341 dice_score:0.299\n",
      "For train, iter: 1, grad_norm:45539.230633 batch_time:3.035 Dice:0.723 coverage:0.293 dice_score:0.277\n",
      "For train, iter: 2, grad_norm:24140.058983 batch_time:3.013 Dice:0.915 coverage:0.213 dice_score:0.085\n",
      "For train, iter: 3, grad_norm:17301.100484 batch_time:3.026 Dice:0.959 coverage:0.092 dice_score:0.041\n"
     ]
    },
    {
     "name": "stderr",
     "output_type": "stream",
     "text": [
      "NaN or Inf found in input tensor.\n"
     ]
    },
    {
     "name": "stdout",
     "output_type": "stream",
     "text": [
      "For train, iter: 4, grad_norm:inf batch_time:3.008 Dice:0.569 coverage:0.24 dice_score:0.431\n",
      "For train, iter: 5, grad_norm:51146.102688 batch_time:3.06 Dice:0.806 coverage:0.127 dice_score:0.194\n",
      "For train, iter: 6, grad_norm:41944.060254 batch_time:3.028 Dice:0.805 coverage:0.121 dice_score:0.195\n",
      "For train, iter: 7, grad_norm:44946.054099 batch_time:3.026 Dice:0.745 coverage:0.21 dice_score:0.255\n",
      "For train, iter: 8, grad_norm:39828.457784 batch_time:3.013 Dice:0.869 coverage:0.349 dice_score:0.131\n",
      "For train, iter: 9, grad_norm:13626.696252 batch_time:3.025 Dice:0.825 coverage:0.355 dice_score:0.175\n",
      "For train, iter: 10, grad_norm:1463.901021 batch_time:3.017 Dice:0.996 coverage:0.011 dice_score:0.004\n",
      "For train, iter: 11, grad_norm:33686.855511 batch_time:3.055 Dice:0.438 coverage:0.581 dice_score:0.562\n",
      "For train, iter: 12, grad_norm:13687.377012 batch_time:3.019 Dice:0.729 coverage:0.411 dice_score:0.271\n",
      "For train, iter: 13, grad_norm:20936.165951 batch_time:3.019 Dice:0.945 coverage:0.033 dice_score:0.055\n",
      "For train, iter: 14, grad_norm:41050.35881 batch_time:3.017 Dice:0.858 coverage:0.178 dice_score:0.142\n",
      "For train, iter: 15, grad_norm:40002.602767 batch_time:3.034 Dice:0.775 coverage:0.61 dice_score:0.225\n",
      "For train, iter: 16, grad_norm:7761.938009 batch_time:3.031 Dice:0.776 coverage:0.273 dice_score:0.224\n",
      "For train, iter: 17, grad_norm:67687.395476 batch_time:3.068 Dice:0.91 coverage:0.084 dice_score:0.09\n",
      "For train, iter: 18, grad_norm:92388.535221 batch_time:3.009 Dice:0.821 coverage:0.142 dice_score:0.179\n",
      "For train, iter: 19, grad_norm:1432.102766 batch_time:3.02 Dice:0.997 coverage:0.019 dice_score:0.003\n",
      "For train, iter: 20, grad_norm:27902.017488 batch_time:3.029 Dice:0.807 coverage:0.35 dice_score:0.193\n",
      "For train, iter: 21, grad_norm:23959.727553 batch_time:3.02 Dice:0.9 coverage:0.342 dice_score:0.1\n",
      "For train, iter: 22, grad_norm:7200.8923 batch_time:3.044 Dice:0.9 coverage:0.343 dice_score:0.1\n",
      "For train, iter: 23, grad_norm:6032.762986 batch_time:3.011 Dice:0.982 coverage:0.097 dice_score:0.018\n",
      "For train, iter: 24, grad_norm:84088.225732 batch_time:3.015 Dice:0.622 coverage:0.744 dice_score:0.378\n",
      "For train, iter: 25, grad_norm:43786.835456 batch_time:3.017 Dice:0.743 coverage:0.28 dice_score:0.257\n"
     ]
    },
    {
     "name": "stderr",
     "output_type": "stream",
     "text": [
      "NaN or Inf found in input tensor.\n"
     ]
    },
    {
     "name": "stdout",
     "output_type": "stream",
     "text": [
      "For train, iter: 26, grad_norm:2537.957388 batch_time:2.134 Dice:0.996 coverage:0.011 dice_score:0.004\n",
      "VAL EPOCH: 10 ... \n",
      "For val, iter: 0, batch_time:0.028 Dice:0.568 coverage:0.422 dice_score:0.432\n",
      "For val, iter: 1, batch_time:0.025 Dice:0.479 coverage:0.657 dice_score:0.521\n",
      "For val, iter: 2, batch_time:0.028 Dice:0.525 coverage:0.552 dice_score:0.475\n",
      "For val, iter: 3, batch_time:0.025 Dice:0.99 coverage:0.013 dice_score:0.01\n",
      "For val, iter: 4, batch_time:0.028 Dice:0.724 coverage:0.202 dice_score:0.276\n",
      "For val, iter: 5, batch_time:0.025 Dice:0.766 coverage:0.281 dice_score:0.234\n",
      "For val, iter: 6, batch_time:0.02 Dice:0.983 coverage:0.013 dice_score:0.017\n",
      "TRAIN EPOCH: 11 ... \n",
      "For train, iter: 0, grad_norm:50872.18693 batch_time:3.044 Dice:0.658 coverage:0.366 dice_score:0.342\n",
      "For train, iter: 1, grad_norm:70391.20301 batch_time:3.018 Dice:0.766 coverage:0.233 dice_score:0.234\n",
      "For train, iter: 2, grad_norm:24450.537121 batch_time:3.008 Dice:0.915 coverage:0.179 dice_score:0.085\n",
      "For train, iter: 3, grad_norm:24146.460327 batch_time:3.017 Dice:0.943 coverage:0.108 dice_score:0.057\n"
     ]
    },
    {
     "name": "stderr",
     "output_type": "stream",
     "text": [
      "NaN or Inf found in input tensor.\n"
     ]
    },
    {
     "name": "stdout",
     "output_type": "stream",
     "text": [
      "For train, iter: 4, grad_norm:inf batch_time:3.012 Dice:0.712 coverage:0.144 dice_score:0.288\n",
      "For train, iter: 5, grad_norm:62877.622016 batch_time:3.074 Dice:0.831 coverage:0.088 dice_score:0.169\n",
      "For train, iter: 6, grad_norm:42666.472485 batch_time:3.026 Dice:0.866 coverage:0.065 dice_score:0.134\n",
      "For train, iter: 7, grad_norm:64315.033897 batch_time:3.016 Dice:0.673 coverage:0.227 dice_score:0.327\n",
      "For train, iter: 8, grad_norm:20983.374104 batch_time:3.011 Dice:0.923 coverage:0.237 dice_score:0.077\n",
      "For train, iter: 9, grad_norm:12835.354471 batch_time:3.004 Dice:0.859 coverage:0.302 dice_score:0.141\n",
      "For train, iter: 10, grad_norm:1045.759883 batch_time:3.04 Dice:0.997 coverage:0.011 dice_score:0.003\n",
      "For train, iter: 11, grad_norm:44552.435735 batch_time:3.012 Dice:0.469 coverage:0.666 dice_score:0.531\n",
      "For train, iter: 12, grad_norm:25009.670609 batch_time:3.007 Dice:0.756 coverage:0.521 dice_score:0.244\n",
      "For train, iter: 13, grad_norm:4079.861091 batch_time:3.011 Dice:0.984 coverage:0.023 dice_score:0.016\n",
      "For train, iter: 14, grad_norm:10864.689927 batch_time:3.016 Dice:0.876 coverage:0.253 dice_score:0.124\n",
      "For train, iter: 15, grad_norm:51796.972179 batch_time:3.04 Dice:0.837 coverage:0.74 dice_score:0.163\n",
      "For train, iter: 16, grad_norm:22189.959866 batch_time:3.025 Dice:0.868 coverage:0.27 dice_score:0.132\n",
      "For train, iter: 17, grad_norm:29020.87245 batch_time:3.018 Dice:0.897 coverage:0.154 dice_score:0.103\n",
      "For train, iter: 18, grad_norm:31680.731362 batch_time:3.006 Dice:0.636 coverage:0.382 dice_score:0.364\n",
      "For train, iter: 19, grad_norm:4877.079743 batch_time:3.009 Dice:0.988 coverage:0.018 dice_score:0.012\n",
      "For train, iter: 20, grad_norm:43128.927645 batch_time:3.075 Dice:0.877 coverage:0.065 dice_score:0.123\n",
      "For train, iter: 21, grad_norm:39484.463462 batch_time:3.022 Dice:0.931 coverage:0.062 dice_score:0.069\n",
      "For train, iter: 22, grad_norm:17803.007877 batch_time:3.021 Dice:0.944 coverage:0.07 dice_score:0.056\n",
      "For train, iter: 23, grad_norm:9448.300948 batch_time:3.024 Dice:0.965 coverage:0.045 dice_score:0.035\n",
      "For train, iter: 24, grad_norm:45873.915367 batch_time:3.016 Dice:0.466 coverage:0.582 dice_score:0.534\n",
      "For train, iter: 25, grad_norm:49201.203505 batch_time:3.068 Dice:0.778 coverage:0.117 dice_score:0.222\n"
     ]
    },
    {
     "name": "stderr",
     "output_type": "stream",
     "text": [
      "NaN or Inf found in input tensor.\n"
     ]
    },
    {
     "name": "stdout",
     "output_type": "stream",
     "text": [
      "For train, iter: 26, grad_norm:3972.035686 batch_time:2.136 Dice:0.993 coverage:0.01 dice_score:0.007\n",
      "VAL EPOCH: 11 ... \n",
      "For val, iter: 0, batch_time:0.029 Dice:0.625 coverage:0.295 dice_score:0.375\n",
      "For val, iter: 1, batch_time:0.028 Dice:0.423 coverage:0.642 dice_score:0.577\n",
      "For val, iter: 2, batch_time:0.025 Dice:0.338 coverage:0.685 dice_score:0.662\n",
      "For val, iter: 3, batch_time:0.029 Dice:0.989 coverage:0.011 dice_score:0.011\n",
      "For val, iter: 4, batch_time:0.028 Dice:0.742 coverage:0.166 dice_score:0.258\n",
      "For val, iter: 5, batch_time:0.025 Dice:0.71 coverage:0.207 dice_score:0.29\n",
      "For val, iter: 6, batch_time:0.02 Dice:0.958 coverage:0.025 dice_score:0.042\n",
      "TRAIN EPOCH: 12 ... \n",
      "For train, iter: 0, grad_norm:49961.093014 batch_time:3.025 Dice:0.659 coverage:0.299 dice_score:0.341\n",
      "For train, iter: 1, grad_norm:44737.975823 batch_time:3.07 Dice:0.632 coverage:0.445 dice_score:0.368\n",
      "For train, iter: 2, grad_norm:9042.385094 batch_time:3.026 Dice:0.973 coverage:0.059 dice_score:0.027\n",
      "For train, iter: 3, grad_norm:33238.918559 batch_time:3.012 Dice:0.953 coverage:0.132 dice_score:0.047\n",
      "For train, iter: 4, grad_norm:180890.374213 batch_time:3.017 Dice:0.601 coverage:0.236 dice_score:0.399\n",
      "For train, iter: 5, grad_norm:72598.131663 batch_time:3.015 Dice:0.713 coverage:0.292 dice_score:0.287\n",
      "For train, iter: 6, grad_norm:53613.909257 batch_time:3.049 Dice:0.827 coverage:0.282 dice_score:0.173\n",
      "For train, iter: 7, grad_norm:50839.217671 batch_time:3.015 Dice:0.71 coverage:0.249 dice_score:0.29\n",
      "For train, iter: 8, grad_norm:38817.689859 batch_time:3.028 Dice:0.928 coverage:0.267 dice_score:0.072\n",
      "For train, iter: 9, grad_norm:38233.039342 batch_time:3.013 Dice:0.801 coverage:0.422 dice_score:0.199\n",
      "For train, iter: 10, grad_norm:2874.893638 batch_time:3.009 Dice:0.997 coverage:0.01 dice_score:0.003\n",
      "For train, iter: 11, grad_norm:56813.479153 batch_time:3.077 Dice:0.454 coverage:0.51 dice_score:0.546\n",
      "For train, iter: 12, grad_norm:46123.715799 batch_time:3.016 Dice:0.699 coverage:0.491 dice_score:0.301\n"
     ]
    }
   ],
   "source": [
    "print('Start training!')\n",
    "metric_dict_epoch = defaultdict(list)\n",
    "n_iters_total_train = 0 \n",
    "n_iters_total_val = 0\n",
    "target_metric = 0\n",
    "target_metric_prev = -1\n",
    "try:\n",
    "    for epoch in range(config.opt.start_epoch, config.opt.n_epochs):\n",
    "        print (f'TRAIN EPOCH: {epoch} ... ')\n",
    "        n_iters_total_train, _  = one_epoch(model, \n",
    "                                        criterion, \n",
    "                                        opt, \n",
    "                                        config, \n",
    "                                        train_dataloader, \n",
    "                                        device, \n",
    "                                        writer, \n",
    "                                        epoch, \n",
    "                                        metric_dict_epoch, \n",
    "                                        n_iters_total_train,\n",
    "                                        augmentation=None, # augmentation None because compose in dataloader\n",
    "                                        is_train=True)\n",
    "\n",
    "        print (f'VAL EPOCH: {epoch} ... ')\n",
    "        n_iters_total_val, target_metric = one_epoch(model, \n",
    "                                        criterion, \n",
    "                                        opt, \n",
    "                                        config, \n",
    "                                        val_dataloader, \n",
    "                                        device, \n",
    "                                        writer, \n",
    "                                        epoch, \n",
    "                                        metric_dict_epoch, \n",
    "                                        n_iters_total_val,\n",
    "                                        augmentation=None,\n",
    "                                        is_train=False)\n",
    "\n",
    "        if SAVE_MODEL and MAKE_LOGS:\n",
    "            if not config.model.use_greedy_saving:\n",
    "                print(f'SAVING...')\n",
    "                save(experiment_dir, model, opt, epoch)\n",
    "            # use greedy-saving: save only if the target metric is improved\n",
    "            elif target_metric > target_metric_prev:\n",
    "                print(f'target_metric = {target_metric}, SAVING...')\n",
    "                save(experiment_dir, model, opt, epoch)\n",
    "                target_metric_prev = target_metric\n",
    "except Exception as e:\n",
    "    print(traceback.format_exc())\n",
    "    #set_trace()\n",
    "    # keyboard interrupt\n",
    "    if MAKE_LOGS:\n",
    "        np.save(os.path.join(experiment_dir, 'metric_dict_epoch'), metric_dict_epoch)     \n"
   ]
  },
  {
   "cell_type": "code",
   "execution_count": 7,
   "id": "abcc6c92-5fd1-4a17-8d7a-b9edaa8c636e",
   "metadata": {},
   "outputs": [],
   "source": [
    "from tensorboard.backend.event_processing import event_accumulator\n",
    "import pandas as pd\n",
    "\n",
    "\n",
    "def parse_tensorboard(path, scalars):\n",
    "    \"\"\"returns a dictionary of pandas dataframes for each requested scalar\"\"\"\n",
    "    ea = event_accumulator.EventAccumulator(\n",
    "        path,\n",
    "        size_guidance={event_accumulator.SCALARS: 0},\n",
    "    )\n",
    "    _absorb_print = ea.Reload()\n",
    "    # make sure the scalars are in the event accumulator tags\n",
    "    assert all(\n",
    "        s in ea.Tags()[\"scalars\"] for s in scalars\n",
    "    ), \"some scalars were not found in the event accumulator\"\n",
    "    return {k: pd.DataFrame(ea.Scalars(k)) for k in scalars}"
   ]
  },
  {
   "cell_type": "code",
   "execution_count": null,
   "id": "e3abc72b-0888-493c-8b48-74000e92172a",
   "metadata": {},
   "outputs": [],
   "source": [
    "parse_tensorboard('/workspace/RawData/FCDNet/logs/v2v-NOAUG-autocast_DICE-loss_mask@17.06.2022-22/tb/events.out.tfevents.1655506733.90346d20369c', 'event')"
   ]
  },
  {
   "cell_type": "code",
   "execution_count": null,
   "id": "94b20a5a-a34b-469c-ada3-74d74e925380",
   "metadata": {},
   "outputs": [],
   "source": []
  },
  {
   "cell_type": "code",
   "execution_count": 41,
   "id": "59d5db71-b400-4713-810d-f9126202189a",
   "metadata": {},
   "outputs": [],
   "source": [
    "from monai.losses import DiceLoss\n",
    "\n",
    "device = torch.device(\"cuda:2\")\n",
    "max_epochs = 300\n",
    "val_interval = 1\n",
    "VAL_AMP = True\n",
    "\n",
    "# standard PyTorch program style: create SegResNet, DiceLoss and Adam optimizer\n",
    "model = monai.networks.nets.SegResNet(\n",
    "    blocks_down=[1, 2, 2, 4],\n",
    "    blocks_up=[1, 1, 1],\n",
    "    init_filters=16,\n",
    "    in_channels=4,\n",
    "    out_channels=1,\n",
    "    dropout_prob=0.1,\n",
    ").to(device)\n",
    "loss_function = DiceLoss(smooth_nr=0, smooth_dr=1e-5, squared_pred=True, to_onehot_y=False, sigmoid=True)\n",
    "optimizer = torch.optim.Adam(model.parameters(), 1e-4, weight_decay=1e-5)\n",
    "lr_scheduler = torch.optim.lr_scheduler.CosineAnnealingLR(optimizer, T_max=max_epochs)\n",
    "\n",
    "dice_metric = DiceMetric(include_background=True, reduction=\"mean\")\n",
    "dice_metric_batch = DiceMetric(include_background=True, reduction=\"mean_batch\")\n",
    "\n",
    "post_trans = Compose(\n",
    "    [EnsureType(), Activations(sigmoid=True), AsDiscrete(threshold=0.5)]\n",
    ")\n",
    "\n",
    "\n",
    "# define inference method\n",
    "def inference(input):\n",
    "\n",
    "    def _compute(input):\n",
    "        return sliding_window_inference(\n",
    "            inputs=input,\n",
    "            roi_size=(240, 240, 160),\n",
    "            sw_batch_size=1,\n",
    "            predictor=model,\n",
    "            overlap=0.5,\n",
    "        )\n",
    "\n",
    "    if VAL_AMP:\n",
    "        with torch.cuda.amp.autocast():\n",
    "            return _compute(input)\n",
    "    else:\n",
    "        return _compute(input)\n",
    "\n",
    "\n",
    "# use amp to accelerate training\n",
    "scaler = torch.cuda.amp.GradScaler()\n",
    "# enable cuDNN benchmark\n",
    "torch.backends.cudnn.benchmark = True"
   ]
  },
  {
   "cell_type": "code",
   "execution_count": 43,
   "id": "aea586ed-09be-4729-be5c-d81ab15844c7",
   "metadata": {},
   "outputs": [
    {
     "name": "stdout",
     "output_type": "stream",
     "text": [
      "----------\n",
      "epoch 1/300\n",
      "1/73, train_loss: 0.9996, step time: 7.6338\n",
      "2/73, train_loss: 0.9951, step time: 1.1643\n",
      "3/73, train_loss: 0.9969, step time: 1.1656\n",
      "4/73, train_loss: 0.9974, step time: 1.1578\n",
      "5/73, train_loss: 0.9972, step time: 1.1599\n",
      "6/73, train_loss: 0.9975, step time: 1.1531\n",
      "7/73, train_loss: 0.9990, step time: 1.1503\n",
      "8/73, train_loss: 0.9986, step time: 1.1463\n",
      "9/73, train_loss: 0.9980, step time: 1.1550\n",
      "10/73, train_loss: 0.9991, step time: 1.1491\n",
      "11/73, train_loss: 0.9998, step time: 1.1350\n",
      "12/73, train_loss: 0.9958, step time: 1.1638\n",
      "13/73, train_loss: 0.9994, step time: 1.1471\n",
      "14/73, train_loss: 0.9992, step time: 1.1457\n",
      "15/73, train_loss: 0.9973, step time: 1.1537\n",
      "16/73, train_loss: 0.9945, step time: 1.1624\n",
      "17/73, train_loss: 0.9932, step time: 1.1666\n",
      "18/73, train_loss: 0.9990, step time: 1.1506\n",
      "19/73, train_loss: 0.9982, step time: 1.1539\n",
      "20/73, train_loss: 0.9978, step time: 1.1560\n",
      "21/73, train_loss: 0.9988, step time: 1.1419\n",
      "22/73, train_loss: 0.9983, step time: 1.1491\n",
      "23/73, train_loss: 0.9990, step time: 1.1508\n",
      "24/73, train_loss: 0.9985, step time: 1.1523\n",
      "25/73, train_loss: 0.9989, step time: 1.1523\n",
      "26/73, train_loss: 0.9976, step time: 1.1569\n",
      "27/73, train_loss: 0.9881, step time: 1.1589\n",
      "28/73, train_loss: 0.9998, step time: 1.1400\n",
      "29/73, train_loss: 0.9963, step time: 1.1640\n",
      "30/73, train_loss: 0.9772, step time: 1.1808\n",
      "31/73, train_loss: 0.9986, step time: 1.1621\n",
      "32/73, train_loss: 0.9950, step time: 1.1677\n",
      "33/73, train_loss: 0.9930, step time: 1.1736\n",
      "34/73, train_loss: 0.9995, step time: 1.1410\n",
      "35/73, train_loss: 0.9974, step time: 1.1647\n",
      "36/73, train_loss: 0.9978, step time: 1.1568\n",
      "37/73, train_loss: 0.9995, step time: 1.1445\n",
      "38/73, train_loss: 0.9996, step time: 1.1401\n",
      "39/73, train_loss: 0.9982, step time: 1.1531\n",
      "40/73, train_loss: 0.9981, step time: 1.1561\n",
      "41/73, train_loss: 0.9914, step time: 1.1737\n",
      "42/73, train_loss: 0.9998, step time: 1.1377\n",
      "43/73, train_loss: 0.9956, step time: 1.1710\n",
      "44/73, train_loss: 0.9976, step time: 1.1626\n",
      "45/73, train_loss: 0.9999, step time: 1.1363\n",
      "46/73, train_loss: 0.9985, step time: 1.1530\n",
      "47/73, train_loss: 0.9951, step time: 1.1716\n",
      "48/73, train_loss: 0.9975, step time: 1.1642\n",
      "49/73, train_loss: 0.9995, step time: 1.1479\n",
      "50/73, train_loss: 0.9896, step time: 1.1609\n",
      "51/73, train_loss: 0.9958, step time: 1.1621\n",
      "52/73, train_loss: 0.9943, step time: 1.1661\n",
      "53/73, train_loss: 0.9996, step time: 1.1435\n",
      "54/73, train_loss: 0.9989, step time: 1.1491\n",
      "55/73, train_loss: 0.9980, step time: 1.1610\n",
      "56/73, train_loss: 0.9955, step time: 1.1671\n",
      "57/73, train_loss: 0.9968, step time: 1.1670\n",
      "58/73, train_loss: 0.9977, step time: 1.1605\n",
      "59/73, train_loss: 0.9835, step time: 1.1719\n",
      "60/73, train_loss: 0.9917, step time: 1.1674\n",
      "61/73, train_loss: 0.9989, step time: 1.1469\n",
      "62/73, train_loss: 0.9977, step time: 1.1649\n",
      "63/73, train_loss: 0.9947, step time: 1.1775\n",
      "64/73, train_loss: 0.9942, step time: 1.1580\n",
      "65/73, train_loss: 0.9997, step time: 1.1474\n",
      "66/73, train_loss: 0.9921, step time: 1.1744\n",
      "67/73, train_loss: 0.9990, step time: 1.1472\n",
      "68/73, train_loss: 0.9927, step time: 1.1734\n",
      "69/73, train_loss: 0.9992, step time: 1.1510\n",
      "70/73, train_loss: 0.9982, step time: 1.1583\n",
      "71/73, train_loss: 0.9969, step time: 1.1659\n",
      "72/73, train_loss: 0.9893, step time: 1.1683\n",
      "73/73, train_loss: 0.9989, step time: 1.1478\n",
      "74/73, train_loss: 0.9997, step time: 6.8941\n",
      "epoch 1 average loss: 0.9966\n"
     ]
    },
    {
     "ename": "IndexError",
     "evalue": "index 1 is out of bounds for dimension 0 with size 1",
     "output_type": "error",
     "traceback": [
      "\u001b[0;31m---------------------------------------------------------------------------\u001b[0m",
      "\u001b[0;31mIndexError\u001b[0m                                Traceback (most recent call last)",
      "\u001b[0;32m<ipython-input-43-8c7873a4b300>\u001b[0m in \u001b[0;36m<module>\u001b[0;34m\u001b[0m\n\u001b[1;32m     60\u001b[0m             \u001b[0mmetric_tc\u001b[0m \u001b[0;34m=\u001b[0m \u001b[0mmetric_batch\u001b[0m\u001b[0;34m[\u001b[0m\u001b[0;36m0\u001b[0m\u001b[0;34m]\u001b[0m\u001b[0;34m.\u001b[0m\u001b[0mitem\u001b[0m\u001b[0;34m(\u001b[0m\u001b[0;34m)\u001b[0m\u001b[0;34m\u001b[0m\u001b[0;34m\u001b[0m\u001b[0m\n\u001b[1;32m     61\u001b[0m             \u001b[0mmetric_values_tc\u001b[0m\u001b[0;34m.\u001b[0m\u001b[0mappend\u001b[0m\u001b[0;34m(\u001b[0m\u001b[0mmetric_tc\u001b[0m\u001b[0;34m)\u001b[0m\u001b[0;34m\u001b[0m\u001b[0;34m\u001b[0m\u001b[0m\n\u001b[0;32m---> 62\u001b[0;31m             \u001b[0mmetric_wt\u001b[0m \u001b[0;34m=\u001b[0m \u001b[0mmetric_batch\u001b[0m\u001b[0;34m[\u001b[0m\u001b[0;36m1\u001b[0m\u001b[0;34m]\u001b[0m\u001b[0;34m.\u001b[0m\u001b[0mitem\u001b[0m\u001b[0;34m(\u001b[0m\u001b[0;34m)\u001b[0m\u001b[0;34m\u001b[0m\u001b[0;34m\u001b[0m\u001b[0m\n\u001b[0m\u001b[1;32m     63\u001b[0m             \u001b[0mmetric_values_wt\u001b[0m\u001b[0;34m.\u001b[0m\u001b[0mappend\u001b[0m\u001b[0;34m(\u001b[0m\u001b[0mmetric_wt\u001b[0m\u001b[0;34m)\u001b[0m\u001b[0;34m\u001b[0m\u001b[0;34m\u001b[0m\u001b[0m\n\u001b[1;32m     64\u001b[0m             \u001b[0mmetric_et\u001b[0m \u001b[0;34m=\u001b[0m \u001b[0mmetric_batch\u001b[0m\u001b[0;34m[\u001b[0m\u001b[0;36m2\u001b[0m\u001b[0;34m]\u001b[0m\u001b[0;34m.\u001b[0m\u001b[0mitem\u001b[0m\u001b[0;34m(\u001b[0m\u001b[0;34m)\u001b[0m\u001b[0;34m\u001b[0m\u001b[0;34m\u001b[0m\u001b[0m\n",
      "\u001b[0;31mIndexError\u001b[0m: index 1 is out of bounds for dimension 0 with size 1"
     ]
    }
   ],
   "source": [
    "best_metric = -1\n",
    "best_metric_epoch = -1\n",
    "best_metrics_epochs_and_time = [[], [], []]\n",
    "epoch_loss_values = []\n",
    "metric_values = []\n",
    "metric_values_tc = []\n",
    "metric_values_wt = []\n",
    "metric_values_et = []\n",
    "\n",
    "total_start = time.time()\n",
    "for epoch in range(max_epochs):\n",
    "    epoch_start = time.time()\n",
    "    print(\"-\" * 10)\n",
    "    print(f\"epoch {epoch + 1}/{max_epochs}\")\n",
    "    model.train()\n",
    "    epoch_loss = 0\n",
    "    step = 0\n",
    "    for batch_data in train_loader:\n",
    "        step_start = time.time()\n",
    "        step += 1\n",
    "        inputs, labels = (\n",
    "            batch_data[\"image\"].to(device),\n",
    "            batch_data[\"seg\"].to(device),\n",
    "        )\n",
    "        optimizer.zero_grad()\n",
    "        with torch.cuda.amp.autocast():\n",
    "            outputs = model(inputs)\n",
    "            loss = loss_function(outputs, labels)\n",
    "        scaler.scale(loss).backward()\n",
    "        scaler.step(optimizer)\n",
    "        scaler.update()\n",
    "        epoch_loss += loss.item()\n",
    "        print(\n",
    "            f\"{step}/{len(train_ds) // train_loader.batch_size}\"\n",
    "            f\", train_loss: {loss.item():.4f}\"\n",
    "            f\", step time: {(time.time() - step_start):.4f}\"\n",
    "        )\n",
    "    lr_scheduler.step()\n",
    "    epoch_loss /= step\n",
    "    epoch_loss_values.append(epoch_loss)\n",
    "    print(f\"epoch {epoch + 1} average loss: {epoch_loss:.4f}\")\n",
    "\n",
    "    if (epoch + 1) % val_interval == 0:\n",
    "        model.eval()\n",
    "        with torch.no_grad():\n",
    "\n",
    "            for val_data in val_loader:\n",
    "                val_inputs, val_labels = (\n",
    "                    val_data[\"image\"].to(device),\n",
    "                    val_data[\"seg\"].to(device),\n",
    "                )\n",
    "                val_outputs = inference(val_inputs)\n",
    "                val_outputs = [post_trans(i) for i in decollate_batch(val_outputs)]\n",
    "                dice_metric(y_pred=val_outputs, y=val_labels)\n",
    "                dice_metric_batch(y_pred=val_outputs, y=val_labels)\n",
    "\n",
    "            metric = dice_metric.aggregate().item()\n",
    "            metric_values.append(metric)\n",
    "            metric_batch = dice_metric_batch.aggregate()\n",
    "            metric_tc = metric_batch[0].item()\n",
    "            metric_values_tc.append(metric_tc)\n",
    "            metric_wt = metric_batch[1].item()\n",
    "            metric_values_wt.append(metric_wt)\n",
    "            metric_et = metric_batch[2].item()\n",
    "            metric_values_et.append(metric_et)\n",
    "            dice_metric.reset()\n",
    "            dice_metric_batch.reset()\n",
    "\n",
    "            if metric > best_metric:\n",
    "                best_metric = metric\n",
    "                best_metric_epoch = epoch + 1\n",
    "                best_metrics_epochs_and_time[0].append(best_metric)\n",
    "                best_metrics_epochs_and_time[1].append(best_metric_epoch)\n",
    "                best_metrics_epochs_and_time[2].append(time.time() - total_start)\n",
    "                torch.save(\n",
    "                    model.state_dict(),\n",
    "                    os.path.join(root_dir, \"best_metric_model.pth\"),\n",
    "                )\n",
    "                print(\"saved new best metric model\")\n",
    "            print(\n",
    "                f\"current epoch: {epoch + 1} current mean dice: {metric:.4f}\"\n",
    "                f\" tc: {metric_tc:.4f} wt: {metric_wt:.4f} et: {metric_et:.4f}\"\n",
    "                f\"\\nbest mean dice: {best_metric:.4f}\"\n",
    "                f\" at epoch: {best_metric_epoch}\"\n",
    "            )\n",
    "    print(f\"time consuming of epoch {epoch + 1} is: {(time.time() - epoch_start):.4f}\")\n",
    "total_time = time.time() - total_start"
   ]
  },
  {
   "cell_type": "code",
   "execution_count": 33,
   "id": "716c7a13-5adf-43d0-a15e-bacee30c1c24",
   "metadata": {},
   "outputs": [],
   "source": [
    "#trainer = create_multigpu_supervised_trainer(model, optimizer, loss_function, None)\n",
    "#trainer.run(train_ds['image'], max_epochs=max_epochs, epoch_length=2)"
   ]
  },
  {
   "cell_type": "code",
   "execution_count": 34,
   "id": "6fa861b3-1aa0-4d52-9a57-1b2f3c4044bf",
   "metadata": {},
   "outputs": [
    {
     "name": "stdout",
     "output_type": "stream",
     "text": [
      "torch.Size([2, 4, 128, 128, 128]) torch.Size([2, 1, 128, 128, 128])\n"
     ]
    }
   ],
   "source": [
    "val_data = monai.utils.misc.first(val_loader)\n",
    "print(val_data[\"image\"].shape, val_data[\"seg\"].shape)"
   ]
  },
  {
   "cell_type": "code",
   "execution_count": 37,
   "id": "2fbc04d3-e6f1-41db-87a4-d5f5a95706af",
   "metadata": {},
   "outputs": [
    {
     "data": {
      "text/plain": [
       "'torch.FloatTensor'"
      ]
     },
     "execution_count": 37,
     "metadata": {},
     "output_type": "execute_result"
    }
   ],
   "source": [
    "val_data[\"image\"][0].type()"
   ]
  },
  {
   "cell_type": "code",
   "execution_count": 38,
   "id": "95b9d54b-a658-4a85-8452-0e9ba9fa032d",
   "metadata": {},
   "outputs": [
    {
     "data": {
      "text/plain": [
       "'torch.IntTensor'"
      ]
     },
     "execution_count": 38,
     "metadata": {},
     "output_type": "execute_result"
    }
   ],
   "source": [
    "val_data[\"seg\"][0].type()"
   ]
  },
  {
   "cell_type": "code",
   "execution_count": null,
   "id": "0f44c5d4-d268-4f6d-9595-fdab0af3ab5b",
   "metadata": {},
   "outputs": [],
   "source": [
    "print(f\"train completed, best_metric: {best_metric:.4f} at epoch: {best_metric_epoch}, total time: {total_time}.\")"
   ]
  },
  {
   "cell_type": "code",
   "execution_count": null,
   "id": "ef331b5d-d71c-4234-802a-fdbe6836d1b6",
   "metadata": {},
   "outputs": [],
   "source": [
    "torch.cuda.empty_cache()"
   ]
  },
  {
   "cell_type": "code",
   "execution_count": null,
   "id": "ad00f25a-9c22-4674-8650-8db32b8c4119",
   "metadata": {},
   "outputs": [],
   "source": [
    "plt.figure(\"train\", (12, 6))\n",
    "plt.subplot(1, 2, 1)\n",
    "plt.title(\"Epoch Average Loss\")\n",
    "x = [i + 1 for i in range(len(epoch_loss_values))]\n",
    "y = epoch_loss_values\n",
    "plt.xlabel(\"epoch\")\n",
    "plt.plot(x, y, color=\"red\")\n",
    "plt.subplot(1, 2, 2)\n",
    "plt.title(\"Val Mean Dice\")\n",
    "x = [val_interval * (i + 1) for i in range(len(metric_values))]\n",
    "y = metric_values\n",
    "plt.xlabel(\"epoch\")\n",
    "plt.plot(x, y, color=\"green\")\n",
    "plt.show()\n",
    "\n",
    "plt.figure(\"train\", (18, 6))\n",
    "plt.subplot(1, 3, 1)\n",
    "plt.title(\"Val Mean Dice TC\")\n",
    "x = [val_interval * (i + 1) for i in range(len(metric_values_tc))]\n",
    "y = metric_values_tc\n",
    "plt.xlabel(\"epoch\")\n",
    "plt.plot(x, y, color=\"blue\")\n",
    "plt.show()"
   ]
  },
  {
   "cell_type": "code",
   "execution_count": null,
   "id": "96097f6e-f65d-4fd8-a434-4c752efdda6d",
   "metadata": {},
   "outputs": [],
   "source": [
    "model.load_state_dict(\n",
    "    torch.load(os.path.join(root_dir, \"best_metric_model.pth\"))\n",
    ")\n",
    "model.eval()\n",
    "with torch.no_grad():\n",
    "    # select one image to evaluate and visualize the model output\n",
    "    val_input = val_ds[0][\"image\"].unsqueeze(0).to(device)\n",
    "    roi_size = (192, 192, 192)\n",
    "    sw_batch_size = 4\n",
    "    val_output = inference(val_input)\n",
    "    val_output = post_trans(val_output[0])\n",
    "    plt.figure(\"image\", (24, 6))\n",
    "    num_of_channels = len(feat_params)\n",
    "    for i in range(num_of_channels):\n",
    "        plt.subplot(1, num_of_channels, i + 1)\n",
    "        plt.title(f\"image channel {i}\")\n",
    "        plt.imshow(val_ds[0][\"image\"][i, :, :, int(np.where(val_ds[0][\"seg\"] == 1)[2][5])].detach().cpu(), cmap=\"gray\")\n",
    "    plt.show()\n",
    "    # visualize the 3 channels label corresponding to this image\n",
    "\n",
    "    plt.title(f\"label channel {i}\")\n",
    "    plt.imshow(val_ds[0][\"seg\"][0, :, :, int(np.where(val_ds[0][\"seg\"] == 1)[2][5])].detach().cpu())\n",
    "    plt.show()\n",
    "    # visualize the 3 channels model output corresponding to this image\n",
    "    plt.title(f\"output channel {i}\")\n",
    "    plt.imshow(val_output[0, :, :, int(np.where(val_ds[0][\"seg\"] == 1)[2][5])].detach().cpu())\n",
    "    plt.show()"
   ]
  },
  {
   "cell_type": "code",
   "execution_count": null,
   "id": "9c282db6-f731-4258-8966-7fc798f7096a",
   "metadata": {},
   "outputs": [],
   "source": [
    "opt = torch.optim.Adam(model.parameters(), lr)\n",
    "trainer = create_multigpu_supervised_trainer(net, opt, fake_loss, None)\n",
    "trainer.run(fake_data_stream(), max_epochs=max_epochs, epoch_length=2)"
   ]
  },
  {
   "cell_type": "code",
   "execution_count": null,
   "id": "426d22a6-c265-4b17-8b16-f15ef8a609eb",
   "metadata": {},
   "outputs": [],
   "source": [
    "print(\"image shape:\", img_dataset[0][0].shape)\n",
    "print(\"label. shape:\", img_dataset[0][1].shape)"
   ]
  },
  {
   "cell_type": "code",
   "execution_count": null,
   "id": "1a2f63db-1eef-4928-a572-739c415ba8de",
   "metadata": {},
   "outputs": [],
   "source": [
    "dataloader = DataLoader(img_dataset, batch_size=1, shuffle=True, num_workers=0)\n",
    "for epoch in range(2):\n",
    "    for i, batch in enumerate(dataloader):\n",
    "        print(epoch, i, batch.data.numpy().flatten().tolist())"
   ]
  },
  {
   "cell_type": "code",
   "execution_count": null,
   "id": "88450991-596d-4772-8319-4a96d77a01ad",
   "metadata": {},
   "outputs": [],
   "source": []
  }
 ],
 "metadata": {
  "kernelspec": {
   "display_name": "Python 3",
   "language": "python",
   "name": "python3"
  },
  "language_info": {
   "codemirror_mode": {
    "name": "ipython",
    "version": 3
   },
   "file_extension": ".py",
   "mimetype": "text/x-python",
   "name": "python",
   "nbconvert_exporter": "python",
   "pygments_lexer": "ipython3",
   "version": "3.8.12"
  }
 },
 "nbformat": 4,
 "nbformat_minor": 5
}
